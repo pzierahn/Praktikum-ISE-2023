{
 "cells": [
  {
   "cell_type": "markdown",
   "source": [
    "# Prepare trainings data\n",
    "\n",
    "This notebook creates a dataframe for training the taxonomy described in the paper \"Evaluation methods and replicability of software architecture research objects\". The authors provide a bib-text file with annotated papers. The data from the bib-text needs to be transformed in a dataframe. This notebook also downloads the paper abstracts."
   ],
   "metadata": {
    "collapsed": false
   }
  },
  {
   "cell_type": "code",
   "execution_count": 11,
   "outputs": [],
   "source": [
    "import os\n",
    "\n",
    "data_dir = os.path.join('data', 'software_architecture')\n",
    "output_file = os.path.join(data_dir, 'bib-text.csv')\n",
    "\n",
    "os.makedirs(data_dir, exist_ok=True)"
   ],
   "metadata": {
    "collapsed": false,
    "ExecuteTime": {
     "end_time": "2023-09-15T15:38:29.246205Z",
     "start_time": "2023-09-15T15:38:29.195823Z"
    }
   }
  },
  {
   "cell_type": "markdown",
   "source": [
    "## Load and parse labeled bib-text"
   ],
   "metadata": {
    "collapsed": false
   }
  },
  {
   "cell_type": "code",
   "execution_count": 12,
   "metadata": {
    "collapsed": true,
    "ExecuteTime": {
     "end_time": "2023-09-15T15:38:30.502724Z",
     "start_time": "2023-09-15T15:38:29.246139Z"
    }
   },
   "outputs": [],
   "source": [
    "import urllib.request\n",
    "\n",
    "bibtex_url = \"https://gitlab.com/SoftwareArchitectureResearch/StateOfPractice/-/raw/main/Investigated%20Papers.bib\"\n",
    "contents = urllib.request.urlopen(bibtex_url).read()"
   ]
  },
  {
   "cell_type": "code",
   "execution_count": 13,
   "outputs": [],
   "source": [
    "import bibtexparser\n",
    "\n",
    "library = bibtexparser.loads(contents)"
   ],
   "metadata": {
    "collapsed": false,
    "ExecuteTime": {
     "end_time": "2023-09-15T15:38:31.240529Z",
     "start_time": "2023-09-15T15:38:30.502389Z"
    }
   }
  },
  {
   "cell_type": "markdown",
   "source": [
    "## Create and fill dataframe with bib-text data"
   ],
   "metadata": {
    "collapsed": false
   }
  },
  {
   "cell_type": "code",
   "execution_count": 14,
   "outputs": [],
   "source": [
    "import pandas as pd\n",
    "\n",
    "df_input = {\n",
    "    'author': [],\n",
    "    'title': [],\n",
    "    'abstract': [],\n",
    "    'doi': [],\n",
    "    'classes': [],\n",
    "    'url': [],\n",
    "}\n",
    "\n",
    "for entry in library.entries:\n",
    "    for field in df_input.keys():\n",
    "        if field in entry:\n",
    "            df_input[field].append(entry[field])\n",
    "        else:\n",
    "            df_input[field].append(None)\n",
    "\n",
    "df = pd.DataFrame(df_input)"
   ],
   "metadata": {
    "collapsed": false,
    "ExecuteTime": {
     "end_time": "2023-09-15T15:38:31.249160Z",
     "start_time": "2023-09-15T15:38:31.244560Z"
    }
   }
  },
  {
   "cell_type": "markdown",
   "source": [
    "## Scrape paper abstracts"
   ],
   "metadata": {
    "collapsed": false
   }
  },
  {
   "cell_type": "code",
   "execution_count": 15,
   "outputs": [],
   "source": [
    "import re\n",
    "import json\n",
    "import requests\n",
    "\n",
    "\n",
    "def get_abstract(url: str):\n",
    "    \"\"\"\n",
    "    Scrape paper abstracts from URL\n",
    "    :param url: Source URL\n",
    "    :return: Paper abstract\n",
    "    \"\"\"\n",
    "\n",
    "    if url is None:\n",
    "        return None\n",
    "\n",
    "    # The https://doi.org website returns a 418 if the user agent is not set\n",
    "    headers = {\n",
    "        'User-Agent': 'Mozilla/5.0 (Macintosh; Intel Mac OS X 10_15_7) '\n",
    "                      'AppleWebKit/537.36 (KHTML, like Gecko) '\n",
    "                      'Chrome/91.0.4472.114 Safari/537.36'\n",
    "    }\n",
    "\n",
    "    url = url.replace('\\\\', '')\n",
    "    response = requests.get(url, headers=headers, timeout=5, allow_redirects=True)\n",
    "    if not response.ok:\n",
    "        return None\n",
    "\n",
    "    if 'xplGlobal.document.metadata' in response.text:\n",
    "        metadata_str = re.search(r'xplGlobal.document.metadata=(.+?);$', response.text, re.MULTILINE)\n",
    "        metadata = json.loads(metadata_str.group(1))\n",
    "        return metadata['abstract']\n",
    "    elif '<script type=\"application/ld+json\">' in response.text:\n",
    "        metadata_str = re.search(r'<script type=\"application/ld\\+json\">(.+?)</script>', response.text, re.MULTILINE)\n",
    "        metadata = json.loads(metadata_str.group(1))\n",
    "        return metadata['description']\n",
    "    else:\n",
    "        return None"
   ],
   "metadata": {
    "collapsed": false,
    "ExecuteTime": {
     "end_time": "2023-09-15T15:38:31.280104Z",
     "start_time": "2023-09-15T15:38:31.278699Z"
    }
   }
  },
  {
   "cell_type": "code",
   "execution_count": 16,
   "outputs": [
    {
     "name": "stderr",
     "output_type": "stream",
     "text": [
      "100%|██████████| 153/153 [02:36<00:00,  1.02s/it]\n"
     ]
    }
   ],
   "source": [
    "from tqdm import tqdm\n",
    "\n",
    "for inx, row in tqdm(df.iterrows(), total=len(df)):\n",
    "    source = row['url']\n",
    "\n",
    "    # Check if the row is type str\n",
    "    if not isinstance(source, str):\n",
    "        source = f'https://doi.org/{row[\"doi\"]}'\n",
    "\n",
    "    abstract = get_abstract(source)\n",
    "    if not abstract:\n",
    "        print(f\"Failed to get abstract for {source}\")\n",
    "\n",
    "    df['abstract'][inx] = abstract"
   ],
   "metadata": {
    "collapsed": false,
    "ExecuteTime": {
     "end_time": "2023-09-15T15:41:07.668016Z",
     "start_time": "2023-09-15T15:38:31.279820Z"
    }
   }
  },
  {
   "cell_type": "code",
   "execution_count": 17,
   "outputs": [
    {
     "data": {
      "text/plain": "                                                author  \\\n0    Alessio Bucaioni and Patrizio Pelliccione and ...   \n1    H{\\'{e}}ctor Cadavid and Vasilios Andrikopoulo...   \n2    Joshua Garcia and Mehdi Mirakhorli and Lu Xiao...   \n3                Holger Knoche and Wilhelm Hasselbring   \n4    Duc Minh Le and Suhrid Karthik and Marcelo Sch...   \n..                                                 ...   \n148  Keim, Jan and Schulz, Sophie and Fuch{\\ss}, Do...   \n149  Shabelnyk, Oleksandr and Frangoudis, Pantelis ...   \n150      Stefan Kugele and David Hettler and Jan Peter   \n151  Banani Roy and Amit Kumar Mondal and Chanchal ...   \n152                               Fl{\\'{a}}vio Oquendo   \n\n                                                 title  \\\n0    Aligning Architecture with Business Goals in t...   \n1    System- and Software-level Architecting Harmon...   \n2    Constructing a Shared Infrastructure for Softw...   \n3    Continuous {API} Evolution in Heterogenous Ent...   \n4    Architectural Decay as Predictor of Issue- and...   \n..                                                 ...   \n148  Trace {Link} {Recovery} for {Software} {Archit...   \n149  Updating {Service}-{Based} {Software} {Systems...   \n150  Data-Centric Communication and Containerizatio...   \n151  Towards a Reference Architecture for Cloud-Bas...   \n152  Formally Describing Self-organizing Architectu...   \n\n                                              abstract  \\\n0    When designing complex automotive systems in p...   \n1    The problems caused by the gap between system-...   \n2    Over the past three decades software engineeri...   \n3    The ability to independently deploy parts of a...   \n4    Architectural decay imposes real costs in term...   \n..                                                 ...   \n148  Software Architecture Documentation often cons...   \n149  Contemporary component-based systems often man...   \n150  Context: The functional interconnection and da...   \n151  The domain of plant genotyping and phenotyping...   \n152  Nowadays, the Internet-of-Things (IoT) enables...   \n\n                              doi  \\\n0    10.1109/ICSA51549.2021.00020   \n1    10.1109/ICSA51549.2021.00010   \n2    10.1109/ICSA51549.2021.00022   \n3    10.1109/ICSA51549.2021.00014   \n4    10.1109/ICSA51549.2021.00017   \n..                            ...   \n148   10.1007/978-3-030-86044-8_7   \n149  10.1007/978-3-030-86044-8_10   \n150       10.1109/ICSA.2018.00016   \n151          10.1109/ICSA.2017.42   \n152  10.1007/978-3-030-00761-4\\_2   \n\n                                               classes  \\\n0    Meta Data{Research Level{Primary Research}, Ki...   \n1    Meta Data{Kind{full}, Paper class{Evaluation R...   \n2    Meta Data{Paper class{Evaluation Research}, Re...   \n3    Meta Data{Research Level{Primary Research}, Ki...   \n4    Meta Data{Paper class{Evaluation Research}, Re...   \n..                                                 ...   \n148  Meta Data{Research Level{Primary Research}, Ki...   \n149  Meta Data{Paper class{Proposal of Solution}, R...   \n150  Meta Data{Kind{full}, Research Level{Primary R...   \n151  Meta Data{Paper class{Validation Research, Eva...   \n152  Meta Data{Research Level{Primary Research}, Ki...   \n\n                                              url  \n0    https://doi.org/10.1109/ICSA51549.2021.00020  \n1    https://doi.org/10.1109/ICSA51549.2021.00010  \n2    https://doi.org/10.1109/ICSA51549.2021.00022  \n3    https://doi.org/10.1109/ICSA51549.2021.00014  \n4    https://doi.org/10.1109/ICSA51549.2021.00017  \n..                                            ...  \n148                                          None  \n149                                          None  \n150       https://doi.org/10.1109/ICSA.2018.00016  \n151          https://doi.org/10.1109/ICSA.2017.42  \n152  https://doi.org/10.1007/978-3-030-00761-4\\_2  \n\n[153 rows x 6 columns]",
      "text/html": "<div>\n<style scoped>\n    .dataframe tbody tr th:only-of-type {\n        vertical-align: middle;\n    }\n\n    .dataframe tbody tr th {\n        vertical-align: top;\n    }\n\n    .dataframe thead th {\n        text-align: right;\n    }\n</style>\n<table border=\"1\" class=\"dataframe\">\n  <thead>\n    <tr style=\"text-align: right;\">\n      <th></th>\n      <th>author</th>\n      <th>title</th>\n      <th>abstract</th>\n      <th>doi</th>\n      <th>classes</th>\n      <th>url</th>\n    </tr>\n  </thead>\n  <tbody>\n    <tr>\n      <th>0</th>\n      <td>Alessio Bucaioni and Patrizio Pelliccione and ...</td>\n      <td>Aligning Architecture with Business Goals in t...</td>\n      <td>When designing complex automotive systems in p...</td>\n      <td>10.1109/ICSA51549.2021.00020</td>\n      <td>Meta Data{Research Level{Primary Research}, Ki...</td>\n      <td>https://doi.org/10.1109/ICSA51549.2021.00020</td>\n    </tr>\n    <tr>\n      <th>1</th>\n      <td>H{\\'{e}}ctor Cadavid and Vasilios Andrikopoulo...</td>\n      <td>System- and Software-level Architecting Harmon...</td>\n      <td>The problems caused by the gap between system-...</td>\n      <td>10.1109/ICSA51549.2021.00010</td>\n      <td>Meta Data{Kind{full}, Paper class{Evaluation R...</td>\n      <td>https://doi.org/10.1109/ICSA51549.2021.00010</td>\n    </tr>\n    <tr>\n      <th>2</th>\n      <td>Joshua Garcia and Mehdi Mirakhorli and Lu Xiao...</td>\n      <td>Constructing a Shared Infrastructure for Softw...</td>\n      <td>Over the past three decades software engineeri...</td>\n      <td>10.1109/ICSA51549.2021.00022</td>\n      <td>Meta Data{Paper class{Evaluation Research}, Re...</td>\n      <td>https://doi.org/10.1109/ICSA51549.2021.00022</td>\n    </tr>\n    <tr>\n      <th>3</th>\n      <td>Holger Knoche and Wilhelm Hasselbring</td>\n      <td>Continuous {API} Evolution in Heterogenous Ent...</td>\n      <td>The ability to independently deploy parts of a...</td>\n      <td>10.1109/ICSA51549.2021.00014</td>\n      <td>Meta Data{Research Level{Primary Research}, Ki...</td>\n      <td>https://doi.org/10.1109/ICSA51549.2021.00014</td>\n    </tr>\n    <tr>\n      <th>4</th>\n      <td>Duc Minh Le and Suhrid Karthik and Marcelo Sch...</td>\n      <td>Architectural Decay as Predictor of Issue- and...</td>\n      <td>Architectural decay imposes real costs in term...</td>\n      <td>10.1109/ICSA51549.2021.00017</td>\n      <td>Meta Data{Paper class{Evaluation Research}, Re...</td>\n      <td>https://doi.org/10.1109/ICSA51549.2021.00017</td>\n    </tr>\n    <tr>\n      <th>...</th>\n      <td>...</td>\n      <td>...</td>\n      <td>...</td>\n      <td>...</td>\n      <td>...</td>\n      <td>...</td>\n    </tr>\n    <tr>\n      <th>148</th>\n      <td>Keim, Jan and Schulz, Sophie and Fuch{\\ss}, Do...</td>\n      <td>Trace {Link} {Recovery} for {Software} {Archit...</td>\n      <td>Software Architecture Documentation often cons...</td>\n      <td>10.1007/978-3-030-86044-8_7</td>\n      <td>Meta Data{Research Level{Primary Research}, Ki...</td>\n      <td>None</td>\n    </tr>\n    <tr>\n      <th>149</th>\n      <td>Shabelnyk, Oleksandr and Frangoudis, Pantelis ...</td>\n      <td>Updating {Service}-{Based} {Software} {Systems...</td>\n      <td>Contemporary component-based systems often man...</td>\n      <td>10.1007/978-3-030-86044-8_10</td>\n      <td>Meta Data{Paper class{Proposal of Solution}, R...</td>\n      <td>None</td>\n    </tr>\n    <tr>\n      <th>150</th>\n      <td>Stefan Kugele and David Hettler and Jan Peter</td>\n      <td>Data-Centric Communication and Containerizatio...</td>\n      <td>Context: The functional interconnection and da...</td>\n      <td>10.1109/ICSA.2018.00016</td>\n      <td>Meta Data{Kind{full}, Research Level{Primary R...</td>\n      <td>https://doi.org/10.1109/ICSA.2018.00016</td>\n    </tr>\n    <tr>\n      <th>151</th>\n      <td>Banani Roy and Amit Kumar Mondal and Chanchal ...</td>\n      <td>Towards a Reference Architecture for Cloud-Bas...</td>\n      <td>The domain of plant genotyping and phenotyping...</td>\n      <td>10.1109/ICSA.2017.42</td>\n      <td>Meta Data{Paper class{Validation Research, Eva...</td>\n      <td>https://doi.org/10.1109/ICSA.2017.42</td>\n    </tr>\n    <tr>\n      <th>152</th>\n      <td>Fl{\\'{a}}vio Oquendo</td>\n      <td>Formally Describing Self-organizing Architectu...</td>\n      <td>Nowadays, the Internet-of-Things (IoT) enables...</td>\n      <td>10.1007/978-3-030-00761-4\\_2</td>\n      <td>Meta Data{Research Level{Primary Research}, Ki...</td>\n      <td>https://doi.org/10.1007/978-3-030-00761-4\\_2</td>\n    </tr>\n  </tbody>\n</table>\n<p>153 rows × 6 columns</p>\n</div>"
     },
     "execution_count": 17,
     "metadata": {},
     "output_type": "execute_result"
    }
   ],
   "source": [
    "df.to_csv(output_file, index=False)\n",
    "df"
   ],
   "metadata": {
    "collapsed": false,
    "ExecuteTime": {
     "end_time": "2023-09-15T15:41:07.673647Z",
     "start_time": "2023-09-15T15:41:07.666869Z"
    }
   }
  }
 ],
 "metadata": {
  "kernelspec": {
   "display_name": "Python 3",
   "language": "python",
   "name": "python3"
  },
  "language_info": {
   "codemirror_mode": {
    "name": "ipython",
    "version": 2
   },
   "file_extension": ".py",
   "mimetype": "text/x-python",
   "name": "python",
   "nbconvert_exporter": "python",
   "pygments_lexer": "ipython2",
   "version": "2.7.6"
  }
 },
 "nbformat": 4,
 "nbformat_minor": 0
}
