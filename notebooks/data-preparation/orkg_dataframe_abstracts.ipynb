{
 "cells": [
  {
   "cell_type": "markdown",
   "source": [
    "# Add abstracts to ORKG data\n",
    "\n",
    "This notebook adds abstracts to the ORKG data and creates the dataframe `orkg_with_abstracts.csv`.\n",
    "It uses the following sources:\n",
    "- [Crossref](https://www.crossref.org/)\n",
    "- [OpenAlex](https://openalex.org/)\n",
    "- [Semantics Scholar](https://www.semanticscholar.org/)"
   ],
   "metadata": {
    "collapsed": false
   }
  },
  {
   "cell_type": "code",
   "execution_count": null,
   "outputs": [],
   "source": [
    "import json\n",
    "\n",
    "# Pretty print json data to console\n",
    "def print_json(tag: str, data: any):\n",
    "    print(tag, json.dumps(data, indent=2, sort_keys=True))"
   ],
   "metadata": {
    "collapsed": false
   }
  },
  {
   "cell_type": "code",
   "execution_count": null,
   "outputs": [],
   "source": [
    "import sqlite3\n",
    "\n",
    "# Open a connection to the SQLite database file\n",
    "db = sqlite3.connect(\"data/datalake.db\")\n",
    "\n",
    "# Create a cursor object to execute SQL statements\n",
    "cursor = db.cursor()\n",
    "cursor.execute(\"CREATE TABLE IF NOT EXISTS crossrefs (id INTEGER PRIMARY KEY, doi TEXT, title Text, data JSON)\")\n",
    "cursor.execute(\"CREATE TABLE IF NOT EXISTS openalex (id INTEGER PRIMARY KEY, title TEXT, data JSON)\")\n",
    "cursor.execute(\"CREATE TABLE IF NOT EXISTS semantics (id INTEGER PRIMARY KEY, doi TEXT, data JSON)\")"
   ],
   "metadata": {
    "collapsed": false
   }
  },
  {
   "cell_type": "code",
   "execution_count": null,
   "outputs": [],
   "source": [
    "def get_crossref_data(doi: str, title: str):\n",
    "    cursor.execute(\"SELECT data FROM crossrefs WHERE doi = ? or title = ?\", (doi, title))\n",
    "    data = cursor.fetchone()\n",
    "    return json.loads(data[0]) if data else None\n",
    "\n",
    "def get_openalex_data(title: str):\n",
    "    cursor.execute(\"SELECT data FROM openalex WHERE title = ?\", (title,))\n",
    "    data = cursor.fetchone()\n",
    "    return json.loads(data[0]) if data else None\n",
    "\n",
    "def get_semantics_data(doi: str):\n",
    "    cursor.execute(\"SELECT data FROM semantics WHERE doi = ?\", (doi,))\n",
    "    data = cursor.fetchone()\n",
    "    return json.loads(data[0]) if data else None"
   ],
   "metadata": {
    "collapsed": false
   }
  },
  {
   "cell_type": "code",
   "execution_count": null,
   "outputs": [],
   "source": [
    "import re\n",
    "\n",
    "def clean_abstract(text: str) -> str:\n",
    "    # Remove xml tags\n",
    "    text = re.sub(r\"<.*?>\", \"\", text)\n",
    "\n",
    "    text = text.replace(\"\\n\", \" \")\n",
    "    text = text.replace(\"\\r\", \" \")\n",
    "    text = text.replace(\"\\t\", \" \")\n",
    "    text = text.replace(\"  \", \" \")\n",
    "    text = text.strip()\n",
    "\n",
    "    return text"
   ],
   "metadata": {
    "collapsed": false
   }
  },
  {
   "cell_type": "code",
   "execution_count": null,
   "outputs": [],
   "source": [
    "import pandas as pd\n",
    "\n",
    "df = pd.read_csv(\"data/orkg.csv\")\n",
    "df[\"doi\"] = df.doi.apply(eval).apply(list)  # convert string to array\n",
    "df[\"subfields\"] = df.subfields.apply(eval).apply(list)  # convert string to array\n",
    "df"
   ],
   "metadata": {
    "collapsed": false
   }
  },
  {
   "cell_type": "code",
   "execution_count": null,
   "outputs": [],
   "source": [
    "from tqdm import tqdm\n",
    "\n",
    "abstracts = []\n",
    "\n",
    "for inx, row in tqdm(df.iterrows(), total=len(df)):\n",
    "    title = row[\"title\"]\n",
    "\n",
    "    doi = \"\"\n",
    "    abstract = \"\"\n",
    "\n",
    "    for di in row[\"doi\"]:\n",
    "        doi = di\n",
    "\n",
    "        # Get data from semantics scholar with doi\n",
    "        semantics = get_semantics_data(doi)\n",
    "        if semantics and semantics[\"abstract\"]:\n",
    "            abstract = clean_abstract(semantics[\"abstract\"])\n",
    "\n",
    "        if abstract != \"\":\n",
    "            break\n",
    "\n",
    "        # Get data from crossref with doi\n",
    "        crossref = get_crossref_data(doi, title)\n",
    "        if crossref and \"abstract\" in crossref:\n",
    "            abstract = clean_abstract(crossref[\"abstract\"])\n",
    "\n",
    "        if abstract != \"\":\n",
    "            break\n",
    "\n",
    "    if abstract == \"\":\n",
    "        # Get data from crossref with title\n",
    "        crossref = get_crossref_data(\"\", title)\n",
    "        if crossref and \"abstract\" in crossref:\n",
    "            abstract = clean_abstract(crossref[\"abstract\"])\n",
    "\n",
    "    abstracts.append(abstract)"
   ],
   "metadata": {
    "collapsed": false
   }
  },
  {
   "cell_type": "code",
   "execution_count": null,
   "outputs": [],
   "source": [
    "df[\"abstract\"] = abstracts\n",
    "\n",
    "# Replace abstracts that are shorter than 10 characters with empty string\n",
    "df.loc[df[\"abstract\"].str.len() < 10, \"abstract\"] = \"\"\n",
    "\n",
    "df.to_csv(\"data/orkg_with_abstracts.csv\", index=False)\n",
    "df"
   ],
   "metadata": {
    "collapsed": false
   }
  }
 ],
 "metadata": {
  "kernelspec": {
   "display_name": "Python 3",
   "language": "python",
   "name": "python3"
  },
  "language_info": {
   "codemirror_mode": {
    "name": "ipython",
    "version": 2
   },
   "file_extension": ".py",
   "mimetype": "text/x-python",
   "name": "python",
   "nbconvert_exporter": "python",
   "pygments_lexer": "ipython2",
   "version": "2.7.6"
  }
 },
 "nbformat": 4,
 "nbformat_minor": 0
}
