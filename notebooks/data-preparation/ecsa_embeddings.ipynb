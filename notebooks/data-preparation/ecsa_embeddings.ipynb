{
 "cells": [
  {
   "cell_type": "markdown",
   "source": [
    "# Create embeddings for ecsa dataset"
   ],
   "metadata": {
    "collapsed": false
   },
   "id": "253f2bf461bce42b"
  },
  {
   "cell_type": "code",
   "execution_count": null,
   "outputs": [],
   "source": [
    "import os\n",
    "\n",
    "base_dir = os.path.join('..', '..')\n",
    "data_dir = os.path.join(base_dir, 'data')\n",
    "\n",
    "ecsa_input = os.path.join(data_dir, 'ecsa', 'export_SpringerLink_ecsa.csv')\n",
    "ecsa_output = os.path.join(data_dir, 'ecsa', 'ecsa_embeddings.csv')"
   ],
   "metadata": {
    "collapsed": false
   },
   "id": "6f7493b4f4c94dce"
  },
  {
   "cell_type": "code",
   "execution_count": 11,
   "id": "initial_id",
   "metadata": {
    "collapsed": true,
    "ExecuteTime": {
     "end_time": "2023-09-16T14:45:26.681051Z",
     "start_time": "2023-09-16T14:45:26.665162Z"
    }
   },
   "outputs": [
    {
     "data": {
      "text/plain": "                           doi  \\\n0  10.1007/978-3-031-16697-6_1   \n1  10.1007/978-3-031-16697-6_2   \n2  10.1007/978-3-031-16697-6_3   \n3  10.1007/978-3-031-16697-6_4   \n4  10.1007/978-3-031-16697-6_5   \n\n                                               title  year  \\\n0  Avoiding Excessive Data Exposure Through Micro...  2022   \n1  Documentation-as-Code for Interface Control Do...  2022   \n2  To Deprecate or to Simply Drop Operations? An ...  2022   \n3  ProML: A Decentralised Platform for Provenance...  2022   \n4  A Systematic Survey of Architectural Approache...  2022   \n\n                                          venue venue_abbreviation  \\\n0  European Conference on Software Architecture               ecsa   \n1  European Conference on Software Architecture               ecsa   \n2  European Conference on Software Architecture               ecsa   \n3  European Conference on Software Architecture               ecsa   \n4  European Conference on Software Architecture               ecsa   \n\n   venue_type                                            authors  \\\n0  conference                            Patric Genfer, Uwe Zdun   \n1  conference  Héctor Cadavid, Vasilios Andrikopoulos, Paris ...   \n2  conference  Fabio Di Lauro, Souhaila Serbout, Cesare Pautasso   \n3  conference  Nguyen Khoi Tran, Bushra Sabir, Muhammad Ali B...   \n4  conference                 Dimitri Van Landuyt, Wouter Joosen   \n\n                                            keywords  \\\n0  Microservice API, security, data exposure, met...   \n1  Systems of Systems, Interface Control Document...   \n2                                                NaN   \n3  SE for AI, Provenance, Machine Learning, Block...   \n4  de-identification, privacy tactics, privacy en...   \n\n                                  Unnamed: 8  \\\n0  Components, APIs and Interface Management   \n1  Components, APIs and Interface Management   \n2  Components, APIs and Interface Management   \n3       Architecting for Data-Driven Systems   \n4       Architecting for Data-Driven Systems   \n\n                                            abstract  \n0  Data transfer and exchange of information thro...  \n1  The architecting of Systems of Systems (SoS), ...  \n2  OpenAPI is a language-agnostic standard used t...  \n3  Large-scale Machine Learning (ML) based Softwa...  \n4  Data de-identification refers to the process o...  ",
      "text/html": "<div>\n<style scoped>\n    .dataframe tbody tr th:only-of-type {\n        vertical-align: middle;\n    }\n\n    .dataframe tbody tr th {\n        vertical-align: top;\n    }\n\n    .dataframe thead th {\n        text-align: right;\n    }\n</style>\n<table border=\"1\" class=\"dataframe\">\n  <thead>\n    <tr style=\"text-align: right;\">\n      <th></th>\n      <th>doi</th>\n      <th>title</th>\n      <th>year</th>\n      <th>venue</th>\n      <th>venue_abbreviation</th>\n      <th>venue_type</th>\n      <th>authors</th>\n      <th>keywords</th>\n      <th>Unnamed: 8</th>\n      <th>abstract</th>\n    </tr>\n  </thead>\n  <tbody>\n    <tr>\n      <th>0</th>\n      <td>10.1007/978-3-031-16697-6_1</td>\n      <td>Avoiding Excessive Data Exposure Through Micro...</td>\n      <td>2022</td>\n      <td>European Conference on Software Architecture</td>\n      <td>ecsa</td>\n      <td>conference</td>\n      <td>Patric Genfer, Uwe Zdun</td>\n      <td>Microservice API, security, data exposure, met...</td>\n      <td>Components, APIs and Interface Management</td>\n      <td>Data transfer and exchange of information thro...</td>\n    </tr>\n    <tr>\n      <th>1</th>\n      <td>10.1007/978-3-031-16697-6_2</td>\n      <td>Documentation-as-Code for Interface Control Do...</td>\n      <td>2022</td>\n      <td>European Conference on Software Architecture</td>\n      <td>ecsa</td>\n      <td>conference</td>\n      <td>Héctor Cadavid, Vasilios Andrikopoulos, Paris ...</td>\n      <td>Systems of Systems, Interface Control Document...</td>\n      <td>Components, APIs and Interface Management</td>\n      <td>The architecting of Systems of Systems (SoS), ...</td>\n    </tr>\n    <tr>\n      <th>2</th>\n      <td>10.1007/978-3-031-16697-6_3</td>\n      <td>To Deprecate or to Simply Drop Operations? An ...</td>\n      <td>2022</td>\n      <td>European Conference on Software Architecture</td>\n      <td>ecsa</td>\n      <td>conference</td>\n      <td>Fabio Di Lauro, Souhaila Serbout, Cesare Pautasso</td>\n      <td>NaN</td>\n      <td>Components, APIs and Interface Management</td>\n      <td>OpenAPI is a language-agnostic standard used t...</td>\n    </tr>\n    <tr>\n      <th>3</th>\n      <td>10.1007/978-3-031-16697-6_4</td>\n      <td>ProML: A Decentralised Platform for Provenance...</td>\n      <td>2022</td>\n      <td>European Conference on Software Architecture</td>\n      <td>ecsa</td>\n      <td>conference</td>\n      <td>Nguyen Khoi Tran, Bushra Sabir, Muhammad Ali B...</td>\n      <td>SE for AI, Provenance, Machine Learning, Block...</td>\n      <td>Architecting for Data-Driven Systems</td>\n      <td>Large-scale Machine Learning (ML) based Softwa...</td>\n    </tr>\n    <tr>\n      <th>4</th>\n      <td>10.1007/978-3-031-16697-6_5</td>\n      <td>A Systematic Survey of Architectural Approache...</td>\n      <td>2022</td>\n      <td>European Conference on Software Architecture</td>\n      <td>ecsa</td>\n      <td>conference</td>\n      <td>Dimitri Van Landuyt, Wouter Joosen</td>\n      <td>de-identification, privacy tactics, privacy en...</td>\n      <td>Architecting for Data-Driven Systems</td>\n      <td>Data de-identification refers to the process o...</td>\n    </tr>\n  </tbody>\n</table>\n</div>"
     },
     "execution_count": 11,
     "metadata": {},
     "output_type": "execute_result"
    }
   ],
   "source": [
    "import pandas as pd\n",
    "\n",
    "df = pd.read_csv(ecsa_input, sep=';')\n",
    "df.head()"
   ]
  },
  {
   "cell_type": "code",
   "execution_count": 12,
   "outputs": [
    {
     "name": "stderr",
     "output_type": "stream",
     "text": [
      "100%|██████████| 100/100 [00:43<00:00,  2.27it/s]\n"
     ]
    }
   ],
   "source": [
    "import openai\n",
    "import os\n",
    "from tqdm import tqdm\n",
    "\n",
    "openai.api_key = os.getenv(\"OPENAI_API_KEY\")\n",
    "\n",
    "embeddings = []\n",
    "for inx, row in tqdm(df.iterrows(), total=df.shape[0]):\n",
    "    text = row[\"title\"] + \"\\n\\n\" + row[\"abstract\"]\n",
    "\n",
    "    response = openai.Embedding.create(\n",
    "        input=text,\n",
    "        model=\"text-embedding-ada-002\",\n",
    "    )\n",
    "\n",
    "    request_embedding = response[\"data\"][0][\"embedding\"]\n",
    "    embeddings.append(request_embedding)"
   ],
   "metadata": {
    "collapsed": false,
    "ExecuteTime": {
     "end_time": "2023-09-16T14:46:10.791617Z",
     "start_time": "2023-09-16T14:45:26.679274Z"
    }
   },
   "id": "58e686ad52a6c6f2"
  },
  {
   "cell_type": "code",
   "execution_count": 13,
   "outputs": [],
   "source": [
    "df[\"embedding\"] = embeddings\n",
    "df.to_csv(ecsa_output, index=False)"
   ],
   "metadata": {
    "collapsed": false,
    "ExecuteTime": {
     "end_time": "2023-09-16T14:46:10.924219Z",
     "start_time": "2023-09-16T14:46:10.795321Z"
    }
   },
   "id": "98538fb86c240f4f"
  }
 ],
 "metadata": {
  "kernelspec": {
   "display_name": "Python 3",
   "language": "python",
   "name": "python3"
  },
  "language_info": {
   "codemirror_mode": {
    "name": "ipython",
    "version": 2
   },
   "file_extension": ".py",
   "mimetype": "text/x-python",
   "name": "python",
   "nbconvert_exporter": "python",
   "pygments_lexer": "ipython2",
   "version": "2.7.6"
  }
 },
 "nbformat": 4,
 "nbformat_minor": 5
}
