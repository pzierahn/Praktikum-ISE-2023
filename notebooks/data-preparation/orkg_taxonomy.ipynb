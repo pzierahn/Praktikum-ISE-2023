{
 "cells": [
  {
   "cell_type": "markdown",
   "source": [
    "# Analyze ORKG taxonomy\n",
    "\n",
    "This notebook analyzes the ORKG taxonomy and checks for duplicate labels and paths.\n",
    "The taxonomy is available at data/taxonomy.csv and originates from [here](https://gitlab.com/TIBHannover/orkg/nlp/experiments/orkg-research-fields-classifier/-/blob/master/data/raw/mappings/taxonomy.csv)."
   ],
   "metadata": {
    "collapsed": false
   }
  },
  {
   "cell_type": "code",
   "execution_count": 1,
   "metadata": {
    "collapsed": true,
    "ExecuteTime": {
     "end_time": "2023-09-13T08:36:18.446944Z",
     "start_time": "2023-09-13T08:36:18.176139Z"
    }
   },
   "outputs": [
    {
     "data": {
      "text/plain": "                                  1                           2  \\\n0               Arts and Humanities            American Studies   \n1               Arts and Humanities            American Studies   \n2               Arts and Humanities            American Studies   \n3               Arts and Humanities            American Studies   \n4               Arts and Humanities                    Classics   \n..                              ...                         ...   \n606  Social and Behavioral Sciences                   Sociology   \n607  Social and Behavioral Sciences                   Sociology   \n608  Social and Behavioral Sciences                   Sociology   \n609  Social and Behavioral Sciences                   Sociology   \n610  Social and Behavioral Sciences  Urban Studies and Planning   \n\n                                                     3    4    5  \n0                                American Film Studies  NaN  NaN  \n1                            American Material Culture  NaN  NaN  \n2                             American Popular Culture  NaN  NaN  \n3                                       Ethnic Studies  NaN  NaN  \n4    Ancient History (Greek and Roman through Late ...  NaN  NaN  \n..                                                 ...  ...  ...  \n606                  Social Psychology and Interaction  NaN  NaN  \n607                               Sociology of Culture  NaN  NaN  \n608                      Theory, Knowledge and Science  NaN  NaN  \n609                    Work, Economy and Organizations  NaN  NaN  \n610                                                NaN  NaN  NaN  \n\n[611 rows x 5 columns]",
      "text/html": "<div>\n<style scoped>\n    .dataframe tbody tr th:only-of-type {\n        vertical-align: middle;\n    }\n\n    .dataframe tbody tr th {\n        vertical-align: top;\n    }\n\n    .dataframe thead th {\n        text-align: right;\n    }\n</style>\n<table border=\"1\" class=\"dataframe\">\n  <thead>\n    <tr style=\"text-align: right;\">\n      <th></th>\n      <th>1</th>\n      <th>2</th>\n      <th>3</th>\n      <th>4</th>\n      <th>5</th>\n    </tr>\n  </thead>\n  <tbody>\n    <tr>\n      <th>0</th>\n      <td>Arts and Humanities</td>\n      <td>American Studies</td>\n      <td>American Film Studies</td>\n      <td>NaN</td>\n      <td>NaN</td>\n    </tr>\n    <tr>\n      <th>1</th>\n      <td>Arts and Humanities</td>\n      <td>American Studies</td>\n      <td>American Material Culture</td>\n      <td>NaN</td>\n      <td>NaN</td>\n    </tr>\n    <tr>\n      <th>2</th>\n      <td>Arts and Humanities</td>\n      <td>American Studies</td>\n      <td>American Popular Culture</td>\n      <td>NaN</td>\n      <td>NaN</td>\n    </tr>\n    <tr>\n      <th>3</th>\n      <td>Arts and Humanities</td>\n      <td>American Studies</td>\n      <td>Ethnic Studies</td>\n      <td>NaN</td>\n      <td>NaN</td>\n    </tr>\n    <tr>\n      <th>4</th>\n      <td>Arts and Humanities</td>\n      <td>Classics</td>\n      <td>Ancient History (Greek and Roman through Late ...</td>\n      <td>NaN</td>\n      <td>NaN</td>\n    </tr>\n    <tr>\n      <th>...</th>\n      <td>...</td>\n      <td>...</td>\n      <td>...</td>\n      <td>...</td>\n      <td>...</td>\n    </tr>\n    <tr>\n      <th>606</th>\n      <td>Social and Behavioral Sciences</td>\n      <td>Sociology</td>\n      <td>Social Psychology and Interaction</td>\n      <td>NaN</td>\n      <td>NaN</td>\n    </tr>\n    <tr>\n      <th>607</th>\n      <td>Social and Behavioral Sciences</td>\n      <td>Sociology</td>\n      <td>Sociology of Culture</td>\n      <td>NaN</td>\n      <td>NaN</td>\n    </tr>\n    <tr>\n      <th>608</th>\n      <td>Social and Behavioral Sciences</td>\n      <td>Sociology</td>\n      <td>Theory, Knowledge and Science</td>\n      <td>NaN</td>\n      <td>NaN</td>\n    </tr>\n    <tr>\n      <th>609</th>\n      <td>Social and Behavioral Sciences</td>\n      <td>Sociology</td>\n      <td>Work, Economy and Organizations</td>\n      <td>NaN</td>\n      <td>NaN</td>\n    </tr>\n    <tr>\n      <th>610</th>\n      <td>Social and Behavioral Sciences</td>\n      <td>Urban Studies and Planning</td>\n      <td>NaN</td>\n      <td>NaN</td>\n      <td>NaN</td>\n    </tr>\n  </tbody>\n</table>\n<p>611 rows × 5 columns</p>\n</div>"
     },
     "execution_count": 1,
     "metadata": {},
     "output_type": "execute_result"
    }
   ],
   "source": [
    "import os\n",
    "import pandas as pd\n",
    "\n",
    "base_dir = \"praktikum-ise-2023-patrick-zierahn\"\n",
    "taxonomy_df = pd.read_csv(os.path.join(base_dir, \"references\", \"orkg_taxonomy.csv\"))\n",
    "taxonomy_df"
   ]
  },
  {
   "cell_type": "markdown",
   "source": [
    "## Check for duplicate labels\n",
    "\n",
    "The taxonomy contains many **labels that are ambiguous**, i.e. they are used for multiple research fields.\n",
    "For example: The label \"American Studies\" can be classified under \"Arts and Humanities\" and under \"Social and Behavioral Sciences, Social and Cultural Anthropology and Ethnology\""
   ],
   "metadata": {
    "collapsed": false
   }
  },
  {
   "cell_type": "code",
   "execution_count": 2,
   "outputs": [
    {
     "name": "stdout",
     "output_type": "stream",
     "text": [
      "Different paths for label: Musicology\n",
      "Existing path: ['Arts and Humanities', 'Musicology']\n",
      "New path: ['Arts and Humanities', 'Musicology', 'Musicology']\n",
      "-----------------------------------\n",
      "Different paths for label: Musicology\n",
      "Existing path: ['Arts and Humanities', 'Musicology', 'Musicology']\n",
      "New path: ['Arts and Humanities', 'Musicology']\n",
      "-----------------------------------\n",
      "Duplicate label: Rhetoric and Composition\n",
      "Different paths for label: Rhetoric and Composition\n",
      "Existing path: ['Arts and Humanities', 'English Language and Literature', 'Rhetoric and Composition']\n",
      "New path: ['Arts and Humanities', 'Rhetoric and Composition']\n",
      "-----------------------------------\n",
      "Different paths for label: Computer Engineering\n",
      "Existing path: ['Engineering', 'Computer Engineering']\n",
      "New path: ['Engineering', 'Electrical and Computer Engineering', 'Computer Engineering']\n",
      "-----------------------------------\n",
      "Duplicate label: Energy Process Engineering\n",
      "Different paths for label: Energy Process Engineering\n",
      "Existing path: ['Engineering', 'Chemical Engineering', 'Thermodynamics', 'Fluid Mechanics, Technical Thermodynamics and Thermal Energy Engineering', 'Energy Process Engineering']\n",
      "New path: ['Engineering', 'Energy Process Engineering']\n",
      "-----------------------------------\n",
      "Duplicate label: Biomaterials\n",
      "Different paths for label: Biomaterials\n",
      "Existing path: ['Engineering', 'Biomedical Engineering and Bioengineering', 'Biomaterials']\n",
      "New path: ['Engineering', 'Materials Science and Engineering', 'Biomaterials']\n",
      "-----------------------------------\n",
      "Duplicate label: Plastics Engineering\n",
      "Different paths for label: Plastics Engineering\n",
      "Existing path: ['Engineering', 'Plastics Engineering']\n",
      "New path: ['Engineering', 'Production Technology', 'Plastics Engineering']\n",
      "-----------------------------------\n",
      "Different paths for label: Animal Sciences\n",
      "Existing path: ['Life Sciences', 'Animal Sciences']\n",
      "New path: ['Life Sciences', 'Animal Sciences', 'Animal Sciences']\n",
      "-----------------------------------\n",
      "Different paths for label: Animal Sciences\n",
      "Existing path: ['Life Sciences', 'Animal Sciences', 'Animal Sciences']\n",
      "New path: ['Life Sciences', 'Animal Sciences']\n",
      "-----------------------------------\n",
      "Duplicate label: Biogeochemistry\n",
      "Different paths for label: Biogeochemistry\n",
      "Existing path: ['Life Sciences', 'Biochemistry, Biophysics, and Structural Biology', 'Biogeochemistry']\n",
      "New path: ['Life Sciences', 'Ecology and Evolutionary Biology', 'Biogeochemistry']\n",
      "-----------------------------------\n",
      "Duplicate label: Exercise Physiology\n",
      "Different paths for label: Exercise Physiology\n",
      "Existing path: ['Life Sciences', 'Biology/Integrated Biology/ Integrated Biomedical Sciences', 'Exercise Physiology']\n",
      "New path: ['Life Sciences', 'Physiology', 'Exercise Physiology']\n",
      "-----------------------------------\n",
      "Duplicate label: Botany\n",
      "Different paths for label: Botany\n",
      "Existing path: ['Life Sciences', 'Ecology and Evolutionary Biology', 'Botany']\n",
      "New path: ['Life Sciences', 'Plant Sciences', 'Botany']\n",
      "-----------------------------------\n",
      "Duplicate label: Environmental Health\n",
      "Different paths for label: Environmental Health\n",
      "Existing path: ['Life Sciences', 'Nursing Pharmacology, Toxicology and Environmental Health', 'Environmental Health']\n",
      "New path: ['Life Sciences', 'Public Health', 'Environmental Health']\n",
      "-----------------------------------\n",
      "Duplicate label: Non-linear Dynamics\n",
      "Different paths for label: Non-linear Dynamics\n",
      "Existing path: ['Engineering', 'Engineering Science and Materials (not elsewhere classified)', 'Non-linear Dynamics']\n",
      "New path: ['Physical Sciences & Mathematics', 'Applied Mathematics', 'Non-linear Dynamics']\n",
      "-----------------------------------\n",
      "Duplicate label: Biochemistry\n",
      "Different paths for label: Biochemistry\n",
      "Existing path: ['Life Sciences', 'Biochemistry, Biophysics, and Structural Biology', 'Biochemistry']\n",
      "New path: ['Physical Sciences & Mathematics', 'Chemistry', 'Biochemistry']\n",
      "-----------------------------------\n",
      "Duplicate label: Food Chemistry\n",
      "Different paths for label: Food Chemistry\n",
      "Existing path: ['Life Sciences', 'Entomology Food Science', 'Food Chemistry']\n",
      "New path: ['Physical Sciences & Mathematics', 'Chemistry', 'Biological Chemistry and Food Chemistry', 'Food Chemistry']\n",
      "-----------------------------------\n",
      "Duplicate label: Solid State and Surface Chemistry, Material Synthesis\n",
      "Different paths for label: Solid State and Surface Chemistry, Material Synthesis\n",
      "Existing path: ['Physical Sciences & Mathematics', 'Chemical Solid State and Surface Research', 'Solid State and Surface Chemistry, Material Synthesis']\n",
      "New path: ['Physical Sciences & Mathematics', 'Chemistry', 'Solid State and Surface Chemistry, Material Synthesis']\n",
      "-----------------------------------\n",
      "Duplicate label: Computer and Systems Architecture\n",
      "Different paths for label: Computer and Systems Architecture\n",
      "Existing path: ['Engineering', 'Computer Engineering', 'Computer and Systems Architecture']\n",
      "New path: ['Physical Sciences & Mathematics', 'Computer Sciences', 'Computer and Systems Architecture']\n",
      "-----------------------------------\n",
      "Duplicate label: Biogeochemistry\n",
      "Different paths for label: Biogeochemistry\n",
      "Existing path: ['Life Sciences', 'Ecology and Evolutionary Biology', 'Biogeochemistry']\n",
      "New path: ['Physical Sciences & Mathematics', 'Earth Sciences', 'Biogeochemistry']\n",
      "-----------------------------------\n",
      "Duplicate label: Geophysics\n",
      "Different paths for label: Geophysics\n",
      "Existing path: ['Physical Sciences & Mathematics', 'Earth Sciences', 'Geophysics and Seismology', 'Geophysics']\n",
      "New path: ['Physical Sciences & Mathematics', 'Physics', 'Geophysics and Geodesy', 'Geophysics']\n",
      "-----------------------------------\n",
      "Duplicate label: Non-linear Dynamics\n",
      "Different paths for label: Non-linear Dynamics\n",
      "Existing path: ['Physical Sciences & Mathematics', 'Applied Mathematics', 'Non-linear Dynamics']\n",
      "New path: ['Physical Sciences & Mathematics', 'Physics', 'Non-linear Dynamics']\n",
      "-----------------------------------\n",
      "Duplicate label: Nuclear Experiment\n",
      "Different paths for label: Nuclear Experiment\n",
      "Existing path: ['Physical Sciences & Mathematics', 'Physics', 'Nonlinear Sciences', 'Nuclear Experiment']\n",
      "New path: ['Physical Sciences & Mathematics', 'Physics', 'Nuclear Experiment']\n",
      "-----------------------------------\n",
      "Duplicate label: Biostatistics\n",
      "Different paths for label: Biostatistics\n",
      "Existing path: ['Life Sciences', 'Public Health', 'Biostatistics']\n",
      "New path: ['Physical Sciences & Mathematics', 'Statistics and Probability', 'Biostatistics']\n",
      "-----------------------------------\n",
      "Duplicate label: Data Analysis, Statistics and Probability\n",
      "Different paths for label: Data Analysis, Statistics and Probability\n",
      "Existing path: ['Physical Sciences & Mathematics', 'Physics', 'Data Analysis, Statistics and Probability']\n",
      "New path: ['Physical Sciences & Mathematics', 'Statistics and Probability', 'Data Analysis, Statistics and Probability']\n",
      "-----------------------------------\n",
      "Duplicate label: Communication Neuroscience\n",
      "Different paths for label: Communication Neuroscience\n",
      "Existing path: ['Life Sciences', 'Neuroscience and Neurobiology', 'Cognitive Neuroscience', 'Communication Neuroscience']\n",
      "New path: ['Social and Behavioral Sciences', 'Communication Sciences', 'Communication Neuroscience']\n",
      "-----------------------------------\n",
      "Different paths for label: American Studies\n",
      "Existing path: ['Arts and Humanities', 'American Studies']\n",
      "New path: ['Social and Behavioral Sciences', 'Social and Cultural Anthropology and Ethnology', 'American Studies']\n",
      "-----------------------------------\n",
      "Number of labels: 690\n",
      "Number of significant labels: 591\n"
     ]
    }
   ],
   "source": [
    "labels = set()\n",
    "label_path = {}\n",
    "significant_labels = set()\n",
    "\n",
    "for inx, row in taxonomy_df.iterrows():\n",
    "    ancestors = []\n",
    "    cleanedList = [label for label in row if not pd.isna(label)]\n",
    "\n",
    "    significant_label = cleanedList[-1]\n",
    "    if significant_label not in significant_labels:\n",
    "        significant_labels.add(cleanedList[-1])\n",
    "    else:\n",
    "        print(\"Duplicate label:\", significant_label)\n",
    "\n",
    "    for label in cleanedList:\n",
    "        labels.add(label)\n",
    "        ancestors.append(label)\n",
    "\n",
    "        # Compare with existing label paths\n",
    "        if label in label_path and label_path[label] != ancestors:\n",
    "            print(\"Different paths for label:\", label)\n",
    "            print(\"Existing path:\", label_path[label])\n",
    "            print(\"New path:\", ancestors)\n",
    "            print(\"-----------------------------------\")\n",
    "\n",
    "        # Need to copy data because Python sucks\n",
    "        label_path[label] = ancestors.copy()\n",
    "\n",
    "print(\"Number of labels:\", len(labels))\n",
    "#print_json(\"label_path\", label_path)\n",
    "print(\"Number of significant labels:\", len(significant_labels))"
   ],
   "metadata": {
    "collapsed": false,
    "ExecuteTime": {
     "end_time": "2023-09-13T08:36:18.523898Z",
     "start_time": "2023-09-13T08:36:18.446116Z"
    }
   }
  },
  {
   "cell_type": "code",
   "execution_count": 3,
   "outputs": [
    {
     "name": "stdout",
     "output_type": "stream",
     "text": [
      "orkg_taxonomy.html\n"
     ]
    },
    {
     "data": {
      "text/plain": "<IPython.lib.display.IFrame at 0x7f0e8453f160>",
      "text/html": "\n        <iframe\n            width=\"100%\"\n            height=\"750px\"\n            src=\"orkg_taxonomy.html\"\n            frameborder=\"0\"\n            allowfullscreen\n            \n        ></iframe>\n        "
     },
     "execution_count": 3,
     "metadata": {},
     "output_type": "execute_result"
    }
   ],
   "source": [
    "from pyvis.network import Network \n",
    "\n",
    "net = Network(height=\"750px\", width=\"100%\", bgcolor=\"#222222\", font_color=\"white\", notebook=True, cdn_resources='remote')\n",
    "\n",
    "# Build network from taxonomy\n",
    "for inx, row in taxonomy_df.iterrows():\n",
    "    cleanedList = [label for label in row if not pd.isna(label)]\n",
    "\n",
    "    ancestors = \"\"\n",
    "    for label in cleanedList:\n",
    "        if label not in net.nodes:\n",
    "            net.add_node(label, label, title=label, color=\"#00ff00\")\n",
    "        \n",
    "        if ancestors != \"\":\n",
    "            net.add_edge(ancestors, label)\n",
    "        ancestors = label\n",
    "        \n",
    "net.show(\"orkg_taxonomy.html\")"
   ],
   "metadata": {
    "collapsed": false,
    "ExecuteTime": {
     "end_time": "2023-09-13T08:36:18.699441Z",
     "start_time": "2023-09-13T08:36:18.483559Z"
    }
   }
  },
  {
   "cell_type": "code",
   "execution_count": 4,
   "outputs": [],
   "source": [
    "import numpy as np\n",
    "\n",
    "df = pd.read_csv('data/orkg_with_abstracts.csv')\n",
    "df[\"doi\"] = df.doi.apply(eval).apply(np.array)  # convert string to array\n",
    "df[\"subfields\"] = df.subfields.apply(eval).apply(np.array)  # convert string to array\n",
    "df = df.fillna('')"
   ],
   "metadata": {
    "collapsed": false,
    "ExecuteTime": {
     "end_time": "2023-09-13T08:36:24.123102Z",
     "start_time": "2023-09-13T08:36:18.699605Z"
    }
   }
  },
  {
   "cell_type": "code",
   "execution_count": 5,
   "outputs": [
    {
     "name": "stdout",
     "output_type": "stream",
     "text": [
      "Number of subfields: 692\n"
     ]
    }
   ],
   "source": [
    "# Get all values from the subfields array from df\n",
    "subfields = set()\n",
    "\n",
    "for inx, row in df.iterrows():\n",
    "    for subfield in row[\"subfields\"]:\n",
    "        subfields.add(subfield)\n",
    "\n",
    "print(\"Number of subfields:\", len(subfields))"
   ],
   "metadata": {
    "collapsed": false,
    "ExecuteTime": {
     "end_time": "2023-09-13T08:36:26.638392Z",
     "start_time": "2023-09-13T08:36:24.123611Z"
    }
   }
  },
  {
   "cell_type": "code",
   "execution_count": 6,
   "outputs": [
    {
     "name": "stdout",
     "output_type": "stream",
     "text": [
      "Subfields not in labels: {'Sociocentric networks', 'Computer-Aided Design of Materials and Simulation of Materials Behaviour from  Atomic to Microscopic Scale', 'Quantitative Methods)', 'Women’s History', 'Ego-centric networks', 'Production Systems, Operations Management, Quality Management and Factory  Planning'}\n",
      "Labels not in subfields: {'Women‘s History', 'Computer-Aided Design of Materials and Simulation of Materials Behaviour from Atomic to Microscopic Scale', 'Quantitative Methods', 'Production Systems, Operations Management, Quality Management and Factory Planning'}\n"
     ]
    }
   ],
   "source": [
    "# Print symmetric difference between subfields and labels\n",
    "print(\"Subfields not in labels:\", subfields - labels)\n",
    "print(\"Labels not in subfields:\", labels - subfields)"
   ],
   "metadata": {
    "collapsed": false,
    "ExecuteTime": {
     "end_time": "2023-09-13T08:36:26.650808Z",
     "start_time": "2023-09-13T08:36:26.639559Z"
    }
   }
  }
 ],
 "metadata": {
  "kernelspec": {
   "display_name": "Python 3",
   "language": "python",
   "name": "python3"
  },
  "language_info": {
   "codemirror_mode": {
    "name": "ipython",
    "version": 2
   },
   "file_extension": ".py",
   "mimetype": "text/x-python",
   "name": "python",
   "nbconvert_exporter": "python",
   "pygments_lexer": "ipython2",
   "version": "2.7.6"
  }
 },
 "nbformat": 4,
 "nbformat_minor": 0
}
