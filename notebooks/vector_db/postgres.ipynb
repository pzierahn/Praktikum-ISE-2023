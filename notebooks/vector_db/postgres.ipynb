{
 "cells": [
  {
   "cell_type": "markdown",
   "source": [
    "# PG Vector\n",
    "\n",
    "This notebook shows how to use [pgvector](https://www.pinecone.io/) extension for Postgres to index and search for similar papers based on their embeddings.\n",
    "\n",
    "**Strengths:**\n",
    "- Built as an extension for PostgresSQL, leveraging its relational capabilities.\n",
    "- Utilizes SQL for querying, making it familiar to database users.\n",
    "\n",
    "**Weaknesses:**\n",
    "- Performance might not be as high as purpose-built vector databases for certain use cases.\n",
    "- Vectors are not natively supported by Postgres. An extension is needed to store and query vectors.\n",
    "- Requires more manual optimization and tuning for specific workloads."
   ],
   "metadata": {
    "collapsed": false
   },
   "id": "d294d3ad968591bf"
  },
  {
   "cell_type": "code",
   "execution_count": 3,
   "outputs": [
    {
     "data": {
      "text/plain": "'/home/jupyter-patrickzierahn'"
     },
     "execution_count": 3,
     "metadata": {},
     "output_type": "execute_result"
    }
   ],
   "source": [
    "import os\n",
    "\n",
    "os.getcwd()"
   ],
   "metadata": {
    "collapsed": false,
    "ExecuteTime": {
     "end_time": "2023-08-05T15:22:40.021692Z",
     "start_time": "2023-08-05T15:22:39.969542Z"
    }
   },
   "id": "6dd246613950cb85"
  },
  {
   "cell_type": "code",
   "execution_count": 4,
   "outputs": [
    {
     "data": {
      "text/plain": "                                                author  \\\n0    Alessio Bucaioni and Patrizio Pelliccione and ...   \n1    H{\\'{e}}ctor Cadavid and Vasilios Andrikopoulo...   \n2    Joshua Garcia and Mehdi Mirakhorli and Lu Xiao...   \n3                Holger Knoche and Wilhelm Hasselbring   \n4    Duc Minh Le and Suhrid Karthik and Marcelo Sch...   \n..                                                 ...   \n148  Keim, Jan and Schulz, Sophie and Fuch{\\ss}, Do...   \n149  Shabelnyk, Oleksandr and Frangoudis, Pantelis ...   \n150      Stefan Kugele and David Hettler and Jan Peter   \n151  Banani Roy and Amit Kumar Mondal and Chanchal ...   \n152                               Fl{\\'{a}}vio Oquendo   \n\n                                                 title  \\\n0    Aligning Architecture with Business Goals in t...   \n1    System- and Software-level Architecting Harmon...   \n2    Constructing a Shared Infrastructure for Softw...   \n3    Continuous {API} Evolution in Heterogenous Ent...   \n4    Architectural Decay as Predictor of Issue- and...   \n..                                                 ...   \n148  Trace {Link} {Recovery} for {Software} {Archit...   \n149  Updating {Service}-{Based} {Software} {Systems...   \n150  Data-Centric Communication and Containerizatio...   \n151  Towards a Reference Architecture for Cloud-Bas...   \n152  Formally Describing Self-organizing Architectu...   \n\n                              doi  \\\n0    10.1109/ICSA51549.2021.00020   \n1    10.1109/ICSA51549.2021.00010   \n2    10.1109/ICSA51549.2021.00022   \n3    10.1109/ICSA51549.2021.00014   \n4    10.1109/ICSA51549.2021.00017   \n..                            ...   \n148   10.1007/978-3-030-86044-8_7   \n149  10.1007/978-3-030-86044-8_10   \n150       10.1109/ICSA.2018.00016   \n151          10.1109/ICSA.2017.42   \n152  10.1007/978-3-030-00761-4\\_2   \n\n                                               classes  \\\n0    Meta Data{Research Level{Primary Research}, Ki...   \n1    Meta Data{Kind{full}, Paper class{Evaluation R...   \n2    Meta Data{Paper class{Evaluation Research}, Re...   \n3    Meta Data{Research Level{Primary Research}, Ki...   \n4    Meta Data{Paper class{Evaluation Research}, Re...   \n..                                                 ...   \n148  Meta Data{Research Level{Primary Research}, Ki...   \n149  Meta Data{Paper class{Proposal of Solution}, R...   \n150  Meta Data{Kind{full}, Research Level{Primary R...   \n151  Meta Data{Paper class{Validation Research, Eva...   \n152  Meta Data{Research Level{Primary Research}, Ki...   \n\n                                              url  \\\n0    https://doi.org/10.1109/ICSA51549.2021.00020   \n1    https://doi.org/10.1109/ICSA51549.2021.00010   \n2    https://doi.org/10.1109/ICSA51549.2021.00022   \n3    https://doi.org/10.1109/ICSA51549.2021.00014   \n4    https://doi.org/10.1109/ICSA51549.2021.00017   \n..                                            ...   \n148                                           NaN   \n149                                           NaN   \n150       https://doi.org/10.1109/ICSA.2018.00016   \n151          https://doi.org/10.1109/ICSA.2017.42   \n152  https://doi.org/10.1007/978-3-030-00761-4\\_2   \n\n                                              abstract  \\\n0    When designing complex automotive systems in p...   \n1    The problems caused by the gap between system-...   \n2    Over the past three decades software engineeri...   \n3    The ability to independently deploy parts of a...   \n4    Architectural decay imposes real costs in term...   \n..                                                 ...   \n148  Software Architecture Documentation often cons...   \n149  Contemporary component-based systems often man...   \n150  Context: The functional interconnection and da...   \n151  The domain of plant genotyping and phenotyping...   \n152  Nowadays, the Internet-of-Things (IoT) enables...   \n\n                                             embedding  \n0    [0.00016247970052063465, -0.006258538924157619...  \n1    [0.01373602356761694, -0.007272415794432163, 0...  \n2    [0.0022478506434708834, -0.0009823687141761184...  \n3    [0.0058586616069078445, -0.031336553394794464,...  \n4    [0.015215540304780006, -0.02269367128610611, 0...  \n..                                                 ...  \n148  [0.00465840520337224, 0.004803537856787443, 0....  \n149  [-0.004098787903785706, -0.006373200099915266,...  \n150  [-0.011806309223175049, 0.010385949164628983, ...  \n151  [-0.00909524504095316, -0.012267849408090115, ...  \n152  [0.017419395968317986, 0.00022390899539459497,...  \n\n[153 rows x 7 columns]",
      "text/html": "<div>\n<style scoped>\n    .dataframe tbody tr th:only-of-type {\n        vertical-align: middle;\n    }\n\n    .dataframe tbody tr th {\n        vertical-align: top;\n    }\n\n    .dataframe thead th {\n        text-align: right;\n    }\n</style>\n<table border=\"1\" class=\"dataframe\">\n  <thead>\n    <tr style=\"text-align: right;\">\n      <th></th>\n      <th>author</th>\n      <th>title</th>\n      <th>doi</th>\n      <th>classes</th>\n      <th>url</th>\n      <th>abstract</th>\n      <th>embedding</th>\n    </tr>\n  </thead>\n  <tbody>\n    <tr>\n      <th>0</th>\n      <td>Alessio Bucaioni and Patrizio Pelliccione and ...</td>\n      <td>Aligning Architecture with Business Goals in t...</td>\n      <td>10.1109/ICSA51549.2021.00020</td>\n      <td>Meta Data{Research Level{Primary Research}, Ki...</td>\n      <td>https://doi.org/10.1109/ICSA51549.2021.00020</td>\n      <td>When designing complex automotive systems in p...</td>\n      <td>[0.00016247970052063465, -0.006258538924157619...</td>\n    </tr>\n    <tr>\n      <th>1</th>\n      <td>H{\\'{e}}ctor Cadavid and Vasilios Andrikopoulo...</td>\n      <td>System- and Software-level Architecting Harmon...</td>\n      <td>10.1109/ICSA51549.2021.00010</td>\n      <td>Meta Data{Kind{full}, Paper class{Evaluation R...</td>\n      <td>https://doi.org/10.1109/ICSA51549.2021.00010</td>\n      <td>The problems caused by the gap between system-...</td>\n      <td>[0.01373602356761694, -0.007272415794432163, 0...</td>\n    </tr>\n    <tr>\n      <th>2</th>\n      <td>Joshua Garcia and Mehdi Mirakhorli and Lu Xiao...</td>\n      <td>Constructing a Shared Infrastructure for Softw...</td>\n      <td>10.1109/ICSA51549.2021.00022</td>\n      <td>Meta Data{Paper class{Evaluation Research}, Re...</td>\n      <td>https://doi.org/10.1109/ICSA51549.2021.00022</td>\n      <td>Over the past three decades software engineeri...</td>\n      <td>[0.0022478506434708834, -0.0009823687141761184...</td>\n    </tr>\n    <tr>\n      <th>3</th>\n      <td>Holger Knoche and Wilhelm Hasselbring</td>\n      <td>Continuous {API} Evolution in Heterogenous Ent...</td>\n      <td>10.1109/ICSA51549.2021.00014</td>\n      <td>Meta Data{Research Level{Primary Research}, Ki...</td>\n      <td>https://doi.org/10.1109/ICSA51549.2021.00014</td>\n      <td>The ability to independently deploy parts of a...</td>\n      <td>[0.0058586616069078445, -0.031336553394794464,...</td>\n    </tr>\n    <tr>\n      <th>4</th>\n      <td>Duc Minh Le and Suhrid Karthik and Marcelo Sch...</td>\n      <td>Architectural Decay as Predictor of Issue- and...</td>\n      <td>10.1109/ICSA51549.2021.00017</td>\n      <td>Meta Data{Paper class{Evaluation Research}, Re...</td>\n      <td>https://doi.org/10.1109/ICSA51549.2021.00017</td>\n      <td>Architectural decay imposes real costs in term...</td>\n      <td>[0.015215540304780006, -0.02269367128610611, 0...</td>\n    </tr>\n    <tr>\n      <th>...</th>\n      <td>...</td>\n      <td>...</td>\n      <td>...</td>\n      <td>...</td>\n      <td>...</td>\n      <td>...</td>\n      <td>...</td>\n    </tr>\n    <tr>\n      <th>148</th>\n      <td>Keim, Jan and Schulz, Sophie and Fuch{\\ss}, Do...</td>\n      <td>Trace {Link} {Recovery} for {Software} {Archit...</td>\n      <td>10.1007/978-3-030-86044-8_7</td>\n      <td>Meta Data{Research Level{Primary Research}, Ki...</td>\n      <td>NaN</td>\n      <td>Software Architecture Documentation often cons...</td>\n      <td>[0.00465840520337224, 0.004803537856787443, 0....</td>\n    </tr>\n    <tr>\n      <th>149</th>\n      <td>Shabelnyk, Oleksandr and Frangoudis, Pantelis ...</td>\n      <td>Updating {Service}-{Based} {Software} {Systems...</td>\n      <td>10.1007/978-3-030-86044-8_10</td>\n      <td>Meta Data{Paper class{Proposal of Solution}, R...</td>\n      <td>NaN</td>\n      <td>Contemporary component-based systems often man...</td>\n      <td>[-0.004098787903785706, -0.006373200099915266,...</td>\n    </tr>\n    <tr>\n      <th>150</th>\n      <td>Stefan Kugele and David Hettler and Jan Peter</td>\n      <td>Data-Centric Communication and Containerizatio...</td>\n      <td>10.1109/ICSA.2018.00016</td>\n      <td>Meta Data{Kind{full}, Research Level{Primary R...</td>\n      <td>https://doi.org/10.1109/ICSA.2018.00016</td>\n      <td>Context: The functional interconnection and da...</td>\n      <td>[-0.011806309223175049, 0.010385949164628983, ...</td>\n    </tr>\n    <tr>\n      <th>151</th>\n      <td>Banani Roy and Amit Kumar Mondal and Chanchal ...</td>\n      <td>Towards a Reference Architecture for Cloud-Bas...</td>\n      <td>10.1109/ICSA.2017.42</td>\n      <td>Meta Data{Paper class{Validation Research, Eva...</td>\n      <td>https://doi.org/10.1109/ICSA.2017.42</td>\n      <td>The domain of plant genotyping and phenotyping...</td>\n      <td>[-0.00909524504095316, -0.012267849408090115, ...</td>\n    </tr>\n    <tr>\n      <th>152</th>\n      <td>Fl{\\'{a}}vio Oquendo</td>\n      <td>Formally Describing Self-organizing Architectu...</td>\n      <td>10.1007/978-3-030-00761-4\\_2</td>\n      <td>Meta Data{Research Level{Primary Research}, Ki...</td>\n      <td>https://doi.org/10.1007/978-3-030-00761-4\\_2</td>\n      <td>Nowadays, the Internet-of-Things (IoT) enables...</td>\n      <td>[0.017419395968317986, 0.00022390899539459497,...</td>\n    </tr>\n  </tbody>\n</table>\n<p>153 rows × 7 columns</p>\n</div>"
     },
     "execution_count": 4,
     "metadata": {},
     "output_type": "execute_result"
    }
   ],
   "source": [
    "import pandas as pd\n",
    "import numpy as np\n",
    "\n",
    "datafile_path = f\"data/software_architecture/bib-text_embeddings.csv.csv\"\n",
    "df = pd.read_csv(datafile_path)\n",
    "df[\"embedding\"] = df.embedding.apply(eval).apply(np.array)  # convert string to array\n",
    "df"
   ],
   "metadata": {
    "collapsed": false,
    "ExecuteTime": {
     "end_time": "2023-08-05T15:22:40.461046Z",
     "start_time": "2023-08-05T15:22:40.020079Z"
    }
   },
   "id": "2cfb328ef4af58eb"
  },
  {
   "cell_type": "code",
   "execution_count": 5,
   "outputs": [
    {
     "name": "stdout",
     "output_type": "stream",
     "text": [
      "Embeddings shape: (153, 1536)\n"
     ]
    }
   ],
   "source": [
    "embeddings = np.array(df[\"embedding\"].tolist())\n",
    "print(\"Embeddings shape:\", embeddings.shape)"
   ],
   "metadata": {
    "collapsed": false,
    "ExecuteTime": {
     "end_time": "2023-08-05T15:22:40.521367Z",
     "start_time": "2023-08-05T15:22:40.488007Z"
    }
   },
   "id": "c3759e7f3caf5433"
  },
  {
   "cell_type": "markdown",
   "source": [
    "### Install and start postgres"
   ],
   "metadata": {
    "collapsed": false
   },
   "id": "fc36c99d172a6300"
  },
  {
   "cell_type": "code",
   "execution_count": 6,
   "outputs": [
    {
     "name": "stdout",
     "output_type": "stream",
     "text": [
      "\u001B[33mWARN\u001B[0m[0000] The cgroupv2 manager is set to systemd but there is no systemd user session available \r\n",
      "\u001B[33mWARN\u001B[0m[0000] For using systemd, you may need to login using an user session \r\n",
      "\u001B[33mWARN\u001B[0m[0000] Alternatively, you can enable lingering with: `loginctl enable-linger 1030` (possibly as root) \r\n",
      "\u001B[33mWARN\u001B[0m[0000] Falling back to --cgroup-manager=cgroupfs    \r\n",
      "\u001B[33mWARN\u001B[0m[0000] The cgroupv2 manager is set to systemd but there is no systemd user session available \r\n",
      "\u001B[33mWARN\u001B[0m[0000] For using systemd, you may need to login using an user session \r\n",
      "\u001B[33mWARN\u001B[0m[0000] Alternatively, you can enable lingering with: `loginctl enable-linger 1030` (possibly as root) \r\n",
      "\u001B[33mWARN\u001B[0m[0000] Falling back to --cgroup-manager=cgroupfs    \r\n",
      "Error: short-name \"ankane/pgvector\" did not resolve to an alias and no unqualified-search registries are defined in \"/etc/containers/registries.conf\"\r\n",
      "\u001B[33mWARN\u001B[0m[0000] Failed to add pause process to systemd sandbox cgroup: Process org.freedesktop.systemd1 exited with status 1 \r\n"
     ]
    }
   ],
   "source": [
    "# !docker pull ankane/pgvector\n",
    "!podman pull docker.io/ankane/pgvector"
   ],
   "metadata": {
    "collapsed": false,
    "ExecuteTime": {
     "end_time": "2023-08-05T15:22:40.859497Z",
     "start_time": "2023-08-05T15:22:40.488552Z"
    }
   },
   "id": "1cfadb3480442fe7"
  },
  {
   "cell_type": "code",
   "execution_count": 7,
   "outputs": [
    {
     "name": "stdout",
     "output_type": "stream",
     "text": [
      "\u001B[33mWARN\u001B[0m[0000] The cgroupv2 manager is set to systemd but there is no systemd user session available \r\n",
      "\u001B[33mWARN\u001B[0m[0000] For using systemd, you may need to login using an user session \r\n",
      "\u001B[33mWARN\u001B[0m[0000] Alternatively, you can enable lingering with: `loginctl enable-linger 1030` (possibly as root) \r\n",
      "\u001B[33mWARN\u001B[0m[0000] Falling back to --cgroup-manager=cgroupfs    \r\n",
      "\u001B[33mWARN\u001B[0m[0000] The cgroupv2 manager is set to systemd but there is no systemd user session available \r\n",
      "\u001B[33mWARN\u001B[0m[0000] For using systemd, you may need to login using an user session \r\n",
      "\u001B[33mWARN\u001B[0m[0000] Alternatively, you can enable lingering with: `loginctl enable-linger 1030` (possibly as root) \r\n",
      "\u001B[33mWARN\u001B[0m[0000] Falling back to --cgroup-manager=cgroupfs    \r\n",
      "Error: short-name \"ankane/pgvector\" did not resolve to an alias and no unqualified-search registries are defined in \"/etc/containers/registries.conf\"\r\n"
     ]
    }
   ],
   "source": [
    "# !docker run --rm --name postgres-vector -e POSTGRES_PASSWORD=hasenfurz -p \"5432:5432\" -d ankane/pgvector\n",
    "!podman run --rm --name postgres-vector -e POSTGRES_PASSWORD=a640dcd1f666 -p \"5432:5432\" -d ankane/pgvector"
   ],
   "metadata": {
    "collapsed": false,
    "ExecuteTime": {
     "end_time": "2023-08-05T15:22:41.147750Z",
     "start_time": "2023-08-05T15:22:40.870906Z"
    }
   },
   "id": "8514f1134fb3b2a7"
  },
  {
   "cell_type": "code",
   "execution_count": 10,
   "outputs": [],
   "source": [
    "# Sleep for a couple of seconds for the docker container to start properly\n",
    "import time\n",
    "\n",
    "time.sleep(2)"
   ],
   "metadata": {
    "collapsed": false,
    "ExecuteTime": {
     "end_time": "2023-08-05T15:27:10.204255Z",
     "start_time": "2023-08-05T15:27:08.198926Z"
    }
   },
   "id": "ef073340da776e39"
  },
  {
   "cell_type": "code",
   "execution_count": 11,
   "outputs": [],
   "source": [
    "import psycopg2\n",
    "\n",
    "# Establish a connection\n",
    "connection = psycopg2.connect(\n",
    "    user=\"postgres\",\n",
    "    password=\"a640dcd1f666\",\n",
    "    host=\"localhost\",\n",
    "    port=5432\n",
    ")\n",
    "\n",
    "cursor = connection.cursor()"
   ],
   "metadata": {
    "collapsed": false,
    "ExecuteTime": {
     "end_time": "2023-08-05T15:27:27.908701Z",
     "start_time": "2023-08-05T15:27:27.870486Z"
    }
   },
   "id": "f548db8f1f0c71b1"
  },
  {
   "cell_type": "code",
   "execution_count": 12,
   "outputs": [
    {
     "name": "stdout",
     "output_type": "stream",
     "text": [
      "[(datetime.datetime(2023, 8, 5, 15, 27, 30, 146793, tzinfo=datetime.timezone.utc),)]\n"
     ]
    }
   ],
   "source": [
    "# Check connection\n",
    "cursor.execute(\"SELECT now()\")\n",
    "res = cursor.fetchall()\n",
    "print(res)"
   ],
   "metadata": {
    "collapsed": false,
    "ExecuteTime": {
     "end_time": "2023-08-05T15:27:30.120731Z",
     "start_time": "2023-08-05T15:27:30.115651Z"
    }
   },
   "id": "1c87bb02989dd4fc"
  },
  {
   "cell_type": "code",
   "execution_count": 13,
   "outputs": [],
   "source": [
    "cursor.execute(\"CREATE EXTENSION IF NOT EXISTS vector;\")"
   ],
   "metadata": {
    "collapsed": false,
    "ExecuteTime": {
     "end_time": "2023-08-05T15:27:33.045025Z",
     "start_time": "2023-08-05T15:27:33.028011Z"
    }
   },
   "id": "eb38c0f20fa0c908"
  },
  {
   "cell_type": "code",
   "execution_count": 14,
   "outputs": [],
   "source": [
    "cursor.execute(\"\"\"\n",
    "CREATE TABLE IF NOT EXISTS papers (doi VARCHAR PRIMARY KEY, title VARCHAR, embedding vector(%s));\n",
    "\"\"\", (embeddings.shape[1],))"
   ],
   "metadata": {
    "collapsed": false,
    "ExecuteTime": {
     "end_time": "2023-08-05T15:27:34.607802Z",
     "start_time": "2023-08-05T15:27:34.565235Z"
    }
   },
   "id": "d96211ad55c7085a"
  },
  {
   "cell_type": "code",
   "execution_count": 15,
   "outputs": [
    {
     "name": "stdout",
     "output_type": "stream",
     "text": [
      "Inserted: 10.1109/ICSA51549.2021.00020\n",
      "Inserted: 10.1109/ICSA51549.2021.00010\n",
      "Inserted: 10.1109/ICSA51549.2021.00022\n",
      "Inserted: 10.1109/ICSA51549.2021.00014\n",
      "Inserted: 10.1109/ICSA51549.2021.00017\n",
      "Inserted: 10.1109/ICSA51549.2021.00009\n",
      "Inserted: 10.1109/ICSA51549.2021.00012\n",
      "Inserted: 10.1109/ICSA51549.2021.00018\n",
      "Inserted: 10.1109/ICSA51549.2021.00021\n",
      "Inserted: 10.1109/ICSA51549.2021.00024\n",
      "Inserted: 10.1109/ICSA51549.2021.00016\n",
      "Inserted: 10.1109/ICSA51549.2021.00023\n",
      "Inserted: 10.1109/ICSA51549.2021.00013\n",
      "Inserted: 10.1109/ICSA47634.2020.00022\n",
      "Inserted: 10.1109/ICSA47634.2020.00018\n",
      "Inserted: 10.1109/ICSA47634.2020.00016\n",
      "Inserted: 10.1109/ICSA47634.2020.00013\n",
      "Inserted: 10.1109/ICSA47634.2020.00010\n",
      "Inserted: 10.1109/ICSA47634.2020.00009\n",
      "Inserted: 10.1109/ICSA47634.2020.00012\n",
      "Inserted: 10.1109/ICSA47634.2020.00026\n",
      "Inserted: 10.1109/ICSA47634.2020.00011\n",
      "Inserted: 10.1109/ICSA47634.2020.00019\n",
      "Inserted: 10.1109/ICSA47634.2020.00014\n",
      "Inserted: 10.1109/ICSA47634.2020.00024\n",
      "Inserted: 10.1109/ICSA47634.2020.00023\n",
      "Inserted: 10.1109/ICSA47634.2020.00020\n",
      "Inserted: 10.1109/ICSA47634.2020.00025\n",
      "Inserted: 10.1109/ICSA47634.2020.00021\n",
      "Inserted: 10.1109/ICSA47634.2020.00027\n",
      "Inserted: 10.1109/ICSA.2019.00029\n",
      "Inserted: 10.1109/ICSA.2019.00017\n",
      "Inserted: 10.1109/ICSA.2019.00027\n",
      "Inserted: 10.1109/ICSA.2019.00016\n",
      "Inserted: 10.1109/ICSA.2019.00015\n",
      "Inserted: 10.1109/ICSA.2019.00012\n",
      "Inserted: 10.1109/ICSA.2019.00020\n",
      "Inserted: 10.1109/ICSA.2019.00026\n",
      "Inserted: 10.1109/ICSA.2019.00022\n",
      "Inserted: 10.1109/ICSA.2019.00011\n",
      "Inserted: 10.1109/ICSA.2019.00009\n",
      "Inserted: 10.1109/ICSA.2019.00010\n",
      "Inserted: 10.1109/ICSA.2019.00021\n",
      "Inserted: 10.1109/ICSA.2019.00018\n",
      "Inserted: 10.1109/ICSA.2019.00028\n",
      "Inserted: 10.1109/ICSA.2019.00013\n",
      "Inserted: 10.1109/ICSA.2019.00023\n",
      "Inserted: 10.1109/ICSA.2019.00019\n",
      "Inserted: 10.1109/ICSA.2019.00024\n",
      "Inserted: 10.1109/ICSA.2019.00025\n",
      "Inserted: 10.1109/ICSA.2019.00014\n",
      "Inserted: 10.1109/ICSA.2018.00014\n",
      "Inserted: 10.1109/ICSA.2018.00011\n",
      "Inserted: 10.1109/ICSA.2018.00020\n",
      "Inserted: 10.1109/ICSA.2018.00025\n",
      "Inserted: 10.1109/ICSA.2018.00018\n",
      "Inserted: 10.1109/ICSA.2018.00022\n",
      "Inserted: 10.1109/ICSA.2018.00023\n",
      "Inserted: 10.1109/ICSA.2018.00012\n",
      "Inserted: 10.1109/ICSA.2018.00017\n",
      "Inserted: 10.1109/ICSA.2018.00009\n",
      "Inserted: 10.1109/ICSA.2018.00029\n",
      "Inserted: 10.1109/ICSA.2018.00010\n",
      "Inserted: 10.1109/ICSA.2018.00027\n",
      "Inserted: 10.1109/ICSA.2018.00024\n",
      "Inserted: 10.1109/ICSA.2018.00019\n",
      "Inserted: 10.1109/ICSA.2018.00028\n",
      "Inserted: 10.1109/ICSA.2018.00021\n",
      "Inserted: 10.1109/ICSA.2018.00030\n",
      "Inserted: 10.1109/ICSA.2018.00026\n",
      "Inserted: 10.1109/ICSA.2017.45\n",
      "Inserted: 10.1109/ICSA.2017.34\n",
      "Inserted: 10.1109/ICSA.2017.16\n",
      "Inserted: 10.1109/ICSA.2017.10\n",
      "Inserted: 10.1109/ICSA.2017.43\n",
      "Inserted: 10.1109/ICSA.2017.36\n",
      "Inserted: 10.1109/ICSA.2017.27\n",
      "Inserted: 10.1109/ICSA.2017.18\n",
      "Inserted: 10.1109/ICSA.2017.32\n",
      "Inserted: 10.1109/ICSA.2017.38\n",
      "Inserted: 10.1109/ICSA.2017.20\n",
      "Inserted: 10.1109/ICSA.2017.11\n",
      "Inserted: 10.1109/ICSA.2017.21\n",
      "Inserted: 10.1109/ICSA.2017.14\n",
      "Inserted: 10.1109/ICSA.2017.17\n",
      "Inserted: 10.1109/ICSA.2017.39\n",
      "Inserted: 10.1109/ICSA.2017.33\n",
      "Inserted: 10.1109/ICSA.2017.13\n",
      "Inserted: 10.1007/978-3-030-29983-5\\_13\n",
      "Inserted: 10.1007/978-3-030-29983-5\\_16\n",
      "Inserted: 10.1007/978-3-030-29983-5\\_1\n",
      "Inserted: 10.1007/978-3-030-29983-5\\_18\n",
      "Inserted: 10.1007/978-3-030-29983-5\\_10\n",
      "Inserted: 10.1007/978-3-030-29983-5\\_8\n",
      "Inserted: 10.1007/978-3-030-29983-5\\_2\n",
      "Inserted: 10.1007/978-3-030-29983-5\\_3\n",
      "Inserted: 10.1007/978-3-030-29983-5\\_17\n",
      "Inserted: 10.1007/978-3-030-29983-5\\_4\n",
      "Inserted: 10.1007/978-3-030-29983-5\\_12\n",
      "Inserted: 10.1007/978-3-030-29983-5\\_5\n",
      "Inserted: 10.1007/978-3-030-29983-5\\_9\n",
      "Inserted: 10.1007/978-3-030-29983-5\\_11\n",
      "Inserted: 10.1007/978-3-030-00761-4\\_6\n",
      "Inserted: 10.1007/978-3-030-00761-4\\_8\n",
      "Inserted: 10.1007/978-3-030-00761-4\\_1\n",
      "Inserted: 10.1007/978-3-030-00761-4\\_11\n",
      "Inserted: 10.1007/978-3-030-00761-4\\_14\n",
      "Inserted: 10.1007/978-3-030-00761-4\\_15\n",
      "Inserted: 10.1007/978-3-030-00761-4\\_17\n",
      "Inserted: 10.1007/978-3-030-00761-4\\_21\n",
      "Inserted: 10.1007/978-3-030-00761-4\\_19\n",
      "Inserted: 10.1007/978-3-030-00761-4\\_18\n",
      "Inserted: 10.1007/978-3-030-00761-4\\_9\n",
      "Inserted: 10.1007/978-3-030-00761-4\\_23\n",
      "Inserted: 10.1007/978-3-030-00761-4\\_4\n",
      "Inserted: 10.1007/978-3-319-65831-5\\_10\n",
      "Inserted: 10.1007/978-3-319-65831-5\\_1\n",
      "Inserted: 10.1007/978-3-319-65831-5\\_4\n",
      "Inserted: 10.1007/978-3-319-65831-5\\_5\n",
      "Inserted: 10.1007/978-3-319-65831-5\\_11\n",
      "Inserted: 10.1007/978-3-319-65831-5\\_2\n",
      "Inserted: 10.1007/978-3-319-65831-5\\_7\n",
      "Inserted: 10.1007/978-3-319-65831-5\\_14\n",
      "Inserted: 10.1007/978-3-319-65831-5\\_9\n",
      "Inserted: 10.1007/978-3-030-58923-3\\_1\n",
      "Inserted: 10.1007/978-3-030-58923-3\\_2\n",
      "Inserted: 10.1007/978-3-030-58923-3\\_3\n",
      "Inserted: 10.1007/978-3-030-58923-3\\_4\n",
      "Inserted: 10.1007/978-3-030-58923-3\\_5\n",
      "Inserted: 10.1007/978-3-030-58923-3\\_7\n",
      "Inserted: 10.1007/978-3-030-58923-3\\_8\n",
      "Inserted: 10.1007/978-3-030-58923-3\\_10\n",
      "Inserted: 10.1007/978-3-030-58923-3\\_11\n",
      "Inserted: 10.1007/978-3-030-58923-3\\_14\n",
      "Inserted: 10.1007/978-3-030-58923-3\\_18\n",
      "Inserted: 10.1007/978-3-030-58923-3\\_21\n",
      "Inserted: 10.1007/978-3-030-58923-3\\_22\n",
      "Inserted: 10.1007/978-3-030-58923-3\\_23\n",
      "Inserted: 10.1007/978-3-030-86044-8_5\n",
      "Inserted: 10.1007/978-3-030-86044-8_2\n",
      "Inserted: 10.1007/978-3-030-86044-8_8\n",
      "Inserted: 10.1007/978-3-030-86044-8_1\n",
      "Inserted: 10.1007/978-3-030-86044-8_4\n",
      "Inserted: 10.1007/978-3-030-86044-8_6\n",
      "Inserted: 10.1007/978-3-030-86044-8_21\n",
      "Inserted: 10.1007/978-3-030-86044-8_15\n",
      "Inserted: 10.1007/978-3-030-86044-8_16\n",
      "Inserted: 10.1007/978-3-030-86044-8_14\n",
      "Inserted: 10.1007/978-3-030-86044-8_7\n",
      "Inserted: 10.1007/978-3-030-86044-8_10\n",
      "Inserted: 10.1109/ICSA.2018.00016\n",
      "Inserted: 10.1109/ICSA.2017.42\n",
      "Inserted: 10.1007/978-3-030-00761-4\\_2\n"
     ]
    }
   ],
   "source": [
    "for inx, row in df.iterrows():\n",
    "    doi = row[\"doi\"]\n",
    "    title = row[\"title\"]\n",
    "    embedding = row[\"embedding\"].tolist()\n",
    "\n",
    "    cursor.execute(\"\"\"\n",
    "    insert into papers (doi, title, embedding)\n",
    "    values (%s, %s, %s)\n",
    "    returning doi;\n",
    "    \"\"\", (doi, title, embedding))\n",
    "\n",
    "    res = cursor.fetchall()\n",
    "    print(\"Inserted:\", res[0][0])\n",
    "\n",
    "connection.commit()"
   ],
   "metadata": {
    "collapsed": false,
    "ExecuteTime": {
     "end_time": "2023-08-05T15:27:37.191715Z",
     "start_time": "2023-08-05T15:27:36.545362Z"
    }
   },
   "id": "eccae36d6095e035"
  },
  {
   "cell_type": "code",
   "execution_count": 16,
   "outputs": [],
   "source": [
    "connection.commit()"
   ],
   "metadata": {
    "collapsed": false,
    "ExecuteTime": {
     "end_time": "2023-08-05T15:27:40.744067Z",
     "start_time": "2023-08-05T15:27:40.743665Z"
    }
   },
   "id": "b3795af1d98f4283"
  },
  {
   "cell_type": "code",
   "execution_count": 17,
   "outputs": [
    {
     "name": "stdout",
     "output_type": "stream",
     "text": [
      "Title: Aligning Architecture with Business Goals in the Automotive Domain\n",
      "doi: 10.1109/ICSA51549.2021.00020\n",
      "Similar papers:\n",
      "- 10.1109/ICSA51549.2021.00020: Aligning Architecture with Business Goals in the Automotive Domain\n",
      "- 10.1109/ICSA47634.2020.00013: Technical Architectures for Automotive Systems\n",
      "- 10.1109/ICSA.2017.20: On Service-Orientation for Automotive Software\n",
      "- 10.1109/ICSA.2019.00025: On Interfaces to Support Agile Architecting in Automotive: An Exploratory Case Study\n",
      "- 10.1007/978-3-030-58923-3\\_2: Formal Software Architectural Migration Towards Emerging Architectural Styles\n"
     ]
    }
   ],
   "source": [
    "example = df.iloc[0]\n",
    "print(\"Title:\", example[\"title\"])\n",
    "print(\"doi:\", example[\"doi\"])\n",
    "print()\n",
    "\n",
    "embedding = example[\"embedding\"].tolist()\n",
    "\n",
    "with connection.cursor() as cur:\n",
    "    cur.execute(\"SELECT doi, title FROM papers ORDER BY embedding <-> %s::vector LIMIT 5;\", (embedding,))\n",
    "    papers = cur.fetchall()\n",
    "    print(\"Similar papers:\")\n",
    "    \n",
    "    for paper in papers:\n",
    "        print(f\"- {paper[0]}: {paper[1]}\")"
   ],
   "metadata": {
    "collapsed": false,
    "ExecuteTime": {
     "end_time": "2023-08-05T15:27:42.695044Z",
     "start_time": "2023-08-05T15:27:42.670277Z"
    }
   },
   "id": "1d6ac1de8fedbee1"
  }
 ],
 "metadata": {
  "kernelspec": {
   "display_name": "Python 3",
   "language": "python",
   "name": "python3"
  },
  "language_info": {
   "codemirror_mode": {
    "name": "ipython",
    "version": 2
   },
   "file_extension": ".py",
   "mimetype": "text/x-python",
   "name": "python",
   "nbconvert_exporter": "python",
   "pygments_lexer": "ipython2",
   "version": "2.7.6"
  }
 },
 "nbformat": 4,
 "nbformat_minor": 5
}
