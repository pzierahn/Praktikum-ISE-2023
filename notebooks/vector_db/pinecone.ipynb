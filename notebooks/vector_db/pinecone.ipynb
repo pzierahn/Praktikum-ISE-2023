{
 "cells": [
  {
   "cell_type": "markdown",
   "source": [
    "# Pinecone\n",
    "\n",
    "This notebook shows how to use [Pinecone](https://www.pinecone.io/) to index and search for similar papers based on their embeddings.\n",
    "\n",
    "**Strengths:**\n",
    "- Managed service with scalable infrastructure, easing deployment and management.\n",
    "- High performance with low query latency.\n",
    "- Supports real-time updates and indexing of vectors.\n",
    "- Native Python and Javascript libraries.\n",
    "- Free tier for experimentation.\n",
    "\n",
    "**Weaknesses:**\n",
    "- Requires using Pinecone's managed service, limiting deployment flexibility.\n",
    "- May have costs associated with the managed service.\n",
    "- Limited customization options compared to open-source or self-hosted solutions."
   ],
   "metadata": {
    "collapsed": false
   },
   "id": "3defa51e64fe0b52"
  },
  {
   "cell_type": "code",
   "execution_count": 12,
   "outputs": [
    {
     "data": {
      "text/plain": "                                                author  \\\n0    Alessio Bucaioni and Patrizio Pelliccione and ...   \n1    H{\\'{e}}ctor Cadavid and Vasilios Andrikopoulo...   \n2    Joshua Garcia and Mehdi Mirakhorli and Lu Xiao...   \n3                Holger Knoche and Wilhelm Hasselbring   \n4    Duc Minh Le and Suhrid Karthik and Marcelo Sch...   \n..                                                 ...   \n148  Keim, Jan and Schulz, Sophie and Fuch{\\ss}, Do...   \n149  Shabelnyk, Oleksandr and Frangoudis, Pantelis ...   \n150      Stefan Kugele and David Hettler and Jan Peter   \n151  Banani Roy and Amit Kumar Mondal and Chanchal ...   \n152                               Fl{\\'{a}}vio Oquendo   \n\n                                                 title  \\\n0    Aligning Architecture with Business Goals in t...   \n1    System- and Software-level Architecting Harmon...   \n2    Constructing a Shared Infrastructure for Softw...   \n3    Continuous {API} Evolution in Heterogenous Ent...   \n4    Architectural Decay as Predictor of Issue- and...   \n..                                                 ...   \n148  Trace {Link} {Recovery} for {Software} {Archit...   \n149  Updating {Service}-{Based} {Software} {Systems...   \n150  Data-Centric Communication and Containerizatio...   \n151  Towards a Reference Architecture for Cloud-Bas...   \n152  Formally Describing Self-organizing Architectu...   \n\n                              doi  \\\n0    10.1109/ICSA51549.2021.00020   \n1    10.1109/ICSA51549.2021.00010   \n2    10.1109/ICSA51549.2021.00022   \n3    10.1109/ICSA51549.2021.00014   \n4    10.1109/ICSA51549.2021.00017   \n..                            ...   \n148   10.1007/978-3-030-86044-8_7   \n149  10.1007/978-3-030-86044-8_10   \n150       10.1109/ICSA.2018.00016   \n151          10.1109/ICSA.2017.42   \n152  10.1007/978-3-030-00761-4\\_2   \n\n                                               classes  \\\n0    Meta Data{Research Level{Primary Research}, Ki...   \n1    Meta Data{Kind{full}, Paper class{Evaluation R...   \n2    Meta Data{Paper class{Evaluation Research}, Re...   \n3    Meta Data{Research Level{Primary Research}, Ki...   \n4    Meta Data{Paper class{Evaluation Research}, Re...   \n..                                                 ...   \n148  Meta Data{Research Level{Primary Research}, Ki...   \n149  Meta Data{Paper class{Proposal of Solution}, R...   \n150  Meta Data{Kind{full}, Research Level{Primary R...   \n151  Meta Data{Paper class{Validation Research, Eva...   \n152  Meta Data{Research Level{Primary Research}, Ki...   \n\n                                              url  \\\n0    https://doi.org/10.1109/ICSA51549.2021.00020   \n1    https://doi.org/10.1109/ICSA51549.2021.00010   \n2    https://doi.org/10.1109/ICSA51549.2021.00022   \n3    https://doi.org/10.1109/ICSA51549.2021.00014   \n4    https://doi.org/10.1109/ICSA51549.2021.00017   \n..                                            ...   \n148                                           NaN   \n149                                           NaN   \n150       https://doi.org/10.1109/ICSA.2018.00016   \n151          https://doi.org/10.1109/ICSA.2017.42   \n152  https://doi.org/10.1007/978-3-030-00761-4\\_2   \n\n                                              abstract  \\\n0    When designing complex automotive systems in p...   \n1    The problems caused by the gap between system-...   \n2    Over the past three decades software engineeri...   \n3    The ability to independently deploy parts of a...   \n4    Architectural decay imposes real costs in term...   \n..                                                 ...   \n148  Software Architecture Documentation often cons...   \n149  Contemporary component-based systems often man...   \n150  Context: The functional interconnection and da...   \n151  The domain of plant genotyping and phenotyping...   \n152  Nowadays, the Internet-of-Things (IoT) enables...   \n\n                                             embedding  \n0    [0.00016247970052063465, -0.006258538924157619...  \n1    [0.01373602356761694, -0.007272415794432163, 0...  \n2    [0.0022478506434708834, -0.0009823687141761184...  \n3    [0.0058586616069078445, -0.031336553394794464,...  \n4    [0.015215540304780006, -0.02269367128610611, 0...  \n..                                                 ...  \n148  [0.00465840520337224, 0.004803537856787443, 0....  \n149  [-0.004098787903785706, -0.006373200099915266,...  \n150  [-0.011806309223175049, 0.010385949164628983, ...  \n151  [-0.00909524504095316, -0.012267849408090115, ...  \n152  [0.017419395968317986, 0.00022390899539459497,...  \n\n[153 rows x 7 columns]",
      "text/html": "<div>\n<style scoped>\n    .dataframe tbody tr th:only-of-type {\n        vertical-align: middle;\n    }\n\n    .dataframe tbody tr th {\n        vertical-align: top;\n    }\n\n    .dataframe thead th {\n        text-align: right;\n    }\n</style>\n<table border=\"1\" class=\"dataframe\">\n  <thead>\n    <tr style=\"text-align: right;\">\n      <th></th>\n      <th>author</th>\n      <th>title</th>\n      <th>doi</th>\n      <th>classes</th>\n      <th>url</th>\n      <th>abstract</th>\n      <th>embedding</th>\n    </tr>\n  </thead>\n  <tbody>\n    <tr>\n      <th>0</th>\n      <td>Alessio Bucaioni and Patrizio Pelliccione and ...</td>\n      <td>Aligning Architecture with Business Goals in t...</td>\n      <td>10.1109/ICSA51549.2021.00020</td>\n      <td>Meta Data{Research Level{Primary Research}, Ki...</td>\n      <td>https://doi.org/10.1109/ICSA51549.2021.00020</td>\n      <td>When designing complex automotive systems in p...</td>\n      <td>[0.00016247970052063465, -0.006258538924157619...</td>\n    </tr>\n    <tr>\n      <th>1</th>\n      <td>H{\\'{e}}ctor Cadavid and Vasilios Andrikopoulo...</td>\n      <td>System- and Software-level Architecting Harmon...</td>\n      <td>10.1109/ICSA51549.2021.00010</td>\n      <td>Meta Data{Kind{full}, Paper class{Evaluation R...</td>\n      <td>https://doi.org/10.1109/ICSA51549.2021.00010</td>\n      <td>The problems caused by the gap between system-...</td>\n      <td>[0.01373602356761694, -0.007272415794432163, 0...</td>\n    </tr>\n    <tr>\n      <th>2</th>\n      <td>Joshua Garcia and Mehdi Mirakhorli and Lu Xiao...</td>\n      <td>Constructing a Shared Infrastructure for Softw...</td>\n      <td>10.1109/ICSA51549.2021.00022</td>\n      <td>Meta Data{Paper class{Evaluation Research}, Re...</td>\n      <td>https://doi.org/10.1109/ICSA51549.2021.00022</td>\n      <td>Over the past three decades software engineeri...</td>\n      <td>[0.0022478506434708834, -0.0009823687141761184...</td>\n    </tr>\n    <tr>\n      <th>3</th>\n      <td>Holger Knoche and Wilhelm Hasselbring</td>\n      <td>Continuous {API} Evolution in Heterogenous Ent...</td>\n      <td>10.1109/ICSA51549.2021.00014</td>\n      <td>Meta Data{Research Level{Primary Research}, Ki...</td>\n      <td>https://doi.org/10.1109/ICSA51549.2021.00014</td>\n      <td>The ability to independently deploy parts of a...</td>\n      <td>[0.0058586616069078445, -0.031336553394794464,...</td>\n    </tr>\n    <tr>\n      <th>4</th>\n      <td>Duc Minh Le and Suhrid Karthik and Marcelo Sch...</td>\n      <td>Architectural Decay as Predictor of Issue- and...</td>\n      <td>10.1109/ICSA51549.2021.00017</td>\n      <td>Meta Data{Paper class{Evaluation Research}, Re...</td>\n      <td>https://doi.org/10.1109/ICSA51549.2021.00017</td>\n      <td>Architectural decay imposes real costs in term...</td>\n      <td>[0.015215540304780006, -0.02269367128610611, 0...</td>\n    </tr>\n    <tr>\n      <th>...</th>\n      <td>...</td>\n      <td>...</td>\n      <td>...</td>\n      <td>...</td>\n      <td>...</td>\n      <td>...</td>\n      <td>...</td>\n    </tr>\n    <tr>\n      <th>148</th>\n      <td>Keim, Jan and Schulz, Sophie and Fuch{\\ss}, Do...</td>\n      <td>Trace {Link} {Recovery} for {Software} {Archit...</td>\n      <td>10.1007/978-3-030-86044-8_7</td>\n      <td>Meta Data{Research Level{Primary Research}, Ki...</td>\n      <td>NaN</td>\n      <td>Software Architecture Documentation often cons...</td>\n      <td>[0.00465840520337224, 0.004803537856787443, 0....</td>\n    </tr>\n    <tr>\n      <th>149</th>\n      <td>Shabelnyk, Oleksandr and Frangoudis, Pantelis ...</td>\n      <td>Updating {Service}-{Based} {Software} {Systems...</td>\n      <td>10.1007/978-3-030-86044-8_10</td>\n      <td>Meta Data{Paper class{Proposal of Solution}, R...</td>\n      <td>NaN</td>\n      <td>Contemporary component-based systems often man...</td>\n      <td>[-0.004098787903785706, -0.006373200099915266,...</td>\n    </tr>\n    <tr>\n      <th>150</th>\n      <td>Stefan Kugele and David Hettler and Jan Peter</td>\n      <td>Data-Centric Communication and Containerizatio...</td>\n      <td>10.1109/ICSA.2018.00016</td>\n      <td>Meta Data{Kind{full}, Research Level{Primary R...</td>\n      <td>https://doi.org/10.1109/ICSA.2018.00016</td>\n      <td>Context: The functional interconnection and da...</td>\n      <td>[-0.011806309223175049, 0.010385949164628983, ...</td>\n    </tr>\n    <tr>\n      <th>151</th>\n      <td>Banani Roy and Amit Kumar Mondal and Chanchal ...</td>\n      <td>Towards a Reference Architecture for Cloud-Bas...</td>\n      <td>10.1109/ICSA.2017.42</td>\n      <td>Meta Data{Paper class{Validation Research, Eva...</td>\n      <td>https://doi.org/10.1109/ICSA.2017.42</td>\n      <td>The domain of plant genotyping and phenotyping...</td>\n      <td>[-0.00909524504095316, -0.012267849408090115, ...</td>\n    </tr>\n    <tr>\n      <th>152</th>\n      <td>Fl{\\'{a}}vio Oquendo</td>\n      <td>Formally Describing Self-organizing Architectu...</td>\n      <td>10.1007/978-3-030-00761-4\\_2</td>\n      <td>Meta Data{Research Level{Primary Research}, Ki...</td>\n      <td>https://doi.org/10.1007/978-3-030-00761-4\\_2</td>\n      <td>Nowadays, the Internet-of-Things (IoT) enables...</td>\n      <td>[0.017419395968317986, 0.00022390899539459497,...</td>\n    </tr>\n  </tbody>\n</table>\n<p>153 rows × 7 columns</p>\n</div>"
     },
     "execution_count": 12,
     "metadata": {},
     "output_type": "execute_result"
    }
   ],
   "source": [
    "import pandas as pd\n",
    "import numpy as np\n",
    "\n",
    "datafile_path = f\"data/software_architecture/bib-text_embeddings.csv.csv\"\n",
    "df = pd.read_csv(datafile_path)\n",
    "df[\"embedding\"] = df.embedding.apply(eval).apply(np.array)  # convert string to array\n",
    "df"
   ],
   "metadata": {
    "collapsed": false,
    "ExecuteTime": {
     "end_time": "2023-07-30T15:39:56.521974Z",
     "start_time": "2023-07-30T15:39:56.016007Z"
    }
   },
   "id": "4610e20ccd148b20"
  },
  {
   "cell_type": "code",
   "execution_count": 13,
   "outputs": [],
   "source": [
    "import pinecone\n",
    "\n",
    "pinecone.init(\n",
    "    environment=\"asia-southeast1-gcp-free\",\n",
    "    api_key=\"c2533f08-33a8-437f-a10d-3a0711fade78\",\n",
    ")"
   ],
   "metadata": {
    "collapsed": false,
    "ExecuteTime": {
     "end_time": "2023-07-30T15:39:57.417068Z",
     "start_time": "2023-07-30T15:39:56.536555Z"
    }
   },
   "id": "aca4d5abd8762c7a"
  },
  {
   "cell_type": "code",
   "execution_count": 17,
   "outputs": [
    {
     "name": "stdout",
     "output_type": "stream",
     "text": [
      "Embeddings shape: (153, 1536)\n",
      "indexes: ['software-architecture-classes']\n"
     ]
    }
   ],
   "source": [
    "embeddings = np.array(df[\"embedding\"].tolist())\n",
    "print(\"Embeddings shape:\", embeddings.shape)\n",
    "\n",
    "# Check if pinecone index exists\n",
    "if \"software-architecture-classes\" not in pinecone.list_indexes():\n",
    "    print(\"Creating index...\")\n",
    "    pinecone.create_index(\n",
    "        \"software-architecture-classes\",\n",
    "        dimension=embeddings.shape[1],\n",
    "        metric=\"euclidean\",\n",
    "    )\n",
    "\n",
    "print(\"indexes:\", pinecone.list_indexes())"
   ],
   "metadata": {
    "collapsed": false,
    "ExecuteTime": {
     "end_time": "2023-07-30T15:43:06.391564Z",
     "start_time": "2023-07-30T15:43:02.712656Z"
    }
   },
   "id": "9c63a899d69055d9"
  },
  {
   "cell_type": "code",
   "execution_count": 19,
   "outputs": [
    {
     "data": {
      "text/plain": "{'dimension': 1536,\n 'index_fullness': 0.0,\n 'namespaces': {},\n 'total_vector_count': 0}"
     },
     "execution_count": 19,
     "metadata": {},
     "output_type": "execute_result"
    }
   ],
   "source": [
    "index = pinecone.Index(\"software-architecture-classes\")\n",
    "index.describe_index_stats()"
   ],
   "metadata": {
    "collapsed": false,
    "ExecuteTime": {
     "end_time": "2023-07-30T15:43:42.855765Z",
     "start_time": "2023-07-30T15:43:42.286846Z"
    }
   },
   "id": "f3e1782efad38214"
  },
  {
   "cell_type": "code",
   "execution_count": 32,
   "outputs": [
    {
     "data": {
      "text/plain": "{'dimension': 1536,\n 'index_fullness': 0.0,\n 'namespaces': {'': {'vector_count': 153}},\n 'total_vector_count': 153}"
     },
     "execution_count": 32,
     "metadata": {},
     "output_type": "execute_result"
    }
   ],
   "source": [
    "vectors = []\n",
    "\n",
    "for inx, row in df.iterrows():\n",
    "    vectors.append((row[\"doi\"], row[\"embedding\"].tolist()))\n",
    "\n",
    "index.upsert(vectors)\n",
    "index.describe_index_stats()"
   ],
   "metadata": {
    "collapsed": false,
    "ExecuteTime": {
     "end_time": "2023-07-30T15:52:39.418039Z",
     "start_time": "2023-07-30T15:52:37.376801Z"
    }
   },
   "id": "bbded8dc34fa280c"
  },
  {
   "cell_type": "code",
   "execution_count": 31,
   "outputs": [
    {
     "name": "stdout",
     "output_type": "stream",
     "text": [
      "Title: Aligning Architecture with Business Goals in the Automotive Domain\n",
      "Similar papers:\n",
      "- Technical Architectures for Automotive Systems\n",
      "- On Service-Orientation for Automotive Software\n",
      "- On Interfaces to Support Agile Architecting in Automotive: An Exploratory Case Study\n"
     ]
    }
   ],
   "source": [
    "example = df.iloc[0]\n",
    "\n",
    "matches = index.query(\n",
    "    vector=example[\"embedding\"].tolist(),\n",
    "    top_k=4,\n",
    "    include_values=False  # we don't need the actual embeddings\n",
    ")\n",
    "\n",
    "print(\"Title:\", example[\"title\"])\n",
    "print(\"Similar papers:\")\n",
    "for match in matches[\"matches\"]:\n",
    "    doi = match.id\n",
    "    if doi == example[\"doi\"]:\n",
    "        continue\n",
    "\n",
    "    print(\"-\", df[df[\"doi\"] == doi][\"title\"].values[0])"
   ],
   "metadata": {
    "collapsed": false,
    "ExecuteTime": {
     "end_time": "2023-07-30T15:52:13.407461Z",
     "start_time": "2023-07-30T15:52:12.665700Z"
    }
   },
   "id": "11b2dc5f3afef7aa"
  }
 ],
 "metadata": {
  "kernelspec": {
   "display_name": "Python 3",
   "language": "python",
   "name": "python3"
  },
  "language_info": {
   "codemirror_mode": {
    "name": "ipython",
    "version": 2
   },
   "file_extension": ".py",
   "mimetype": "text/x-python",
   "name": "python",
   "nbconvert_exporter": "python",
   "pygments_lexer": "ipython2",
   "version": "2.7.6"
  }
 },
 "nbformat": 4,
 "nbformat_minor": 5
}
