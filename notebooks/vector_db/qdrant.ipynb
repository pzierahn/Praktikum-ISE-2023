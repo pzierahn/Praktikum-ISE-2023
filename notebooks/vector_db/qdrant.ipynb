{
 "cells": [
  {
   "cell_type": "markdown",
   "source": [
    "# Qdrant\n",
    "\n",
    "This notebook shows how to use [Qdrant](https://qdrant.tech/) to index and search for similar papers based on their embeddings.\n",
    "\n",
    "**Strengths:**\n",
    "- Open-source vector database with customizable features.\n",
    "- Supports complex queries, geospatial search, and filtering.\n",
    "- Built-in support for incremental indexing and real-time updates.\n",
    "- Suitable for various use cases like search, recommendation, and clustering.\n",
    "- Community-driven development with potential for rapid feature enhancements.\n",
    "- Can be deployed on-premises or in the cloud.\n",
    "- Supports batch search.\n",
    "- Provides GO, Rust, Python, and Javascript libraries.\n",
    "\n",
    "**Weaknesses:**\n",
    "- Currently, no significant weaknesses identified."
   ],
   "metadata": {
    "collapsed": false
   },
   "id": "62d992c2e7d26e6d"
  },
  {
   "cell_type": "markdown",
   "source": [
    "### Load OpenAI embeddings"
   ],
   "metadata": {
    "collapsed": false
   },
   "id": "ba978343769e3cdc"
  },
  {
   "cell_type": "code",
   "execution_count": 4,
   "outputs": [
    {
     "data": {
      "text/plain": "'/Users/patrick/Code/praktikum-ise-2023-patrick-zierahn/notebooks/vector_db'"
     },
     "execution_count": 4,
     "metadata": {},
     "output_type": "execute_result"
    }
   ],
   "source": [
    "import os\n",
    "\n",
    "os.getcwd()"
   ],
   "metadata": {
    "collapsed": false,
    "ExecuteTime": {
     "end_time": "2023-08-03T15:21:27.861978Z",
     "start_time": "2023-08-03T15:21:27.856342Z"
    }
   },
   "id": "c208da00e0addda5"
  },
  {
   "cell_type": "code",
   "execution_count": 5,
   "outputs": [
    {
     "data": {
      "text/plain": "                                                author  \\\n0    Alessio Bucaioni and Patrizio Pelliccione and ...   \n1    H{\\'{e}}ctor Cadavid and Vasilios Andrikopoulo...   \n2    Joshua Garcia and Mehdi Mirakhorli and Lu Xiao...   \n3                Holger Knoche and Wilhelm Hasselbring   \n4    Duc Minh Le and Suhrid Karthik and Marcelo Sch...   \n..                                                 ...   \n148  Keim, Jan and Schulz, Sophie and Fuch{\\ss}, Do...   \n149  Shabelnyk, Oleksandr and Frangoudis, Pantelis ...   \n150      Stefan Kugele and David Hettler and Jan Peter   \n151  Banani Roy and Amit Kumar Mondal and Chanchal ...   \n152                               Fl{\\'{a}}vio Oquendo   \n\n                                                 title  \\\n0    Aligning Architecture with Business Goals in t...   \n1    System- and Software-level Architecting Harmon...   \n2    Constructing a Shared Infrastructure for Softw...   \n3    Continuous {API} Evolution in Heterogenous Ent...   \n4    Architectural Decay as Predictor of Issue- and...   \n..                                                 ...   \n148  Trace {Link} {Recovery} for {Software} {Archit...   \n149  Updating {Service}-{Based} {Software} {Systems...   \n150  Data-Centric Communication and Containerizatio...   \n151  Towards a Reference Architecture for Cloud-Bas...   \n152  Formally Describing Self-organizing Architectu...   \n\n                              doi  \\\n0    10.1109/ICSA51549.2021.00020   \n1    10.1109/ICSA51549.2021.00010   \n2    10.1109/ICSA51549.2021.00022   \n3    10.1109/ICSA51549.2021.00014   \n4    10.1109/ICSA51549.2021.00017   \n..                            ...   \n148   10.1007/978-3-030-86044-8_7   \n149  10.1007/978-3-030-86044-8_10   \n150       10.1109/ICSA.2018.00016   \n151          10.1109/ICSA.2017.42   \n152  10.1007/978-3-030-00761-4\\_2   \n\n                                               classes  \\\n0    Meta Data{Research Level{Primary Research}, Ki...   \n1    Meta Data{Kind{full}, Paper class{Evaluation R...   \n2    Meta Data{Paper class{Evaluation Research}, Re...   \n3    Meta Data{Research Level{Primary Research}, Ki...   \n4    Meta Data{Paper class{Evaluation Research}, Re...   \n..                                                 ...   \n148  Meta Data{Research Level{Primary Research}, Ki...   \n149  Meta Data{Paper class{Proposal of Solution}, R...   \n150  Meta Data{Kind{full}, Research Level{Primary R...   \n151  Meta Data{Paper class{Validation Research, Eva...   \n152  Meta Data{Research Level{Primary Research}, Ki...   \n\n                                              url  \\\n0    https://doi.org/10.1109/ICSA51549.2021.00020   \n1    https://doi.org/10.1109/ICSA51549.2021.00010   \n2    https://doi.org/10.1109/ICSA51549.2021.00022   \n3    https://doi.org/10.1109/ICSA51549.2021.00014   \n4    https://doi.org/10.1109/ICSA51549.2021.00017   \n..                                            ...   \n148                                           NaN   \n149                                           NaN   \n150       https://doi.org/10.1109/ICSA.2018.00016   \n151          https://doi.org/10.1109/ICSA.2017.42   \n152  https://doi.org/10.1007/978-3-030-00761-4\\_2   \n\n                                              abstract  \\\n0    When designing complex automotive systems in p...   \n1    The problems caused by the gap between system-...   \n2    Over the past three decades software engineeri...   \n3    The ability to independently deploy parts of a...   \n4    Architectural decay imposes real costs in term...   \n..                                                 ...   \n148  Software Architecture Documentation often cons...   \n149  Contemporary component-based systems often man...   \n150  Context: The functional interconnection and da...   \n151  The domain of plant genotyping and phenotyping...   \n152  Nowadays, the Internet-of-Things (IoT) enables...   \n\n                                             embedding  \n0    [0.00016247970052063465, -0.006258538924157619...  \n1    [0.01373602356761694, -0.007272415794432163, 0...  \n2    [0.0022478506434708834, -0.0009823687141761184...  \n3    [0.0058586616069078445, -0.031336553394794464,...  \n4    [0.015215540304780006, -0.02269367128610611, 0...  \n..                                                 ...  \n148  [0.00465840520337224, 0.004803537856787443, 0....  \n149  [-0.004098787903785706, -0.006373200099915266,...  \n150  [-0.011806309223175049, 0.010385949164628983, ...  \n151  [-0.00909524504095316, -0.012267849408090115, ...  \n152  [0.017419395968317986, 0.00022390899539459497,...  \n\n[153 rows x 7 columns]",
      "text/html": "<div>\n<style scoped>\n    .dataframe tbody tr th:only-of-type {\n        vertical-align: middle;\n    }\n\n    .dataframe tbody tr th {\n        vertical-align: top;\n    }\n\n    .dataframe thead th {\n        text-align: right;\n    }\n</style>\n<table border=\"1\" class=\"dataframe\">\n  <thead>\n    <tr style=\"text-align: right;\">\n      <th></th>\n      <th>author</th>\n      <th>title</th>\n      <th>doi</th>\n      <th>classes</th>\n      <th>url</th>\n      <th>abstract</th>\n      <th>embedding</th>\n    </tr>\n  </thead>\n  <tbody>\n    <tr>\n      <th>0</th>\n      <td>Alessio Bucaioni and Patrizio Pelliccione and ...</td>\n      <td>Aligning Architecture with Business Goals in t...</td>\n      <td>10.1109/ICSA51549.2021.00020</td>\n      <td>Meta Data{Research Level{Primary Research}, Ki...</td>\n      <td>https://doi.org/10.1109/ICSA51549.2021.00020</td>\n      <td>When designing complex automotive systems in p...</td>\n      <td>[0.00016247970052063465, -0.006258538924157619...</td>\n    </tr>\n    <tr>\n      <th>1</th>\n      <td>H{\\'{e}}ctor Cadavid and Vasilios Andrikopoulo...</td>\n      <td>System- and Software-level Architecting Harmon...</td>\n      <td>10.1109/ICSA51549.2021.00010</td>\n      <td>Meta Data{Kind{full}, Paper class{Evaluation R...</td>\n      <td>https://doi.org/10.1109/ICSA51549.2021.00010</td>\n      <td>The problems caused by the gap between system-...</td>\n      <td>[0.01373602356761694, -0.007272415794432163, 0...</td>\n    </tr>\n    <tr>\n      <th>2</th>\n      <td>Joshua Garcia and Mehdi Mirakhorli and Lu Xiao...</td>\n      <td>Constructing a Shared Infrastructure for Softw...</td>\n      <td>10.1109/ICSA51549.2021.00022</td>\n      <td>Meta Data{Paper class{Evaluation Research}, Re...</td>\n      <td>https://doi.org/10.1109/ICSA51549.2021.00022</td>\n      <td>Over the past three decades software engineeri...</td>\n      <td>[0.0022478506434708834, -0.0009823687141761184...</td>\n    </tr>\n    <tr>\n      <th>3</th>\n      <td>Holger Knoche and Wilhelm Hasselbring</td>\n      <td>Continuous {API} Evolution in Heterogenous Ent...</td>\n      <td>10.1109/ICSA51549.2021.00014</td>\n      <td>Meta Data{Research Level{Primary Research}, Ki...</td>\n      <td>https://doi.org/10.1109/ICSA51549.2021.00014</td>\n      <td>The ability to independently deploy parts of a...</td>\n      <td>[0.0058586616069078445, -0.031336553394794464,...</td>\n    </tr>\n    <tr>\n      <th>4</th>\n      <td>Duc Minh Le and Suhrid Karthik and Marcelo Sch...</td>\n      <td>Architectural Decay as Predictor of Issue- and...</td>\n      <td>10.1109/ICSA51549.2021.00017</td>\n      <td>Meta Data{Paper class{Evaluation Research}, Re...</td>\n      <td>https://doi.org/10.1109/ICSA51549.2021.00017</td>\n      <td>Architectural decay imposes real costs in term...</td>\n      <td>[0.015215540304780006, -0.02269367128610611, 0...</td>\n    </tr>\n    <tr>\n      <th>...</th>\n      <td>...</td>\n      <td>...</td>\n      <td>...</td>\n      <td>...</td>\n      <td>...</td>\n      <td>...</td>\n      <td>...</td>\n    </tr>\n    <tr>\n      <th>148</th>\n      <td>Keim, Jan and Schulz, Sophie and Fuch{\\ss}, Do...</td>\n      <td>Trace {Link} {Recovery} for {Software} {Archit...</td>\n      <td>10.1007/978-3-030-86044-8_7</td>\n      <td>Meta Data{Research Level{Primary Research}, Ki...</td>\n      <td>NaN</td>\n      <td>Software Architecture Documentation often cons...</td>\n      <td>[0.00465840520337224, 0.004803537856787443, 0....</td>\n    </tr>\n    <tr>\n      <th>149</th>\n      <td>Shabelnyk, Oleksandr and Frangoudis, Pantelis ...</td>\n      <td>Updating {Service}-{Based} {Software} {Systems...</td>\n      <td>10.1007/978-3-030-86044-8_10</td>\n      <td>Meta Data{Paper class{Proposal of Solution}, R...</td>\n      <td>NaN</td>\n      <td>Contemporary component-based systems often man...</td>\n      <td>[-0.004098787903785706, -0.006373200099915266,...</td>\n    </tr>\n    <tr>\n      <th>150</th>\n      <td>Stefan Kugele and David Hettler and Jan Peter</td>\n      <td>Data-Centric Communication and Containerizatio...</td>\n      <td>10.1109/ICSA.2018.00016</td>\n      <td>Meta Data{Kind{full}, Research Level{Primary R...</td>\n      <td>https://doi.org/10.1109/ICSA.2018.00016</td>\n      <td>Context: The functional interconnection and da...</td>\n      <td>[-0.011806309223175049, 0.010385949164628983, ...</td>\n    </tr>\n    <tr>\n      <th>151</th>\n      <td>Banani Roy and Amit Kumar Mondal and Chanchal ...</td>\n      <td>Towards a Reference Architecture for Cloud-Bas...</td>\n      <td>10.1109/ICSA.2017.42</td>\n      <td>Meta Data{Paper class{Validation Research, Eva...</td>\n      <td>https://doi.org/10.1109/ICSA.2017.42</td>\n      <td>The domain of plant genotyping and phenotyping...</td>\n      <td>[-0.00909524504095316, -0.012267849408090115, ...</td>\n    </tr>\n    <tr>\n      <th>152</th>\n      <td>Fl{\\'{a}}vio Oquendo</td>\n      <td>Formally Describing Self-organizing Architectu...</td>\n      <td>10.1007/978-3-030-00761-4\\_2</td>\n      <td>Meta Data{Research Level{Primary Research}, Ki...</td>\n      <td>https://doi.org/10.1007/978-3-030-00761-4\\_2</td>\n      <td>Nowadays, the Internet-of-Things (IoT) enables...</td>\n      <td>[0.017419395968317986, 0.00022390899539459497,...</td>\n    </tr>\n  </tbody>\n</table>\n<p>153 rows × 7 columns</p>\n</div>"
     },
     "execution_count": 5,
     "metadata": {},
     "output_type": "execute_result"
    }
   ],
   "source": [
    "import pandas as pd\n",
    "import numpy as np\n",
    "\n",
    "datafile_path = f\"data/software_architecture/bib-text_embeddings.csv.csv\"\n",
    "df = pd.read_csv(datafile_path)\n",
    "df[\"embedding\"] = df.embedding.apply(eval).apply(np.array)  # convert string to array\n",
    "df"
   ],
   "metadata": {
    "collapsed": false,
    "ExecuteTime": {
     "end_time": "2023-08-03T15:21:37.753744Z",
     "start_time": "2023-08-03T15:21:37.363974Z"
    }
   },
   "id": "5d40d625e2f7ceb0"
  },
  {
   "cell_type": "code",
   "execution_count": 9,
   "outputs": [
    {
     "name": "stdout",
     "output_type": "stream",
     "text": [
      "Embeddings shape: (153, 1536)\n"
     ]
    }
   ],
   "source": [
    "embeddings = np.array(df[\"embedding\"].tolist())\n",
    "print(\"Embeddings shape:\", embeddings.shape)"
   ],
   "metadata": {
    "collapsed": false,
    "ExecuteTime": {
     "end_time": "2023-08-03T15:37:17.529565Z",
     "start_time": "2023-08-03T15:37:17.525038Z"
    }
   },
   "id": "f8e3119ffdb7a72c"
  },
  {
   "cell_type": "markdown",
   "source": [
    "### Installation Qdrant"
   ],
   "metadata": {
    "collapsed": false
   },
   "id": "7e0461957059674e"
  },
  {
   "cell_type": "code",
   "execution_count": 6,
   "outputs": [
    {
     "name": "stdout",
     "output_type": "stream",
     "text": [
      "Using default tag: latest\r\n",
      "latest: Pulling from qdrant/qdrant\r\n",
      "\r\n",
      "\u001B[1B4f7dc01b: Pulling fs layer \r\n",
      "\u001B[1B4c9e3517: Pulling fs layer \r\n",
      "\u001B[1B79e24954: Pulling fs layer \r\n",
      "\u001B[1B21281235: Pulling fs layer \r\n",
      "\u001B[1B8dab8050: Pulling fs layer \r\n",
      "\u001B[1B3d7d85aa: Pulling fs layer \r\n",
      "\u001B[1B10b9cceb: Pulling fs layer \r\n",
      "\u001B[1BDigest: sha256:fe6155cde4854925e6aec1c9e7e12660443972d374e8f1095e118515b6d01075[7A\u001B[2K\u001B[8A\u001B[2K\u001B[7A\u001B[2K\u001B[8A\u001B[2K\u001B[7A\u001B[2K\u001B[8A\u001B[2K\u001B[7A\u001B[2K\u001B[8A\u001B[2K\u001B[7A\u001B[2K\u001B[7A\u001B[2K\u001B[5A\u001B[2K\u001B[8A\u001B[2K\u001B[5A\u001B[2K\u001B[8A\u001B[2K\u001B[5A\u001B[2K\u001B[8A\u001B[2K\u001B[8A\u001B[2K\u001B[8A\u001B[2K\u001B[5A\u001B[2K\u001B[8A\u001B[2K\u001B[2K\u001B[8A\u001B[2K\u001B[8A\u001B[2K\u001B[5A\u001B[2K\u001B[5A\u001B[2K\u001B[8A\u001B[2K\u001B[5A\u001B[2K\u001B[8A\u001B[2K\u001B[3A\u001B[2K\u001B[5A\u001B[2K\u001B[8A\u001B[2K\u001B[5A\u001B[2K\u001B[8A\u001B[2K\u001B[5A\u001B[2K\u001B[8A\u001B[2K\u001B[5A\u001B[2K\u001B[5A\u001B[2K\u001B[8A\u001B[2K\u001B[5A\u001B[2K\u001B[8A\u001B[2K\u001B[5A\u001B[2K\u001B[8A\u001B[2K\u001B[5A\u001B[2K\u001B[5A\u001B[2K\u001B[8A\u001B[2K\u001B[8A\u001B[2K\u001B[2A\u001B[2K\u001B[1A\u001B[2K\u001B[8A\u001B[2K\u001B[8A\u001B[2K\u001B[8A\u001B[2K\u001B[8A\u001B[2K\u001B[8A\u001B[2K\u001B[8A\u001B[2K\u001B[8A\u001B[2K\u001B[8A\u001B[2K\u001B[8A\u001B[2K\u001B[8A\u001B[2KDownloading  29.03MB/29.16MB\u001B[8A\u001B[2K\u001B[8A\u001B[2K\u001B[8A\u001B[2K\u001B[8A\u001B[2K\u001B[8A\u001B[2K\u001B[8A\u001B[2K\u001B[8A\u001B[2K\u001B[8A\u001B[2K\u001B[7A\u001B[2K\u001B[5A\u001B[2K\u001B[5A\u001B[2K\r\n",
      "Status: Downloaded newer image for qdrant/qdrant:latest\r\n",
      "docker.io/qdrant/qdrant:latest\r\n",
      "\r\n",
      "\u001B[1mWhat's Next?\r\n",
      "\u001B[0m  View summary of image vulnerabilities and recommendations → \u001B[36mdocker scout quickview qdrant/qdrant\u001B[0m\r\n"
     ]
    }
   ],
   "source": [
    "!docker pull qdrant/qdrant"
   ],
   "metadata": {
    "collapsed": false,
    "ExecuteTime": {
     "end_time": "2023-08-03T15:21:52.468322Z",
     "start_time": "2023-08-03T15:21:43.059879Z"
    }
   },
   "id": "a6db7d57eaa70b66"
  },
  {
   "cell_type": "code",
   "execution_count": 11,
   "outputs": [
    {
     "name": "stdout",
     "output_type": "stream",
     "text": [
      "858c09e1c74910f32747c54b9c0ce95c99cf7d43fc0d23e1b870a1bcd8d31232\r\n"
     ]
    }
   ],
   "source": [
    "!docker run --rm -p \"6333:6333\" -p \"6334:6334\" -d qdrant/qdrant"
   ],
   "metadata": {
    "collapsed": false,
    "ExecuteTime": {
     "end_time": "2023-08-03T15:37:42.975606Z",
     "start_time": "2023-08-03T15:37:42.571314Z"
    }
   },
   "id": "8e519fc0e31a3924"
  },
  {
   "cell_type": "markdown",
   "source": [
    "### Create a collection"
   ],
   "metadata": {
    "collapsed": false
   },
   "id": "ba6ebb9a201f9f43"
  },
  {
   "cell_type": "code",
   "execution_count": 12,
   "outputs": [
    {
     "data": {
      "text/plain": "True"
     },
     "execution_count": 12,
     "metadata": {},
     "output_type": "execute_result"
    }
   ],
   "source": [
    "from qdrant_client import QdrantClient\n",
    "from qdrant_client.http.models import Distance, VectorParams\n",
    "\n",
    "client = QdrantClient(\"localhost\", port=6333)\n",
    "client.recreate_collection(\n",
    "    collection_name=\"architecture_classes\",\n",
    "    vectors_config=VectorParams(\n",
    "        size=embeddings.shape[1],\n",
    "        distance=Distance.DOT\n",
    "    ),\n",
    ")"
   ],
   "metadata": {
    "collapsed": false,
    "ExecuteTime": {
     "end_time": "2023-08-03T15:37:51.668224Z",
     "start_time": "2023-08-03T15:37:51.587181Z"
    }
   },
   "id": "54a7fb5f8dc7106a"
  },
  {
   "cell_type": "code",
   "execution_count": 20,
   "outputs": [
    {
     "name": "stdout",
     "output_type": "stream",
     "text": [
      " {\n",
      "  \"config\": {\n",
      "    \"hnsw_config\": {\n",
      "      \"ef_construct\": 100,\n",
      "      \"full_scan_threshold\": 10000,\n",
      "      \"m\": 16,\n",
      "      \"max_indexing_threads\": 0,\n",
      "      \"on_disk\": false,\n",
      "      \"payload_m\": null\n",
      "    },\n",
      "    \"optimizer_config\": {\n",
      "      \"default_segment_number\": 0,\n",
      "      \"deleted_threshold\": 0.2,\n",
      "      \"flush_interval_sec\": 5,\n",
      "      \"indexing_threshold\": 20000,\n",
      "      \"max_optimization_threads\": 1,\n",
      "      \"max_segment_size\": null,\n",
      "      \"memmap_threshold\": null,\n",
      "      \"vacuum_min_vector_number\": 1000\n",
      "    },\n",
      "    \"params\": {\n",
      "      \"on_disk_payload\": true,\n",
      "      \"replication_factor\": 1,\n",
      "      \"shard_number\": 1,\n",
      "      \"vectors\": {\n",
      "        \"distance\": \"Dot\",\n",
      "        \"hnsw_config\": null,\n",
      "        \"on_disk\": null,\n",
      "        \"quantization_config\": null,\n",
      "        \"size\": 1536\n",
      "      },\n",
      "      \"write_consistency_factor\": 1\n",
      "    },\n",
      "    \"quantization_config\": null,\n",
      "    \"wal_config\": {\n",
      "      \"wal_capacity_mb\": 32,\n",
      "      \"wal_segments_ahead\": 0\n",
      "    }\n",
      "  },\n",
      "  \"indexed_vectors_count\": 0,\n",
      "  \"optimizer_status\": \"ok\",\n",
      "  \"payload_schema\": {},\n",
      "  \"points_count\": 0,\n",
      "  \"segments_count\": 4,\n",
      "  \"status\": \"green\",\n",
      "  \"vectors_count\": 0\n",
      "}\n"
     ]
    }
   ],
   "source": [
    "import json\n",
    "from src.utils.utils_json import print_json\n",
    "\n",
    "collection_info = client.get_collection(collection_name=\"architecture_classes\")\n",
    "\n",
    "print_json(json.loads(collection_info.model_dump_json()))"
   ],
   "metadata": {
    "collapsed": false,
    "ExecuteTime": {
     "end_time": "2023-08-03T15:40:22.498064Z",
     "start_time": "2023-08-03T15:40:22.492028Z"
    }
   },
   "id": "809bda1b52b7a290"
  },
  {
   "cell_type": "markdown",
   "source": [
    "### Insert embeddings into the collection"
   ],
   "metadata": {
    "collapsed": false
   },
   "id": "9114ea477a75aed2"
  },
  {
   "cell_type": "code",
   "execution_count": 23,
   "outputs": [
    {
     "name": "stdout",
     "output_type": "stream",
     "text": [
      "operation_id=1 status=<UpdateStatus.COMPLETED: 'completed'>\n"
     ]
    }
   ],
   "source": [
    "from qdrant_client.http.models import PointStruct\n",
    "\n",
    "operation_info = client.upsert(\n",
    "    collection_name=\"architecture_classes\",\n",
    "    wait=True,\n",
    "    points=[\n",
    "        PointStruct(id=inx, vector=embeddings[inx])\n",
    "        for inx in range(embeddings.shape[0])\n",
    "    ]\n",
    ")\n",
    "\n",
    "print(operation_info)"
   ],
   "metadata": {
    "collapsed": false,
    "ExecuteTime": {
     "end_time": "2023-08-03T15:44:05.457062Z",
     "start_time": "2023-08-03T15:44:05.374410Z"
    }
   },
   "id": "b17c04061cc46293"
  },
  {
   "cell_type": "markdown",
   "source": [
    "### Find similar papers given an embedding"
   ],
   "metadata": {
    "collapsed": false
   },
   "id": "58efcba7b8c172df"
  },
  {
   "cell_type": "code",
   "execution_count": 27,
   "outputs": [
    {
     "name": "stdout",
     "output_type": "stream",
     "text": [
      "Title: Aligning Architecture with Business Goals in the Automotive Domain\n",
      "doi: 10.1109/ICSA51549.2021.00020\n",
      "Query vector: [ 0.00016248 -0.00625854  0.02198316 ... -0.00174366 -0.00339407\n",
      " -0.01621425]\n",
      "\n",
      "Title: Aligning Architecture with Business Goals in the Automotive Domain\n",
      "doi: 10.1109/ICSA51549.2021.00020\n",
      "Score: 0.9999999\n",
      "\n",
      "Title: Technical Architectures for Automotive Systems\n",
      "doi: 10.1109/ICSA47634.2020.00013\n",
      "Score: 0.8932742\n",
      "\n",
      "Title: On Service-Orientation for Automotive Software\n",
      "doi: 10.1109/ICSA.2017.20\n",
      "Score: 0.8728726\n"
     ]
    }
   ],
   "source": [
    "example = df.loc[0]\n",
    "\n",
    "print(\"Title:\", example[\"title\"])\n",
    "print(\"doi:\", example[\"doi\"])\n",
    "\n",
    "query_vector = example[\"embedding\"]\n",
    "print(\"Query vector:\", query_vector)\n",
    "print()\n",
    "\n",
    "search_result = client.search(\n",
    "    collection_name=\"architecture_classes\",\n",
    "    query_vector=query_vector,\n",
    "    limit=3\n",
    ")\n",
    "\n",
    "for result in search_result:\n",
    "    print(\"Title:\", df.loc[result.id][\"title\"])\n",
    "    print(\"doi:\", df.loc[result.id][\"doi\"])\n",
    "    print(\"Score:\", result.score)\n",
    "    print()"
   ],
   "metadata": {
    "collapsed": false,
    "ExecuteTime": {
     "end_time": "2023-08-03T15:46:16.904386Z",
     "start_time": "2023-08-03T15:46:16.893168Z"
    }
   },
   "id": "c89b2602c146f84"
  },
  {
   "cell_type": "markdown",
   "source": [
    "### Find similar papers given a text input"
   ],
   "metadata": {
    "collapsed": false
   },
   "id": "1e89d613f0c9e267"
  },
  {
   "cell_type": "code",
   "execution_count": 31,
   "outputs": [],
   "source": [
    "import openai\n",
    "\n",
    "# Provide OpenAI API key and choose one of the available models:\n",
    "# https://beta.openai.com/docs/models/overview\n",
    "openai.api_key = os.environ['OPENAI_API_KEY']\n",
    "\n",
    "response = openai.Embedding.create(\n",
    "    input=\"Microservices\",\n",
    "    model=\"text-embedding-ada-002\",\n",
    ")\n",
    "\n",
    "request_embedding = response[\"data\"][0][\"embedding\"]"
   ],
   "metadata": {
    "collapsed": false,
    "ExecuteTime": {
     "end_time": "2023-08-03T15:52:36.401081Z",
     "start_time": "2023-08-03T15:52:36.059167Z"
    }
   },
   "id": "11f0f338ad1cda5a"
  },
  {
   "cell_type": "code",
   "execution_count": 32,
   "outputs": [
    {
     "name": "stdout",
     "output_type": "stream",
     "text": [
      "Title: From a Monolith to a Microservices Architecture: An Approach Based on Transactional Contexts\n",
      "doi: 10.1007/978-3-030-29983-5\\_3\n",
      "Score: 0.8552163\n",
      "\n",
      "Title: From Monolithic Architecture Style to Microservice one Based on a Semi-Automatic Approach\n",
      "doi: 10.1109/ICSA47634.2020.00023\n",
      "Score: 0.85248506\n",
      "\n",
      "Title: Migrating Towards Microservice Architectures: An Industrial Survey\n",
      "doi: 10.1109/ICSA.2018.00012\n",
      "Score: 0.8496934\n"
     ]
    }
   ],
   "source": [
    "search_result = client.search(\n",
    "    collection_name=\"architecture_classes\",\n",
    "    query_vector=request_embedding,\n",
    "    limit=3\n",
    ")\n",
    "\n",
    "for result in search_result:\n",
    "    print(\"Title:\", df.loc[result.id][\"title\"])\n",
    "    print(\"doi:\", df.loc[result.id][\"doi\"])\n",
    "    print(\"Score:\", result.score)\n",
    "    print()"
   ],
   "metadata": {
    "collapsed": false,
    "ExecuteTime": {
     "end_time": "2023-08-03T15:52:37.531567Z",
     "start_time": "2023-08-03T15:52:37.521052Z"
    }
   },
   "id": "b31cb937347bbe6c"
  }
 ],
 "metadata": {
  "kernelspec": {
   "display_name": "Python 3",
   "language": "python",
   "name": "python3"
  },
  "language_info": {
   "codemirror_mode": {
    "name": "ipython",
    "version": 2
   },
   "file_extension": ".py",
   "mimetype": "text/x-python",
   "name": "python",
   "nbconvert_exporter": "python",
   "pygments_lexer": "ipython2",
   "version": "2.7.6"
  }
 },
 "nbformat": 4,
 "nbformat_minor": 5
}
