{
 "cells": [
  {
   "cell_type": "markdown",
   "source": [
    "# Clustering Software Architecture Papers\n",
    "\n",
    "This notebook uses the Software Architecture dataset to cluster papers using their titles and abstracts. The clustering is done using [hierarchical clustering](https://en.wikipedia.org/wiki/Hierarchical_clustering) and the [TF-IDF](https://en.wikipedia.org/wiki/Tf%E2%80%93idf) algorithm is used to extract the most important words from each cluster."
   ],
   "metadata": {
    "collapsed": false
   },
   "id": "5ed48070910a602a"
  },
  {
   "cell_type": "code",
   "execution_count": 35,
   "outputs": [],
   "source": [
    "import os\n",
    "\n",
    "base_dir = os.path.join('..', '..')\n",
    "data_dir = os.path.join(base_dir, 'data')\n",
    "\n",
    "input_file = os.path.join(data_dir, 'software_architecture', 'bib-text_embeddings.csv')\n",
    "\n",
    "reports_dir = os.path.join(base_dir, 'reports', 'unsupervised-classification')\n",
    "os.makedirs(reports_dir, exist_ok=True)\n",
    "\n",
    "cluster_output = os.path.join(reports_dir, 'software_architecture_classify.csv')\n",
    "cluster_names_file = os.path.join(reports_dir, 'software_architecture_classify.txt')"
   ],
   "metadata": {
    "collapsed": false,
    "ExecuteTime": {
     "end_time": "2023-09-18T15:21:54.312668Z",
     "start_time": "2023-09-18T15:21:54.298438Z"
    }
   },
   "id": "c57bcc2d1efc4011"
  },
  {
   "cell_type": "code",
   "execution_count": 36,
   "outputs": [
    {
     "data": {
      "text/plain": "                                              author  \\\n0  Alessio Bucaioni and Patrizio Pelliccione and ...   \n1  H{\\'{e}}ctor Cadavid and Vasilios Andrikopoulo...   \n2  Joshua Garcia and Mehdi Mirakhorli and Lu Xiao...   \n3              Holger Knoche and Wilhelm Hasselbring   \n4  Duc Minh Le and Suhrid Karthik and Marcelo Sch...   \n\n                                               title  \\\n0  Aligning Architecture with Business Goals in t...   \n1  System- and Software-level Architecting Harmon...   \n2  Constructing a Shared Infrastructure for Softw...   \n3  Continuous {API} Evolution in Heterogenous Ent...   \n4  Architectural Decay as Predictor of Issue- and...   \n\n                                            abstract  \\\n0  When designing complex automotive systems in p...   \n1  The problems caused by the gap between system-...   \n2  Over the past three decades software engineeri...   \n3  The ability to independently deploy parts of a...   \n4  Architectural decay imposes real costs in term...   \n\n                            doi  \\\n0  10.1109/ICSA51549.2021.00020   \n1  10.1109/ICSA51549.2021.00010   \n2  10.1109/ICSA51549.2021.00022   \n3  10.1109/ICSA51549.2021.00014   \n4  10.1109/ICSA51549.2021.00017   \n\n                                             classes  \\\n0  Meta Data{Research Level{Primary Research}, Ki...   \n1  Meta Data{Kind{full}, Paper class{Evaluation R...   \n2  Meta Data{Paper class{Evaluation Research}, Re...   \n3  Meta Data{Research Level{Primary Research}, Ki...   \n4  Meta Data{Paper class{Evaluation Research}, Re...   \n\n                                            url  \\\n0  https://doi.org/10.1109/ICSA51549.2021.00020   \n1  https://doi.org/10.1109/ICSA51549.2021.00010   \n2  https://doi.org/10.1109/ICSA51549.2021.00022   \n3  https://doi.org/10.1109/ICSA51549.2021.00014   \n4  https://doi.org/10.1109/ICSA51549.2021.00017   \n\n                                           embedding  \\\n0  [0.00024948068312369287, -0.00626408914104104,...   \n1  [0.01373602356761694, -0.007272415794432163, 0...   \n2  [0.0021983531769365072, -0.0010011119302362204...   \n3  [0.0058586616069078445, -0.031336553394794464,...   \n4  [0.01517355814576149, -0.02274669148027897, 0....   \n\n                                                text  \n0  Aligning Architecture with Business Goals in t...  \n1  System- and Software-level Architecting Harmon...  \n2  Constructing a Shared Infrastructure for Softw...  \n3  Continuous {API} Evolution in Heterogenous Ent...  \n4  Architectural Decay as Predictor of Issue- and...  ",
      "text/html": "<div>\n<style scoped>\n    .dataframe tbody tr th:only-of-type {\n        vertical-align: middle;\n    }\n\n    .dataframe tbody tr th {\n        vertical-align: top;\n    }\n\n    .dataframe thead th {\n        text-align: right;\n    }\n</style>\n<table border=\"1\" class=\"dataframe\">\n  <thead>\n    <tr style=\"text-align: right;\">\n      <th></th>\n      <th>author</th>\n      <th>title</th>\n      <th>abstract</th>\n      <th>doi</th>\n      <th>classes</th>\n      <th>url</th>\n      <th>embedding</th>\n      <th>text</th>\n    </tr>\n  </thead>\n  <tbody>\n    <tr>\n      <th>0</th>\n      <td>Alessio Bucaioni and Patrizio Pelliccione and ...</td>\n      <td>Aligning Architecture with Business Goals in t...</td>\n      <td>When designing complex automotive systems in p...</td>\n      <td>10.1109/ICSA51549.2021.00020</td>\n      <td>Meta Data{Research Level{Primary Research}, Ki...</td>\n      <td>https://doi.org/10.1109/ICSA51549.2021.00020</td>\n      <td>[0.00024948068312369287, -0.00626408914104104,...</td>\n      <td>Aligning Architecture with Business Goals in t...</td>\n    </tr>\n    <tr>\n      <th>1</th>\n      <td>H{\\'{e}}ctor Cadavid and Vasilios Andrikopoulo...</td>\n      <td>System- and Software-level Architecting Harmon...</td>\n      <td>The problems caused by the gap between system-...</td>\n      <td>10.1109/ICSA51549.2021.00010</td>\n      <td>Meta Data{Kind{full}, Paper class{Evaluation R...</td>\n      <td>https://doi.org/10.1109/ICSA51549.2021.00010</td>\n      <td>[0.01373602356761694, -0.007272415794432163, 0...</td>\n      <td>System- and Software-level Architecting Harmon...</td>\n    </tr>\n    <tr>\n      <th>2</th>\n      <td>Joshua Garcia and Mehdi Mirakhorli and Lu Xiao...</td>\n      <td>Constructing a Shared Infrastructure for Softw...</td>\n      <td>Over the past three decades software engineeri...</td>\n      <td>10.1109/ICSA51549.2021.00022</td>\n      <td>Meta Data{Paper class{Evaluation Research}, Re...</td>\n      <td>https://doi.org/10.1109/ICSA51549.2021.00022</td>\n      <td>[0.0021983531769365072, -0.0010011119302362204...</td>\n      <td>Constructing a Shared Infrastructure for Softw...</td>\n    </tr>\n    <tr>\n      <th>3</th>\n      <td>Holger Knoche and Wilhelm Hasselbring</td>\n      <td>Continuous {API} Evolution in Heterogenous Ent...</td>\n      <td>The ability to independently deploy parts of a...</td>\n      <td>10.1109/ICSA51549.2021.00014</td>\n      <td>Meta Data{Research Level{Primary Research}, Ki...</td>\n      <td>https://doi.org/10.1109/ICSA51549.2021.00014</td>\n      <td>[0.0058586616069078445, -0.031336553394794464,...</td>\n      <td>Continuous {API} Evolution in Heterogenous Ent...</td>\n    </tr>\n    <tr>\n      <th>4</th>\n      <td>Duc Minh Le and Suhrid Karthik and Marcelo Sch...</td>\n      <td>Architectural Decay as Predictor of Issue- and...</td>\n      <td>Architectural decay imposes real costs in term...</td>\n      <td>10.1109/ICSA51549.2021.00017</td>\n      <td>Meta Data{Paper class{Evaluation Research}, Re...</td>\n      <td>https://doi.org/10.1109/ICSA51549.2021.00017</td>\n      <td>[0.01517355814576149, -0.02274669148027897, 0....</td>\n      <td>Architectural Decay as Predictor of Issue- and...</td>\n    </tr>\n  </tbody>\n</table>\n</div>"
     },
     "execution_count": 36,
     "metadata": {},
     "output_type": "execute_result"
    }
   ],
   "source": [
    "import pandas as pd\n",
    "import numpy as np\n",
    "\n",
    "df = pd.read_csv(input_file)\n",
    "df[\"text\"] = df[\"title\"] + \" \" + df[\"abstract\"]\n",
    "df[\"embedding\"] = df.embedding.apply(eval).apply(np.array)  # convert string to array\n",
    "\n",
    "df.head()"
   ],
   "metadata": {
    "collapsed": false,
    "ExecuteTime": {
     "end_time": "2023-09-18T15:21:54.726208Z",
     "start_time": "2023-09-18T15:21:54.304172Z"
    }
   },
   "id": "fa4230ad8921c5ab"
  },
  {
   "cell_type": "code",
   "execution_count": 37,
   "outputs": [],
   "source": [
    "# Use hierarchical clustering to cluster the papers\n",
    "from sklearn.cluster import AgglomerativeClustering\n",
    "\n",
    "hierarchical_cluster = AgglomerativeClustering(\n",
    "    n_clusters=6,\n",
    "    metric='cosine',\n",
    "    linkage='complete',  # Provides the best dispersion\n",
    ")\n",
    "\n",
    "predictions = hierarchical_cluster.fit_predict(df.embedding.tolist())"
   ],
   "metadata": {
    "collapsed": false,
    "ExecuteTime": {
     "end_time": "2023-09-18T15:21:54.756075Z",
     "start_time": "2023-09-18T15:21:54.727340Z"
    }
   },
   "id": "622ca707f6d14b9b"
  },
  {
   "cell_type": "code",
   "execution_count": 38,
   "outputs": [],
   "source": [
    "df[\"cluster\"] = predictions\n",
    "df.to_csv(cluster_output, index=False)"
   ],
   "metadata": {
    "collapsed": false,
    "ExecuteTime": {
     "end_time": "2023-09-18T15:21:54.779070Z",
     "start_time": "2023-09-18T15:21:54.747301Z"
    }
   },
   "id": "b271936dec3f24aa"
  },
  {
   "cell_type": "code",
   "execution_count": 39,
   "outputs": [
    {
     "name": "stdout",
     "output_type": "stream",
     "text": [
      "Number of papers in each cluster:\n",
      "Counter({0: 82, 1: 30, 3: 26, 2: 10, 5: 3, 4: 2})\n"
     ]
    },
    {
     "data": {
      "text/plain": "<Figure size 640x480 with 1 Axes>",
      "image/png": "[encoded data removed]"
     },
     "metadata": {},
     "output_type": "display_data"
    }
   ],
   "source": [
    "from collections import Counter\n",
    "\n",
    "# Print the number of papers in each cluster\n",
    "print(\"Number of papers in each cluster:\")\n",
    "print(Counter(predictions))\n",
    "\n",
    "# Plot the number of papers in each cluster\n",
    "import matplotlib.pyplot as plt\n",
    "\n",
    "plt.bar(Counter(predictions).keys(), Counter(predictions).values())\n",
    "plt.xlabel(\"Cluster\")\n",
    "plt.ylabel(\"Number of papers\")\n",
    "plt.show()"
   ],
   "metadata": {
    "collapsed": false,
    "ExecuteTime": {
     "end_time": "2023-09-18T15:21:54.847665Z",
     "start_time": "2023-09-18T15:21:54.766155Z"
    }
   },
   "id": "b2a76c5defa49dd4"
  },
  {
   "cell_type": "code",
   "execution_count": 40,
   "outputs": [
    {
     "data": {
      "text/plain": "                                                 title  cluster\n0    Aligning Architecture with Business Goals in t...        3\n1    System- and Software-level Architecting Harmon...        0\n2    Constructing a Shared Infrastructure for Softw...        0\n3    Continuous {API} Evolution in Heterogenous Ent...        0\n4    Architectural Decay as Predictor of Issue- and...        0\n..                                                 ...      ...\n148  Trace {Link} {Recovery} for {Software} {Archit...        0\n149  Updating {Service}-{Based} {Software} {Systems...        0\n150  Data-Centric Communication and Containerizatio...        3\n151  Towards a Reference Architecture for Cloud-Bas...        0\n152  Formally Describing Self-organizing Architectu...        3\n\n[153 rows x 2 columns]",
      "text/html": "<div>\n<style scoped>\n    .dataframe tbody tr th:only-of-type {\n        vertical-align: middle;\n    }\n\n    .dataframe tbody tr th {\n        vertical-align: top;\n    }\n\n    .dataframe thead th {\n        text-align: right;\n    }\n</style>\n<table border=\"1\" class=\"dataframe\">\n  <thead>\n    <tr style=\"text-align: right;\">\n      <th></th>\n      <th>title</th>\n      <th>cluster</th>\n    </tr>\n  </thead>\n  <tbody>\n    <tr>\n      <th>0</th>\n      <td>Aligning Architecture with Business Goals in t...</td>\n      <td>3</td>\n    </tr>\n    <tr>\n      <th>1</th>\n      <td>System- and Software-level Architecting Harmon...</td>\n      <td>0</td>\n    </tr>\n    <tr>\n      <th>2</th>\n      <td>Constructing a Shared Infrastructure for Softw...</td>\n      <td>0</td>\n    </tr>\n    <tr>\n      <th>3</th>\n      <td>Continuous {API} Evolution in Heterogenous Ent...</td>\n      <td>0</td>\n    </tr>\n    <tr>\n      <th>4</th>\n      <td>Architectural Decay as Predictor of Issue- and...</td>\n      <td>0</td>\n    </tr>\n    <tr>\n      <th>...</th>\n      <td>...</td>\n      <td>...</td>\n    </tr>\n    <tr>\n      <th>148</th>\n      <td>Trace {Link} {Recovery} for {Software} {Archit...</td>\n      <td>0</td>\n    </tr>\n    <tr>\n      <th>149</th>\n      <td>Updating {Service}-{Based} {Software} {Systems...</td>\n      <td>0</td>\n    </tr>\n    <tr>\n      <th>150</th>\n      <td>Data-Centric Communication and Containerizatio...</td>\n      <td>3</td>\n    </tr>\n    <tr>\n      <th>151</th>\n      <td>Towards a Reference Architecture for Cloud-Bas...</td>\n      <td>0</td>\n    </tr>\n    <tr>\n      <th>152</th>\n      <td>Formally Describing Self-organizing Architectu...</td>\n      <td>3</td>\n    </tr>\n  </tbody>\n</table>\n<p>153 rows × 2 columns</p>\n</div>"
     },
     "execution_count": 40,
     "metadata": {},
     "output_type": "execute_result"
    }
   ],
   "source": [
    "# Add the cluster predictions to the dataframe\n",
    "df[[\"title\", \"cluster\"]]"
   ],
   "metadata": {
    "collapsed": false,
    "ExecuteTime": {
     "end_time": "2023-09-18T15:21:54.855359Z",
     "start_time": "2023-09-18T15:21:54.848844Z"
    }
   },
   "id": "81c2a1e86d6a0357"
  },
  {
   "cell_type": "code",
   "execution_count": 41,
   "outputs": [],
   "source": [
    "# Group by prediction and join the text\n",
    "cluster_group = df.groupby('cluster')['text'].apply(' '.join).reset_index()"
   ],
   "metadata": {
    "collapsed": false,
    "ExecuteTime": {
     "end_time": "2023-09-18T15:21:54.862482Z",
     "start_time": "2023-09-18T15:21:54.857027Z"
    }
   },
   "id": "cc7f61b09976c6d9"
  },
  {
   "cell_type": "code",
   "execution_count": 42,
   "outputs": [
    {
     "name": "stderr",
     "output_type": "stream",
     "text": [
      "[nltk_data] Downloading package punkt to /Users/patrick/nltk_data...\n",
      "[nltk_data]   Package punkt is already up-to-date!\n"
     ]
    },
    {
     "data": {
      "text/plain": "True"
     },
     "execution_count": 42,
     "metadata": {},
     "output_type": "execute_result"
    }
   ],
   "source": [
    "import nltk\n",
    "\n",
    "nltk.download('punkt')"
   ],
   "metadata": {
    "collapsed": false,
    "ExecuteTime": {
     "end_time": "2023-09-18T15:21:54.882502Z",
     "start_time": "2023-09-18T15:21:54.864414Z"
    }
   },
   "id": "99058e15b2821d3a"
  },
  {
   "cell_type": "code",
   "execution_count": 43,
   "outputs": [
    {
     "name": "stderr",
     "output_type": "stream",
     "text": [
      "[nltk_data] Downloading package stopwords to\n",
      "[nltk_data]     /Users/patrick/nltk_data...\n",
      "[nltk_data]   Package stopwords is already up-to-date!\n"
     ]
    }
   ],
   "source": [
    "import string\n",
    "from nltk.corpus import stopwords\n",
    "from nltk.stem import PorterStemmer\n",
    "\n",
    "# Create a stemmer instance\n",
    "stemmer = PorterStemmer()\n",
    "\n",
    "nltk.download('stopwords')\n",
    "stop_words = stopwords.words('english')\n",
    "stop_words.extend(['thi', 'the', 'use'])\n",
    "stop_words.sort()\n",
    "\n",
    "# Tokenize the text\n",
    "cluster_group['text'] = cluster_group['text'].apply(nltk.word_tokenize)\n",
    "\n",
    "# Convert the text to lowercase\n",
    "cluster_group['text'] = cluster_group['text'].apply(lambda x: [item.lower() for item in x])\n",
    "\n",
    "# Remove punctuation from the text\n",
    "cluster_group['text'] = cluster_group['text'].apply(lambda x: [item for item in x if item not in string.punctuation])\n",
    "\n",
    "# Remove numbers from the text\n",
    "cluster_group['text'] = cluster_group['text'].apply(lambda x: [item for item in x if item.isalpha()])\n",
    "\n",
    "# Remove words less than 2 characters\n",
    "cluster_group['text'] = cluster_group['text'].apply(lambda x: [item for item in x if len(item) > 2])\n",
    "\n",
    "# Stem the words\n",
    "# cluster_group['text'] = cluster_group['text'].apply(lambda x: [stemmer.stem(item) for item in x])\n",
    "\n",
    "# Remove all stop words\n",
    "cluster_group['text'] = cluster_group['text'].apply(lambda x: [item for item in x if item not in stop_words])\n",
    "\n",
    "# Join the words back into a string\n",
    "cluster_group['text'] = cluster_group['text'].apply(lambda x: ' '.join(x))"
   ],
   "metadata": {
    "collapsed": false,
    "ExecuteTime": {
     "end_time": "2023-09-18T15:21:55.012209Z",
     "start_time": "2023-09-18T15:21:54.870924Z"
    }
   },
   "id": "a10d580aaed6276a"
  },
  {
   "cell_type": "code",
   "execution_count": 44,
   "outputs": [
    {
     "name": "stdout",
     "output_type": "stream",
     "text": [
      "Cluster 00: software, architectural, architecture, design, approach, systems\n",
      "Cluster 01: microservice, microservices, software, architecture, systems, approach\n",
      "Cluster 02: blockchain, design, digital, brokers, graphql, architecture\n",
      "Cluster 03: systems, iot, approach, learning, architecture, automotive\n",
      "Cluster 04: handling, exception, checkpoint, erosion, hadoop, design\n",
      "Cluster 05: clustering, weights, optimized, architecture, microservice, systems\n"
     ]
    }
   ],
   "source": [
    "from sklearn.feature_extraction.text import TfidfVectorizer\n",
    "\n",
    "# Create an instance of TfidfVectorizer\n",
    "vectorizer = TfidfVectorizer()\n",
    "\n",
    "# Fit and transform the documents\n",
    "tfidf_matrix = vectorizer.fit_transform(cluster_group['text'])\n",
    "\n",
    "# Get the feature names (terms)\n",
    "feature_names = vectorizer.get_feature_names_out()\n",
    "\n",
    "cluster_words = []\n",
    "\n",
    "# Display the most significant word for each document\n",
    "# Print 6 most important words for each document\n",
    "for inx in range(len(cluster_group['text'])):\n",
    "    words = tfidf_matrix[inx].nonzero()[1][tfidf_matrix[inx].data.argsort()[-6:][::-1]]\n",
    "    # words.sort()\n",
    "\n",
    "    cluster = f\"Cluster {inx:02d}: {', '.join(feature_names[words])}\"\n",
    "    print(cluster)\n",
    "    cluster_words.append(cluster)"
   ],
   "metadata": {
    "collapsed": false,
    "ExecuteTime": {
     "end_time": "2023-09-18T15:21:55.028852Z",
     "start_time": "2023-09-18T15:21:55.020679Z"
    }
   },
   "id": "4d8b2a446bbccc8b"
  },
  {
   "cell_type": "code",
   "execution_count": 45,
   "outputs": [
    {
     "name": "stdout",
     "output_type": "stream",
     "text": [
      "Cluster 00: Software Architecture and Design\n",
      "Cluster 01: Microservices Architecture\n",
      "Cluster 02: Blockchain and Digital Design\n",
      "Cluster 03: IoT and Automotive Architecture\n",
      "Cluster 04: Exception Handling and Hadoop Design\n",
      "Cluster 05: Clustering and Optimization in Architecture\n"
     ]
    }
   ],
   "source": [
    "import openai\n",
    "\n",
    "response = openai.ChatCompletion.create(\n",
    "    model=\"gpt-3.5-turbo\",\n",
    "    temperature=0.0,\n",
    "    messages=[\n",
    "        {\n",
    "            \"role\": \"user\",\n",
    "            \"content\": \"Name these clusters:\\n\" + \"\\n\".join(cluster_words)\n",
    "        }\n",
    "    ]\n",
    ")\n",
    "print(response.choices[0].message.content)\n",
    "\n",
    "with open(cluster_names_file, 'w') as file:\n",
    "    file.write(\"\\n\".join(cluster_words))\n",
    "    file.write(\"\\n\\n\")\n",
    "    file.write(response.choices[0].message.content)"
   ],
   "metadata": {
    "collapsed": false,
    "ExecuteTime": {
     "end_time": "2023-09-18T15:21:58.079740Z",
     "start_time": "2023-09-18T15:21:55.029463Z"
    }
   },
   "id": "24ec941f5436efdb"
  }
 ],
 "metadata": {
  "kernelspec": {
   "display_name": "Python 3",
   "language": "python",
   "name": "python3"
  },
  "language_info": {
   "codemirror_mode": {
    "name": "ipython",
    "version": 2
   },
   "file_extension": ".py",
   "mimetype": "text/x-python",
   "name": "python",
   "nbconvert_exporter": "python",
   "pygments_lexer": "ipython2",
   "version": "2.7.6"
  }
 },
 "nbformat": 4,
 "nbformat_minor": 5
}
