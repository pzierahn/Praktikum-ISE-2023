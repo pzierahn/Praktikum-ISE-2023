{
 "cells": [
  {
   "cell_type": "markdown",
   "source": [
    "# ECSA Classification with OpenAI embeddings\n",
    "\n",
    "This notebook uses OpenAI's text embeddings to classify ECSA papers into custom predefined categories"
   ],
   "metadata": {
    "collapsed": false
   },
   "id": "37f367244adbbbc7"
  },
  {
   "cell_type": "code",
   "execution_count": null,
   "outputs": [],
   "source": [
    "import os\n",
    "\n",
    "base_dir = os.path.join('.')\n",
    "data_dir = os.path.join(base_dir, 'data')\n",
    "\n",
    "ecsa_input = os.path.join(data_dir, 'ecsa', 'ecsa_embeddings.csv')\n",
    "\n",
    "reports_dir = os.path.join(base_dir, 'reports', 'unsupervised-classification')\n",
    "os.makedirs(reports_dir, exist_ok=True)\n",
    "\n",
    "cluster_output = os.path.join(reports_dir, 'ecsa_custom_classes.csv')"
   ],
   "metadata": {
    "collapsed": false
   },
   "id": "1d5b85ca5d969444"
  },
  {
   "cell_type": "code",
   "execution_count": null,
   "outputs": [],
   "source": [
    "import pandas as pd\n",
    "import numpy as np\n",
    "\n",
    "df = pd.read_csv(ecsa_input)\n",
    "df[\"text\"] = df[\"title\"] + \" \" + df[\"abstract\"]\n",
    "df[\"embedding\"] = df.embedding.apply(eval).apply(np.array)  # convert string to array\n",
    "\n",
    "df.head()"
   ],
   "metadata": {
    "collapsed": false
   },
   "id": "ccc39070797831bb"
  },
  {
   "cell_type": "markdown",
   "source": [
    "## Custom classes\n",
    "\n",
    "We define the following classes that we want to classify the papers into:"
   ],
   "metadata": {
    "collapsed": false
   },
   "id": "d532ab00a187416b"
  },
  {
   "cell_type": "code",
   "execution_count": null,
   "outputs": [],
   "source": [
    "classes = [\n",
    "    \"Deep Learning\",\n",
    "    \"Reinforcement Learning\",\n",
    "    \"Computer Vision\",\n",
    "    \"Natural Language Processing\",\n",
    "    \"Machine Learning\",\n",
    "    \"Statistics\",\n",
    "]"
   ],
   "metadata": {
    "collapsed": false
   },
   "id": "ab0ef91803ec98d3"
  },
  {
   "cell_type": "markdown",
   "source": [
    "## Classify papers\n",
    "\n",
    "For each paper, we find the closest class embedding and assign the paper to that class."
   ],
   "metadata": {
    "collapsed": false
   },
   "id": "447839fb66241057"
  },
  {
   "cell_type": "code",
   "execution_count": null,
   "outputs": [],
   "source": [
    "import openai\n",
    "from tqdm import tqdm\n",
    "\n",
    "class_embeddings = []\n",
    "\n",
    "for category in tqdm(classes):\n",
    "    response = openai.Embedding.create(\n",
    "        input=category,\n",
    "        model=\"text-embedding-ada-002\",\n",
    "    )\n",
    "\n",
    "    embedding = response[\"data\"][0][\"embedding\"]\n",
    "    class_embeddings.append(embedding)"
   ],
   "metadata": {
    "collapsed": false
   },
   "id": "337fd760716c1b8d"
  },
  {
   "cell_type": "code",
   "execution_count": null,
   "outputs": [],
   "source": [
    "# For each document, find the closest class embedding\n",
    "from scipy.spatial.distance import cdist\n",
    "\n",
    "distances = cdist(df.embedding.tolist(), class_embeddings, metric=\"cosine\")\n",
    "df[\"class\"] = np.argmin(distances, axis=1)\n",
    "df[\"class\"] = df[\"class\"].apply(lambda x: classes[x])"
   ],
   "metadata": {
    "collapsed": false
   },
   "id": "2672dddfad7ccce3"
  },
  {
   "cell_type": "code",
   "execution_count": null,
   "outputs": [],
   "source": [
    "results = df[[\"doi\", \"title\", \"abstract\", \"class\"]]\n",
    "results.to_csv(cluster_output, index=False)"
   ],
   "metadata": {
    "collapsed": false
   },
   "id": "95868e025cf45816"
  },
  {
   "cell_type": "code",
   "execution_count": null,
   "outputs": [],
   "source": [
    "results"
   ],
   "metadata": {
    "collapsed": false
   },
   "id": "3eba730cb10aa9f7"
  },
  {
   "cell_type": "code",
   "execution_count": null,
   "outputs": [],
   "source": [
    "# Plot the distribution of papers per class\n",
    "import matplotlib.pyplot as plt\n",
    "\n",
    "results[\"class\"].value_counts().plot.bar()\n",
    "plt.show()"
   ],
   "metadata": {
    "collapsed": false
   },
   "id": "e1f7807c884520bc"
  }
 ],
 "metadata": {
  "kernelspec": {
   "display_name": "Python 3",
   "language": "python",
   "name": "python3"
  },
  "language_info": {
   "codemirror_mode": {
    "name": "ipython",
    "version": 2
   },
   "file_extension": ".py",
   "mimetype": "text/x-python",
   "name": "python",
   "nbconvert_exporter": "python",
   "pygments_lexer": "ipython2",
   "version": "2.7.6"
  }
 },
 "nbformat": 4,
 "nbformat_minor": 5
}
