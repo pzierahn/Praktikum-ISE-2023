{
 "cells": [
  {
   "cell_type": "markdown",
   "source": [
    "# Llama 2 Fine-Tuning Evaluation\n",
    "\n",
    "**This notebook is incomplete**"
   ],
   "metadata": {
    "collapsed": false
   },
   "id": "192d665fb8f5aa79"
  },
  {
   "cell_type": "code",
   "execution_count": null,
   "outputs": [],
   "source": [
    "import os\n",
    "import pandas as pd\n",
    "\n",
    "base_dir = os.path.join('./praktikum-ise-2023-patrick-zierahn')\n",
    "data_dir = os.path.join(base_dir, 'data')\n",
    "\n",
    "reports_dir = os.path.join(base_dir, 'reports', 'llama2_fine_tune')\n",
    "os.makedirs(reports_dir, exist_ok=True)\n",
    "\n",
    "llama_data_dir = os.path.join(data_dir, 'llama2_fine_tune')\n",
    "\n",
    "taxonomy_file = os.path.join(data_dir, 'software_architecture', 'taxonomy_explanation.json')"
   ],
   "metadata": {
    "collapsed": false
   },
   "id": "3885026e6d2fcdf2"
  },
  {
   "cell_type": "code",
   "execution_count": null,
   "outputs": [],
   "source": [
    "from src.utils.utils_json import read_json\n",
    "\n",
    "taxonomy_explanation = read_json(taxonomy_file)\n",
    "\n",
    "research_objects_all = \"\"\n",
    "for obj in taxonomy_explanation[\"Research Object\"].keys():\n",
    "    research_objects_all += obj + \"\\n\""
   ],
   "metadata": {
    "collapsed": false
   },
   "id": "e4365886b1f8a6a6"
  },
  {
   "cell_type": "code",
   "execution_count": null,
   "outputs": [],
   "source": [
    "df_train = pd.read_csv(os.path.join(llama_data_dir, 'zealous_chaum_train.csv'))\n",
    "df_eval = pd.read_csv(os.path.join(llama_data_dir, 'zealous_chaum_test.csv'))"
   ],
   "metadata": {
    "collapsed": false
   },
   "id": "ff8ce4b9ee52e26a"
  },
  {
   "cell_type": "code",
   "execution_count": null,
   "outputs": [],
   "source": [
    "df_eval.head()"
   ],
   "metadata": {
    "collapsed": false
   },
   "id": "10840da6b61b7e46"
  },
  {
   "cell_type": "code",
   "execution_count": null,
   "outputs": [],
   "source": [
    "from typing import List\n",
    "from src.taxonomy.utils import parse_taxonomy\n",
    "\n",
    "\n",
    "def get_research_objects(meta: str) -> List[str]:\n",
    "    tree = parse_taxonomy(meta)\n",
    "    research_obj = tree.children(\"Research Object\")\n",
    "\n",
    "    objs = []\n",
    "    for obj in research_obj:\n",
    "        objs.append(obj.tag)\n",
    "\n",
    "    return objs"
   ],
   "metadata": {
    "collapsed": false
   },
   "id": "7e3bfc2b12979c89"
  },
  {
   "cell_type": "code",
   "execution_count": null,
   "outputs": [],
   "source": [
    "prompt = df_train['title'].iloc[0] + '\\n' + df_train['abstract'].iloc[0]"
   ],
   "metadata": {
    "collapsed": false
   },
   "id": "a995c2c846c4caca"
  },
  {
   "cell_type": "code",
   "execution_count": null,
   "outputs": [],
   "source": [
    "print(f\"Prompt: {prompt}\")\n",
    "print(f\"Research Object: {get_research_objects(df_train['classes'].iloc[0])}\")"
   ],
   "metadata": {
    "collapsed": false
   },
   "id": "c2872d42783bcdac"
  },
  {
   "cell_type": "code",
   "execution_count": null,
   "id": "initial_id",
   "metadata": {
    "collapsed": true
   },
   "outputs": [],
   "source": [
    "import transformers\n",
    "import torch\n",
    "\n",
    "# model = \"meta-llama/Llama-2-7b-hf\"\n",
    "# model = \"./models/llama-2-7b-zealous_chaum/\"\n",
    "# model = \"./models/llama-2-7b-clever_meitner/\"\n",
    "model = \"./models/llama-2-7b-optimistic_knuth/\"\n",
    "\n",
    "tokenizer = transformers.AutoTokenizer.from_pretrained(model)\n",
    "pipeline = transformers.pipeline(\n",
    "    \"text-generation\",\n",
    "    model=model,\n",
    "    torch_dtype=torch.float32,\n",
    "    device_map=\"auto\",\n",
    ")\n",
    "\n",
    "sequences = pipeline(\n",
    "    f\"Categories the paper into the following research objects:\\n{research_objects_all}\\n\\n\"\n",
    "    f\"### Paper: Title:{df_train['title'].iloc[0]}\\nAbstract: {df_train['abstract'].iloc[0]}\\n\"\n",
    "    f\"### Response:\",\n",
    "    # prompt,\n",
    "    do_sample=True,\n",
    "    top_k=10,\n",
    "    num_return_sequences=1,\n",
    "    eos_token_id=tokenizer.eos_token_id,\n",
    "    max_length=4098,\n",
    ")\n",
    "for seq in sequences:\n",
    "    print(f\"Result: {seq['generated_text']}\")"
   ]
  }
 ],
 "metadata": {
  "kernelspec": {
   "display_name": "Python 3",
   "language": "python",
   "name": "python3"
  },
  "language_info": {
   "codemirror_mode": {
    "name": "ipython",
    "version": 2
   },
   "file_extension": ".py",
   "mimetype": "text/x-python",
   "name": "python",
   "nbconvert_exporter": "python",
   "pygments_lexer": "ipython2",
   "version": "2.7.6"
  }
 },
 "nbformat": 4,
 "nbformat_minor": 5
}
