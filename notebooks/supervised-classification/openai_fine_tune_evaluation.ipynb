{
 "cells": [
  {
   "cell_type": "markdown",
   "source": [
    "## Evaluation of OpenAI's fine-tuned models\n",
    "\n",
    "This notebook evaluates the fine-tuned models from OpenAI."
   ],
   "metadata": {
    "collapsed": false
   }
  },
  {
   "cell_type": "code",
   "execution_count": 29,
   "outputs": [],
   "source": [
    "import os\n",
    "import pandas as pd\n",
    "\n",
    "data_dir = os.path.join('..', '..', 'data')\n",
    "\n",
    "input_dir = os.path.join(data_dir, 'openai_fine_tune')\n",
    "\n",
    "model_name = 'awesome_elion'\n",
    "training_file = os.path.join(input_dir, f'{model_name}_train.jsonl')\n",
    "validation_file = os.path.join(input_dir, f'{model_name}_test.jsonl')\n",
    "\n",
    "evaluation_dir = os.path.join('..', '..', 'reports', 'openai_fine_tune')\n",
    "os.makedirs(evaluation_dir, exist_ok=True)\n",
    "\n",
    "predictions_file = os.path.join(evaluation_dir, f'{model_name}_predictions.csv')\n",
    "evaluation_file = os.path.join(evaluation_dir, f'{model_name}_evaluation.csv')"
   ],
   "metadata": {
    "collapsed": false,
    "ExecuteTime": {
     "end_time": "2023-09-16T09:03:45.148568Z",
     "start_time": "2023-09-16T09:03:45.137078Z"
    }
   }
  },
  {
   "cell_type": "code",
   "execution_count": null,
   "outputs": [],
   "source": [
    "# Trained fine-tuned models to evaluate\n",
    "models = [\n",
    "    'ada:ft-personal:awesome-elion-2023-07-25-09-57-12',\n",
    "    'babbage:ft-personal:awesome-elion-2023-07-25-18-34-52',\n",
    "    'curie:ft-personal:awesome-elion-2023-07-25-10-01-39',\n",
    "    'davinci:ft-personal:awesome-elion-2023-07-25-18-52-58',\n",
    "]\n",
    "\n",
    "# Temperature values to evaluate\n",
    "temperatures = [0.0, 0.25, 0.5, 0.75, 1.0]"
   ],
   "metadata": {
    "collapsed": false
   }
  },
  {
   "cell_type": "code",
   "execution_count": null,
   "outputs": [],
   "source": [
    "train = pd.read_json(training_file, lines=True)\n",
    "test = pd.read_json(validation_file, lines=True)"
   ],
   "metadata": {
    "collapsed": false
   }
  },
  {
   "cell_type": "code",
   "execution_count": null,
   "outputs": [],
   "source": [
    "import openai\n",
    "import json\n",
    "\n",
    "\n",
    "def get_completion(ft_model: str, prompt: str, temperature: float = 0.0):\n",
    "    # Check if prompt ends with \"\\n\\n###\\n\\n\"\n",
    "    if prompt[-8:] != \"\\n\\n###\\n\\n\":\n",
    "        prompt += \"\\n\\n###\\n\\n\"\n",
    "\n",
    "    response = openai.Completion.create(\n",
    "        model=ft_model,\n",
    "        prompt=prompt,\n",
    "        max_tokens=1500,\n",
    "        temperature=temperature,\n",
    "        stop=[\"\\n\"],\n",
    "    )\n",
    "\n",
    "    completion = response['choices'][0]['text']\n",
    "    if completion == \"\":\n",
    "        completion = \"[]\"\n",
    "\n",
    "    data = []\n",
    "\n",
    "    try:\n",
    "        data = json.loads(completion)\n",
    "    except json.decoder.JSONDecodeError:\n",
    "        print(f\"Error: {completion}\")\n",
    "\n",
    "    return data"
   ],
   "metadata": {
    "collapsed": false
   }
  },
  {
   "cell_type": "code",
   "execution_count": null,
   "outputs": [],
   "source": [
    "import tqdm\n",
    "\n",
    "evaluation_input = {\n",
    "    \"prompt\": [],\n",
    "    \"ground_truth\": [],\n",
    "    \"temperature\": [],\n",
    "}\n",
    "\n",
    "for model in models:\n",
    "    evaluation_input[model] = []\n",
    "\n",
    "for inx, row in tqdm.tqdm(test.iterrows(), total=len(test)):\n",
    "    test_prompt = row['prompt']\n",
    "    ground_truth = json.loads(row['completion'])\n",
    "\n",
    "    for temperature in temperatures:\n",
    "        evaluation_input['prompt'].append(test_prompt)\n",
    "        evaluation_input['ground_truth'].append(ground_truth)\n",
    "        evaluation_input['temperature'].append(temperature)\n",
    "\n",
    "        gt_set = set(ground_truth)\n",
    "\n",
    "        for model in models:\n",
    "            model_completion = get_completion(model, test_prompt, temperature)\n",
    "            completion_set = set(model_completion)\n",
    "\n",
    "            evaluation_input[model].append(model_completion)"
   ],
   "metadata": {
    "collapsed": false
   }
  },
  {
   "cell_type": "code",
   "execution_count": 31,
   "outputs": [
    {
     "data": {
      "text/plain": "                                                prompt  \\\n0    View-Centric Context Modeling to Foster the En...   \n1    View-Centric Context Modeling to Foster the En...   \n2    View-Centric Context Modeling to Foster the En...   \n3    View-Centric Context Modeling to Foster the En...   \n4    View-Centric Context Modeling to Foster the En...   \n..                                                 ...   \n150  A Taxonomy of Blockchain-Based Systems for Arc...   \n151  A Taxonomy of Blockchain-Based Systems for Arc...   \n152  A Taxonomy of Blockchain-Based Systems for Arc...   \n153  A Taxonomy of Blockchain-Based Systems for Arc...   \n154  A Taxonomy of Blockchain-Based Systems for Arc...   \n\n                       ground_truth  temperature  \\\n0           [Architectural Aspects]         0.00   \n1           [Architectural Aspects]         0.25   \n2           [Architectural Aspects]         0.50   \n3           [Architectural Aspects]         0.75   \n4           [Architectural Aspects]         1.00   \n..                              ...          ...   \n150  [Architecture Decision Making]         0.00   \n151  [Architecture Decision Making]         0.25   \n152  [Architecture Decision Making]         0.50   \n153  [Architecture Decision Making]         0.75   \n154  [Architecture Decision Making]         1.00   \n\n    ada:ft-personal:awesome-elion-2023-07-25-09-57-12  \\\n0                      [Architecture Analysis Method]   \n1                      [Architecture Analysis Method]   \n2                      [Architecture Analysis Method]   \n3                      [Architecture Analysis Method]   \n4                 [Architecture Description Language]   \n..                                                ...   \n150                      [Architecture Design Method]   \n151                      [Architecture Design Method]   \n152                      [Architecture Design Method]   \n153                      [Architecture Design Method]   \n154                     [Architecture Classification]   \n\n    babbage:ft-personal:awesome-elion-2023-07-25-18-34-52  \\\n0                       [Architecture Analysis Method]      \n1                       [Architecture Analysis Method]      \n2                       [Architecture Analysis Method]      \n3                       [Architecture Analysis Method]      \n4                         [Architecture Design Method]      \n..                                                 ...      \n150                     [Architecture Analysis Method]      \n151                     [Architecture Analysis Method]      \n152                     [Architecture Analysis Method]      \n153  [Architecture Description, Architecture Analys...      \n154                     [Architecture Analysis Method]      \n\n    curie:ft-personal:awesome-elion-2023-07-25-10-01-39  \\\n0                       [Architecture Analysis Method]    \n1                  [Architecture Description Language]    \n2                         [Architecture Design Method]    \n3                       [Architecture Decision Making]    \n4    [Architecture Description, Architecture Analys...    \n..                                                 ...    \n150                       [Architecture Design Method]    \n151                       [Architecture Design Method]    \n152                       [Architecture Design Method]    \n153                       [Architecture Design Method]    \n154                       [Architecture Design Method]    \n\n    davinci:ft-personal:awesome-elion-2023-07-25-18-52-58  \n0                       [Architecture Analysis Method]     \n1                       [Architecture Analysis Method]     \n2                       [Architecture Analysis Method]     \n3                       [Architecture Analysis Method]     \n4                  [Architecture Description Language]     \n..                                                 ...     \n150                     [Architecture Analysis Method]     \n151                     [Architecture Analysis Method]     \n152                     [Architecture Analysis Method]     \n153                   [Architecture Assessment Method]     \n154                   [Architecture Evaluation Method]     \n\n[155 rows x 7 columns]",
      "text/html": "<div>\n<style scoped>\n    .dataframe tbody tr th:only-of-type {\n        vertical-align: middle;\n    }\n\n    .dataframe tbody tr th {\n        vertical-align: top;\n    }\n\n    .dataframe thead th {\n        text-align: right;\n    }\n</style>\n<table border=\"1\" class=\"dataframe\">\n  <thead>\n    <tr style=\"text-align: right;\">\n      <th></th>\n      <th>prompt</th>\n      <th>ground_truth</th>\n      <th>temperature</th>\n      <th>ada:ft-personal:awesome-elion-2023-07-25-09-57-12</th>\n      <th>babbage:ft-personal:awesome-elion-2023-07-25-18-34-52</th>\n      <th>curie:ft-personal:awesome-elion-2023-07-25-10-01-39</th>\n      <th>davinci:ft-personal:awesome-elion-2023-07-25-18-52-58</th>\n    </tr>\n  </thead>\n  <tbody>\n    <tr>\n      <th>0</th>\n      <td>View-Centric Context Modeling to Foster the En...</td>\n      <td>[Architectural Aspects]</td>\n      <td>0.00</td>\n      <td>[Architecture Analysis Method]</td>\n      <td>[Architecture Analysis Method]</td>\n      <td>[Architecture Analysis Method]</td>\n      <td>[Architecture Analysis Method]</td>\n    </tr>\n    <tr>\n      <th>1</th>\n      <td>View-Centric Context Modeling to Foster the En...</td>\n      <td>[Architectural Aspects]</td>\n      <td>0.25</td>\n      <td>[Architecture Analysis Method]</td>\n      <td>[Architecture Analysis Method]</td>\n      <td>[Architecture Description Language]</td>\n      <td>[Architecture Analysis Method]</td>\n    </tr>\n    <tr>\n      <th>2</th>\n      <td>View-Centric Context Modeling to Foster the En...</td>\n      <td>[Architectural Aspects]</td>\n      <td>0.50</td>\n      <td>[Architecture Analysis Method]</td>\n      <td>[Architecture Analysis Method]</td>\n      <td>[Architecture Design Method]</td>\n      <td>[Architecture Analysis Method]</td>\n    </tr>\n    <tr>\n      <th>3</th>\n      <td>View-Centric Context Modeling to Foster the En...</td>\n      <td>[Architectural Aspects]</td>\n      <td>0.75</td>\n      <td>[Architecture Analysis Method]</td>\n      <td>[Architecture Analysis Method]</td>\n      <td>[Architecture Decision Making]</td>\n      <td>[Architecture Analysis Method]</td>\n    </tr>\n    <tr>\n      <th>4</th>\n      <td>View-Centric Context Modeling to Foster the En...</td>\n      <td>[Architectural Aspects]</td>\n      <td>1.00</td>\n      <td>[Architecture Description Language]</td>\n      <td>[Architecture Design Method]</td>\n      <td>[Architecture Description, Architecture Analys...</td>\n      <td>[Architecture Description Language]</td>\n    </tr>\n    <tr>\n      <th>...</th>\n      <td>...</td>\n      <td>...</td>\n      <td>...</td>\n      <td>...</td>\n      <td>...</td>\n      <td>...</td>\n      <td>...</td>\n    </tr>\n    <tr>\n      <th>150</th>\n      <td>A Taxonomy of Blockchain-Based Systems for Arc...</td>\n      <td>[Architecture Decision Making]</td>\n      <td>0.00</td>\n      <td>[Architecture Design Method]</td>\n      <td>[Architecture Analysis Method]</td>\n      <td>[Architecture Design Method]</td>\n      <td>[Architecture Analysis Method]</td>\n    </tr>\n    <tr>\n      <th>151</th>\n      <td>A Taxonomy of Blockchain-Based Systems for Arc...</td>\n      <td>[Architecture Decision Making]</td>\n      <td>0.25</td>\n      <td>[Architecture Design Method]</td>\n      <td>[Architecture Analysis Method]</td>\n      <td>[Architecture Design Method]</td>\n      <td>[Architecture Analysis Method]</td>\n    </tr>\n    <tr>\n      <th>152</th>\n      <td>A Taxonomy of Blockchain-Based Systems for Arc...</td>\n      <td>[Architecture Decision Making]</td>\n      <td>0.50</td>\n      <td>[Architecture Design Method]</td>\n      <td>[Architecture Analysis Method]</td>\n      <td>[Architecture Design Method]</td>\n      <td>[Architecture Analysis Method]</td>\n    </tr>\n    <tr>\n      <th>153</th>\n      <td>A Taxonomy of Blockchain-Based Systems for Arc...</td>\n      <td>[Architecture Decision Making]</td>\n      <td>0.75</td>\n      <td>[Architecture Design Method]</td>\n      <td>[Architecture Description, Architecture Analys...</td>\n      <td>[Architecture Design Method]</td>\n      <td>[Architecture Assessment Method]</td>\n    </tr>\n    <tr>\n      <th>154</th>\n      <td>A Taxonomy of Blockchain-Based Systems for Arc...</td>\n      <td>[Architecture Decision Making]</td>\n      <td>1.00</td>\n      <td>[Architecture Classification]</td>\n      <td>[Architecture Analysis Method]</td>\n      <td>[Architecture Design Method]</td>\n      <td>[Architecture Evaluation Method]</td>\n    </tr>\n  </tbody>\n</table>\n<p>155 rows × 7 columns</p>\n</div>"
     },
     "execution_count": 31,
     "metadata": {},
     "output_type": "execute_result"
    }
   ],
   "source": [
    "evaluation_df = pd.DataFrame(evaluation_input)\n",
    "evaluation_df.to_csv(predictions_file, index=False)\n",
    "\n",
    "evaluation_df"
   ],
   "metadata": {
    "collapsed": false,
    "ExecuteTime": {
     "end_time": "2023-09-16T09:04:03.339788Z",
     "start_time": "2023-09-16T09:04:03.314869Z"
    }
   }
  },
  {
   "cell_type": "code",
   "execution_count": null,
   "outputs": [],
   "source": [
    "from sklearn.preprocessing import MultiLabelBinarizer\n",
    "from sklearn.metrics import accuracy_score, f1_score, recall_score, precision_score\n",
    "\n",
    "evaluation_results = []\n",
    "\n",
    "for model in models:\n",
    "    for temperature in temperatures:\n",
    "        focus_df = evaluation_df[(evaluation_df['temperature'] == temperature)]\n",
    "\n",
    "        all_labels = set()\n",
    "        for labels in focus_df[\"ground_truth\"]:\n",
    "            all_labels.update(labels)\n",
    "        for labels in focus_df[model]:\n",
    "            all_labels.update(labels)\n",
    "\n",
    "        # Convert ground truth and predicted labels to binary arrays\n",
    "        mlb = MultiLabelBinarizer(classes=list(all_labels))\n",
    "        ground_truth_binary = mlb.fit_transform(focus_df[\"ground_truth\"])\n",
    "        predicted_binary = mlb.transform(focus_df[model])\n",
    "\n",
    "        # Calculate accuracy score\n",
    "        accuracy = accuracy_score(ground_truth_binary, predicted_binary)\n",
    "        precision = precision_score(ground_truth_binary, predicted_binary, average='micro')\n",
    "        recall = recall_score(ground_truth_binary, predicted_binary, average='micro')\n",
    "        f1 = f1_score(ground_truth_binary, predicted_binary, average='micro')\n",
    "\n",
    "        results = {\n",
    "            \"model\": model,\n",
    "            \"temperature\": temperature,\n",
    "            \"accuracy\": accuracy,\n",
    "            \"precision\": precision,\n",
    "            \"recall\": recall,\n",
    "            \"f1\": f1,\n",
    "        }\n",
    "\n",
    "        evaluation_results.append(results)"
   ],
   "metadata": {
    "collapsed": false
   }
  },
  {
   "cell_type": "code",
   "execution_count": 27,
   "outputs": [
    {
     "data": {
      "text/plain": "                                                model  temperature  accuracy  \\\n0   ada:ft-personal:awesome-elion-2023-07-25-09-57-12         0.00  0.419355   \n1   ada:ft-personal:awesome-elion-2023-07-25-09-57-12         0.25  0.451613   \n2   ada:ft-personal:awesome-elion-2023-07-25-09-57-12         0.50  0.451613   \n3   ada:ft-personal:awesome-elion-2023-07-25-09-57-12         0.75  0.387097   \n4   ada:ft-personal:awesome-elion-2023-07-25-09-57-12         1.00  0.225806   \n5   babbage:ft-personal:awesome-elion-2023-07-25-1...         0.00  0.290323   \n6   babbage:ft-personal:awesome-elion-2023-07-25-1...         0.25  0.258065   \n7   babbage:ft-personal:awesome-elion-2023-07-25-1...         0.50  0.290323   \n8   babbage:ft-personal:awesome-elion-2023-07-25-1...         0.75  0.290323   \n9   babbage:ft-personal:awesome-elion-2023-07-25-1...         1.00  0.193548   \n10  curie:ft-personal:awesome-elion-2023-07-25-10-...         0.00  0.419355   \n11  curie:ft-personal:awesome-elion-2023-07-25-10-...         0.25  0.451613   \n12  curie:ft-personal:awesome-elion-2023-07-25-10-...         0.50  0.419355   \n13  curie:ft-personal:awesome-elion-2023-07-25-10-...         0.75  0.354839   \n14  curie:ft-personal:awesome-elion-2023-07-25-10-...         1.00  0.322581   \n15  davinci:ft-personal:awesome-elion-2023-07-25-1...         0.00  0.322581   \n16  davinci:ft-personal:awesome-elion-2023-07-25-1...         0.25  0.290323   \n17  davinci:ft-personal:awesome-elion-2023-07-25-1...         0.50  0.322581   \n18  davinci:ft-personal:awesome-elion-2023-07-25-1...         0.75  0.354839   \n19  davinci:ft-personal:awesome-elion-2023-07-25-1...         1.00  0.258065   \n\n    precision   recall        f1  \n0    0.451613  0.43750  0.444444  \n1    0.483871  0.46875  0.476190  \n2    0.500000  0.50000  0.500000  \n3    0.406250  0.40625  0.406250  \n4    0.242424  0.25000  0.246154  \n5    0.312500  0.31250  0.312500  \n6    0.272727  0.28125  0.276923  \n7    0.312500  0.31250  0.312500  \n8    0.272727  0.28125  0.276923  \n9    0.270270  0.31250  0.289855  \n10   0.437500  0.43750  0.437500  \n11   0.468750  0.46875  0.468750  \n12   0.441176  0.46875  0.454545  \n13   0.333333  0.34375  0.338462  \n14   0.323529  0.34375  0.333333  \n15   0.392857  0.34375  0.366667  \n16   0.357143  0.31250  0.333333  \n17   0.344828  0.31250  0.327869  \n18   0.428571  0.37500  0.400000  \n19   0.303030  0.31250  0.307692  ",
      "text/html": "<div>\n<style scoped>\n    .dataframe tbody tr th:only-of-type {\n        vertical-align: middle;\n    }\n\n    .dataframe tbody tr th {\n        vertical-align: top;\n    }\n\n    .dataframe thead th {\n        text-align: right;\n    }\n</style>\n<table border=\"1\" class=\"dataframe\">\n  <thead>\n    <tr style=\"text-align: right;\">\n      <th></th>\n      <th>model</th>\n      <th>temperature</th>\n      <th>accuracy</th>\n      <th>precision</th>\n      <th>recall</th>\n      <th>f1</th>\n    </tr>\n  </thead>\n  <tbody>\n    <tr>\n      <th>0</th>\n      <td>ada:ft-personal:awesome-elion-2023-07-25-09-57-12</td>\n      <td>0.00</td>\n      <td>0.419355</td>\n      <td>0.451613</td>\n      <td>0.43750</td>\n      <td>0.444444</td>\n    </tr>\n    <tr>\n      <th>1</th>\n      <td>ada:ft-personal:awesome-elion-2023-07-25-09-57-12</td>\n      <td>0.25</td>\n      <td>0.451613</td>\n      <td>0.483871</td>\n      <td>0.46875</td>\n      <td>0.476190</td>\n    </tr>\n    <tr>\n      <th>2</th>\n      <td>ada:ft-personal:awesome-elion-2023-07-25-09-57-12</td>\n      <td>0.50</td>\n      <td>0.451613</td>\n      <td>0.500000</td>\n      <td>0.50000</td>\n      <td>0.500000</td>\n    </tr>\n    <tr>\n      <th>3</th>\n      <td>ada:ft-personal:awesome-elion-2023-07-25-09-57-12</td>\n      <td>0.75</td>\n      <td>0.387097</td>\n      <td>0.406250</td>\n      <td>0.40625</td>\n      <td>0.406250</td>\n    </tr>\n    <tr>\n      <th>4</th>\n      <td>ada:ft-personal:awesome-elion-2023-07-25-09-57-12</td>\n      <td>1.00</td>\n      <td>0.225806</td>\n      <td>0.242424</td>\n      <td>0.25000</td>\n      <td>0.246154</td>\n    </tr>\n    <tr>\n      <th>5</th>\n      <td>babbage:ft-personal:awesome-elion-2023-07-25-1...</td>\n      <td>0.00</td>\n      <td>0.290323</td>\n      <td>0.312500</td>\n      <td>0.31250</td>\n      <td>0.312500</td>\n    </tr>\n    <tr>\n      <th>6</th>\n      <td>babbage:ft-personal:awesome-elion-2023-07-25-1...</td>\n      <td>0.25</td>\n      <td>0.258065</td>\n      <td>0.272727</td>\n      <td>0.28125</td>\n      <td>0.276923</td>\n    </tr>\n    <tr>\n      <th>7</th>\n      <td>babbage:ft-personal:awesome-elion-2023-07-25-1...</td>\n      <td>0.50</td>\n      <td>0.290323</td>\n      <td>0.312500</td>\n      <td>0.31250</td>\n      <td>0.312500</td>\n    </tr>\n    <tr>\n      <th>8</th>\n      <td>babbage:ft-personal:awesome-elion-2023-07-25-1...</td>\n      <td>0.75</td>\n      <td>0.290323</td>\n      <td>0.272727</td>\n      <td>0.28125</td>\n      <td>0.276923</td>\n    </tr>\n    <tr>\n      <th>9</th>\n      <td>babbage:ft-personal:awesome-elion-2023-07-25-1...</td>\n      <td>1.00</td>\n      <td>0.193548</td>\n      <td>0.270270</td>\n      <td>0.31250</td>\n      <td>0.289855</td>\n    </tr>\n    <tr>\n      <th>10</th>\n      <td>curie:ft-personal:awesome-elion-2023-07-25-10-...</td>\n      <td>0.00</td>\n      <td>0.419355</td>\n      <td>0.437500</td>\n      <td>0.43750</td>\n      <td>0.437500</td>\n    </tr>\n    <tr>\n      <th>11</th>\n      <td>curie:ft-personal:awesome-elion-2023-07-25-10-...</td>\n      <td>0.25</td>\n      <td>0.451613</td>\n      <td>0.468750</td>\n      <td>0.46875</td>\n      <td>0.468750</td>\n    </tr>\n    <tr>\n      <th>12</th>\n      <td>curie:ft-personal:awesome-elion-2023-07-25-10-...</td>\n      <td>0.50</td>\n      <td>0.419355</td>\n      <td>0.441176</td>\n      <td>0.46875</td>\n      <td>0.454545</td>\n    </tr>\n    <tr>\n      <th>13</th>\n      <td>curie:ft-personal:awesome-elion-2023-07-25-10-...</td>\n      <td>0.75</td>\n      <td>0.354839</td>\n      <td>0.333333</td>\n      <td>0.34375</td>\n      <td>0.338462</td>\n    </tr>\n    <tr>\n      <th>14</th>\n      <td>curie:ft-personal:awesome-elion-2023-07-25-10-...</td>\n      <td>1.00</td>\n      <td>0.322581</td>\n      <td>0.323529</td>\n      <td>0.34375</td>\n      <td>0.333333</td>\n    </tr>\n    <tr>\n      <th>15</th>\n      <td>davinci:ft-personal:awesome-elion-2023-07-25-1...</td>\n      <td>0.00</td>\n      <td>0.322581</td>\n      <td>0.392857</td>\n      <td>0.34375</td>\n      <td>0.366667</td>\n    </tr>\n    <tr>\n      <th>16</th>\n      <td>davinci:ft-personal:awesome-elion-2023-07-25-1...</td>\n      <td>0.25</td>\n      <td>0.290323</td>\n      <td>0.357143</td>\n      <td>0.31250</td>\n      <td>0.333333</td>\n    </tr>\n    <tr>\n      <th>17</th>\n      <td>davinci:ft-personal:awesome-elion-2023-07-25-1...</td>\n      <td>0.50</td>\n      <td>0.322581</td>\n      <td>0.344828</td>\n      <td>0.31250</td>\n      <td>0.327869</td>\n    </tr>\n    <tr>\n      <th>18</th>\n      <td>davinci:ft-personal:awesome-elion-2023-07-25-1...</td>\n      <td>0.75</td>\n      <td>0.354839</td>\n      <td>0.428571</td>\n      <td>0.37500</td>\n      <td>0.400000</td>\n    </tr>\n    <tr>\n      <th>19</th>\n      <td>davinci:ft-personal:awesome-elion-2023-07-25-1...</td>\n      <td>1.00</td>\n      <td>0.258065</td>\n      <td>0.303030</td>\n      <td>0.31250</td>\n      <td>0.307692</td>\n    </tr>\n  </tbody>\n</table>\n</div>"
     },
     "execution_count": 27,
     "metadata": {},
     "output_type": "execute_result"
    }
   ],
   "source": [
    "# Create dataframe from evaluation results\n",
    "evaluation_results_df = pd.DataFrame.from_records(evaluation_results)\n",
    "evaluation_results_df.to_csv(evaluation_file, index=False)\n",
    "evaluation_results_df"
   ],
   "metadata": {
    "collapsed": false,
    "ExecuteTime": {
     "end_time": "2023-09-16T09:03:30.859538Z",
     "start_time": "2023-09-16T09:03:30.846732Z"
    }
   }
  }
 ],
 "metadata": {
  "kernelspec": {
   "display_name": "Python 3",
   "language": "python",
   "name": "python3"
  },
  "language_info": {
   "codemirror_mode": {
    "name": "ipython",
    "version": 2
   },
   "file_extension": ".py",
   "mimetype": "text/x-python",
   "name": "python",
   "nbconvert_exporter": "python",
   "pygments_lexer": "ipython2",
   "version": "2.7.6"
  }
 },
 "nbformat": 4,
 "nbformat_minor": 0
}
