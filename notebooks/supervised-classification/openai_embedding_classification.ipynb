{
 "cells": [
  {
   "attachments": {},
   "cell_type": "markdown",
   "metadata": {},
   "source": [
    "## Classification by using OpenAI embeddings\n",
    "\n",
    "This notebook uses OpenAI embeddings to classify research papers into research objects."
   ]
  },
  {
   "cell_type": "code",
   "execution_count": 1,
   "outputs": [],
   "source": [
    "import os\n",
    "\n",
    "base_dir = os.path.join(\"..\", \"..\")\n",
    "data_dir = os.path.join(base_dir, \"data\", \"software_architecture\")\n",
    "bibtext_file = os.path.join(data_dir, \"bib-text.csv\")\n",
    "embeddings_file = os.path.join(data_dir, \"bib-text_embeddings.csv\")\n",
    "\n",
    "reports = os.path.join(base_dir, \"reports\", \"openai_clustering\")\n",
    "os.makedirs(reports, exist_ok=True)\n",
    "\n",
    "evaluation_file = os.path.join(reports, \"evaluation.json\")\n",
    "predictions_file = os.path.join(reports, \"predictions.csv\")"
   ],
   "metadata": {
    "collapsed": false,
    "ExecuteTime": {
     "end_time": "2023-09-17T10:39:43.167510Z",
     "start_time": "2023-09-17T10:39:43.162973Z"
    }
   }
  },
  {
   "cell_type": "markdown",
   "source": [
    "## Data preparation\n",
    "\n",
    "This section create embeddings for paper titles and abstracts with OpenAI. The dataframe is only generated if the datafile is missing."
   ],
   "metadata": {
    "collapsed": false
   }
  },
  {
   "cell_type": "code",
   "execution_count": 3,
   "outputs": [],
   "source": [
    "import tqdm\n",
    "import openai\n",
    "import numpy as np\n",
    "import pandas as pd\n",
    "\n",
    "if not os.path.exists(embeddings_file):\n",
    "\n",
    "    #\n",
    "    # Get embeddings for title and abstracts from OpenAI\n",
    "    #\n",
    "\n",
    "    df = pd.read_csv(bibtext_file)\n",
    "\n",
    "    embeddings = []\n",
    "    for inx, row in tqdm.tqdm(df.iterrows(), total=len(df)):\n",
    "        title = row[\"title\"]\n",
    "        abstract = row[\"abstract\"]\n",
    "\n",
    "        text = title\n",
    "        if len(abstract) > 0:\n",
    "            text += \"\\n\\n\" + abstract\n",
    "\n",
    "        response = openai.Embedding.create(\n",
    "            input=text,\n",
    "            model=\"text-embedding-ada-002\"\n",
    "        )\n",
    "        embedding = response[\"data\"][0][\"embedding\"]\n",
    "        embeddings.append(np.array(embedding))\n",
    "\n",
    "    # save embeddings\n",
    "    df[\"embedding\"] = embeddings\n",
    "    df.to_csv(embeddings_file, index=False)\n",
    "else:\n",
    "    #\n",
    "    # Load existing data\n",
    "    #\n",
    "\n",
    "    df = pd.read_csv(embeddings_file)\n",
    "    df[\"embedding\"] = df.embedding.apply(eval).apply(np.array)  # convert string to array"
   ],
   "metadata": {
    "collapsed": false,
    "ExecuteTime": {
     "end_time": "2023-09-17T10:39:44.464865Z",
     "start_time": "2023-09-17T10:39:43.173076Z"
    }
   }
  },
  {
   "cell_type": "markdown",
   "source": [
    "### Create research objects classifications\n",
    "\n",
    "This section adds the \"research_objects\" field to the dataframe. The Research Objects are list of strings."
   ],
   "metadata": {
    "collapsed": false
   }
  },
  {
   "cell_type": "code",
   "execution_count": 4,
   "outputs": [],
   "source": [
    "from typing import List\n",
    "from treelib import Tree\n",
    "from src.taxonomy.utils import parse_taxonomy\n",
    "\n",
    "\n",
    "def get_research_objects(tree: Tree) -> List[str]:\n",
    "    research_obj = tree.children(\"Research Object\")\n",
    "\n",
    "    objs = []\n",
    "    for obj in research_obj:\n",
    "        objs.append(obj.tag)\n",
    "\n",
    "    return objs"
   ],
   "metadata": {
    "collapsed": false,
    "ExecuteTime": {
     "end_time": "2023-09-17T10:39:44.472185Z",
     "start_time": "2023-09-17T10:39:44.466458Z"
    }
   }
  },
  {
   "cell_type": "code",
   "execution_count": 5,
   "outputs": [],
   "source": [
    "research_objects = []\n",
    "\n",
    "for inx, row in df.iterrows():\n",
    "    taxonomy = parse_taxonomy(row[\"classes\"])\n",
    "    research_objects.append(get_research_objects(taxonomy))\n",
    "\n",
    "df[\"research_objects\"] = research_objects"
   ],
   "metadata": {
    "collapsed": false,
    "ExecuteTime": {
     "end_time": "2023-09-17T10:39:44.500050Z",
     "start_time": "2023-09-17T10:39:44.486684Z"
    }
   }
  },
  {
   "cell_type": "markdown",
   "source": [
    "## Data classification"
   ],
   "metadata": {
    "collapsed": false
   }
  },
  {
   "cell_type": "code",
   "execution_count": 6,
   "outputs": [],
   "source": [
    "from sklearn.preprocessing import MultiLabelBinarizer\n",
    "\n",
    "all_labels = set()\n",
    "for labels in df.research_objects:\n",
    "    all_labels.update(labels)\n",
    "\n",
    "# Convert ground truth and predicted labels to a binary arrays\n",
    "mlb = MultiLabelBinarizer(classes=list(all_labels))\n",
    "df[\"research_objects_binary\"] = list(mlb.fit_transform(df[\"research_objects\"]))"
   ],
   "metadata": {
    "collapsed": false,
    "ExecuteTime": {
     "end_time": "2023-09-17T10:39:45.859396Z",
     "start_time": "2023-09-17T10:39:44.501172Z"
    }
   }
  },
  {
   "cell_type": "markdown",
   "source": [
    "## Train model\n",
    "\n",
    "Train a predictor for research objects. The trainer uses KNeighborsClassifier and MultiOutputClassifier for training."
   ],
   "metadata": {
    "collapsed": false
   }
  },
  {
   "cell_type": "code",
   "execution_count": 7,
   "outputs": [],
   "source": [
    "from sklearn.model_selection import train_test_split\n",
    "\n",
    "train, test = train_test_split(df, test_size=0.1, random_state=19980528)\n",
    "\n",
    "# Transform embeddings to \n",
    "train_embedding = np.array(train[\"embedding\"].tolist())\n",
    "test_embedding = np.array(test[\"embedding\"].tolist())\n",
    "\n",
    "train_classes = np.array(train[\"research_objects_binary\"].tolist())\n",
    "test_classes = np.array(test[\"research_objects_binary\"].tolist())"
   ],
   "metadata": {
    "collapsed": false,
    "ExecuteTime": {
     "end_time": "2023-09-17T10:39:45.938053Z",
     "start_time": "2023-09-17T10:39:45.861251Z"
    }
   }
  },
  {
   "cell_type": "code",
   "execution_count": 8,
   "outputs": [],
   "source": [
    "from sklearn.multioutput import MultiOutputClassifier\n",
    "from sklearn.neighbors import KNeighborsClassifier\n",
    "\n",
    "# Create a multi-label classifier\n",
    "estimator = KNeighborsClassifier(metric=\"cosine\")\n",
    "classifier = MultiOutputClassifier(estimator)\n",
    "\n",
    "# Train the classifier\n",
    "_ = classifier.fit(train_embedding, train_classes)"
   ],
   "metadata": {
    "collapsed": false,
    "ExecuteTime": {
     "end_time": "2023-09-17T10:39:46.395677Z",
     "start_time": "2023-09-17T10:39:45.939026Z"
    }
   }
  },
  {
   "cell_type": "markdown",
   "source": [
    "## Evaluate the model\n",
    "\n"
   ],
   "metadata": {
    "collapsed": false
   }
  },
  {
   "cell_type": "code",
   "execution_count": 9,
   "outputs": [
    {
     "name": "stdout",
     "output_type": "stream",
     "text": [
      "Accuracy:    0.1875\n",
      "Precision:   0.6\n",
      "Recall:      0.17647058823529413\n",
      "f1 (micro):  0.2727272727272727\n"
     ]
    }
   ],
   "source": [
    "from sklearn.metrics import accuracy_score, f1_score, precision_score, recall_score\n",
    "import json\n",
    "\n",
    "# Make predictions on the test set\n",
    "y_pred = classifier.predict(test_embedding)\n",
    "\n",
    "accuracy = accuracy_score(test_classes, y_pred)\n",
    "precision = precision_score(test_classes, y_pred, average=\"micro\")\n",
    "recall = recall_score(test_classes, y_pred, average=\"micro\")\n",
    "f1 = f1_score(test_classes, y_pred, average=\"micro\")\n",
    "\n",
    "report = {\n",
    "    \"accuracy\": accuracy,\n",
    "    \"precision\": precision,\n",
    "    \"recall\": recall,\n",
    "    \"f1\": f1\n",
    "}\n",
    "\n",
    "with open(evaluation_file, \"w\") as file:\n",
    "    json.dump(report, file, indent=4)\n",
    "\n",
    "print(\"Accuracy:   \", accuracy)\n",
    "print(\"Precision:  \", precision)\n",
    "print(\"Recall:     \", recall)\n",
    "print(\"f1 (micro): \", f1)"
   ],
   "metadata": {
    "collapsed": false,
    "ExecuteTime": {
     "end_time": "2023-09-17T10:39:46.458982Z",
     "start_time": "2023-09-17T10:39:46.399086Z"
    }
   }
  },
  {
   "cell_type": "code",
   "execution_count": 10,
   "outputs": [],
   "source": [
    "# Create dataframe with ground truth and predicted\n",
    "results = pd.DataFrame({\n",
    "    \"ground_truth\": mlb.inverse_transform(test_classes),\n",
    "    \"predicted\": mlb.inverse_transform(y_pred)\n",
    "})\n",
    "results.to_csv(predictions_file, index=False)"
   ],
   "metadata": {
    "collapsed": false,
    "ExecuteTime": {
     "end_time": "2023-09-17T10:39:46.475224Z",
     "start_time": "2023-09-17T10:39:46.469402Z"
    }
   }
  },
  {
   "cell_type": "code",
   "execution_count": 11,
   "outputs": [
    {
     "data": {
      "text/plain": "                                         ground_truth  \\\n0                                   (Technical Debt,)   \n1                     (Architecture Decision Making,)   \n2                           (Reference Architecture,)   \n3                       (Architecture Design Method,)   \n4                           (Reference Architecture,)   \n5   (Architecture Optimization Method, Architectur...   \n6                 (Architecture Optimization Method,)   \n7                     (Architecture Analysis Method,)   \n8                       (Architecture Design Method,)   \n9                (Architecture Description Language,)   \n10                      (Architecture Design Method,)   \n11                            (Architecture Pattern,)   \n12                      (Architecture Design Method,)   \n13                    (Architecture Analysis Method,)   \n14                        (Architecture Description,)   \n15                (Architecture Optimization Method,)   \n\n                               predicted  \n0                                     ()  \n1                                     ()  \n2                                     ()  \n3          (Architecture Design Method,)  \n4                                     ()  \n5                                     ()  \n6              (Reference Architecture,)  \n7   (Architecture Description Language,)  \n8                                     ()  \n9                                     ()  \n10                                    ()  \n11                                    ()  \n12                                    ()  \n13       (Architecture Analysis Method,)  \n14                                    ()  \n15   (Architecture Optimization Method,)  ",
      "text/html": "<div>\n<style scoped>\n    .dataframe tbody tr th:only-of-type {\n        vertical-align: middle;\n    }\n\n    .dataframe tbody tr th {\n        vertical-align: top;\n    }\n\n    .dataframe thead th {\n        text-align: right;\n    }\n</style>\n<table border=\"1\" class=\"dataframe\">\n  <thead>\n    <tr style=\"text-align: right;\">\n      <th></th>\n      <th>ground_truth</th>\n      <th>predicted</th>\n    </tr>\n  </thead>\n  <tbody>\n    <tr>\n      <th>0</th>\n      <td>(Technical Debt,)</td>\n      <td>()</td>\n    </tr>\n    <tr>\n      <th>1</th>\n      <td>(Architecture Decision Making,)</td>\n      <td>()</td>\n    </tr>\n    <tr>\n      <th>2</th>\n      <td>(Reference Architecture,)</td>\n      <td>()</td>\n    </tr>\n    <tr>\n      <th>3</th>\n      <td>(Architecture Design Method,)</td>\n      <td>(Architecture Design Method,)</td>\n    </tr>\n    <tr>\n      <th>4</th>\n      <td>(Reference Architecture,)</td>\n      <td>()</td>\n    </tr>\n    <tr>\n      <th>5</th>\n      <td>(Architecture Optimization Method, Architectur...</td>\n      <td>()</td>\n    </tr>\n    <tr>\n      <th>6</th>\n      <td>(Architecture Optimization Method,)</td>\n      <td>(Reference Architecture,)</td>\n    </tr>\n    <tr>\n      <th>7</th>\n      <td>(Architecture Analysis Method,)</td>\n      <td>(Architecture Description Language,)</td>\n    </tr>\n    <tr>\n      <th>8</th>\n      <td>(Architecture Design Method,)</td>\n      <td>()</td>\n    </tr>\n    <tr>\n      <th>9</th>\n      <td>(Architecture Description Language,)</td>\n      <td>()</td>\n    </tr>\n    <tr>\n      <th>10</th>\n      <td>(Architecture Design Method,)</td>\n      <td>()</td>\n    </tr>\n    <tr>\n      <th>11</th>\n      <td>(Architecture Pattern,)</td>\n      <td>()</td>\n    </tr>\n    <tr>\n      <th>12</th>\n      <td>(Architecture Design Method,)</td>\n      <td>()</td>\n    </tr>\n    <tr>\n      <th>13</th>\n      <td>(Architecture Analysis Method,)</td>\n      <td>(Architecture Analysis Method,)</td>\n    </tr>\n    <tr>\n      <th>14</th>\n      <td>(Architecture Description,)</td>\n      <td>()</td>\n    </tr>\n    <tr>\n      <th>15</th>\n      <td>(Architecture Optimization Method,)</td>\n      <td>(Architecture Optimization Method,)</td>\n    </tr>\n  </tbody>\n</table>\n</div>"
     },
     "execution_count": 11,
     "metadata": {},
     "output_type": "execute_result"
    }
   ],
   "source": [
    "results"
   ],
   "metadata": {
    "collapsed": false,
    "ExecuteTime": {
     "end_time": "2023-09-17T10:39:46.507287Z",
     "start_time": "2023-09-17T10:39:46.475949Z"
    }
   }
  }
 ],
 "metadata": {
  "kernelspec": {
   "display_name": "openai",
   "language": "python",
   "name": "python3"
  },
  "language_info": {
   "codemirror_mode": {
    "name": "ipython",
    "version": 3
   },
   "file_extension": ".py",
   "mimetype": "text/x-python",
   "name": "python",
   "nbconvert_exporter": "python",
   "pygments_lexer": "ipython3",
   "version": "3.9.9"
  },
  "orig_nbformat": 4,
  "vscode": {
   "interpreter": {
    "hash": "365536dcbde60510dc9073d6b991cd35db2d9bac356a11f5b64279a5e6708b97"
   }
  }
 },
 "nbformat": 4,
 "nbformat_minor": 2
}
