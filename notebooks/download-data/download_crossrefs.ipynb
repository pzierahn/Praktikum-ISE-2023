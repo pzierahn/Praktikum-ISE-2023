{
 "cells": [
  {
   "cell_type": "markdown",
   "source": [
    "# Download Crossref Data\n",
    "\n",
    "This notebook downloads data from the Crossref API and stores it in a SQLite database."
   ],
   "metadata": {
    "collapsed": false
   }
  },
  {
   "cell_type": "code",
   "execution_count": 2,
   "outputs": [],
   "source": [
    "import os\n",
    "\n",
    "base_dir = \"data/orkg/\""
   ],
   "metadata": {
    "collapsed": false,
    "ExecuteTime": {
     "end_time": "2023-06-30T15:11:02.108518500Z",
     "start_time": "2023-06-30T15:11:02.108518500Z"
    }
   }
  },
  {
   "cell_type": "code",
   "execution_count": 3,
   "metadata": {
    "collapsed": true,
    "ExecuteTime": {
     "end_time": "2023-06-30T15:11:02.124141300Z",
     "start_time": "2023-06-30T15:11:02.124141300Z"
    }
   },
   "outputs": [],
   "source": [
    "import json\n",
    "\n",
    "# Read name.json data in directory\n",
    "def read_json(filename: str):\n",
    "    json_file = os.path.join(filename)\n",
    "    with open(json_file) as f:\n",
    "        img_annotations = json.load(f)\n",
    "\n",
    "    return img_annotations\n",
    "\n",
    "\n",
    "# Pretty print json data to console\n",
    "def print_json(tag: str, data: any):\n",
    "    print(tag, json.dumps(data, indent=2, sort_keys=True))\n",
    "\n",
    "\n",
    "# Pretty print json data to file\n",
    "def write_json(filename: str, data: any):\n",
    "    with open(filename, \"w\") as file:\n",
    "        json.dump(data, file, indent=2, sort_keys=True)"
   ]
  },
  {
   "cell_type": "code",
   "execution_count": 4,
   "outputs": [
    {
     "data": {
      "text/plain": "                                                  author  \\\n0                                        [J Wu, H Huang]   \n1                      [William A Sethares, Chih-Yu Wen]   \n2                     [A William, Sethares, Chih-Yu Wen]   \n3       [Xiaozong Yang, Yoohwan Kim, Ling Wang, Yan Jin]   \n4                            [A Savvides, R Virrankoski]   \n...                                                  ...   \n26838                                        David Nolte   \n26839                     [Rath, M, Marci-Boehncke, G. ]   \n26840  [Anja Pielsticker, K. Keller, Henrike Friedric...   \n26841  [Niels Brüggen, Valerie Jochim, A. Oberlinner,...   \n26842                               [Gimmler, R, Six, U]   \n\n                                doi paper_ids publication month  \\\n0       10.1109/vetecf.2005.1558414    R26672                     \n1              10.1155/wcn.2005.686    R26676                12   \n2         10.1109/jsen.2013.2249659    R26679                     \n3      10.1016/j.comnet.2007.10.005    R26682                 2   \n4        10.1109/mahss.2005.1542850    R26687                     \n...                             ...       ...               ...   \n26838     10.1026/2191-9186/a000176   R576013                10   \n26839                                 R576016                     \n26840                                 R576018                     \n26841                                 R576020                     \n26842   10.1007/978-3-658-28538-8_2   R576022                     \n\n      publication year      publisher  \\\n0                 2005                  \n1                 2005                  \n2                 2013                  \n3                 2008                  \n4                                       \n...                ...            ...   \n26838             2014  Frühe Bildung   \n26839             2013                  \n26840             2012                  \n26841             2018                  \n26842             2007                  \n\n                                                   title  \\\n0      A probabilistic clustering algorithm in wirele...   \n1      Automatic Decentralized Clustering for Wireles...   \n2      Distributed clustering with directional antenn...   \n3      EEMC: An energy-efficient multi-level clusteri...   \n4      TASC: topology adaptive spatial clustering for...   \n...                                                  ...   \n26838  Eine Frage der Medienkompetenz?: Bedingungen m...   \n26839  Kinder-Medien-Bildung: eine Studie zu Medienko...   \n26840  Chancen und Potenziale digitaler Medien zur Um...   \n26841  Digitale Medien in Kindertageseinrichtungen: M...   \n26842  Die Förderung von Medienkompetenz im Kindergar...   \n\n                                               url  \n0                                                   \n1                                                   \n2                                                   \n3                                                   \n4                                                   \n...                                            ...  \n26838  http://dx.doi.org/10.1026/2191-9186/a000176  \n26839                                               \n26840                                               \n26841                                               \n26842                                               \n\n[26843 rows x 8 columns]",
      "text/html": "<div>\n<style scoped>\n    .dataframe tbody tr th:only-of-type {\n        vertical-align: middle;\n    }\n\n    .dataframe tbody tr th {\n        vertical-align: top;\n    }\n\n    .dataframe thead th {\n        text-align: right;\n    }\n</style>\n<table border=\"1\" class=\"dataframe\">\n  <thead>\n    <tr style=\"text-align: right;\">\n      <th></th>\n      <th>author</th>\n      <th>doi</th>\n      <th>paper_ids</th>\n      <th>publication month</th>\n      <th>publication year</th>\n      <th>publisher</th>\n      <th>title</th>\n      <th>url</th>\n    </tr>\n  </thead>\n  <tbody>\n    <tr>\n      <th>0</th>\n      <td>[J Wu, H Huang]</td>\n      <td>10.1109/vetecf.2005.1558414</td>\n      <td>R26672</td>\n      <td></td>\n      <td>2005</td>\n      <td></td>\n      <td>A probabilistic clustering algorithm in wirele...</td>\n      <td></td>\n    </tr>\n    <tr>\n      <th>1</th>\n      <td>[William A Sethares, Chih-Yu Wen]</td>\n      <td>10.1155/wcn.2005.686</td>\n      <td>R26676</td>\n      <td>12</td>\n      <td>2005</td>\n      <td></td>\n      <td>Automatic Decentralized Clustering for Wireles...</td>\n      <td></td>\n    </tr>\n    <tr>\n      <th>2</th>\n      <td>[A William, Sethares, Chih-Yu Wen]</td>\n      <td>10.1109/jsen.2013.2249659</td>\n      <td>R26679</td>\n      <td></td>\n      <td>2013</td>\n      <td></td>\n      <td>Distributed clustering with directional antenn...</td>\n      <td></td>\n    </tr>\n    <tr>\n      <th>3</th>\n      <td>[Xiaozong Yang, Yoohwan Kim, Ling Wang, Yan Jin]</td>\n      <td>10.1016/j.comnet.2007.10.005</td>\n      <td>R26682</td>\n      <td>2</td>\n      <td>2008</td>\n      <td></td>\n      <td>EEMC: An energy-efficient multi-level clusteri...</td>\n      <td></td>\n    </tr>\n    <tr>\n      <th>4</th>\n      <td>[A Savvides, R Virrankoski]</td>\n      <td>10.1109/mahss.2005.1542850</td>\n      <td>R26687</td>\n      <td></td>\n      <td></td>\n      <td></td>\n      <td>TASC: topology adaptive spatial clustering for...</td>\n      <td></td>\n    </tr>\n    <tr>\n      <th>...</th>\n      <td>...</td>\n      <td>...</td>\n      <td>...</td>\n      <td>...</td>\n      <td>...</td>\n      <td>...</td>\n      <td>...</td>\n      <td>...</td>\n    </tr>\n    <tr>\n      <th>26838</th>\n      <td>David Nolte</td>\n      <td>10.1026/2191-9186/a000176</td>\n      <td>R576013</td>\n      <td>10</td>\n      <td>2014</td>\n      <td>Frühe Bildung</td>\n      <td>Eine Frage der Medienkompetenz?: Bedingungen m...</td>\n      <td>http://dx.doi.org/10.1026/2191-9186/a000176</td>\n    </tr>\n    <tr>\n      <th>26839</th>\n      <td>[Rath, M, Marci-Boehncke, G. ]</td>\n      <td></td>\n      <td>R576016</td>\n      <td></td>\n      <td>2013</td>\n      <td></td>\n      <td>Kinder-Medien-Bildung: eine Studie zu Medienko...</td>\n      <td></td>\n    </tr>\n    <tr>\n      <th>26840</th>\n      <td>[Anja Pielsticker, K. Keller, Henrike Friedric...</td>\n      <td></td>\n      <td>R576018</td>\n      <td></td>\n      <td>2012</td>\n      <td></td>\n      <td>Chancen und Potenziale digitaler Medien zur Um...</td>\n      <td></td>\n    </tr>\n    <tr>\n      <th>26841</th>\n      <td>[Niels Brüggen, Valerie Jochim, A. Oberlinner,...</td>\n      <td></td>\n      <td>R576020</td>\n      <td></td>\n      <td>2018</td>\n      <td></td>\n      <td>Digitale Medien in Kindertageseinrichtungen: M...</td>\n      <td></td>\n    </tr>\n    <tr>\n      <th>26842</th>\n      <td>[Gimmler, R, Six, U]</td>\n      <td>10.1007/978-3-658-28538-8_2</td>\n      <td>R576022</td>\n      <td></td>\n      <td>2007</td>\n      <td></td>\n      <td>Die Förderung von Medienkompetenz im Kindergar...</td>\n      <td></td>\n    </tr>\n  </tbody>\n</table>\n<p>26843 rows × 8 columns</p>\n</div>"
     },
     "execution_count": 4,
     "metadata": {},
     "output_type": "execute_result"
    }
   ],
   "source": [
    "import pandas as pd\n",
    "\n",
    "meta_infos_raw = read_json(os.path.join(base_dir, \"meta_infos.json\"))\n",
    "meta_infos = pd.DataFrame.from_dict(meta_infos_raw)\n",
    "meta_infos"
   ],
   "metadata": {
    "collapsed": false,
    "ExecuteTime": {
     "end_time": "2023-06-30T15:11:02.426385Z",
     "start_time": "2023-06-30T15:11:02.124141300Z"
    }
   }
  },
  {
   "cell_type": "code",
   "execution_count": 5,
   "outputs": [
    {
     "data": {
      "text/plain": "<sqlite3.Cursor at 0x7f2df931c8f0>"
     },
     "execution_count": 5,
     "metadata": {},
     "output_type": "execute_result"
    }
   ],
   "source": [
    "import sqlite3\n",
    "\n",
    "database_path = os.path.join(base_dir, \"datalake.db\")\n",
    "\n",
    "# Open a connection to the SQLite database file\n",
    "db = sqlite3.connect(database_path)\n",
    "\n",
    "# Create a cursor object to execute SQL statements\n",
    "cursor = db.cursor()\n",
    "cursor.execute(\"CREATE TABLE IF NOT EXISTS crossrefs (id INTEGER PRIMARY KEY, doi TEXT, title Text, data JSON)\")\n",
    "\n",
    "# cursor.execute(\"SELECT * FROM users\")\n",
    "# rows = cursor.fetchall()\n",
    "#\n",
    "# for row in rows:\n",
    "#     id, name = row\n",
    "#     # Process the retrieved data\n",
    "#\n",
    "# # Commit the changes and close the connection\n",
    "# conn.commit()\n",
    "# conn.close()"
   ],
   "metadata": {
    "collapsed": false,
    "ExecuteTime": {
     "end_time": "2023-06-30T15:11:02.442008200Z",
     "start_time": "2023-06-30T15:11:02.426385Z"
    }
   }
  },
  {
   "cell_type": "code",
   "execution_count": 6,
   "outputs": [],
   "source": [
    "import requests\n",
    "from fuzzywuzzy import fuzz\n",
    "\n",
    "def crossref_by_doi(doi: str):\n",
    "    url = \"https://api.crossref.org/works/\" + doi\n",
    "    response = requests.get(url, timeout=5)\n",
    "\n",
    "    if not response.ok:\n",
    "        return None\n",
    "\n",
    "    message = response.json()[\"message\"]\n",
    "    return message\n",
    "\n",
    "def crossref_by_title(title: str):\n",
    "    url = \"https://api.crossref.org/works?query.bibliographic=\" + title\n",
    "    response = requests.get(url, timeout=5)\n",
    "\n",
    "    if not response.ok:\n",
    "        return None\n",
    "\n",
    "    message = response.json()[\"message\"]\n",
    "\n",
    "    for item in message.get('items', []):\n",
    "        if not item.get(\"title\", \"\"):\n",
    "            continue\n",
    "\n",
    "        if title.lower() == item.get('title', '')[0].lower():\n",
    "            return item\n",
    "        elif fuzz.ratio(title.lower(), item.get('title', '')[0].lower()) > 95:\n",
    "            return item\n",
    "\n",
    "    return None"
   ],
   "metadata": {
    "collapsed": false,
    "ExecuteTime": {
     "end_time": "2023-06-30T15:11:02.645136300Z",
     "start_time": "2023-06-30T15:11:02.442008200Z"
    }
   }
  },
  {
   "cell_type": "code",
   "execution_count": 7,
   "outputs": [],
   "source": [
    "def crossref_exists(doi: str, title: str):\n",
    "    cursor.execute(\"SELECT * FROM crossrefs WHERE doi = ? OR title = ?\",\n",
    "                   (doi, title))\n",
    "    rows = cursor.fetchall()\n",
    "    return len(rows) > 0\n",
    "\n",
    "def store_crossref_data(doi: str, title: str, data: dict):\n",
    "    cursor.execute(\"INSERT INTO crossrefs (doi, title, data) VALUES (?, ?, ?)\", (doi, title, json.dumps(data)))\n",
    "    db.commit()"
   ],
   "metadata": {
    "collapsed": false,
    "ExecuteTime": {
     "end_time": "2023-06-30T15:11:02.645136300Z",
     "start_time": "2023-06-30T15:11:02.567015100Z"
    }
   }
  },
  {
   "cell_type": "code",
   "execution_count": 10,
   "outputs": [
    {
     "name": "stderr",
     "output_type": "stream",
     "text": [
      "  0%|          | 119/26843 [00:01<07:59, 55.73it/s]"
     ]
    },
    {
     "name": "stdout",
     "output_type": "stream",
     "text": [
      "Could not find 109: A clustering method for energy efficient routing in wireless sensor networks (10.5555/1353572.1353596)\n"
     ]
    },
    {
     "name": "stderr",
     "output_type": "stream",
     "text": [
      "  2%|▏         | 596/26843 [00:06<07:08, 61.28it/s] "
     ]
    },
    {
     "name": "stdout",
     "output_type": "stream",
     "text": [
      "Could not find 579: Wie weit fliegt ein Skispringer, der mit 72 km/h abspringt? (10.5446/40456)\n",
      "Could not find 601: Implementing LOINC – Current Status and Ongoing Work at a Medical University (10.3233/SHTI190806)\n"
     ]
    },
    {
     "name": "stderr",
     "output_type": "stream",
     "text": [
      "  2%|▏         | 606/26843 [00:07<15:47, 27.70it/s]"
     ]
    },
    {
     "name": "stdout",
     "output_type": "stream",
     "text": [
      "Could not find 602: Selected Approaches Ranking Contextual Term for the BioASQ Multi-Label Classification (Task6a and 7a) (10.13140/rg.2.2.31648.33288)\n"
     ]
    },
    {
     "name": "stderr",
     "output_type": "stream",
     "text": [
      "  2%|▏         | 625/26843 [00:07<13:41, 31.92it/s]"
     ]
    },
    {
     "name": "stdout",
     "output_type": "stream",
     "text": [
      "Could not find 608: Chemical and mineral compositions of sediments from ODP Site 127-797, supplement to: Irino, Tomohisa; Tada, Ryuji (2000): Quantification of aeolian dust (Kosa) contribution to the Japan Sea sediments and its variation during the last 200 ky. Geochemical Journal, 34(1), 59-93 (10.1594/pangaea.726855)\n"
     ]
    },
    {
     "name": "stderr",
     "output_type": "stream",
     "text": [
      "  3%|▎         | 875/26843 [00:09<03:45, 115.06it/s]"
     ]
    },
    {
     "name": "stdout",
     "output_type": "stream",
     "text": [
      "Skipping 856: Twin-Control. A Digital Twin Approach to Improve Machine Tools Lifecycle (['10.1007/978-3-030-02203-7', 'https://doi.org/10.1007/978-3-030-02203-7'])\n"
     ]
    },
    {
     "name": "stderr",
     "output_type": "stream",
     "text": [
      "  3%|▎         | 911/26843 [00:10<03:46, 114.40it/s]"
     ]
    },
    {
     "name": "stdout",
     "output_type": "stream",
     "text": [
      "Could not find 920: Politik der kleinen Form (10.18452/19931)\n"
     ]
    },
    {
     "name": "stderr",
     "output_type": "stream",
     "text": [
      "  3%|▎         | 933/26843 [00:11<10:56, 39.49it/s] "
     ]
    },
    {
     "name": "stdout",
     "output_type": "stream",
     "text": [
      "Could not find 921: Politik der kleinen Form (10.18452/19931)\n"
     ]
    },
    {
     "name": "stderr",
     "output_type": "stream",
     "text": [
      "  6%|▋         | 1711/26843 [00:18<08:03, 52.00it/s] "
     ]
    },
    {
     "name": "stdout",
     "output_type": "stream",
     "text": [
      "Could not find 1701: Enriching Knowledge Bases with Interesting Negative Statements (10.24432/C5101K)\n"
     ]
    },
    {
     "name": "stderr",
     "output_type": "stream",
     "text": [
      "  7%|▋         | 1843/26843 [00:20<08:08, 51.18it/s] "
     ]
    },
    {
     "name": "stdout",
     "output_type": "stream",
     "text": [
      "Could not find 1833: Disturbance Facilitates Invasion: The Effects Are Stronger Abroad than at Home (10.2307/3844721)\n"
     ]
    },
    {
     "name": "stderr",
     "output_type": "stream",
     "text": [
      "  9%|▊         | 2285/26843 [00:24<07:55, 51.66it/s] "
     ]
    },
    {
     "name": "stdout",
     "output_type": "stream",
     "text": [
      "Could not find 2282: More Readers in More Places: The benefits of open access for scholarly books (10.5281/zenodo.4014905)\n"
     ]
    },
    {
     "name": "stderr",
     "output_type": "stream",
     "text": [
      "  9%|▊         | 2304/26843 [00:25<09:27, 43.22it/s]"
     ]
    },
    {
     "name": "stdout",
     "output_type": "stream",
     "text": [
      "Could not find 2289: Let's ROR Together: Building an Open Registry of Research Organizations (10.5281/ZENODO.2691307)\n"
     ]
    },
    {
     "name": "stderr",
     "output_type": "stream",
     "text": [
      "  9%|▊         | 2312/26843 [00:25<13:03, 31.32it/s]"
     ]
    },
    {
     "name": "stdout",
     "output_type": "stream",
     "text": [
      "Could not find 2310: N,N-Dimethylformamide. MAK Value Documentation, supplement – Translation of the German version from 2019  (10.34865/MB6812E5_1)\n",
      "Could not find 2312:  1,4-Dioxane. MAK Value Documentation, supplement – Translation of the German version from 2019  (10.34865/MB12391E5_1)\n",
      "Could not find 2313: Polytetrafluoroethene. MAK Value Documentation – Translation of the German version from 2019  (10.34865/MB900284E5_1)\n",
      "Could not find 2314: Furan. MAK Value Documentation, supplement – Translation of the German version from 2017 (10.34865/MB11000E5_2AD)\n",
      "Could not find 2315: Titanium dioxide (respirable fraction). MAK Value Documentation, supplement – Translation of the German version from 2019  (10.34865/MB1346367E5_1)\n"
     ]
    },
    {
     "name": "stderr",
     "output_type": "stream",
     "text": [
      "  9%|▊         | 2327/26843 [00:27<28:34, 14.30it/s]"
     ]
    },
    {
     "name": "stdout",
     "output_type": "stream",
     "text": [
      "Could not find 2317: 2,3-Pentanedione. MAK Value Documentation – Translation of the German version from 2017 (10.34865/MB60014E5_2AD)\n"
     ]
    },
    {
     "name": "stderr",
     "output_type": "stream",
     "text": [
      "  9%|▊         | 2339/26843 [00:27<19:22, 21.08it/s]"
     ]
    },
    {
     "name": "stdout",
     "output_type": "stream",
     "text": [
      "Could not find 2340: Antimony and its inorganic compounds - Addendum for evaluation of a BAR. Assessment Values in Biological Material – Translation of the German version from 2020 (10.34865/BB744036E5_1)\n",
      "Could not find 2342: Chlorinated biphenyls –Addendum for evaluation of a concentration corresponding to an assignment of Pregnancy Risk Group C. Assessment Values in Biological Material – Translation of the German version from 2019 (10.34865/BB133636E5_1)\n",
      "Could not find 2343: Antimony and its compounds – Determination of antimony species in urine by HPLC-ICP-MS. Biomonitoring Method – Translation of the German version from 2020 (10.34865/BI744036E5_1)\n"
     ]
    },
    {
     "name": "stderr",
     "output_type": "stream",
     "text": [
      "  9%|▊         | 2347/26843 [00:29<36:33, 11.17it/s]"
     ]
    },
    {
     "name": "stdout",
     "output_type": "stream",
     "text": [
      "Could not find 2344: Aluminium – Addendum for evaluation of a BAR. Assessment Values in Biological Material – Translation of the German version from 2019 (10.34865/BB742990E5_1)\n",
      "Could not find 2347: Butylated hydroxytoluene (BHT) – Determination of 3,5 di-tert-butyl-4-hydroxybenzoic acid (BHT acid) in urine by LC-MS/MS. Biomonitoring Method – Translation of the German version from 2020 (10.34865/BI12837E5_1)\n",
      "Could not find 2348: Nickel and sparingly soluble nickel compounds (Nickel as nickel metal, nickel sulphide, sulphidic ores, nickel oxide, nickel carbonate) - Addendum for re-evaluation of a EKA. Assessment Values in Biological Material – Translation of the German version from 2019  (10.34865/BB744002E5_1)\n",
      "Could not find 2349: Citric acid – Method for the determination of citric acid in workplace air using high performance liquid chromatography (HPLC). AirMonitoring Method – Translationof the German version from 2019 (10.34865/AM7792E5_1)\n",
      "Could not find 2350: 1,4-Dioxane. MAK Value Documentation, supplement – Translation of the German version from 2019 – Erratum (10.34865/MB12391E5_1ERR1)\n"
     ]
    },
    {
     "name": "stderr",
     "output_type": "stream",
     "text": [
      "  9%|▉         | 2353/26843 [00:31<59:02,  6.91it/s]"
     ]
    },
    {
     "name": "stdout",
     "output_type": "stream",
     "text": [
      "Could not find 2352: 1,4-Dichlorobenzene – Addendum for evaluation of BAT value, BAR and EKA. Assessment Values in Biological Material – Translation of the German version from 2020 (10.34865/BB10646E5_2AD)\n",
      "Could not find 2353: 1,4-Dioxane – Addendum for re-evaluation of the BAT value. Assessment Values in Biological Material – Translation of the German version from 2020 (10.34865/BB12391E5_2AD)\n",
      "Could not find 2354: Bisphenol S – Evaluation of a BAR. Assessment Values in Biological Material – Translation of the German version from 2020 (10.34865/BB8009E5_2OR)\n"
     ]
    },
    {
     "name": "stderr",
     "output_type": "stream",
     "text": [
      "  9%|▉         | 2367/26843 [00:33<45:22,  8.99it/s]  "
     ]
    },
    {
     "name": "stdout",
     "output_type": "stream",
     "text": [
      "Could not find 2355: Hydrogen cyanide, cyanides and cyanide-releasing compounds – determination of thiocyanate in plasma/serum, urine and saliva by GC-MS. Biomonitoring Method – Translation of the German version from 2020 (10.34865/BI30204E5_2OR)\n"
     ]
    },
    {
     "name": "stderr",
     "output_type": "stream",
     "text": [
      "  9%|▉         | 2385/26843 [00:33<29:02, 14.04it/s]"
     ]
    },
    {
     "name": "stdout",
     "output_type": "stream",
     "text": [
      "Could not find 2384: Alcohols, ketones and ethers – Determination of alcohols, ketones and ethers in urine by headspace GC-MS. Biomonitoring Method – Translation of the German version from 2020 (10.34865/BI6756E5_2OR)\n",
      "Could not find 2385: Polyethylene glycols (PEGs) (average molar mass 200–600). MAK Value Documentation, supplement - Translation of the German version from 2019 (10.34865/MB0PE1KSKE5_3AD)\n",
      "Could not find 2386:  Glutaric acid. MAK Value Documentation - Translation of the German version from 2019 (10.34865/MB11094E5_3OR)\n",
      "Could not find 2387:  α-Aluminium oxide (corundum) (respirable fraction). MAK Value Documentation, supplement - Translation of the German version from 2019 (10.34865/MB742990VERE5_3AD)\n",
      "Could not find 2388: o-Phenylphenol (OPP) and sodium o-phenylphenol (OPP-Na). MAK Value Documentation, supplement - Translation of the German version from 2016 (10.34865/MB9043VERE5_3AD)\n",
      "Could not find 2389: Azinphos-methyl. MAK Value Documentation, supplement - Translation of the German version from 2019 (10.34865/MB8650E5_3AD)\n"
     ]
    },
    {
     "name": "stderr",
     "output_type": "stream",
     "text": [
      "  9%|▉         | 2391/26843 [00:36<1:02:28,  6.52it/s]"
     ]
    },
    {
     "name": "stdout",
     "output_type": "stream",
     "text": [
      "Could not find 2390: N,N-Dimethylacetamide – Addendum for re-evaluation of the BAT value. Assessment Values in Biological Material – Translation of the German version from 2020 (10.34865/BB12719E5_3AD)\n",
      "Could not find 2391: Chlorobenzene – Addendum for re-evaluation of the BAT value. Assessment Values in Biological Material – Translation of the German version from 2019 (10.34865/BB10890E5_3AD)\n",
      "Could not find 2392: N,N-Dimethylformamide – Addendum for re-evaluation of the BAT value. Assessment Values in Biological Material – Translation of the German version from 2019 (10.34865/BB6812E5_3AD)\n",
      "Could not find 2393: Pentachlorophenol – Addendum for re-evaluation of EKA. Assessment Values in Biological Material – Translation of the German version from 2019 (10.34865/BB8786E5_3AD)\n"
     ]
    },
    {
     "name": "stderr",
     "output_type": "stream",
     "text": [
      "  9%|▉         | 2395/26843 [00:37<1:23:31,  4.88it/s]"
     ]
    },
    {
     "name": "stdout",
     "output_type": "stream",
     "text": [
      "Could not find 2394:  Lindane – Addendum for re-evaluation of the BAT value. Assessment Values in Biological Material – Translation of the German version from 2019 (10.34865/BB5889E5_3AD)\n",
      "Could not find 2395: 1,1,1-Trichloroethane – Addendum for re-evaluation of the BAT value. Assessment Values in Biological Material – Translation of the German version from 2019 (10.34865/BB7155E5_3AD)\n",
      "Could not find 2396: Method for the determination of aromatic amines in workplace air using gas chromatography.  Air Monitoring Method  (10.34865/AM9553E5_3)\n"
     ]
    },
    {
     "name": "stderr",
     "output_type": "stream",
     "text": [
      "  9%|▉         | 2398/26843 [00:39<1:37:12,  4.19it/s]"
     ]
    },
    {
     "name": "stdout",
     "output_type": "stream",
     "text": [
      "Could not find 2397: 2-Mercaptobenzothiazole – Determination of 2-mercaptobenzothiazole in urine by LC-MS/MS. Biomonitoring Method – Translation of the German version from 2020 (10.34865/BI14930E5_3OR)\n",
      "Could not find 2398: Method for the determination of cobalt and its compounds in workplace air using atomic absorption spectrometry with the graphite furnace technique (GFAAS) after high-pressure microwave digestion. Air Monitoring Method (10.34865/AM744048E5_3)\n"
     ]
    },
    {
     "name": "stderr",
     "output_type": "stream",
     "text": [
      "  9%|▉         | 2400/26843 [00:39<1:47:26,  3.79it/s]"
     ]
    },
    {
     "name": "stdout",
     "output_type": "stream",
     "text": [
      "Could not find 2399: 1,2,5,6,9,10-Hexabromocyclododecane (HBCDD) – Determination of α-HBCDD, β-HBCDD and γ-HBCDD in plasma by LC-MS/MS. Biomonitoring Method – Translation of the German version from 2020 (10.34865/BI319455E5_3OR)\n"
     ]
    },
    {
     "name": "stderr",
     "output_type": "stream",
     "text": [
      "  9%|▉         | 2407/26843 [00:40<1:15:35,  5.39it/s]"
     ]
    },
    {
     "name": "stdout",
     "output_type": "stream",
     "text": [
      "Could not find 2406: Bisphenol S – Ableitung eines BAR. Beurteilungswerte in biologischem Material (10.34865/BB8009D5_2OR)\n"
     ]
    },
    {
     "name": "stderr",
     "output_type": "stream",
     "text": [
      "  9%|▉         | 2413/26843 [00:40<1:01:04,  6.67it/s]"
     ]
    },
    {
     "name": "stdout",
     "output_type": "stream",
     "text": [
      "Could not find 2412: 1,4-Dioxan – Addendum zur Reevaluierung des BAT-Wertes. Beurteilungswerte in biologischem Material (10.34865/BB12391D5_2AD)\n",
      "Could not find 2413: Antimon und seine anorganischen Verbindungen – Addendum zur Ableitung eines BAR. Beurteilungswerte in biologischem Material  (10.34865/BB744036D5_1)\n"
     ]
    },
    {
     "name": "stderr",
     "output_type": "stream",
     "text": [
      "  9%|▉         | 2415/26843 [00:41<1:15:32,  5.39it/s]"
     ]
    },
    {
     "name": "stdout",
     "output_type": "stream",
     "text": [
      "Could not find 2414: Antimon und seine Verbindungen – Bestimmung von Antimonspezies in Urin mittels HPLC-ICP-MS. Biomonitoring-Methode (10.34865/BI744036D5_1)\n",
      "Could not find 2415: Butylhydroxytoluol (BHT) – Bestimmung von 3,5 Di-tert-butyl-4-hydroxybenzoesäure (BHT-Säure) im Urin mittels LC-MS/MS. Biomonitoring-Methode (10.34865/BI12837D5_1)\n"
     ]
    },
    {
     "name": "stderr",
     "output_type": "stream",
     "text": [
      "  9%|▉         | 2417/26843 [00:42<1:30:06,  4.52it/s]"
     ]
    },
    {
     "name": "stdout",
     "output_type": "stream",
     "text": [
      "Could not find 2416: 1,4-Dichlorbenzol – Addendum zur Ableitung von BAT-Wert, BAR und EKA. Beurteilungswerte in biologischem Material (10.34865/BB10646D5_2AD)\n"
     ]
    },
    {
     "name": "stderr",
     "output_type": "stream",
     "text": [
      "  9%|▉         | 2418/26843 [00:42<1:37:44,  4.17it/s]"
     ]
    },
    {
     "name": "stdout",
     "output_type": "stream",
     "text": [
      "Could not find 2417: Alkohole, Ketone und Ether – Bestimmung von Alkoholen, Ketonen und Ethern in Urin mittels Headspace-GC-MS. Biomonitoring-Methode (10.34865/BI6756D5_2OR)\n"
     ]
    },
    {
     "name": "stderr",
     "output_type": "stream",
     "text": [
      "  9%|▉         | 2419/26843 [00:43<1:46:32,  3.82it/s]"
     ]
    },
    {
     "name": "stdout",
     "output_type": "stream",
     "text": [
      "Could not find 2418: N,N-Dimethylacetamid – Addendum zur Reevaluierung des BAT-Wertes. Beurteilungswerte in biologischem Material (10.34865/BB12719D5_3AD)\n"
     ]
    },
    {
     "name": "stderr",
     "output_type": "stream",
     "text": [
      "  9%|▉         | 2422/26843 [00:43<1:29:27,  4.55it/s]"
     ]
    },
    {
     "name": "stdout",
     "output_type": "stream",
     "text": [
      "Could not find 2421: Cyanwasserstoff, Cyanide und Cyanidbildner – Bestimmung von Thiocyanat in Plasma/Serum, Urin und Speichel mittels GC-MS. Biomonitoring-Methode (10.34865/BI30204D5_2OR)\n"
     ]
    },
    {
     "name": "stderr",
     "output_type": "stream",
     "text": [
      "  9%|▉         | 2424/26843 [00:44<1:28:42,  4.59it/s]"
     ]
    },
    {
     "name": "stdout",
     "output_type": "stream",
     "text": [
      "Could not find 2423: Triphenylphosphat, isopropyliert (isopropylierte Phenylphosphate, IPPhP) – Bestimmung von isopropylierten Phenylphosphaten in der Luft am Arbeitsplatz mittels Gaschromatographie (GC-MS). Luftanalysen-Methode (10.34865/AM6893741D5_3OR)\n"
     ]
    },
    {
     "name": "stderr",
     "output_type": "stream",
     "text": [
      "  9%|▉         | 2436/26843 [00:44<34:05, 11.93it/s]  "
     ]
    },
    {
     "name": "stdout",
     "output_type": "stream",
     "text": [
      "Could not find 2426: 1,2,5,6,9,10-Hexabromcyclododecan (HBCDD) – Bestimmung von α-HBCDD, β-HBCDD und γ-HBCDD in Plasma mittels LC-MS/MS. Biomonitoring-Methode (10.34865/BI319455D5_3OR)\n"
     ]
    },
    {
     "name": "stderr",
     "output_type": "stream",
     "text": [
      "  9%|▉         | 2441/26843 [00:45<34:36, 11.75it/s]"
     ]
    },
    {
     "name": "stdout",
     "output_type": "stream",
     "text": [
      "Could not find 2440: 2-Butoxyethylacetat. MAK-Begründung, Nachtrag  ( 10.34865/mb11207d5_1)\n"
     ]
    },
    {
     "name": "stderr",
     "output_type": "stream",
     "text": [
      "  9%|▉         | 2445/26843 [00:45<37:53, 10.73it/s]"
     ]
    },
    {
     "name": "stdout",
     "output_type": "stream",
     "text": [
      "Could not find 2444: Di-n-butylphosphat und seine technischen Gemische. MAK-Begründung, Nachtrag ( 10.34865/mb10766kskd5_1)\n"
     ]
    },
    {
     "name": "stderr",
     "output_type": "stream",
     "text": [
      "  9%|▉         | 2451/26843 [00:46<35:58, 11.30it/s]"
     ]
    },
    {
     "name": "stdout",
     "output_type": "stream",
     "text": [
      "Could not find 2450: Dichloressigsäure und ihre Salze. MAK-Begründung, Nachtrag ( 10.34865/mb7943verd5_1)\n"
     ]
    },
    {
     "name": "stderr",
     "output_type": "stream",
     "text": [
      "  9%|▉         | 2455/26843 [00:46<39:28, 10.30it/s]"
     ]
    },
    {
     "name": "stdout",
     "output_type": "stream",
     "text": [
      "Could not find 2454: 4-Nitroanilin. MAK-Begründung, Nachtrag ( 10.34865/mb10001d5_1)\n",
      "Could not find 2455: Cyanurchlorid. MAK-Begründung (10.34865/mb10877d5_2or)\n"
     ]
    },
    {
     "name": "stderr",
     "output_type": "stream",
     "text": [
      "  9%|▉         | 2457/26843 [00:47<59:25,  6.84it/s]"
     ]
    },
    {
     "name": "stdout",
     "output_type": "stream",
     "text": [
      "Could not find 2456: (4-Nonylphenoxy)essigsäure. MAK-Begründung ( 10.34865/mb311549d5_1)\n"
     ]
    },
    {
     "name": "stderr",
     "output_type": "stream",
     "text": [
      "  9%|▉         | 2459/26843 [00:47<1:04:46,  6.27it/s]"
     ]
    },
    {
     "name": "stdout",
     "output_type": "stream",
     "text": [
      "Could not find 2458: Graphit (alveolengängige Fraktion). MAK-Begründung, Nachtrag ( 10.34865/mb0228fstd5_2ad)\n"
     ]
    },
    {
     "name": "stderr",
     "output_type": "stream",
     "text": [
      "  9%|▉         | 2460/26843 [00:48<1:16:57,  5.28it/s]"
     ]
    },
    {
     "name": "stdout",
     "output_type": "stream",
     "text": [
      "Could not find 2459: Hexachlorethan. MAK-Begründung, Nachtrag ( 10.34865/mb6772d5_2ad)\n"
     ]
    },
    {
     "name": "stderr",
     "output_type": "stream",
     "text": [
      "  9%|▉         | 2461/26843 [00:48<1:29:31,  4.54it/s]"
     ]
    },
    {
     "name": "stdout",
     "output_type": "stream",
     "text": [
      "Could not find 2460: Methylamin. MAK-Begründung, Nachtrag (10.34865/mb7489d5_2ad)\n"
     ]
    },
    {
     "name": "stderr",
     "output_type": "stream",
     "text": [
      "  9%|▉         | 2462/26843 [00:49<1:43:46,  3.92it/s]"
     ]
    },
    {
     "name": "stdout",
     "output_type": "stream",
     "text": [
      "Could not find 2461: Tantal (alveolengängige Fraktion). MAK-Begründung, Nachtrag ( 10.34865/mb744025stad5_2ad)\n"
     ]
    },
    {
     "name": "stderr",
     "output_type": "stream",
     "text": [
      "  9%|▉         | 2463/26843 [00:49<1:56:41,  3.48it/s]"
     ]
    },
    {
     "name": "stdout",
     "output_type": "stream",
     "text": [
      "Could not find 2462: Xylidin, Isomere (2,3-Xylidin, 2,5-Xylidin, 3,4-Xylidin, 3,5-Xylidin). MAK-Begründung, Nachtrag ( 10.34865/mb8759ismd5_2ad)\n"
     ]
    },
    {
     "name": "stderr",
     "output_type": "stream",
     "text": [
      "  9%|▉         | 2464/26843 [00:49<2:07:38,  3.18it/s]"
     ]
    },
    {
     "name": "stdout",
     "output_type": "stream",
     "text": [
      "Could not find 2463: Xylol (alle Isomere). MAK-Begründung, Nachtrag (10.34865/mb133020d5_2ad)\n"
     ]
    },
    {
     "name": "stderr",
     "output_type": "stream",
     "text": [
      "  9%|▉         | 2470/26843 [00:50<1:05:12,  6.23it/s]"
     ]
    },
    {
     "name": "stdout",
     "output_type": "stream",
     "text": [
      "Could not find 2469: Bisphenol-A-diglycidylether. MAK-Begründung, Nachtrag (10.34865/mb167554d5_3ad)\n"
     ]
    },
    {
     "name": "stderr",
     "output_type": "stream",
     "text": [
      "  9%|▉         | 2471/26843 [00:50<1:18:29,  5.17it/s]"
     ]
    },
    {
     "name": "stdout",
     "output_type": "stream",
     "text": [
      "Could not find 2470: Trikresylphosphat, Isomere, „frei von o-Isomeren\". MAK-Begründung ( 10.34865/mb133078d5_3or)\n"
     ]
    },
    {
     "name": "stderr",
     "output_type": "stream",
     "text": [
      "  9%|▉         | 2472/26843 [00:51<1:38:43,  4.11it/s]"
     ]
    },
    {
     "name": "stdout",
     "output_type": "stream",
     "text": [
      "Could not find 2471: Trikresylphosphat, Summe aller o-Isomere. MAK-Begründung (10.34865/mb7830d5_3or)\n"
     ]
    },
    {
     "name": "stderr",
     "output_type": "stream",
     "text": [
      "  9%|▉         | 2473/26843 [00:51<1:52:11,  3.62it/s]"
     ]
    },
    {
     "name": "stdout",
     "output_type": "stream",
     "text": [
      "Could not find 2472: Kresylglycidylether (o-Isomer, Isomerengemisch). MAK-Begründung (10.34865/mb221079d5_3or)\n"
     ]
    },
    {
     "name": "stderr",
     "output_type": "stream",
     "text": [
      "  9%|▉         | 2486/26843 [00:52<32:21, 12.55it/s]  "
     ]
    },
    {
     "name": "stdout",
     "output_type": "stream",
     "text": [
      "Could not find 2476: Der Chimäre auf der Spur: Forschungsdaten in den Geisteswissenschaften (10.5282/O-BIB/2018H2S142-162)\n"
     ]
    },
    {
     "name": "stderr",
     "output_type": "stream",
     "text": [
      "  9%|▉         | 2497/26843 [00:52<25:07, 16.15it/s]"
     ]
    },
    {
     "name": "stdout",
     "output_type": "stream",
     "text": [
      "Could not find 2496: Kerosin (Erdöl). MAK-Begründung (10.34865/mb800820d5_2or)\n"
     ]
    },
    {
     "name": "stderr",
     "output_type": "stream",
     "text": [
      "  9%|▉         | 2502/26843 [00:53<28:06, 14.44it/s]"
     ]
    },
    {
     "name": "stdout",
     "output_type": "stream",
     "text": [
      "Could not find 2501: Vinylacetat. MAK-Begründung, Nachtrag (10.34865/mb10805d5_2ad)\n"
     ]
    },
    {
     "name": "stderr",
     "output_type": "stream",
     "text": [
      "  9%|▉         | 2505/26843 [00:53<33:32, 12.09it/s]"
     ]
    },
    {
     "name": "stdout",
     "output_type": "stream",
     "text": [
      "Could not find 2503: 1,1,2,2-Tetrachlorethan. MAK-Begründung, Nachtrag ( 10.34865/mb7934d5_2ad)\n"
     ]
    },
    {
     "name": "stderr",
     "output_type": "stream",
     "text": [
      "  9%|▉         | 2517/26843 [00:54<22:24, 18.10it/s]"
     ]
    },
    {
     "name": "stdout",
     "output_type": "stream",
     "text": [
      "Could not find 2505: Ammoniak. MAK-Begründung, Nachtrag (10.34865/mb766441d5_1)\n"
     ]
    },
    {
     "name": "stderr",
     "output_type": "stream",
     "text": [
      " 11%|█         | 2900/26843 [00:58<07:46, 51.28it/s] "
     ]
    },
    {
     "name": "stdout",
     "output_type": "stream",
     "text": [
      "Could not find 2890: Co-integration and causality relationship between energy consumption and economic growth: further empirical evidence for Nigeria (10.3846/jbem.202010.05)\n"
     ]
    },
    {
     "name": "stderr",
     "output_type": "stream",
     "text": [
      " 12%|█▏        | 3330/26843 [01:02<06:47, 57.70it/s] "
     ]
    },
    {
     "name": "stdout",
     "output_type": "stream",
     "text": [
      "Could not find 3312: Model-Driven Architecture Based Software Development for Epidemiological Surveillance Systems (10.3233/SHTI190279)\n"
     ]
    },
    {
     "name": "stderr",
     "output_type": "stream",
     "text": [
      " 14%|█▎        | 3654/26843 [01:05<07:32, 51.21it/s] "
     ]
    },
    {
     "name": "stdout",
     "output_type": "stream",
     "text": [
      "Could not find 3643: A stochastic model for designing last mile relief networks (10.1287/trsc,2015.0621)\n"
     ]
    },
    {
     "name": "stderr",
     "output_type": "stream",
     "text": [
      " 14%|█▎        | 3674/26843 [01:06<08:36, 44.87it/s]"
     ]
    },
    {
     "name": "stdout",
     "output_type": "stream",
     "text": [
      "Could not find 3656: Stochastic network models for logistics planning in disaster relief (10.1061/j.ejor.2016.04.041)\n"
     ]
    },
    {
     "name": "stderr",
     "output_type": "stream",
     "text": [
      " 15%|█▍        | 3960/26843 [01:08<06:37, 57.54it/s] \n"
     ]
    },
    {
     "ename": "KeyboardInterrupt",
     "evalue": "",
     "output_type": "error",
     "traceback": [
      "\u001B[0;31m---------------------------------------------------------------------------\u001B[0m",
      "\u001B[0;31mKeyboardInterrupt\u001B[0m                         Traceback (most recent call last)",
      "Cell \u001B[0;32mIn[10], line 12\u001B[0m\n\u001B[1;32m      9\u001B[0m     \u001B[38;5;28mprint\u001B[39m(\u001B[38;5;124mf\u001B[39m\u001B[38;5;124m\"\u001B[39m\u001B[38;5;124mSkipping \u001B[39m\u001B[38;5;132;01m{\u001B[39;00mindex\u001B[38;5;132;01m}\u001B[39;00m\u001B[38;5;124m: \u001B[39m\u001B[38;5;132;01m{\u001B[39;00mtitle\u001B[38;5;132;01m}\u001B[39;00m\u001B[38;5;124m (\u001B[39m\u001B[38;5;132;01m{\u001B[39;00mdoi\u001B[38;5;132;01m}\u001B[39;00m\u001B[38;5;124m)\u001B[39m\u001B[38;5;124m\"\u001B[39m)\n\u001B[1;32m     10\u001B[0m     \u001B[38;5;28;01mcontinue\u001B[39;00m\n\u001B[0;32m---> 12\u001B[0m \u001B[38;5;28;01mif\u001B[39;00m \u001B[43mcrossref_exists\u001B[49m\u001B[43m(\u001B[49m\u001B[43mdoi\u001B[49m\u001B[43m,\u001B[49m\u001B[43m \u001B[49m\u001B[43mtitle\u001B[49m\u001B[43m)\u001B[49m:\n\u001B[1;32m     13\u001B[0m     \u001B[38;5;28;01mcontinue\u001B[39;00m\n\u001B[1;32m     15\u001B[0m \u001B[38;5;66;03m# print(f\"Processing {index}: {title} ({doi})\")\u001B[39;00m\n",
      "Cell \u001B[0;32mIn[7], line 4\u001B[0m, in \u001B[0;36mcrossref_exists\u001B[0;34m(doi, title)\u001B[0m\n\u001B[1;32m      1\u001B[0m \u001B[38;5;28;01mdef\u001B[39;00m \u001B[38;5;21mcrossref_exists\u001B[39m(doi: \u001B[38;5;28mstr\u001B[39m, title: \u001B[38;5;28mstr\u001B[39m):\n\u001B[1;32m      2\u001B[0m     cursor\u001B[38;5;241m.\u001B[39mexecute(\u001B[38;5;124m\"\u001B[39m\u001B[38;5;124mSELECT * FROM crossrefs WHERE doi = ? OR title = ?\u001B[39m\u001B[38;5;124m\"\u001B[39m,\n\u001B[1;32m      3\u001B[0m                    (doi, title))\n\u001B[0;32m----> 4\u001B[0m     rows \u001B[38;5;241m=\u001B[39m \u001B[43mcursor\u001B[49m\u001B[38;5;241;43m.\u001B[39;49m\u001B[43mfetchall\u001B[49m\u001B[43m(\u001B[49m\u001B[43m)\u001B[49m\n\u001B[1;32m      5\u001B[0m     \u001B[38;5;28;01mreturn\u001B[39;00m \u001B[38;5;28mlen\u001B[39m(rows) \u001B[38;5;241m>\u001B[39m \u001B[38;5;241m0\u001B[39m\n",
      "\u001B[0;31mKeyboardInterrupt\u001B[0m: "
     ]
    }
   ],
   "source": [
    "from tqdm import tqdm\n",
    "\n",
    "for index, row in tqdm(meta_infos.iterrows(), total=len(meta_infos)):\n",
    "    doi = row[\"doi\"]\n",
    "    title = row[\"title\"]\n",
    "\n",
    "    # If doi is not a string, skip\n",
    "    if not isinstance(doi, str):\n",
    "        print(f\"Skipping {index}: {title} ({doi})\")\n",
    "        continue\n",
    "\n",
    "    if crossref_exists(doi, title):\n",
    "        continue\n",
    "\n",
    "    # print(f\"Processing {index}: {title} ({doi})\")\n",
    "\n",
    "    if doi is not None:\n",
    "        data = crossref_by_doi(doi)\n",
    "    else:\n",
    "        data = crossref_by_title(title)\n",
    "\n",
    "    if data is not None:\n",
    "        store_crossref_data(doi, title, data)\n",
    "    else:\n",
    "        print(f\"Could not find {index}: {title} ({doi})\")\n",
    "\n",
    "    # break"
   ],
   "metadata": {
    "collapsed": false,
    "ExecuteTime": {
     "end_time": "2023-06-30T16:38:02.594558200Z",
     "start_time": "2023-06-30T16:36:53.731894200Z"
    }
   }
  },
  {
   "cell_type": "code",
   "execution_count": 11,
   "outputs": [],
   "source": [
    "db.close()"
   ],
   "metadata": {
    "collapsed": false,
    "ExecuteTime": {
     "end_time": "2023-06-30T16:38:04.476175200Z",
     "start_time": "2023-06-30T16:38:04.444910100Z"
    }
   }
  }
 ],
 "metadata": {
  "kernelspec": {
   "display_name": "Python 3",
   "language": "python",
   "name": "python3"
  },
  "language_info": {
   "codemirror_mode": {
    "name": "ipython",
    "version": 2
   },
   "file_extension": ".py",
   "mimetype": "text/x-python",
   "name": "python",
   "nbconvert_exporter": "python",
   "pygments_lexer": "ipython2",
   "version": "2.7.6"
  }
 },
 "nbformat": 4,
 "nbformat_minor": 0
}
