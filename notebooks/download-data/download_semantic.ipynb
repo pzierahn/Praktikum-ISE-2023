{
 "cells": [
  {
   "cell_type": "markdown",
   "source": [
    "# Download data from Semantic Scholar\n",
    "\n",
    "This notebook downloads the data from Semantic Scholar for the ORKG dataset."
   ],
   "metadata": {
    "collapsed": false
   }
  },
  {
   "cell_type": "code",
   "execution_count": null,
   "outputs": [],
   "source": [
    "import os\n",
    "\n",
    "base_dir = \"data/orkg/\""
   ],
   "metadata": {
    "collapsed": false
   }
  },
  {
   "cell_type": "code",
   "execution_count": null,
   "metadata": {
    "collapsed": true
   },
   "outputs": [],
   "source": [
    "import json\n",
    "\n",
    "# Read filename.json data in directory\n",
    "def read_json(filename: str):\n",
    "    json_file = os.path.join(filename)\n",
    "    with open(json_file) as f:\n",
    "        img_annotations = json.load(f)\n",
    "\n",
    "    return img_annotations\n",
    "\n",
    "\n",
    "# Pretty print json data to console\n",
    "def print_json(tag: str, data: any):\n",
    "    print(tag, json.dumps(data, indent=2, sort_keys=True))\n",
    "\n",
    "\n",
    "# Pretty print json data to file\n",
    "def write_json(filename: str, data: any):\n",
    "    with open(filename, \"w\") as file:\n",
    "        json.dump(data, file, indent=2, sort_keys=True)"
   ]
  },
  {
   "cell_type": "code",
   "execution_count": null,
   "outputs": [],
   "source": [
    "import pandas as pd\n",
    "\n",
    "meta_infos_raw = read_json(os.path.join(base_dir, \"meta_infos.json\"))\n",
    "meta_infos = pd.DataFrame.from_dict(meta_infos_raw)\n",
    "meta_infos"
   ],
   "metadata": {
    "collapsed": false
   }
  },
  {
   "cell_type": "code",
   "execution_count": null,
   "outputs": [],
   "source": [
    "import sqlite3\n",
    "\n",
    "database_path = os.path.join(base_dir, \"orkg.db\")\n",
    "\n",
    "# Open a connection to the SQLite database file\n",
    "db = sqlite3.connect(database_path)\n",
    "\n",
    "# Create a cursor object to execute SQL statements\n",
    "cursor = db.cursor()\n",
    "cursor.execute(\"CREATE TABLE IF NOT EXISTS semantics (id INTEGER PRIMARY KEY, doi TEXT, data JSON)\")"
   ],
   "metadata": {
    "collapsed": false
   }
  },
  {
   "cell_type": "code",
   "execution_count": 38,
   "outputs": [],
   "source": [
    "import requests\n",
    "\n",
    "def semantics_by_doi(doi: str):\n",
    "    url = \"https://api.semanticscholar.org/v1/paper/\" + doi\n",
    "    response = requests.get(url, timeout=30)\n",
    "\n",
    "    if not response.ok:\n",
    "        return None\n",
    "\n",
    "    return response.json()"
   ],
   "metadata": {
    "collapsed": false,
    "ExecuteTime": {
     "end_time": "2023-07-01T08:22:38.159783500Z",
     "start_time": "2023-07-01T08:22:38.159783500Z"
    }
   }
  },
  {
   "cell_type": "code",
   "execution_count": null,
   "outputs": [],
   "source": [
    "def semantics_exists(doi: str):\n",
    "    cursor.execute(\"SELECT * FROM semantics WHERE doi = ?\",\n",
    "                   (doi,))\n",
    "    rows = cursor.fetchall()\n",
    "    return len(rows) > 0\n",
    "\n",
    "def store_semantics_data(doi: str, data: dict):\n",
    "    cursor.execute(\"INSERT INTO semantics (doi, data) VALUES (?, ?)\",\n",
    "                   (doi, json.dumps(data)))\n",
    "    db.commit()"
   ],
   "metadata": {
    "collapsed": false
   }
  },
  {
   "cell_type": "code",
   "execution_count": 39,
   "outputs": [
    {
     "name": "stderr",
     "output_type": "stream",
     "text": [
      "  0%|          | 110/26843 [00:41<5:55:42,  1.25it/s] "
     ]
    },
    {
     "name": "stdout",
     "output_type": "stream",
     "text": [
      "Could not find 109: A clustering method for energy efficient routing in wireless sensor networks (10.5555/1353572.1353596)\n"
     ]
    },
    {
     "name": "stderr",
     "output_type": "stream",
     "text": [
      "  0%|          | 112/26843 [00:42<4:50:12,  1.54it/s]"
     ]
    },
    {
     "name": "stdout",
     "output_type": "stream",
     "text": [
      "Could not find 111: Proceedings 1998 International Conference on Parallel and Distributed Systems (Cat. No.98TB100250) (10.1109/icpads.1998.741007)\n"
     ]
    },
    {
     "name": "stderr",
     "output_type": "stream",
     "text": [
      "  0%|          | 114/26843 [00:45<8:12:58,  1.11s/it] "
     ]
    },
    {
     "name": "stdout",
     "output_type": "stream",
     "text": [
      "Could not find 113: A Lagrangian Relaxation Approach to Multi-Period Inventory/Distribution Planning (10.2307/254095)\n"
     ]
    },
    {
     "name": "stderr",
     "output_type": "stream",
     "text": [
      "  1%|          | 163/26843 [01:27<5:07:55,  1.44it/s]"
     ]
    },
    {
     "name": "stdout",
     "output_type": "stream",
     "text": [
      "Could not find 162: Action Pattern of Bacillus SP. No. 7-M Chitosanase on Partially N-Acetylated Chitosan (10.1007/978-94-011-5942-5_39)\n"
     ]
    },
    {
     "name": "stderr",
     "output_type": "stream",
     "text": [
      "  1%|          | 181/26843 [01:39<5:34:22,  1.33it/s]"
     ]
    },
    {
     "name": "stdout",
     "output_type": "stream",
     "text": [
      "Could not find 180: American Society for Composites 18th Annual Technical Conference (10.1016/s0734-743x(03)00025-3)\n"
     ]
    },
    {
     "name": "stderr",
     "output_type": "stream",
     "text": [
      "  1%|          | 214/26843 [02:06<3:14:27,  2.28it/s] "
     ]
    },
    {
     "name": "stdout",
     "output_type": "stream",
     "text": [
      "Could not find 213: The informal economy: Studies in advanced and less developed countries (10.5860/choice.27-1622)\n"
     ]
    },
    {
     "name": "stderr",
     "output_type": "stream",
     "text": [
      "  1%|          | 232/26843 [02:19<5:04:23,  1.46it/s]"
     ]
    },
    {
     "name": "stdout",
     "output_type": "stream",
     "text": [
      "Could not find 231: A Dynamic Distribution Model with Warehouse and Customer Replenishment Requirements (10.2307/2584042)\n"
     ]
    },
    {
     "name": "stderr",
     "output_type": "stream",
     "text": [
      "  1%|          | 261/26843 [02:34<3:15:32,  2.27it/s]"
     ]
    },
    {
     "name": "stdout",
     "output_type": "stream",
     "text": [
      "Could not find 260: Computer understanding of document structure (10.1002/(sici)1098-1098(199624)7:4<271::aid-ima2>3.0.co;2-5)\n"
     ]
    },
    {
     "name": "stderr",
     "output_type": "stream",
     "text": [
      "  1%|          | 266/26843 [02:36<2:56:02,  2.52it/s]"
     ]
    },
    {
     "name": "stdout",
     "output_type": "stream",
     "text": [
      "Could not find 265: Fachgruppe für konstruktive Fragen (10.1515/9783486766769-006)\n"
     ]
    },
    {
     "name": "stderr",
     "output_type": "stream",
     "text": [
      "  1%|          | 270/26843 [02:37<2:26:52,  3.02it/s]"
     ]
    },
    {
     "name": "stdout",
     "output_type": "stream",
     "text": [
      "Could not find 269: The efficient design of adhesive bonded joints (10.2514/6.1975-798)\n"
     ]
    },
    {
     "name": "stderr",
     "output_type": "stream",
     "text": [
      "  1%|          | 276/26843 [02:41<4:19:20,  1.71it/s]"
     ]
    },
    {
     "name": "stdout",
     "output_type": "stream",
     "text": [
      "Could not find 275: Products (10.1365/s35784-011-0028-y)\n"
     ]
    },
    {
     "name": "stderr",
     "output_type": "stream",
     "text": [
      "  1%|          | 282/26843 [02:44<4:15:47,  1.73it/s]"
     ]
    },
    {
     "name": "stdout",
     "output_type": "stream",
     "text": [
      "Could not find 281: Design curve to characterize fatigue strength Shen, C.L., Wirsching, P.H. and Cashman, G.T. J. Eng. Mater. Technol. (Transact. ASME) (Oct. 1996) 118 (4), 535–541 (10.1016/s0142-1123(97)82623-0)\n"
     ]
    },
    {
     "name": "stderr",
     "output_type": "stream",
     "text": [
      "  1%|          | 300/26843 [02:59<4:45:14,  1.55it/s]"
     ]
    },
    {
     "name": "stdout",
     "output_type": "stream",
     "text": [
      "Could not find 299: Ceria in hydrogenation catalysis: high selectivity in the conversion of alkynes to olefins (10.1002/ange.201203675)\n"
     ]
    },
    {
     "name": "stderr",
     "output_type": "stream",
     "text": [
      "  2%|▏         | 405/26843 [04:19<3:25:16,  2.15it/s] "
     ]
    },
    {
     "name": "stdout",
     "output_type": "stream",
     "text": [
      "Could not find 404: Proceedings of the 46th Annual Meeting of the Association for Computational Linguistics on Human Language Technologies Short Papers - HLT '08 (10.3115/1557690)\n"
     ]
    },
    {
     "name": "stderr",
     "output_type": "stream",
     "text": [
      "  2%|▏         | 406/26843 [04:20<3:54:19,  1.88it/s]"
     ]
    },
    {
     "name": "stdout",
     "output_type": "stream",
     "text": [
      "Could not find 405: iSeM: Approximated Reasoning for Adaptive Hybrid Selection of Semantic Services (10.1007/978-3-642-13489-0_3)\n"
     ]
    },
    {
     "name": "stderr",
     "output_type": "stream",
     "text": [
      "  2%|▏         | 408/26843 [04:21<3:14:56,  2.26it/s]"
     ]
    },
    {
     "name": "stdout",
     "output_type": "stream",
     "text": [
      "Could not find 407: Generating Ambient Behaviors in Computer Role-Playing Games (10.1109/mis.2006.92)\n"
     ]
    },
    {
     "name": "stderr",
     "output_type": "stream",
     "text": [
      "  2%|▏         | 433/26843 [04:35<5:15:18,  1.40it/s]"
     ]
    },
    {
     "name": "stdout",
     "output_type": "stream",
     "text": [
      "Could not find 432: Effects of agile practices on social factors (10.1145/1083106.1083115)\n"
     ]
    },
    {
     "name": "stderr",
     "output_type": "stream",
     "text": [
      "  2%|▏         | 441/26843 [04:42<4:58:32,  1.47it/s]"
     ]
    },
    {
     "name": "stdout",
     "output_type": "stream",
     "text": [
      "Could not find 440: The Impact of Organizational Culture on Agile Method Use (10.1109/hicss.2009.436)\n"
     ]
    },
    {
     "name": "stderr",
     "output_type": "stream",
     "text": [
      "  2%|▏         | 453/26843 [04:48<4:13:35,  1.73it/s]"
     ]
    },
    {
     "name": "stdout",
     "output_type": "stream",
     "text": [
      "Could not find 452: Anordnung zur Übertragung von Zuständigkeiten für den Erlass von Widerspruchsbescheiden und die Vertretung des Dienstherrn bei Klagen von Beschäftigten der Bundesanstalt für Arbeitsschutz und Arbeitsmedizin in Reisekosten-, Umzugskosten- und Trennungsgeldangelegenheiten sowie in Angelegenheiten nach der Bundesbeihilfeverordnung (10.7328/bgbl_2010_0000493_h63)\n"
     ]
    },
    {
     "name": "stderr",
     "output_type": "stream",
     "text": [
      "  2%|▏         | 543/26843 [05:38<3:56:13,  1.86it/s]"
     ]
    },
    {
     "name": "stdout",
     "output_type": "stream",
     "text": [
      "Could not find 542: Product and Pricing Decisions in Crowdfunding (10.1287/mksc.2014.0900)\n"
     ]
    },
    {
     "name": "stderr",
     "output_type": "stream",
     "text": [
      "  2%|▏         | 580/26843 [06:08<4:17:04,  1.70it/s] "
     ]
    },
    {
     "name": "stdout",
     "output_type": "stream",
     "text": [
      "Could not find 579: Wie weit fliegt ein Skispringer, der mit 72 km/h abspringt? (10.5446/40456)\n"
     ]
    },
    {
     "name": "stderr",
     "output_type": "stream",
     "text": [
      "  2%|▏         | 596/26843 [06:18<5:26:42,  1.34it/s]"
     ]
    },
    {
     "name": "stdout",
     "output_type": "stream",
     "text": [
      "Could not find 595: The hierarchy-of-hypotheses approach: A synthesis method for enhancing theory development in ecology and evolution (10.32942/osf.io/6a85f)\n"
     ]
    },
    {
     "name": "stderr",
     "output_type": "stream",
     "text": [
      "  2%|▏         | 603/26843 [06:22<3:29:47,  2.08it/s]"
     ]
    },
    {
     "name": "stdout",
     "output_type": "stream",
     "text": [
      "Could not find 602: Selected Approaches Ranking Contextual Term for the BioASQ Multi-Label Classification (Task6a and 7a) (10.13140/rg.2.2.31648.33288)\n"
     ]
    },
    {
     "name": "stderr",
     "output_type": "stream",
     "text": [
      "  2%|▏         | 607/26843 [06:24<3:03:29,  2.38it/s]"
     ]
    },
    {
     "name": "stdout",
     "output_type": "stream",
     "text": [
      "Could not find 606: Sequencing Techniques (10.1007/978-3-319-54064-1_3)\n"
     ]
    },
    {
     "name": "stderr",
     "output_type": "stream",
     "text": [
      "  2%|▏         | 632/26843 [06:36<4:41:19,  1.55it/s]"
     ]
    },
    {
     "name": "stdout",
     "output_type": "stream",
     "text": [
      "Could not find 631: TIARA: A Visual Exploratory Text Analytic System (10.1145/1835804.1835827)\n"
     ]
    },
    {
     "name": "stderr",
     "output_type": "stream",
     "text": [
      "  2%|▏         | 670/26843 [06:46<1:53:25,  3.85it/s]"
     ]
    },
    {
     "name": "stdout",
     "output_type": "stream",
     "text": [
      "Could not find 669: How are topics born? Understanding the research dynamics preceding the emergence of new areas (10.7717/peerj-cs.119)\n"
     ]
    },
    {
     "name": "stderr",
     "output_type": "stream",
     "text": [
      "  3%|▎         | 715/26843 [07:08<4:19:00,  1.68it/s]"
     ]
    },
    {
     "name": "stdout",
     "output_type": "stream",
     "text": [
      "Could not find 714: Enhancing Answer Completeness of SPARQL Queries via Crowdsourcing (10.2139/ssrn.3199306)\n"
     ]
    },
    {
     "name": "stderr",
     "output_type": "stream",
     "text": [
      "  3%|▎         | 775/26843 [07:39<2:46:03,  2.62it/s]"
     ]
    },
    {
     "name": "stdout",
     "output_type": "stream",
     "text": [
      "Could not find 774: Visual (10.5040/9781350983915)\n"
     ]
    },
    {
     "name": "stderr",
     "output_type": "stream",
     "text": [
      "  3%|▎         | 778/26843 [07:41<4:02:43,  1.79it/s]"
     ]
    },
    {
     "name": "stdout",
     "output_type": "stream",
     "text": [
      "Could not find 777: Visual (10.5040/9781350983915)\n"
     ]
    },
    {
     "name": "stderr",
     "output_type": "stream",
     "text": [
      "  3%|▎         | 805/26843 [07:49<1:24:47,  5.12it/s]"
     ]
    },
    {
     "name": "stdout",
     "output_type": "stream",
     "text": [
      "Could not find 804: Research Articles in Simplified HTML: a Web-first format for HTML-based scholarly articles (10.7717/peerj-cs.132)\n"
     ]
    },
    {
     "name": "stderr",
     "output_type": "stream",
     "text": [
      "  3%|▎         | 816/26843 [07:52<1:32:08,  4.71it/s]"
     ]
    },
    {
     "name": "stdout",
     "output_type": "stream",
     "text": [
      "Could not find 815: MODELING SAFEST AND OPTIMAL EMERGENCY EVACUATION PLAN FOR LARGE-SCALE PEDESTRIANS ENVIRONMENTS (10.1109/wsc.2018.8632418)\n"
     ]
    },
    {
     "name": "stderr",
     "output_type": "stream",
     "text": [
      "  3%|▎         | 824/26843 [07:59<7:04:10,  1.02it/s]"
     ]
    },
    {
     "name": "stdout",
     "output_type": "stream",
     "text": [
      "Could not find 823: The ACCESS coupled model: description, control climate and evaluation (https://doi.org/10.22499/2.6301.004 )\n"
     ]
    },
    {
     "name": "stderr",
     "output_type": "stream",
     "text": [
      "  3%|▎         | 885/26843 [08:51<3:40:42,  1.96it/s] "
     ]
    },
    {
     "name": "stdout",
     "output_type": "stream",
     "text": [
      "Could not find 884: Comparative Research, Higher Education (10.1007/978-94-017-9553-1_175-1)\n"
     ]
    },
    {
     "name": "stderr",
     "output_type": "stream",
     "text": [
      "  3%|▎         | 927/26843 [09:08<2:23:46,  3.00it/s]"
     ]
    },
    {
     "name": "stdout",
     "output_type": "stream",
     "text": [
      "Could not find 926: Triethanolamine [MAK Value Documentation, 2018] (10.1002/3527600418.mb10271kske6519)\n"
     ]
    },
    {
     "name": "stderr",
     "output_type": "stream",
     "text": [
      "  4%|▎         | 951/26843 [09:22<3:18:15,  2.18it/s]"
     ]
    },
    {
     "name": "stdout",
     "output_type": "stream",
     "text": [
      "Could not find 950: Methyl acrylate [MAK Value Documentation, 2017] (10.1002/3527600418.mb9633e6319 )\n"
     ]
    },
    {
     "name": "stderr",
     "output_type": "stream",
     "text": [
      "  4%|▎         | 955/26843 [09:24<3:02:38,  2.36it/s]"
     ]
    },
    {
     "name": "stdout",
     "output_type": "stream",
     "text": [
      "Could not find 954: Methyl styrene (vinyl toluene) (all isomers) [MAK Value Documentation, 2017] (10.1002/3527600418.mb2501315ise6319 )\n"
     ]
    },
    {
     "name": "stderr",
     "output_type": "stream",
     "text": [
      "  4%|▎         | 960/26843 [09:26<3:35:17,  2.00it/s]"
     ]
    },
    {
     "name": "stdout",
     "output_type": "stream",
     "text": [
      "Could not find 959: 2‐Methoxypropylacetate‐1 [MAK Value Documentation, 2018] (10.1002/3527600418.mb7065770e6519 )\n"
     ]
    },
    {
     "name": "stderr",
     "output_type": "stream",
     "text": [
      "  4%|▎         | 961/26843 [09:27<3:37:49,  1.98it/s]"
     ]
    },
    {
     "name": "stdout",
     "output_type": "stream",
     "text": [
      "Could not find 960: Acetylaceton (2,4‐Pentandion) [MAK Value Documentation in German language, 2019] (10.1002/3527600418.mb12354d0067 )\n"
     ]
    },
    {
     "name": "stderr",
     "output_type": "stream",
     "text": [
      "  4%|▎         | 966/26843 [09:29<3:22:30,  2.13it/s]"
     ]
    },
    {
     "name": "stdout",
     "output_type": "stream",
     "text": [
      "Could not find 965: Kokosnussöl [MAK Value Documentation in German language, 2019] (10.1002/3527600418.mb800131d0067 )\n"
     ]
    },
    {
     "name": "stderr",
     "output_type": "stream",
     "text": [
      "  4%|▎         | 967/26843 [09:29<2:50:41,  2.53it/s]"
     ]
    },
    {
     "name": "stdout",
     "output_type": "stream",
     "text": [
      "Could not find 966: 4‐Methyl‐1,3‐dioxolan‐2‐on [MAK Value Documentation in German language, 2019] (10.1002/3527600418.mb10832d0067 )\n"
     ]
    },
    {
     "name": "stderr",
     "output_type": "stream",
     "text": [
      "  4%|▎         | 984/26843 [09:34<1:31:13,  4.72it/s]"
     ]
    },
    {
     "name": "stdout",
     "output_type": "stream",
     "text": [
      "Could not find 983: Parasitization of invasive gobiids in the eastern part of the Central trans-European corridor of invasion of Ponto-Caspian hydrobionts (10.1007/s00436-014-3791-2 )\n"
     ]
    },
    {
     "name": "stderr",
     "output_type": "stream",
     "text": [
      "  4%|▎         | 986/26843 [09:36<2:14:50,  3.20it/s]"
     ]
    },
    {
     "name": "stdout",
     "output_type": "stream",
     "text": [
      "Could not find 985: Grassland fires may favor native over introduced plants by reducing pathogen loads (10.1890/13-1362.1 )\n"
     ]
    },
    {
     "name": "stderr",
     "output_type": "stream",
     "text": [
      "  4%|▍         | 1093/26843 [09:45<29:34, 14.51it/s] "
     ]
    },
    {
     "name": "stdout",
     "output_type": "stream",
     "text": [
      "Could not find 1092: N‐Methyl‐2‐pyrrolidon (Dampf) [MAK Value Documentation in German language, 2019] (10.1002/3527600418.mb87250damd0066)\n"
     ]
    },
    {
     "name": "stderr",
     "output_type": "stream",
     "text": [
      "  4%|▍         | 1095/26843 [09:45<37:53, 11.33it/s]"
     ]
    },
    {
     "name": "stdout",
     "output_type": "stream",
     "text": [
      "Could not find 1094: 2,3,3,3‐Tetrafluorpropen [MAK Value Documentation in German language, 2019] (10.1002/3527600418.mb75412d0066)\n"
     ]
    },
    {
     "name": "stderr",
     "output_type": "stream",
     "text": [
      "  7%|▋         | 1770/26843 [10:40<1:25:29,  4.89it/s]"
     ]
    },
    {
     "name": "stdout",
     "output_type": "stream",
     "text": [
      "Could not find 1772: Alien Flora in Grasslands Adjacent to Road and Trail Corridors in Glacier National Park, Montana (U.S.A.) (10.1016/0006-3207(93)90688-w)\n"
     ]
    },
    {
     "name": "stderr",
     "output_type": "stream",
     "text": [
      "  7%|▋         | 1816/26843 [11:00<1:53:20,  3.68it/s]"
     ]
    },
    {
     "name": "stdout",
     "output_type": "stream",
     "text": [
      "Could not find 1815: Are invaders disturbance-limited? Conservation of mountain grasslands in Central Argentina (10.1111/j.1654-109x.2002.tb00549.x)\n"
     ]
    },
    {
     "name": "stderr",
     "output_type": "stream",
     "text": [
      "  7%|▋         | 1834/26843 [11:14<4:02:55,  1.72it/s]"
     ]
    },
    {
     "name": "stdout",
     "output_type": "stream",
     "text": [
      "Could not find 1833: Disturbance Facilitates Invasion: The Effects Are Stronger Abroad than at Home (10.2307/3844721)\n"
     ]
    },
    {
     "name": "stderr",
     "output_type": "stream",
     "text": [
      "  7%|▋         | 1841/26843 [11:19<4:29:47,  1.54it/s]"
     ]
    },
    {
     "name": "stdout",
     "output_type": "stream",
     "text": [
      "Could not find 1840: Prescribed fire effects on dalmation toadflax (10.2458/azu_jrm_v56i2_jacobs)\n"
     ]
    },
    {
     "name": "stderr",
     "output_type": "stream",
     "text": [
      "  7%|▋         | 1882/26843 [11:49<5:07:21,  1.35it/s]"
     ]
    },
    {
     "name": "stdout",
     "output_type": "stream",
     "text": [
      "Could not find 1881: Factors influencing dynamics of two invasive C-4 grasses in seasonally dry Hawaiian woodlands (10.2307/2680088)\n"
     ]
    },
    {
     "name": "stderr",
     "output_type": "stream",
     "text": [
      "  8%|▊         | 2080/26843 [12:26<4:26:40,  1.55it/s]"
     ]
    },
    {
     "name": "stdout",
     "output_type": "stream",
     "text": [
      "Could not find 2079: Phenotypic variation in invasive and biocontrol populations of the harlequin ladybird, Harmonia axyridis (10.1007/978-1-4020-6939-0_7)\n"
     ]
    },
    {
     "name": "stderr",
     "output_type": "stream",
     "text": [
      "  8%|▊         | 2266/26843 [13:45<3:39:34,  1.87it/s]"
     ]
    },
    {
     "name": "stdout",
     "output_type": "stream",
     "text": [
      "Could not find 2265: MODELING SAFEST AND OPTIMAL EMERGENCY EVACUATION PLAN FOR LARGE-SCALE PEDESTRIANS ENVIRONMENTS (10.1109/wsc.2018.8632418)\n"
     ]
    },
    {
     "name": "stderr",
     "output_type": "stream",
     "text": [
      "  9%|▊         | 2283/26843 [13:50<1:03:46,  6.42it/s]"
     ]
    },
    {
     "name": "stdout",
     "output_type": "stream",
     "text": [
      "Could not find 2282: More Readers in More Places: The benefits of open access for scholarly books (10.5281/zenodo.4014905)\n"
     ]
    },
    {
     "name": "stderr",
     "output_type": "stream",
     "text": [
      "  9%|▊         | 2290/26843 [13:53<2:20:41,  2.91it/s]"
     ]
    },
    {
     "name": "stdout",
     "output_type": "stream",
     "text": [
      "Could not find 2289: Let's ROR Together: Building an Open Registry of Research Organizations (10.5281/ZENODO.2691307)\n"
     ]
    },
    {
     "name": "stderr",
     "output_type": "stream",
     "text": [
      "  9%|▊         | 2313/26843 [13:57<56:09,  7.28it/s]  "
     ]
    },
    {
     "name": "stdout",
     "output_type": "stream",
     "text": [
      "Could not find 2312:  1,4-Dioxane. MAK Value Documentation, supplement – Translation of the German version from 2019  (10.34865/MB12391E5_1)\n"
     ]
    },
    {
     "name": "stderr",
     "output_type": "stream",
     "text": [
      "  9%|▊         | 2314/26843 [13:57<1:10:31,  5.80it/s]"
     ]
    },
    {
     "name": "stdout",
     "output_type": "stream",
     "text": [
      "Could not find 2313: Polytetrafluoroethene. MAK Value Documentation – Translation of the German version from 2019  (10.34865/MB900284E5_1)\n"
     ]
    },
    {
     "name": "stderr",
     "output_type": "stream",
     "text": [
      "  9%|▊         | 2315/26843 [13:58<1:24:03,  4.86it/s]"
     ]
    },
    {
     "name": "stdout",
     "output_type": "stream",
     "text": [
      "Could not find 2314: Furan. MAK Value Documentation, supplement – Translation of the German version from 2017 (10.34865/MB11000E5_2AD)\n"
     ]
    },
    {
     "name": "stderr",
     "output_type": "stream",
     "text": [
      "  9%|▊         | 2316/26843 [13:58<1:40:01,  4.09it/s]"
     ]
    },
    {
     "name": "stdout",
     "output_type": "stream",
     "text": [
      "Could not find 2315: Titanium dioxide (respirable fraction). MAK Value Documentation, supplement – Translation of the German version from 2019  (10.34865/MB1346367E5_1)\n"
     ]
    },
    {
     "name": "stderr",
     "output_type": "stream",
     "text": [
      "  9%|▊         | 2318/26843 [13:59<1:38:46,  4.14it/s]"
     ]
    },
    {
     "name": "stdout",
     "output_type": "stream",
     "text": [
      "Could not find 2317: 2,3-Pentanedione. MAK Value Documentation – Translation of the German version from 2017 (10.34865/MB60014E5_2AD)\n"
     ]
    },
    {
     "name": "stderr",
     "output_type": "stream",
     "text": [
      "  9%|▊         | 2325/26843 [14:02<2:39:04,  2.57it/s]"
     ]
    },
    {
     "name": "stdout",
     "output_type": "stream",
     "text": [
      "Could not find 2324: Identification of antiviral drug candidates against SARS-CoV-2 from FDA-approved drugs (10.1101/2020.03.20.999730)\n"
     ]
    },
    {
     "name": "stderr",
     "output_type": "stream",
     "text": [
      "  9%|▊         | 2337/26843 [14:08<2:18:31,  2.95it/s]"
     ]
    },
    {
     "name": "stdout",
     "output_type": "stream",
     "text": [
      "Could not find 2336: MODELING SAFEST AND OPTIMAL EMERGENCY EVACUATION PLAN FOR LARGE-SCALE PEDESTRIANS ENVIRONMENTS (10.1109/wsc.2018.8632418)\n"
     ]
    },
    {
     "name": "stderr",
     "output_type": "stream",
     "text": [
      "  9%|▊         | 2341/26843 [14:09<2:01:51,  3.35it/s]"
     ]
    },
    {
     "name": "stdout",
     "output_type": "stream",
     "text": [
      "Could not find 2340: Antimony and its inorganic compounds - Addendum for evaluation of a BAR. Assessment Values in Biological Material – Translation of the German version from 2020 (10.34865/BB744036E5_1)\n"
     ]
    },
    {
     "name": "stderr",
     "output_type": "stream",
     "text": [
      "  9%|▊         | 2343/26843 [14:09<1:55:42,  3.53it/s]"
     ]
    },
    {
     "name": "stdout",
     "output_type": "stream",
     "text": [
      "Could not find 2342: Chlorinated biphenyls –Addendum for evaluation of a concentration corresponding to an assignment of Pregnancy Risk Group C. Assessment Values in Biological Material – Translation of the German version from 2019 (10.34865/BB133636E5_1)\n"
     ]
    },
    {
     "name": "stderr",
     "output_type": "stream",
     "text": [
      "  9%|▊         | 2344/26843 [14:10<2:12:52,  3.07it/s]"
     ]
    },
    {
     "name": "stdout",
     "output_type": "stream",
     "text": [
      "Could not find 2343: Antimony and its compounds – Determination of antimony species in urine by HPLC-ICP-MS. Biomonitoring Method – Translation of the German version from 2020 (10.34865/BI744036E5_1)\n"
     ]
    },
    {
     "name": "stderr",
     "output_type": "stream",
     "text": [
      "  9%|▊         | 2345/26843 [14:10<2:30:19,  2.72it/s]"
     ]
    },
    {
     "name": "stdout",
     "output_type": "stream",
     "text": [
      "Could not find 2344: Aluminium – Addendum for evaluation of a BAR. Assessment Values in Biological Material – Translation of the German version from 2019 (10.34865/BB742990E5_1)\n"
     ]
    },
    {
     "name": "stderr",
     "output_type": "stream",
     "text": [
      "  9%|▊         | 2348/26843 [14:10<1:33:16,  4.38it/s]"
     ]
    },
    {
     "name": "stdout",
     "output_type": "stream",
     "text": [
      "Could not find 2347: Butylated hydroxytoluene (BHT) – Determination of 3,5 di-tert-butyl-4-hydroxybenzoic acid (BHT acid) in urine by LC-MS/MS. Biomonitoring Method – Translation of the German version from 2020 (10.34865/BI12837E5_1)\n"
     ]
    },
    {
     "name": "stderr",
     "output_type": "stream",
     "text": [
      "  9%|▉         | 2349/26843 [14:11<1:32:04,  4.43it/s]"
     ]
    },
    {
     "name": "stdout",
     "output_type": "stream",
     "text": [
      "Could not find 2348: Nickel and sparingly soluble nickel compounds (Nickel as nickel metal, nickel sulphide, sulphidic ores, nickel oxide, nickel carbonate) - Addendum for re-evaluation of a EKA. Assessment Values in Biological Material – Translation of the German version from 2019  (10.34865/BB744002E5_1)\n"
     ]
    },
    {
     "name": "stderr",
     "output_type": "stream",
     "text": [
      "  9%|▉         | 2351/26843 [14:12<2:19:25,  2.93it/s]"
     ]
    },
    {
     "name": "stdout",
     "output_type": "stream",
     "text": [
      "Could not find 2350: 1,4-Dioxane. MAK Value Documentation, supplement – Translation of the German version from 2019 – Erratum (10.34865/MB12391E5_1ERR1)\n"
     ]
    },
    {
     "name": "stderr",
     "output_type": "stream",
     "text": [
      "  9%|▉         | 2353/26843 [14:12<2:32:08,  2.68it/s]"
     ]
    },
    {
     "name": "stdout",
     "output_type": "stream",
     "text": [
      "Could not find 2352: 1,4-Dichlorobenzene – Addendum for evaluation of BAT value, BAR and EKA. Assessment Values in Biological Material – Translation of the German version from 2020 (10.34865/BB10646E5_2AD)\n"
     ]
    },
    {
     "name": "stderr",
     "output_type": "stream",
     "text": [
      "  9%|▉         | 2354/26843 [14:13<2:48:22,  2.42it/s]"
     ]
    },
    {
     "name": "stdout",
     "output_type": "stream",
     "text": [
      "Could not find 2353: 1,4-Dioxane – Addendum for re-evaluation of the BAT value. Assessment Values in Biological Material – Translation of the German version from 2020 (10.34865/BB12391E5_2AD)\n"
     ]
    },
    {
     "name": "stderr",
     "output_type": "stream",
     "text": [
      "  9%|▉         | 2355/26843 [14:13<2:26:27,  2.79it/s]"
     ]
    },
    {
     "name": "stdout",
     "output_type": "stream",
     "text": [
      "Could not find 2354: Bisphenol S – Evaluation of a BAR. Assessment Values in Biological Material – Translation of the German version from 2020 (10.34865/BB8009E5_2OR)\n"
     ]
    },
    {
     "name": "stderr",
     "output_type": "stream",
     "text": [
      "  9%|▉         | 2356/26843 [14:13<2:13:13,  3.06it/s]"
     ]
    },
    {
     "name": "stdout",
     "output_type": "stream",
     "text": [
      "Could not find 2355: Hydrogen cyanide, cyanides and cyanide-releasing compounds – determination of thiocyanate in plasma/serum, urine and saliva by GC-MS. Biomonitoring Method – Translation of the German version from 2020 (10.34865/BI30204E5_2OR)\n"
     ]
    },
    {
     "name": "stderr",
     "output_type": "stream",
     "text": [
      "  9%|▉         | 2385/26843 [14:27<1:14:10,  5.50it/s]"
     ]
    },
    {
     "name": "stdout",
     "output_type": "stream",
     "text": [
      "Could not find 2384: Alcohols, ketones and ethers – Determination of alcohols, ketones and ethers in urine by headspace GC-MS. Biomonitoring Method – Translation of the German version from 2020 (10.34865/BI6756E5_2OR)\n",
      "Could not find 2385: Polyethylene glycols (PEGs) (average molar mass 200–600). MAK Value Documentation, supplement - Translation of the German version from 2019 (10.34865/MB0PE1KSKE5_3AD)\n"
     ]
    },
    {
     "name": "stderr",
     "output_type": "stream",
     "text": [
      "  9%|▉         | 2387/26843 [14:28<1:17:23,  5.27it/s]"
     ]
    },
    {
     "name": "stdout",
     "output_type": "stream",
     "text": [
      "Could not find 2386:  Glutaric acid. MAK Value Documentation - Translation of the German version from 2019 (10.34865/MB11094E5_3OR)\n",
      "Could not find 2387:  α-Aluminium oxide (corundum) (respirable fraction). MAK Value Documentation, supplement - Translation of the German version from 2019 (10.34865/MB742990VERE5_3AD)\n"
     ]
    },
    {
     "name": "stderr",
     "output_type": "stream",
     "text": [
      "  9%|▉         | 2389/26843 [14:28<1:32:33,  4.40it/s]"
     ]
    },
    {
     "name": "stdout",
     "output_type": "stream",
     "text": [
      "Could not find 2388: o-Phenylphenol (OPP) and sodium o-phenylphenol (OPP-Na). MAK Value Documentation, supplement - Translation of the German version from 2016 (10.34865/MB9043VERE5_3AD)\n"
     ]
    },
    {
     "name": "stderr",
     "output_type": "stream",
     "text": [
      "  9%|▉         | 2390/26843 [14:29<1:49:36,  3.72it/s]"
     ]
    },
    {
     "name": "stdout",
     "output_type": "stream",
     "text": [
      "Could not find 2389: Azinphos-methyl. MAK Value Documentation, supplement - Translation of the German version from 2019 (10.34865/MB8650E5_3AD)\n"
     ]
    },
    {
     "name": "stderr",
     "output_type": "stream",
     "text": [
      "  9%|▉         | 2391/26843 [14:29<1:46:33,  3.82it/s]"
     ]
    },
    {
     "name": "stdout",
     "output_type": "stream",
     "text": [
      "Could not find 2390: N,N-Dimethylacetamide – Addendum for re-evaluation of the BAT value. Assessment Values in Biological Material – Translation of the German version from 2020 (10.34865/BB12719E5_3AD)\n"
     ]
    },
    {
     "name": "stderr",
     "output_type": "stream",
     "text": [
      "  9%|▉         | 2392/26843 [14:29<1:44:30,  3.90it/s]"
     ]
    },
    {
     "name": "stdout",
     "output_type": "stream",
     "text": [
      "Could not find 2391: Chlorobenzene – Addendum for re-evaluation of the BAT value. Assessment Values in Biological Material – Translation of the German version from 2019 (10.34865/BB10890E5_3AD)\n"
     ]
    },
    {
     "name": "stderr",
     "output_type": "stream",
     "text": [
      "  9%|▉         | 2393/26843 [14:30<1:43:17,  3.95it/s]"
     ]
    },
    {
     "name": "stdout",
     "output_type": "stream",
     "text": [
      "Could not find 2392: N,N-Dimethylformamide – Addendum for re-evaluation of the BAT value. Assessment Values in Biological Material – Translation of the German version from 2019 (10.34865/BB6812E5_3AD)\n"
     ]
    },
    {
     "name": "stderr",
     "output_type": "stream",
     "text": [
      "  9%|▉         | 2394/26843 [14:30<1:40:28,  4.06it/s]"
     ]
    },
    {
     "name": "stdout",
     "output_type": "stream",
     "text": [
      "Could not find 2393: Pentachlorophenol – Addendum for re-evaluation of EKA. Assessment Values in Biological Material – Translation of the German version from 2019 (10.34865/BB8786E5_3AD)\n"
     ]
    },
    {
     "name": "stderr",
     "output_type": "stream",
     "text": [
      "  9%|▉         | 2395/26843 [14:30<1:37:54,  4.16it/s]"
     ]
    },
    {
     "name": "stdout",
     "output_type": "stream",
     "text": [
      "Could not find 2394:  Lindane – Addendum for re-evaluation of the BAT value. Assessment Values in Biological Material – Translation of the German version from 2019 (10.34865/BB5889E5_3AD)\n"
     ]
    },
    {
     "name": "stderr",
     "output_type": "stream",
     "text": [
      "  9%|▉         | 2396/26843 [14:30<1:37:09,  4.19it/s]"
     ]
    },
    {
     "name": "stdout",
     "output_type": "stream",
     "text": [
      "Could not find 2395: 1,1,1-Trichloroethane – Addendum for re-evaluation of the BAT value. Assessment Values in Biological Material – Translation of the German version from 2019 (10.34865/BB7155E5_3AD)\n"
     ]
    },
    {
     "name": "stderr",
     "output_type": "stream",
     "text": [
      "  9%|▉         | 2397/26843 [14:31<1:37:00,  4.20it/s]"
     ]
    },
    {
     "name": "stdout",
     "output_type": "stream",
     "text": [
      "Could not find 2396: Method for the determination of aromatic amines in workplace air using gas chromatography.  Air Monitoring Method  (10.34865/AM9553E5_3)\n"
     ]
    },
    {
     "name": "stderr",
     "output_type": "stream",
     "text": [
      "  9%|▉         | 2398/26843 [14:31<2:08:22,  3.17it/s]"
     ]
    },
    {
     "name": "stdout",
     "output_type": "stream",
     "text": [
      "Could not find 2397: 2-Mercaptobenzothiazole – Determination of 2-mercaptobenzothiazole in urine by LC-MS/MS. Biomonitoring Method – Translation of the German version from 2020 (10.34865/BI14930E5_3OR)\n"
     ]
    },
    {
     "name": "stderr",
     "output_type": "stream",
     "text": [
      "  9%|▉         | 2399/26843 [14:32<2:30:10,  2.71it/s]"
     ]
    },
    {
     "name": "stdout",
     "output_type": "stream",
     "text": [
      "Could not find 2398: Method for the determination of cobalt and its compounds in workplace air using atomic absorption spectrometry with the graphite furnace technique (GFAAS) after high-pressure microwave digestion. Air Monitoring Method (10.34865/AM744048E5_3)\n"
     ]
    },
    {
     "name": "stderr",
     "output_type": "stream",
     "text": [
      "  9%|▉         | 2400/26843 [14:32<2:14:03,  3.04it/s]"
     ]
    },
    {
     "name": "stdout",
     "output_type": "stream",
     "text": [
      "Could not find 2399: 1,2,5,6,9,10-Hexabromocyclododecane (HBCDD) – Determination of α-HBCDD, β-HBCDD and γ-HBCDD in plasma by LC-MS/MS. Biomonitoring Method – Translation of the German version from 2020 (10.34865/BI319455E5_3OR)\n"
     ]
    },
    {
     "name": "stderr",
     "output_type": "stream",
     "text": [
      "  9%|▉         | 2407/26843 [14:34<1:58:54,  3.43it/s]"
     ]
    },
    {
     "name": "stdout",
     "output_type": "stream",
     "text": [
      "Could not find 2406: Bisphenol S – Ableitung eines BAR. Beurteilungswerte in biologischem Material (10.34865/BB8009D5_2OR)\n"
     ]
    },
    {
     "name": "stderr",
     "output_type": "stream",
     "text": [
      "  9%|▉         | 2413/26843 [14:37<3:24:53,  1.99it/s]"
     ]
    },
    {
     "name": "stdout",
     "output_type": "stream",
     "text": [
      "Could not find 2412: 1,4-Dioxan – Addendum zur Reevaluierung des BAT-Wertes. Beurteilungswerte in biologischem Material (10.34865/BB12391D5_2AD)\n"
     ]
    },
    {
     "name": "stderr",
     "output_type": "stream",
     "text": [
      "  9%|▉         | 2414/26843 [14:37<2:51:43,  2.37it/s]"
     ]
    },
    {
     "name": "stdout",
     "output_type": "stream",
     "text": [
      "Could not find 2413: Antimon und seine anorganischen Verbindungen – Addendum zur Ableitung eines BAR. Beurteilungswerte in biologischem Material  (10.34865/BB744036D5_1)\n"
     ]
    },
    {
     "name": "stderr",
     "output_type": "stream",
     "text": [
      "  9%|▉         | 2415/26843 [14:37<3:02:04,  2.24it/s]"
     ]
    },
    {
     "name": "stdout",
     "output_type": "stream",
     "text": [
      "Could not find 2414: Antimon und seine Verbindungen – Bestimmung von Antimonspezies in Urin mittels HPLC-ICP-MS. Biomonitoring-Methode (10.34865/BI744036D5_1)\n"
     ]
    },
    {
     "name": "stderr",
     "output_type": "stream",
     "text": [
      "  9%|▉         | 2416/26843 [14:38<2:35:56,  2.61it/s]"
     ]
    },
    {
     "name": "stdout",
     "output_type": "stream",
     "text": [
      "Could not find 2415: Butylhydroxytoluol (BHT) – Bestimmung von 3,5 Di-tert-butyl-4-hydroxybenzoesäure (BHT-Säure) im Urin mittels LC-MS/MS. Biomonitoring-Methode (10.34865/BI12837D5_1)\n"
     ]
    },
    {
     "name": "stderr",
     "output_type": "stream",
     "text": [
      "  9%|▉         | 2417/26843 [14:38<2:51:18,  2.38it/s]"
     ]
    },
    {
     "name": "stdout",
     "output_type": "stream",
     "text": [
      "Could not find 2416: 1,4-Dichlorbenzol – Addendum zur Ableitung von BAT-Wert, BAR und EKA. Beurteilungswerte in biologischem Material (10.34865/BB10646D5_2AD)\n"
     ]
    },
    {
     "name": "stderr",
     "output_type": "stream",
     "text": [
      "  9%|▉         | 2418/26843 [14:38<2:27:29,  2.76it/s]"
     ]
    },
    {
     "name": "stdout",
     "output_type": "stream",
     "text": [
      "Could not find 2417: Alkohole, Ketone und Ether – Bestimmung von Alkoholen, Ketonen und Ethern in Urin mittels Headspace-GC-MS. Biomonitoring-Methode (10.34865/BI6756D5_2OR)\n"
     ]
    },
    {
     "name": "stderr",
     "output_type": "stream",
     "text": [
      "  9%|▉         | 2419/26843 [14:39<2:09:48,  3.14it/s]"
     ]
    },
    {
     "name": "stdout",
     "output_type": "stream",
     "text": [
      "Could not find 2418: N,N-Dimethylacetamid – Addendum zur Reevaluierung des BAT-Wertes. Beurteilungswerte in biologischem Material (10.34865/BB12719D5_3AD)\n"
     ]
    },
    {
     "name": "stderr",
     "output_type": "stream",
     "text": [
      "  9%|▉         | 2422/26843 [14:40<2:24:16,  2.82it/s]"
     ]
    },
    {
     "name": "stdout",
     "output_type": "stream",
     "text": [
      "Could not find 2421: Cyanwasserstoff, Cyanide und Cyanidbildner – Bestimmung von Thiocyanat in Plasma/Serum, Urin und Speichel mittels GC-MS. Biomonitoring-Methode (10.34865/BI30204D5_2OR)\n"
     ]
    },
    {
     "name": "stderr",
     "output_type": "stream",
     "text": [
      "  9%|▉         | 2424/26843 [14:41<2:53:41,  2.34it/s]"
     ]
    },
    {
     "name": "stdout",
     "output_type": "stream",
     "text": [
      "Could not find 2423: Triphenylphosphat, isopropyliert (isopropylierte Phenylphosphate, IPPhP) – Bestimmung von isopropylierten Phenylphosphaten in der Luft am Arbeitsplatz mittels Gaschromatographie (GC-MS). Luftanalysen-Methode (10.34865/AM6893741D5_3OR)\n"
     ]
    },
    {
     "name": "stderr",
     "output_type": "stream",
     "text": [
      "  9%|▉         | 2427/26843 [14:42<2:52:11,  2.36it/s]"
     ]
    },
    {
     "name": "stdout",
     "output_type": "stream",
     "text": [
      "Could not find 2426: 1,2,5,6,9,10-Hexabromcyclododecan (HBCDD) – Bestimmung von α-HBCDD, β-HBCDD und γ-HBCDD in Plasma mittels LC-MS/MS. Biomonitoring-Methode (10.34865/BI319455D5_3OR)\n"
     ]
    },
    {
     "name": "stderr",
     "output_type": "stream",
     "text": [
      "  9%|▉         | 2441/26843 [14:47<1:27:54,  4.63it/s]"
     ]
    },
    {
     "name": "stdout",
     "output_type": "stream",
     "text": [
      "Could not find 2440: 2-Butoxyethylacetat. MAK-Begründung, Nachtrag  ( 10.34865/mb11207d5_1)\n"
     ]
    },
    {
     "name": "stderr",
     "output_type": "stream",
     "text": [
      "  9%|▉         | 2445/26843 [14:48<2:05:08,  3.25it/s]"
     ]
    },
    {
     "name": "stdout",
     "output_type": "stream",
     "text": [
      "Could not find 2444: Di-n-butylphosphat und seine technischen Gemische. MAK-Begründung, Nachtrag ( 10.34865/mb10766kskd5_1)\n"
     ]
    },
    {
     "name": "stderr",
     "output_type": "stream",
     "text": [
      "  9%|▉         | 2451/26843 [14:50<2:02:18,  3.32it/s]"
     ]
    },
    {
     "name": "stdout",
     "output_type": "stream",
     "text": [
      "Could not find 2450: Dichloressigsäure und ihre Salze. MAK-Begründung, Nachtrag ( 10.34865/mb7943verd5_1)\n"
     ]
    },
    {
     "name": "stderr",
     "output_type": "stream",
     "text": [
      "  9%|▉         | 2454/26843 [14:51<2:00:16,  3.38it/s]"
     ]
    },
    {
     "name": "stdout",
     "output_type": "stream",
     "text": [
      "Could not find 2453: Estimating the Information Gap between Textual and Visual Representations (10.1145/3078971.3078991)\n"
     ]
    },
    {
     "name": "stderr",
     "output_type": "stream",
     "text": [
      "  9%|▉         | 2455/26843 [14:52<2:17:26,  2.96it/s]"
     ]
    },
    {
     "name": "stdout",
     "output_type": "stream",
     "text": [
      "Could not find 2454: 4-Nitroanilin. MAK-Begründung, Nachtrag ( 10.34865/mb10001d5_1)\n"
     ]
    },
    {
     "name": "stderr",
     "output_type": "stream",
     "text": [
      "  9%|▉         | 2456/26843 [14:52<2:32:49,  2.66it/s]"
     ]
    },
    {
     "name": "stdout",
     "output_type": "stream",
     "text": [
      "Could not find 2455: Cyanurchlorid. MAK-Begründung (10.34865/mb10877d5_2or)\n"
     ]
    },
    {
     "name": "stderr",
     "output_type": "stream",
     "text": [
      "  9%|▉         | 2457/26843 [14:52<2:18:08,  2.94it/s]"
     ]
    },
    {
     "name": "stdout",
     "output_type": "stream",
     "text": [
      "Could not find 2456: (4-Nonylphenoxy)essigsäure. MAK-Begründung ( 10.34865/mb311549d5_1)\n"
     ]
    },
    {
     "name": "stderr",
     "output_type": "stream",
     "text": [
      "  9%|▉         | 2459/26843 [14:53<2:49:36,  2.40it/s]"
     ]
    },
    {
     "name": "stdout",
     "output_type": "stream",
     "text": [
      "Could not find 2458: Graphit (alveolengängige Fraktion). MAK-Begründung, Nachtrag ( 10.34865/mb0228fstd5_2ad)\n"
     ]
    },
    {
     "name": "stderr",
     "output_type": "stream",
     "text": [
      "  9%|▉         | 2460/26843 [14:54<2:26:48,  2.77it/s]"
     ]
    },
    {
     "name": "stdout",
     "output_type": "stream",
     "text": [
      "Could not find 2459: Hexachlorethan. MAK-Begründung, Nachtrag ( 10.34865/mb6772d5_2ad)\n"
     ]
    },
    {
     "name": "stderr",
     "output_type": "stream",
     "text": [
      "  9%|▉         | 2462/26843 [14:54<2:03:20,  3.29it/s]"
     ]
    },
    {
     "name": "stdout",
     "output_type": "stream",
     "text": [
      "Could not find 2461: Tantal (alveolengängige Fraktion). MAK-Begründung, Nachtrag ( 10.34865/mb744025stad5_2ad)\n"
     ]
    },
    {
     "name": "stderr",
     "output_type": "stream",
     "text": [
      "  9%|▉         | 2463/26843 [14:54<1:52:30,  3.61it/s]"
     ]
    },
    {
     "name": "stdout",
     "output_type": "stream",
     "text": [
      "Could not find 2462: Xylidin, Isomere (2,3-Xylidin, 2,5-Xylidin, 3,4-Xylidin, 3,5-Xylidin). MAK-Begründung, Nachtrag ( 10.34865/mb8759ismd5_2ad)\n"
     ]
    },
    {
     "name": "stderr",
     "output_type": "stream",
     "text": [
      "  9%|▉         | 2464/26843 [14:54<1:45:37,  3.85it/s]"
     ]
    },
    {
     "name": "stdout",
     "output_type": "stream",
     "text": [
      "Could not find 2463: Xylol (alle Isomere). MAK-Begründung, Nachtrag (10.34865/mb133020d5_2ad)\n"
     ]
    },
    {
     "name": "stderr",
     "output_type": "stream",
     "text": [
      "  9%|▉         | 2470/26843 [14:57<2:54:29,  2.33it/s]"
     ]
    },
    {
     "name": "stdout",
     "output_type": "stream",
     "text": [
      "Could not find 2469: Bisphenol-A-diglycidylether. MAK-Begründung, Nachtrag (10.34865/mb167554d5_3ad)\n"
     ]
    },
    {
     "name": "stderr",
     "output_type": "stream",
     "text": [
      "  9%|▉         | 2471/26843 [14:58<3:03:38,  2.21it/s]"
     ]
    },
    {
     "name": "stdout",
     "output_type": "stream",
     "text": [
      "Could not find 2470: Trikresylphosphat, Isomere, „frei von o-Isomeren\". MAK-Begründung ( 10.34865/mb133078d5_3or)\n"
     ]
    },
    {
     "name": "stderr",
     "output_type": "stream",
     "text": [
      "  9%|▉         | 2472/26843 [14:58<3:11:55,  2.12it/s]"
     ]
    },
    {
     "name": "stdout",
     "output_type": "stream",
     "text": [
      "Could not find 2471: Trikresylphosphat, Summe aller o-Isomere. MAK-Begründung (10.34865/mb7830d5_3or)\n"
     ]
    },
    {
     "name": "stderr",
     "output_type": "stream",
     "text": [
      "  9%|▉         | 2473/26843 [14:59<3:14:25,  2.09it/s]"
     ]
    },
    {
     "name": "stdout",
     "output_type": "stream",
     "text": [
      "Could not find 2472: Kresylglycidylether (o-Isomer, Isomerengemisch). MAK-Begründung (10.34865/mb221079d5_3or)\n"
     ]
    },
    {
     "name": "stderr",
     "output_type": "stream",
     "text": [
      "  9%|▉         | 2485/26843 [15:03<1:47:52,  3.76it/s]"
     ]
    },
    {
     "name": "stdout",
     "output_type": "stream",
     "text": [
      "Could not find 2484: Improving Wikipedia's accuracy: Is edit age a solution? (10.1002/asi.20755)\n"
     ]
    },
    {
     "name": "stderr",
     "output_type": "stream",
     "text": [
      "  9%|▉         | 2497/26843 [15:06<1:08:23,  5.93it/s]"
     ]
    },
    {
     "name": "stdout",
     "output_type": "stream",
     "text": [
      "Could not find 2496: Kerosin (Erdöl). MAK-Begründung (10.34865/mb800820d5_2or)\n"
     ]
    },
    {
     "name": "stderr",
     "output_type": "stream",
     "text": [
      "  9%|▉         | 2502/26843 [15:07<1:07:18,  6.03it/s]"
     ]
    },
    {
     "name": "stdout",
     "output_type": "stream",
     "text": [
      "Could not find 2501: Vinylacetat. MAK-Begründung, Nachtrag (10.34865/mb10805d5_2ad)\n"
     ]
    },
    {
     "name": "stderr",
     "output_type": "stream",
     "text": [
      "  9%|▉         | 2504/26843 [15:07<1:15:40,  5.36it/s]"
     ]
    },
    {
     "name": "stdout",
     "output_type": "stream",
     "text": [
      "Could not find 2503: 1,1,2,2-Tetrachlorethan. MAK-Begründung, Nachtrag ( 10.34865/mb7934d5_2ad)\n"
     ]
    },
    {
     "name": "stderr",
     "output_type": "stream",
     "text": [
      "  9%|▉         | 2506/26843 [15:08<1:07:36,  6.00it/s]"
     ]
    },
    {
     "name": "stdout",
     "output_type": "stream",
     "text": [
      "Could not find 2505: Ammoniak. MAK-Begründung, Nachtrag (10.34865/mb766441d5_1)\n"
     ]
    },
    {
     "name": "stderr",
     "output_type": "stream",
     "text": [
      "  9%|▉         | 2522/26843 [15:38<15:46:39,  2.34s/it]"
     ]
    },
    {
     "name": "stdout",
     "output_type": "stream",
     "text": [
      "Could not find 2521: Preprint repository arXiv achieves milestone million uploads (10.1063/pt.5.028530)\n"
     ]
    },
    {
     "name": "stderr",
     "output_type": "stream",
     "text": [
      "  9%|▉         | 2534/26843 [15:48<4:18:42,  1.57it/s] "
     ]
    },
    {
     "name": "stdout",
     "output_type": "stream",
     "text": [
      "Could not find 2533: 280 GHz Gyro-BWO design study: Final report (10.2172/6330213)\n"
     ]
    },
    {
     "name": "stderr",
     "output_type": "stream",
     "text": [
      " 10%|▉         | 2582/26843 [16:32<6:18:23,  1.07it/s] "
     ]
    },
    {
     "name": "stdout",
     "output_type": "stream",
     "text": [
      "Could not find 2581: Evaluation of the carbon cycle components in the Norwegian Earth System Model (NorESM) (10.5194/gmdd-5-3035-2012)\n"
     ]
    },
    {
     "name": "stderr",
     "output_type": "stream",
     "text": [
      " 10%|▉         | 2617/26843 [17:06<3:46:17,  1.78it/s] "
     ]
    },
    {
     "name": "stdout",
     "output_type": "stream",
     "text": [
      "Could not find 2616: The Vehicle Scheduling Problem with Multiple Vehicle Types (10.2307/2582862)\n"
     ]
    },
    {
     "name": "stderr",
     "output_type": "stream",
     "text": [
      " 10%|▉         | 2618/26843 [17:06<3:42:02,  1.82it/s]"
     ]
    },
    {
     "name": "stdout",
     "output_type": "stream",
     "text": [
      "Could not find 2617: The Fleet Size and Mix Vehicle Routing Problem with Time Windows (10.2307/3010326)\n"
     ]
    },
    {
     "name": "stderr",
     "output_type": "stream",
     "text": [
      " 10%|▉         | 2636/26843 [17:19<3:26:20,  1.96it/s]"
     ]
    },
    {
     "name": "stdout",
     "output_type": "stream",
     "text": [
      "Could not find 2635: A Tabu Search Approach for Delivering Pet Food and Flour in Switzerland (10.2307/2583852)\n"
     ]
    },
    {
     "name": "stderr",
     "output_type": "stream",
     "text": [
      " 10%|█         | 2710/26843 [18:14<4:54:25,  1.37it/s]"
     ]
    },
    {
     "name": "stdout",
     "output_type": "stream",
     "text": [
      "Could not find 2709: Emerging Currency Blocs (10.3386/w4335)\n"
     ]
    },
    {
     "name": "stderr",
     "output_type": "stream",
     "text": [
      " 10%|█         | 2724/26843 [18:24<4:04:22,  1.64it/s]"
     ]
    },
    {
     "name": "stdout",
     "output_type": "stream",
     "text": [
      "Could not find 2723: Exchange Rate Volatility and Trade Flows--Some New Evidence (10.5089/9781498330282.007)\n"
     ]
    },
    {
     "name": "stderr",
     "output_type": "stream",
     "text": [
      " 10%|█         | 2734/26843 [18:28<3:23:42,  1.97it/s]"
     ]
    },
    {
     "name": "stdout",
     "output_type": "stream",
     "text": [
      "Could not find 2733: http://www.nextclient.com Website Design (10.4016/34776.01)\n"
     ]
    },
    {
     "name": "stderr",
     "output_type": "stream",
     "text": [
      " 10%|█         | 2755/26843 [18:43<1:31:54,  4.37it/s] "
     ]
    },
    {
     "name": "stdout",
     "output_type": "stream",
     "text": [
      "Could not find 2754: Fatigue Fracture and Residual Stress Relaxation in Shot-Peened Components (10.1007/978-94-009-1143-7_133)\n"
     ]
    },
    {
     "name": "stderr",
     "output_type": "stream",
     "text": [
      " 11%|█         | 2829/26843 [19:16<3:47:14,  1.76it/s]"
     ]
    },
    {
     "name": "stdout",
     "output_type": "stream",
     "text": [
      "Could not find 2828: An investigation of co-integration and causality between energy consumption and economic activity in Taiwan (10.1016/s0140-6701(97)86140-1)\n"
     ]
    },
    {
     "name": "stderr",
     "output_type": "stream",
     "text": [
      " 11%|█         | 2830/26843 [19:16<3:19:33,  2.01it/s]"
     ]
    },
    {
     "name": "stdout",
     "output_type": "stream",
     "text": [
      "Could not find 2829: Cointegration, error correction and the relationship between GDP and energy: the case of South Korea and Singapore (10.1016/s0140-6701(98)94332-6)\n"
     ]
    },
    {
     "name": "stderr",
     "output_type": "stream",
     "text": [
      " 11%|█         | 2833/26843 [19:16<2:01:54,  3.28it/s]"
     ]
    },
    {
     "name": "stdout",
     "output_type": "stream",
     "text": [
      "Could not find 2832: A multivariate cointegration analysis of the role of energy in the US macroeconomy (10.1016/s0140-6701(01)80017-5)\n"
     ]
    },
    {
     "name": "stderr",
     "output_type": "stream",
     "text": [
      " 11%|█         | 2838/26843 [19:18<2:15:24,  2.95it/s]"
     ]
    },
    {
     "name": "stdout",
     "output_type": "stream",
     "text": [
      "Could not find 2837: Structural break, unit root, and the causality between energy consumption and GDP in Turkey (10.1016/s0140-6701(05)81378-5)\n"
     ]
    },
    {
     "name": "stderr",
     "output_type": "stream",
     "text": [
      " 11%|█         | 2840/26843 [19:21<4:54:36,  1.36it/s]"
     ]
    },
    {
     "name": "stdout",
     "output_type": "stream",
     "text": [
      "Could not find 2839: Causal relationship between energy consumption and GDP: the case of Korea 1970-1999 (10.1016/s0140-6701(04)94756-x)\n"
     ]
    },
    {
     "name": "stderr",
     "output_type": "stream",
     "text": [
      " 11%|█         | 2841/26843 [19:22<4:32:52,  1.47it/s]"
     ]
    },
    {
     "name": "stdout",
     "output_type": "stream",
     "text": [
      "Could not find 2840: Causality between energy consumption and economic growth in India: a note on conflicting results (10.1016/s0140-6701(05)81350-5)\n"
     ]
    },
    {
     "name": "stderr",
     "output_type": "stream",
     "text": [
      " 11%|█         | 2843/26843 [19:23<4:10:41,  1.60it/s]"
     ]
    },
    {
     "name": "stdout",
     "output_type": "stream",
     "text": [
      "Could not find 2842: Structural breaks, energy consumption, and economic growth revisited: evidence from Taiwan (10.1016/s0140-6701(06)81978-8)\n"
     ]
    },
    {
     "name": "stderr",
     "output_type": "stream",
     "text": [
      " 11%|█         | 2874/26843 [20:06<5:47:53,  1.15it/s] "
     ]
    },
    {
     "name": "stdout",
     "output_type": "stream",
     "text": [
      "Could not find 2873: Electricity consumption and economic growth in China (10.1057/9781137372055.0014)\n"
     ]
    },
    {
     "name": "stderr",
     "output_type": "stream",
     "text": [
      " 11%|█         | 2876/26843 [20:07<4:45:13,  1.40it/s]"
     ]
    },
    {
     "name": "stdout",
     "output_type": "stream",
     "text": [
      "Could not find 2875: Electricity consumption, employment and real income in Australia evidence from multivariate Granger causality tests (10.1016/s0140-6701(05)83042-5)\n"
     ]
    },
    {
     "name": "stderr",
     "output_type": "stream",
     "text": [
      " 11%|█         | 2891/26843 [20:23<4:58:25,  1.34it/s]"
     ]
    },
    {
     "name": "stdout",
     "output_type": "stream",
     "text": [
      "Could not find 2890: Co-integration and causality relationship between energy consumption and economic growth: further empirical evidence for Nigeria (10.3846/jbem.202010.05)\n"
     ]
    },
    {
     "name": "stderr",
     "output_type": "stream",
     "text": [
      " 11%|█         | 2896/26843 [20:27<4:55:42,  1.35it/s]"
     ]
    },
    {
     "name": "stdout",
     "output_type": "stream",
     "text": [
      "Could not find 2895: Nuclear energy consumption and economic growth in Korea (10.1016/s0140-6701(06)80489-3)\n"
     ]
    },
    {
     "name": "stderr",
     "output_type": "stream",
     "text": [
      " 11%|█         | 2944/26843 [21:13<4:19:50,  1.53it/s] "
     ]
    },
    {
     "name": "stdout",
     "output_type": "stream",
     "text": [
      "Could not find 2943: Region-based dense depth extraction from multi-view video (10.1109/siu.2007.4298869)\n"
     ]
    },
    {
     "name": "stderr",
     "output_type": "stream",
     "text": [
      " 12%|█▏        | 3096/26843 [22:53<3:27:31,  1.91it/s] "
     ]
    },
    {
     "name": "stdout",
     "output_type": "stream",
     "text": [
      "Could not find 3095: Divider PDF (10.1109/bimnics.2007.4610123)\n"
     ]
    },
    {
     "name": "stderr",
     "output_type": "stream",
     "text": [
      " 12%|█▏        | 3123/26843 [23:04<2:26:08,  2.71it/s]"
     ]
    },
    {
     "name": "stdout",
     "output_type": "stream",
     "text": [
      "Could not find 3122: Accelerated life testing of a traction inverter (10.1049/pe:19990511)\n"
     ]
    },
    {
     "name": "stderr",
     "output_type": "stream",
     "text": [
      " 12%|█▏        | 3148/26843 [23:17<3:57:35,  1.66it/s]"
     ]
    },
    {
     "name": "stdout",
     "output_type": "stream",
     "text": [
      "Could not find 3147: Hepatic undifferentiated (embryonal) sarcoma in an adult (10.1097/00042737-200012110-00014)\n"
     ]
    },
    {
     "name": "stderr",
     "output_type": "stream",
     "text": [
      " 12%|█▏        | 3150/26843 [23:18<3:28:26,  1.89it/s]"
     ]
    },
    {
     "name": "stdout",
     "output_type": "stream",
     "text": [
      "Could not find 3149: Pregnancy and Delivery in a Patient With Metastatic Embryonal Sarcoma of the Liver (10.1097/00006250-200205001-00032)\n"
     ]
    },
    {
     "name": "stderr",
     "output_type": "stream",
     "text": [
      " 12%|█▏        | 3236/26843 [24:27<8:41:52,  1.33s/it] "
     ]
    },
    {
     "name": "stdout",
     "output_type": "stream",
     "text": [
      "Could not find 3235: Face Alignment Across Large Poses: A 3D Solution (10.1109/cvpr.2016.23)\n"
     ]
    },
    {
     "name": "stderr",
     "output_type": "stream",
     "text": [
      " 12%|█▏        | 3240/26843 [24:37<13:08:56,  2.01s/it]"
     ]
    },
    {
     "name": "stdout",
     "output_type": "stream",
     "text": [
      "Could not find 3239: The FERET evaluation methodology for face-recognition algorithms (10.6028/nist.ir.6264)\n"
     ]
    },
    {
     "name": "stderr",
     "output_type": "stream",
     "text": [
      " 12%|█▏        | 3242/26843 [24:42<13:41:47,  2.09s/it]"
     ]
    },
    {
     "name": "stdout",
     "output_type": "stream",
     "text": [
      "Could not find 3241: Multi-PIE (10.1016/j.imavis.2009.08.002)\n"
     ]
    },
    {
     "name": "stderr",
     "output_type": "stream",
     "text": [
      " 12%|█▏        | 3247/26843 [24:51<10:58:02,  1.67s/it]"
     ]
    },
    {
     "name": "stdout",
     "output_type": "stream",
     "text": [
      "Could not find 3246: Localizing Parts of Faces Using a Consensus of Exemplars (10.1109/tpami.2013.23)\n"
     ]
    },
    {
     "name": "stderr",
     "output_type": "stream",
     "text": [
      " 12%|█▏        | 3276/26843 [25:30<4:17:27,  1.53it/s] "
     ]
    },
    {
     "name": "stdout",
     "output_type": "stream",
     "text": [
      "Could not find 3275: An Updated ERP Systems Annotated Bibliography: 2001-2005 (10.17705/1cais.01918)\n"
     ]
    },
    {
     "name": "stderr",
     "output_type": "stream",
     "text": [
      " 12%|█▏        | 3283/26843 [25:38<6:12:08,  1.06it/s]"
     ]
    },
    {
     "name": "stdout",
     "output_type": "stream",
     "text": [
      "Could not find 3282: Enterprise resource planning (ERP) systems: a research agenda (10.1108/02635570210421354)\n"
     ]
    },
    {
     "name": "stderr",
     "output_type": "stream",
     "text": [
      " 12%|█▏        | 3304/26843 [25:54<3:45:08,  1.74it/s]"
     ]
    },
    {
     "name": "stdout",
     "output_type": "stream",
     "text": [
      "Could not find 3303: A compilation research of ERP implementation critical success factors (10.48009/1_iis_2010_507-512)\n"
     ]
    },
    {
     "name": "stderr",
     "output_type": "stream",
     "text": [
      " 12%|█▏        | 3311/26843 [25:57<2:27:21,  2.66it/s]"
     ]
    },
    {
     "name": "stdout",
     "output_type": "stream",
     "text": [
      "Could not find 3310: Critical success factors for ERP system implementation projects (10.1201/b12295-7)\n"
     ]
    },
    {
     "name": "stderr",
     "output_type": "stream",
     "text": [
      " 13%|█▎        | 3359/26843 [26:26<6:31:16,  1.00it/s]"
     ]
    },
    {
     "name": "stdout",
     "output_type": "stream",
     "text": [
      "Could not find 3358: Richer and cleaner? A study on carbon dioxide emissions in developing countries (10.1016/s0301-4215(99)00047-6)\n"
     ]
    },
    {
     "name": "stderr",
     "output_type": "stream",
     "text": [
      " 13%|█▎        | 3390/26843 [27:06<7:04:29,  1.09s/it] "
     ]
    },
    {
     "name": "stdout",
     "output_type": "stream",
     "text": [
      "Could not find 3389: From Governance of Innovation to Innovations in Governance (10.5465/amp.2017.0011)\n"
     ]
    },
    {
     "name": "stderr",
     "output_type": "stream",
     "text": [
      " 13%|█▎        | 3503/26843 [29:17<6:49:21,  1.05s/it] "
     ]
    },
    {
     "name": "stdout",
     "output_type": "stream",
     "text": [
      "Could not find 3502: A capability-based security approach to manage access control in the Internet of Things (https://doi.org/10.1016/j.mcm.2013.02.006)\n"
     ]
    },
    {
     "name": "stderr",
     "output_type": "stream",
     "text": [
      " 13%|█▎        | 3552/26843 [30:04<3:33:12,  1.82it/s] "
     ]
    },
    {
     "name": "stdout",
     "output_type": "stream",
     "text": [
      "Could not find 3551: &#x0040;Scale: Insights from a large, long-lived appliance energy WSN (10.1109/ipsn.2012.6920948)\n"
     ]
    },
    {
     "name": "stderr",
     "output_type": "stream",
     "text": [
      " 13%|█▎        | 3600/26843 [30:40<3:04:33,  2.10it/s]"
     ]
    },
    {
     "name": "stdout",
     "output_type": "stream",
     "text": [
      "Could not find 3599: Smile aesthetics and malocclusion in UK teenage magazines assessed using the Index of Orthodontic Treatment Need (IOTN) (10.1038/sj.bdj.4811614)\n"
     ]
    },
    {
     "name": "stderr",
     "output_type": "stream",
     "text": [
      " 14%|█▎        | 3644/26843 [31:12<3:12:16,  2.01it/s] "
     ]
    },
    {
     "name": "stdout",
     "output_type": "stream",
     "text": [
      "Could not find 3643: A stochastic model for designing last mile relief networks (10.1287/trsc,2015.0621)\n"
     ]
    },
    {
     "name": "stderr",
     "output_type": "stream",
     "text": [
      " 14%|█▎        | 3657/26843 [31:22<3:52:36,  1.66it/s]"
     ]
    },
    {
     "name": "stdout",
     "output_type": "stream",
     "text": [
      "Could not find 3656: Stochastic network models for logistics planning in disaster relief (10.1061/j.ejor.2016.04.041)\n"
     ]
    },
    {
     "name": "stderr",
     "output_type": "stream",
     "text": [
      " 14%|█▎        | 3661/26843 [31:25<4:38:09,  1.39it/s]"
     ]
    },
    {
     "name": "stdout",
     "output_type": "stream",
     "text": [
      "Could not find 3660: Pre-positioning of emergency supplies for disaster response (10.1016/j.trb.2009.08.003)\n"
     ]
    },
    {
     "name": "stderr",
     "output_type": "stream",
     "text": [
      " 14%|█▎        | 3674/26843 [31:32<2:05:35,  3.07it/s]"
     ]
    },
    {
     "name": "stdout",
     "output_type": "stream",
     "text": [
      "Could not find 3673: Cheating for problem solving: a genetic algorithm with social interactions (10.2139/ssrn.2830301)\n"
     ]
    },
    {
     "name": "stderr",
     "output_type": "stream",
     "text": [
      " 14%|█▎        | 3676/26843 [31:33<2:46:07,  2.32it/s]"
     ]
    },
    {
     "name": "stdout",
     "output_type": "stream",
     "text": [
      "Could not find 3675: When Fast-Growing Economies Slow Down: International Evidence and Implications for China (10.1162/asep_a_00118)\n"
     ]
    },
    {
     "name": "stderr",
     "output_type": "stream",
     "text": [
      " 14%|█▎        | 3680/26843 [31:36<3:20:52,  1.92it/s]"
     ]
    },
    {
     "name": "stdout",
     "output_type": "stream",
     "text": [
      "Could not find 3679: Growth Slowdowns and the Middle-Income Trap (10.5089/9781484330647.001)\n"
     ]
    },
    {
     "name": "stderr",
     "output_type": "stream",
     "text": [
      " 14%|█▎        | 3681/26843 [31:36<2:53:04,  2.23it/s]"
     ]
    },
    {
     "name": "stdout",
     "output_type": "stream",
     "text": [
      "Could not find 3680: FRONT MATTER (10.1142/9789814425551_fmatter)\n"
     ]
    },
    {
     "name": "stderr",
     "output_type": "stream",
     "text": [
      " 14%|█▎        | 3683/26843 [31:36<2:20:10,  2.75it/s]"
     ]
    },
    {
     "name": "stdout",
     "output_type": "stream",
     "text": [
      "Could not find 3682: Middle-Income Growth Traps (10.1596/1813-9450-6210)\n"
     ]
    },
    {
     "name": "stderr",
     "output_type": "stream",
     "text": [
      " 14%|█▎        | 3684/26843 [31:37<2:32:44,  2.53it/s]"
     ]
    },
    {
     "name": "stdout",
     "output_type": "stream",
     "text": [
      "Could not find 3683: Middle-Income Traps: A Conceptual and Empirical Survey (10.1142/s1793993315500131)\n"
     ]
    },
    {
     "name": "stderr",
     "output_type": "stream",
     "text": [
      " 14%|█▎        | 3685/26843 [31:37<2:45:16,  2.34it/s]"
     ]
    },
    {
     "name": "stdout",
     "output_type": "stream",
     "text": [
      "Could not find 3684: Transitioning from Low-Income Growth to High-Income Growth: Is There a Middle Income Trap? (10.1596/1813-9450-7104)\n"
     ]
    },
    {
     "name": "stderr",
     "output_type": "stream",
     "text": [
      " 14%|█▍        | 3711/26843 [31:55<3:38:53,  1.76it/s]"
     ]
    },
    {
     "name": "stdout",
     "output_type": "stream",
     "text": [
      "Could not find 3710: Bioreactor state estimation and control (10.1002/9783527620852.ch7)\n"
     ]
    },
    {
     "name": "stderr",
     "output_type": "stream",
     "text": [
      " 14%|█▍        | 3735/26843 [32:09<2:49:15,  2.28it/s]"
     ]
    },
    {
     "name": "stdout",
     "output_type": "stream",
     "text": [
      "Could not find 3734: Modelling of the flow behavior of activated carbon cloths using a neural network approach (10.1016/s0140-6701(04)91738-9)\n"
     ]
    },
    {
     "name": "stderr",
     "output_type": "stream",
     "text": [
      " 14%|█▍        | 3739/26843 [32:11<3:00:20,  2.14it/s]"
     ]
    },
    {
     "name": "stdout",
     "output_type": "stream",
     "text": [
      "Could not find 3738: The predictions of coal/ char combustion rate using an artificial neural network approach (10.1016/s0140-6701(00)90972-x)\n"
     ]
    },
    {
     "name": "stderr",
     "output_type": "stream",
     "text": [
      " 14%|█▍        | 3740/26843 [32:11<2:34:40,  2.49it/s]"
     ]
    },
    {
     "name": "stdout",
     "output_type": "stream",
     "text": [
      "Could not find 3739: Artificial neural network-based prediction of hydrogen content of coal in power station boilers (10.1016/s0140-6701(06)00007-5)\n"
     ]
    },
    {
     "name": "stderr",
     "output_type": "stream",
     "text": [
      " 14%|█▍        | 3770/26843 [32:31<3:34:56,  1.79it/s]"
     ]
    },
    {
     "name": "stdout",
     "output_type": "stream",
     "text": [
      "Could not find 3769: Simulation of biomass gasification with a hybrid neural network model (10.1016/s0140-6701(02)85299-7)\n"
     ]
    },
    {
     "name": "stderr",
     "output_type": "stream",
     "text": [
      " 14%|█▍        | 3787/26843 [32:38<2:02:02,  3.15it/s]"
     ]
    },
    {
     "name": "stdout",
     "output_type": "stream",
     "text": [
      "Could not find 3786: Dona Luz: a novel (10.5860/choice.40-4495)\n"
     ]
    },
    {
     "name": "stderr",
     "output_type": "stream",
     "text": [
      " 14%|█▍        | 3814/26843 [32:54<1:29:04,  4.31it/s]"
     ]
    },
    {
     "name": "stdout",
     "output_type": "stream",
     "text": [
      "Could not find 3813: Wasserstoffperoxid [MAK Value Documentation in German language, 2019] (10.1002/3527600418.mb772284d0066)\n"
     ]
    },
    {
     "name": "stderr",
     "output_type": "stream",
     "text": [
      " 14%|█▍        | 3825/26843 [32:57<2:07:38,  3.01it/s]"
     ]
    },
    {
     "name": "stdout",
     "output_type": "stream",
     "text": [
      "Could not find 3824: Salmonella and campylobacter contamination in chicken (10.1108/nfs.2002.01732cab.008)\n"
     ]
    },
    {
     "name": "stderr",
     "output_type": "stream",
     "text": [
      " 14%|█▍        | 3836/26843 [33:05<3:15:40,  1.96it/s]"
     ]
    },
    {
     "name": "stdout",
     "output_type": "stream",
     "text": [
      "Could not find 3835: Maize chromomethylase Zea methyltransferase2 is required for CpNpG methylation (10.1105/tpc.13.8.1919)\n"
     ]
    },
    {
     "name": "stderr",
     "output_type": "stream",
     "text": [
      " 14%|█▍        | 3846/26843 [33:09<2:07:04,  3.02it/s]"
     ]
    },
    {
     "name": "stdout",
     "output_type": "stream",
     "text": [
      "Could not find 3845: Code of practice for safe operation of small-scale storage facilities for cryogenic liquids (10.3403/00046844u)\n"
     ]
    },
    {
     "name": "stderr",
     "output_type": "stream",
     "text": [
      " 14%|█▍        | 3850/26843 [33:11<2:32:40,  2.51it/s]"
     ]
    },
    {
     "name": "stdout",
     "output_type": "stream",
     "text": [
      "Could not find 3849: Techno-economic analysis of biomass-to-liquids production based on gasification (10.31274/etd-180810-835)\n"
     ]
    },
    {
     "name": "stderr",
     "output_type": "stream",
     "text": [
      " 15%|█▍        | 3914/26843 [33:47<2:22:45,  2.68it/s]"
     ]
    },
    {
     "name": "stdout",
     "output_type": "stream",
     "text": [
      "Could not find 3913: Deadlock-Free Scheduling Strategy for Automated Production Cell (10.1109/tsmca.2003.820573)\n"
     ]
    },
    {
     "name": "stderr",
     "output_type": "stream",
     "text": [
      " 15%|█▍        | 3930/26843 [33:58<4:01:34,  1.58it/s]"
     ]
    },
    {
     "name": "stdout",
     "output_type": "stream",
     "text": [
      "Could not find 3929: Appropriate evolutionary algorithm for scheduling in FMS (10.1109/nabic.2009.5393817)\n"
     ]
    },
    {
     "name": "stderr",
     "output_type": "stream",
     "text": [
      " 16%|█▌        | 4168/26843 [36:42<4:14:59,  1.48it/s]"
     ]
    },
    {
     "name": "stdout",
     "output_type": "stream",
     "text": [
      "Could not find 4167: The importance of diagnostic cytogenetics on outcome in AML: analysis of 1,612 patients entered into the MRC AML 10 trial (10.1182/blood.v92.7.2322)\n"
     ]
    },
    {
     "name": "stderr",
     "output_type": "stream",
     "text": [
      " 16%|█▌        | 4193/26843 [36:59<3:59:31,  1.58it/s]"
     ]
    },
    {
     "name": "stdout",
     "output_type": "stream",
     "text": [
      "Could not find 4192: Acute myeloid leukemia and myelodysplastic syndromes following essential thrombocythemia treated with hydroxyurea: high proportion of cases with 17p deletion (10.1182/blood.v91.2.616.616_616_622)\n"
     ]
    },
    {
     "name": "stderr",
     "output_type": "stream",
     "text": [
      " 16%|█▌        | 4266/26843 [37:59<4:36:45,  1.36it/s]"
     ]
    },
    {
     "name": "stdout",
     "output_type": "stream",
     "text": [
      "Could not find 4265: Progress and outcomes for children with autism receiving parent-managed intensive interventions (10.1016/s0891-4222(02)00095-1)\n"
     ]
    },
    {
     "name": "stderr",
     "output_type": "stream",
     "text": [
      " 16%|█▌        | 4314/26843 [38:31<3:01:45,  2.07it/s]"
     ]
    },
    {
     "name": "stdout",
     "output_type": "stream",
     "text": [
      "Could not find 4313: Neural-Network-Based Inverse Control Method for Active Power Filter System (10.1109/isic.2006.285564)\n"
     ]
    },
    {
     "name": "stderr",
     "output_type": "stream",
     "text": [
      " 16%|█▌        | 4353/26843 [38:56<2:39:05,  2.36it/s]"
     ]
    },
    {
     "name": "stdout",
     "output_type": "stream",
     "text": [
      "Could not find 4352: Techniques for data hiding (10.1147/sj.353.0313)\n"
     ]
    },
    {
     "name": "stderr",
     "output_type": "stream",
     "text": [
      " 16%|█▋        | 4378/26843 [39:24<4:34:07,  1.37it/s] "
     ]
    },
    {
     "name": "stdout",
     "output_type": "stream",
     "text": [
      "Could not find 4377: Population structure of sympatric anadromous and nonanadromous Oncorhynchus mykiss: evidence from spawning surveys and otolith microchemistry (10.1139/f00-192)\n"
     ]
    },
    {
     "name": "stderr",
     "output_type": "stream",
     "text": [
      " 16%|█▋        | 4395/26843 [39:34<2:47:29,  2.23it/s]"
     ]
    },
    {
     "name": "stdout",
     "output_type": "stream",
     "text": [
      "Could not find 4394: Evaluation of Transgenic Corn Against European Corn Borer, Central Minnesota, 1996 (10.1093/amt/22.1.424)\n"
     ]
    },
    {
     "name": "stderr",
     "output_type": "stream",
     "text": [
      " 16%|█▋        | 4415/26843 [39:48<3:38:19,  1.71it/s]"
     ]
    },
    {
     "name": "stdout",
     "output_type": "stream",
     "text": [
      "Could not find 4414: Genetic improvements in major US crops: the size and distribution of benefits (10.1111/j.1574-0862.2003.tb00245.x)\n"
     ]
    },
    {
     "name": "stderr",
     "output_type": "stream",
     "text": [
      " 16%|█▋        | 4423/26843 [39:51<2:44:52,  2.27it/s]"
     ]
    },
    {
     "name": "stdout",
     "output_type": "stream",
     "text": [
      "Could not find 4422: Currency Unions in Africa: Is the Trade Effect Substantial Enough to Justify their Formation? (10.1111/j.1467-9701.2007.01028.x)\n"
     ]
    },
    {
     "name": "stderr",
     "output_type": "stream",
     "text": [
      " 16%|█▋        | 4426/26843 [39:53<2:54:15,  2.14it/s]"
     ]
    },
    {
     "name": "stdout",
     "output_type": "stream",
     "text": [
      "Could not find 4425: University of Oxford, Centre for the Study of African Economies (CSAE) (10.1163/1872-9037_afco_asc_1616)\n"
     ]
    },
    {
     "name": "stderr",
     "output_type": "stream",
     "text": [
      " 17%|█▋        | 4431/26843 [39:56<3:25:58,  1.81it/s]"
     ]
    },
    {
     "name": "stdout",
     "output_type": "stream",
     "text": [
      "Could not find 4430: REER Imbalances and Macroeconomic Adjustments in the Proposed West African Monetary Union (10.1111/saje.12039)\n"
     ]
    },
    {
     "name": "stderr",
     "output_type": "stream",
     "text": [
      " 17%|█▋        | 4432/26843 [39:56<3:22:56,  1.84it/s]"
     ]
    },
    {
     "name": "stdout",
     "output_type": "stream",
     "text": [
      "Could not find 4431: Are proposed African monetary unions optimal currency areas? Real, monetary and fiscal policy convergence analysis (10.1108/ajems-02-2012-0010)\n"
     ]
    },
    {
     "name": "stderr",
     "output_type": "stream",
     "text": [
      " 17%|█▋        | 4452/26843 [40:07<3:02:14,  2.05it/s]"
     ]
    },
    {
     "name": "stdout",
     "output_type": "stream",
     "text": [
      "Could not find 4451: World Development Indicators 2015 (10.1596/978-1-4648-0440-3)\n"
     ]
    },
    {
     "name": "stderr",
     "output_type": "stream",
     "text": [
      " 17%|█▋        | 4471/26843 [40:20<3:47:37,  1.64it/s]"
     ]
    },
    {
     "name": "stdout",
     "output_type": "stream",
     "text": [
      "Could not find 4470: Extracolonic manifestations of Clostridium difficile infections: presentation of 2 cases and review of the literature (10.1097/00019048-200105000-00012)\n"
     ]
    },
    {
     "name": "stderr",
     "output_type": "stream",
     "text": [
      " 17%|█▋        | 4499/26843 [40:38<3:42:01,  1.68it/s]"
     ]
    },
    {
     "name": "stdout",
     "output_type": "stream",
     "text": [
      "Could not find 4498: Facial event classification with task oriented dynamic bayesian network (10.1109/cvpr.2004.1315256)\n"
     ]
    },
    {
     "name": "stderr",
     "output_type": "stream",
     "text": [
      " 17%|█▋        | 4509/26843 [40:40<1:23:22,  4.46it/s]"
     ]
    },
    {
     "name": "stdout",
     "output_type": "stream",
     "text": [
      "Could not find 4508: Anonymizing bipartite graph data using safe groupings (10.14778/1453856.1453947)\n"
     ]
    },
    {
     "name": "stderr",
     "output_type": "stream",
     "text": [
      " 17%|█▋        | 4513/26843 [40:42<1:46:00,  3.51it/s]"
     ]
    },
    {
     "name": "stdout",
     "output_type": "stream",
     "text": [
      "Could not find 4512: Resisting structural re-identification in anonymized social networks (10.14778/1453856.1453873)\n"
     ]
    },
    {
     "name": "stderr",
     "output_type": "stream",
     "text": [
      " 17%|█▋        | 4534/26843 [41:15<20:40:33,  3.34s/it]"
     ]
    },
    {
     "name": "stdout",
     "output_type": "stream",
     "text": [
      "Could not find 4533: L-diversity: privacy beyond k-anonymity (10.1109/icde.2006.1)\n"
     ]
    },
    {
     "name": "stderr",
     "output_type": "stream",
     "text": [
      " 17%|█▋        | 4568/26843 [41:43<4:19:18,  1.43it/s] "
     ]
    },
    {
     "name": "stdout",
     "output_type": "stream",
     "text": [
      "Could not find 4567: Cloud Computing (10.1002/9781118393994.ch1)\n"
     ]
    },
    {
     "name": "stderr",
     "output_type": "stream",
     "text": [
      " 17%|█▋        | 4612/26843 [42:15<3:07:57,  1.97it/s] "
     ]
    },
    {
     "name": "stdout",
     "output_type": "stream",
     "text": [
      "Could not find 4611: Some studies in machine learning using the game of checkers (10.1147/rd.441.0206)\n"
     ]
    },
    {
     "name": "stderr",
     "output_type": "stream",
     "text": [
      " 17%|█▋        | 4614/26843 [42:18<5:13:23,  1.18it/s]"
     ]
    },
    {
     "name": "stdout",
     "output_type": "stream",
     "text": [
      "Could not find 4613: Estimation of the Transmission Risk of 2019-nCov and Its Implication for Public Health Interventions (10.2139/ssrn.3525558 )\n"
     ]
    },
    {
     "name": "stderr",
     "output_type": "stream",
     "text": [
      " 17%|█▋        | 4626/26843 [42:29<4:54:15,  1.26it/s]"
     ]
    },
    {
     "name": "stdout",
     "output_type": "stream",
     "text": [
      "Could not find 4625: deleted (None)\n"
     ]
    },
    {
     "name": "stderr",
     "output_type": "stream",
     "text": [
      " 17%|█▋        | 4628/26843 [42:30<3:21:45,  1.84it/s]"
     ]
    },
    {
     "name": "stdout",
     "output_type": "stream",
     "text": [
      "Could not find 4627: deleted (https://doi.org/10.1145/2814864.2814887)\n"
     ]
    },
    {
     "name": "stderr",
     "output_type": "stream",
     "text": [
      " 17%|█▋        | 4629/26843 [42:30<3:18:02,  1.87it/s]"
     ]
    },
    {
     "name": "stdout",
     "output_type": "stream",
     "text": [
      "Could not find 4628: deleted (https://doi.org/10.1145/2872518.2889386)\n"
     ]
    },
    {
     "name": "stderr",
     "output_type": "stream",
     "text": [
      " 17%|█▋        | 4630/26843 [42:30<2:48:51,  2.19it/s]"
     ]
    },
    {
     "name": "stdout",
     "output_type": "stream",
     "text": [
      "Could not find 4629: deleted (https://doi.org/10.1145/1255175.1255193)\n"
     ]
    },
    {
     "name": "stderr",
     "output_type": "stream",
     "text": [
      " 17%|█▋        | 4633/26843 [42:31<2:24:33,  2.56it/s]"
     ]
    },
    {
     "name": "stdout",
     "output_type": "stream",
     "text": [
      "Could not find 4632: Crowdsourced semantic annotation of scientific publications and tabular data in PDF (https://doi.org/10.1145/2814864.2814887)\n"
     ]
    },
    {
     "name": "stderr",
     "output_type": "stream",
     "text": [
      " 17%|█▋        | 4634/26843 [42:32<2:10:35,  2.83it/s]"
     ]
    },
    {
     "name": "stdout",
     "output_type": "stream",
     "text": [
      "Could not find 4633: A Large Public Corpus of Web Tables containing Time and Context Metadata (https://doi.org/10.1145/2872518.2889386)\n"
     ]
    },
    {
     "name": "stderr",
     "output_type": "stream",
     "text": [
      " 17%|█▋        | 4635/26843 [42:32<2:24:42,  2.56it/s]"
     ]
    },
    {
     "name": "stdout",
     "output_type": "stream",
     "text": [
      "Could not find 4634: TableSeer: automatic table metadata extraction and searching in digital libraries (https://doi.org/10.1145/1255175.1255193)\n"
     ]
    },
    {
     "name": "stderr",
     "output_type": "stream",
     "text": [
      " 17%|█▋        | 4636/26843 [42:32<2:07:49,  2.90it/s]"
     ]
    },
    {
     "name": "stdout",
     "output_type": "stream",
     "text": [
      "Could not find 4635: TEXUS: A Task-based Approach for Table Extraction and Understanding (https://doi.org/10.1145/2682571.2797069)\n"
     ]
    },
    {
     "name": "stderr",
     "output_type": "stream",
     "text": [
      " 17%|█▋        | 4637/26843 [42:33<2:23:36,  2.58it/s]"
     ]
    },
    {
     "name": "stdout",
     "output_type": "stream",
     "text": [
      "Could not find 4636: Schema extraction for tabular data on the web (https://doi.org/10.14778/2536336.2536343)\n"
     ]
    },
    {
     "name": "stderr",
     "output_type": "stream",
     "text": [
      " 17%|█▋        | 4648/26843 [42:40<2:59:21,  2.06it/s]"
     ]
    },
    {
     "name": "stdout",
     "output_type": "stream",
     "text": [
      "Could not find 4647: Lessons drawn from China and South Korea for managing COVID-19 epidemic: insights from a comparative modeling study (10.1101/2020.03.09.20033464)\n"
     ]
    },
    {
     "name": "stderr",
     "output_type": "stream",
     "text": [
      " 17%|█▋        | 4669/26843 [42:51<1:40:08,  3.69it/s] "
     ]
    },
    {
     "name": "stdout",
     "output_type": "stream",
     "text": [
      "Could not find 4668: Graduate School of Computational Engineering : GSC 233 : Excellence Initiative : final report for Graduate School : funding periods: 2007-2012, 2012-2017, 2017-2019 : DFG Project Number: 39112826 (10.2314/KXP:1698463162)\n"
     ]
    },
    {
     "name": "stderr",
     "output_type": "stream",
     "text": [
      " 18%|█▊        | 4732/26843 [43:28<3:23:07,  1.81it/s]"
     ]
    },
    {
     "name": "stdout",
     "output_type": "stream",
     "text": [
      "Could not find 4731: deleted (10.1101/2020.03.05.20031740)\n"
     ]
    },
    {
     "name": "stderr",
     "output_type": "stream",
     "text": [
      " 18%|█▊        | 4733/26843 [43:29<3:19:34,  1.85it/s]"
     ]
    },
    {
     "name": "stdout",
     "output_type": "stream",
     "text": [
      "Could not find 4732: A data-driven assessment of early travel restrictions related to the spreading of the novel COVID-19 within mainland China (10.1101/2020.03.05.20031740)\n"
     ]
    },
    {
     "name": "stderr",
     "output_type": "stream",
     "text": [
      " 18%|█▊        | 4745/26843 [43:34<2:55:50,  2.09it/s]"
     ]
    },
    {
     "name": "stdout",
     "output_type": "stream",
     "text": [
      "Could not find 4744: Helping analysts trace requirements:an objective look (10.1109/icre.2004.1335682)\n"
     ]
    },
    {
     "name": "stderr",
     "output_type": "stream",
     "text": [
      " 18%|█▊        | 4747/26843 [43:35<2:24:20,  2.55it/s]"
     ]
    },
    {
     "name": "stdout",
     "output_type": "stream",
     "text": [
      "Could not find 4746: Mechanistic-statistical SIR modelling for early estimation of the actual number of cases and mortality rate from COVID-19 (10.1101/2020.03.22.20040915 )\n"
     ]
    },
    {
     "name": "stderr",
     "output_type": "stream",
     "text": [
      " 18%|█▊        | 4756/26843 [43:44<5:17:06,  1.16it/s]"
     ]
    },
    {
     "name": "stdout",
     "output_type": "stream",
     "text": [
      "Could not find 4755: PROBABILISTIC ROBUST PARALLEL DESIGN OF THE SUBSYSTEMS CONSTITUTING A COMPLEX SYSTEM (10.3182/20050703-6-cz-1902.01543)\n"
     ]
    },
    {
     "name": "stderr",
     "output_type": "stream",
     "text": [
      " 18%|█▊        | 4762/26843 [43:48<3:02:56,  2.01it/s]"
     ]
    },
    {
     "name": "stdout",
     "output_type": "stream",
     "text": [
      "Could not find 4761: Formation of silicon by electrodeoxidation, and implications for titanium metal production (hdl.handle.net/10520/AJA0038223X_3168)\n"
     ]
    },
    {
     "name": "stderr",
     "output_type": "stream",
     "text": [
      " 18%|█▊        | 4811/26843 [44:27<4:19:59,  1.41it/s] "
     ]
    },
    {
     "name": "stdout",
     "output_type": "stream",
     "text": [
      "Could not find 4810: Levetiracetam in the management of feline audiogenic reflex seizures: a randomised, controlled, open-label study (10.1177/1098612X15622806 )\n"
     ]
    },
    {
     "name": "stderr",
     "output_type": "stream",
     "text": [
      " 18%|█▊        | 4820/26843 [44:30<1:48:00,  3.40it/s]"
     ]
    },
    {
     "name": "stdout",
     "output_type": "stream",
     "text": [
      "Could not find 4819: Phenobarbital-induced coagulation defects in cats (10.1212/WNL.24.10.920 )\n"
     ]
    },
    {
     "name": "stderr",
     "output_type": "stream",
     "text": [
      " 18%|█▊        | 4821/26843 [44:30<2:03:11,  2.98it/s]"
     ]
    },
    {
     "name": "stdout",
     "output_type": "stream",
     "text": [
      "Could not find 4820: Pharmacokinetics and toxicity of zonisamide in cats (10.1016/j.jfms.2008.01.006 )\n"
     ]
    },
    {
     "name": "stderr",
     "output_type": "stream",
     "text": [
      " 18%|█▊        | 4842/26843 [44:38<2:33:11,  2.39it/s]"
     ]
    },
    {
     "name": "stdout",
     "output_type": "stream",
     "text": [
      "Could not find 4841: Suspected hypersensitivity to phenobarbital in a cat (10.1016/S1098-612X(99)90069-4 )\n"
     ]
    },
    {
     "name": "stderr",
     "output_type": "stream",
     "text": [
      " 18%|█▊        | 4865/26843 [44:49<4:10:35,  1.46it/s]"
     ]
    },
    {
     "name": "stdout",
     "output_type": "stream",
     "text": [
      "Could not find 4864: Efficacy of a social problem-solving therapy approach for unipolar depression (10.1037/0022-006x.54.2.196)\n"
     ]
    },
    {
     "name": "stderr",
     "output_type": "stream",
     "text": [
      " 18%|█▊        | 4883/26843 [45:11<7:19:05,  1.20s/it]"
     ]
    },
    {
     "name": "stdout",
     "output_type": "stream",
     "text": [
      "Could not find 4882: Estimation of the Transmission Risk of 2019-nCov and Its Implication for Public Health Interventions (10.2139/ssrn.3525558)\n"
     ]
    },
    {
     "name": "stderr",
     "output_type": "stream",
     "text": [
      " 18%|█▊        | 4884/26843 [45:11<6:36:53,  1.08s/it]"
     ]
    },
    {
     "name": "stdout",
     "output_type": "stream",
     "text": [
      "Could not find 4883: Preliminary estimation of the basic reproduction number of novel coronavirus (2019-nCoV) in China, from 2019 to 2020: A data-driven analysis in the early phase of the outbreak (10.1016/j.ijid.2020.01.050)\n"
     ]
    },
    {
     "name": "stderr",
     "output_type": "stream",
     "text": [
      " 18%|█▊        | 4933/26843 [45:52<4:25:02,  1.38it/s]"
     ]
    },
    {
     "name": "stdout",
     "output_type": "stream",
     "text": [
      "Could not find 4932: Chemical State and Environment of Boron Dopant in B,N-Codoped Anatase TiO2 Nanoparticles: An Avenue for Probing Diamagnetic Dopants in TiO2 by Electron Paramagnetic Resonance Spectroscopy (10.1021/ja711424d.s002)\n"
     ]
    },
    {
     "name": "stderr",
     "output_type": "stream",
     "text": [
      " 18%|█▊        | 4955/26843 [46:18<4:56:12,  1.23it/s] "
     ]
    },
    {
     "name": "stdout",
     "output_type": "stream",
     "text": [
      "Could not find 4954: Self-Doped Ti3+ Enhanced Photocatalyst for Hydrogen Production under Visible Light (10.1002/chin.201049012)\n"
     ]
    },
    {
     "name": "stderr",
     "output_type": "stream",
     "text": [
      " 18%|█▊        | 4957/26843 [46:20<5:11:14,  1.17it/s]"
     ]
    },
    {
     "name": "stdout",
     "output_type": "stream",
     "text": [
      "Could not find 4956: Efficient Photochemical Water Splitting by a Chemically Modified n-TiO2 (10.1126/science.1075035 )\n"
     ]
    },
    {
     "name": "stderr",
     "output_type": "stream",
     "text": [
      " 19%|█▊        | 4977/26843 [46:37<3:31:57,  1.72it/s]"
     ]
    },
    {
     "name": "stdout",
     "output_type": "stream",
     "text": [
      "Could not find 4976: Impact of Nb(V) Substitution on the Structure and Optical and Photoelectrochemical Properties of the Cu5(Ta1−xNbx)11O30 Solid Solution (10.1021/acs.inorgchem.9b00304.s001)\n"
     ]
    },
    {
     "name": "stderr",
     "output_type": "stream",
     "text": [
      " 19%|█▊        | 4989/26843 [46:41<2:44:36,  2.21it/s]"
     ]
    },
    {
     "name": "stdout",
     "output_type": "stream",
     "text": [
      "Could not find 4988: Photocatalytic CO2 Reduction by Re(I) Polypyridyl Complexes Immobilized on Niobates Nanoscrolls (10.1021/acssuschemeng.7b04713.s001)\n"
     ]
    },
    {
     "name": "stderr",
     "output_type": "stream",
     "text": [
      " 19%|█▉        | 5040/26843 [46:44<17:05, 21.26it/s]  "
     ]
    },
    {
     "name": "stdout",
     "output_type": "stream",
     "text": [
      "Could not find 5039: Selenium – Method for the determination of selenium and its inorganic compounds in workplace air using atomic absorption spectroscopy (AAS). Air Monitoring Method – Translation of the German version from 2019 (10.34865/AM7782E5_2OR)\n",
      "Could not find 5040: ALL Challenge dataset of ISBI 2019 (10.7937/TCIA.2019.DC64I46R)\n",
      "Could not find 5041: Named Entity Recognition Over Electronic Health Records Through a Combined Dictionary-based Approach (https://doi.org/10.1016/j.procs.2016.09.123)\n"
     ]
    },
    {
     "name": "stderr",
     "output_type": "stream",
     "text": [
      " 19%|█▉        | 5051/26843 [46:50<1:20:35,  4.51it/s]"
     ]
    },
    {
     "name": "stdout",
     "output_type": "stream",
     "text": [
      "Could not find 5050: Learning multi-lingual named entity recognition from Wikipedia (doi.org/10.1016/j.artint.2012.03.006)\n"
     ]
    },
    {
     "name": "stderr",
     "output_type": "stream",
     "text": [
      " 19%|█▉        | 5053/26843 [46:51<1:29:23,  4.06it/s]"
     ]
    },
    {
     "name": "stdout",
     "output_type": "stream",
     "text": [
      "Could not find 5052: Supervised methods for symptom name recognition in free-text clinical records of traditional Chinese medicine: An empirical study (doi.org/10.1016/j.jbi.2013.09.008)\n"
     ]
    },
    {
     "name": "stderr",
     "output_type": "stream",
     "text": [
      " 19%|█▉        | 5100/26843 [47:26<2:38:16,  2.29it/s]"
     ]
    },
    {
     "name": "stdout",
     "output_type": "stream",
     "text": [
      "Could not find 5099: Composing requirements using problem frames (10.1109/icre.2004.1335670)\n"
     ]
    },
    {
     "name": "stderr",
     "output_type": "stream",
     "text": [
      " 19%|█▉        | 5114/26843 [47:32<2:34:37,  2.34it/s]"
     ]
    },
    {
     "name": "stdout",
     "output_type": "stream",
     "text": [
      "Could not find 5113: Quecksilber und Quecksilberverbindungen – Bestimmung von Quecksilber in Blut und Urin mittels Kaltdampf‐AAS [Biomonitoring Methods in German language, 2019] (10.1002/3527600418.bi743997d0022 )\n"
     ]
    },
    {
     "name": "stderr",
     "output_type": "stream",
     "text": [
      " 19%|█▉        | 5117/26843 [47:33<2:16:59,  2.64it/s]"
     ]
    },
    {
     "name": "stdout",
     "output_type": "stream",
     "text": [
      "Could not find 5116: Diethylbenzene (all isomers) [MAK value documentation, 2018] (10.1002/3527600418.mb13501isme6519 )\n"
     ]
    },
    {
     "name": "stderr",
     "output_type": "stream",
     "text": [
      " 19%|█▉        | 5121/26843 [47:35<2:45:59,  2.18it/s]"
     ]
    },
    {
     "name": "stdout",
     "output_type": "stream",
     "text": [
      "Could not find 5120: Naled [MAK value documentation, 2018] (10.1002/3527600418.mb30076e6519 )\n"
     ]
    },
    {
     "name": "stderr",
     "output_type": "stream",
     "text": [
      " 19%|█▉        | 5122/26843 [47:36<2:50:49,  2.12it/s]"
     ]
    },
    {
     "name": "stdout",
     "output_type": "stream",
     "text": [
      "Could not find 5121: Nitroethane [MAK value documentation, 2017] (10.1002/3527600418.mb7924e6319 )\n"
     ]
    },
    {
     "name": "stderr",
     "output_type": "stream",
     "text": [
      " 19%|█▉        | 5124/26843 [47:37<2:29:45,  2.42it/s]"
     ]
    },
    {
     "name": "stdout",
     "output_type": "stream",
     "text": [
      "Could not find 5123: 1,2,4‐Triethylbenzene [MAK value documentation, 2018] (10.1002/3527600418.mb87744e6519 )\n"
     ]
    },
    {
     "name": "stderr",
     "output_type": "stream",
     "text": [
      " 19%|█▉        | 5125/26843 [47:37<2:42:17,  2.23it/s]"
     ]
    },
    {
     "name": "stdout",
     "output_type": "stream",
     "text": [
      "Could not find 5124: 1‐Butanthiol [MAK value documentation in German language, 2019] (10.1002/3527600418.mb10979d0067)\n"
     ]
    },
    {
     "name": "stderr",
     "output_type": "stream",
     "text": [
      " 19%|█▉        | 5127/26843 [47:38<2:27:23,  2.46it/s]"
     ]
    },
    {
     "name": "stdout",
     "output_type": "stream",
     "text": [
      "Could not find 5126: Ethylenoxid [MAK value documentation in German language, 2019] (10.1002/3527600418.mb7521d0067)\n"
     ]
    },
    {
     "name": "stderr",
     "output_type": "stream",
     "text": [
      " 19%|█▉        | 5130/26843 [47:40<2:54:10,  2.08it/s]"
     ]
    },
    {
     "name": "stdout",
     "output_type": "stream",
     "text": [
      "Could not find 5129: Lindan [MAK value documentation in German language, 2019] (10.1002/3527600418.mb5889d0067)\n"
     ]
    },
    {
     "name": "stderr",
     "output_type": "stream",
     "text": [
      " 19%|█▉        | 5131/26843 [47:40<2:56:28,  2.05it/s]"
     ]
    },
    {
     "name": "stdout",
     "output_type": "stream",
     "text": [
      "Could not find 5130: COVID-19 Knowledge Graph: a computable, multi-modal, cause-and-effect knowledge model of COVID-19 pathophysiology (10.1101/2020.04.14.040667)\n"
     ]
    },
    {
     "name": "stderr",
     "output_type": "stream",
     "text": [
      " 19%|█▉        | 5155/26843 [47:52<2:21:53,  2.55it/s]"
     ]
    },
    {
     "name": "stdout",
     "output_type": "stream",
     "text": [
      "Could not find 5154: Acetic anhydride [MAK Value Documentation, 2018] (10.1002/3527600418.mb10824e6519 )\n"
     ]
    },
    {
     "name": "stderr",
     "output_type": "stream",
     "text": [
      " 19%|█▉        | 5183/26843 [48:06<2:29:28,  2.42it/s]"
     ]
    },
    {
     "name": "stdout",
     "output_type": "stream",
     "text": [
      "Could not find 5182: Grundlagen und Schritte sozialräumlicher Konzeptentwicklung (10.1007/978-3-531-91895-2)\n"
     ]
    },
    {
     "name": "stderr",
     "output_type": "stream",
     "text": [
      " 19%|█▉        | 5191/26843 [48:10<2:19:50,  2.58it/s]"
     ]
    },
    {
     "name": "stdout",
     "output_type": "stream",
     "text": [
      "Could not find 5190:  N‐Methyl‐2‐pyrrolidone (vapour)1) [MAK Value Documentation, 2019] (10.1002/3527600418.mb87250dame6619 )\n"
     ]
    },
    {
     "name": "stderr",
     "output_type": "stream",
     "text": [
      " 19%|█▉        | 5195/26843 [48:12<2:37:01,  2.30it/s]"
     ]
    },
    {
     "name": "stdout",
     "output_type": "stream",
     "text": [
      "Could not find 5194: 2,3,3,3‐Tetrafluoropropene [MAK Value Documentation, 2019] (10.1002/3527600418.mb75412e6619 )\n"
     ]
    },
    {
     "name": "stderr",
     "output_type": "stream",
     "text": [
      " 19%|█▉        | 5215/26843 [48:18<46:38,  7.73it/s]  "
     ]
    },
    {
     "name": "stdout",
     "output_type": "stream",
     "text": [
      "Could not find 5214: Pseudomonas (10.1002/9781118960608.gbm01210)\n",
      "Could not find 5215: Anilin [MAK Value Documentation in German language, 2018] (10.1002/3527600418.mb5263d0064)\n"
     ]
    },
    {
     "name": "stderr",
     "output_type": "stream",
     "text": [
      " 19%|█▉        | 5218/26843 [48:19<1:09:33,  5.18it/s]"
     ]
    },
    {
     "name": "stdout",
     "output_type": "stream",
     "text": [
      "Could not find 5217: tert‐Butanol [MAK Value Documentation in German language, 2018] (10.1002/3527600418.mb7565d0064)\n"
     ]
    },
    {
     "name": "stderr",
     "output_type": "stream",
     "text": [
      " 19%|█▉        | 5220/26843 [48:20<1:26:00,  4.19it/s]"
     ]
    },
    {
     "name": "stdout",
     "output_type": "stream",
     "text": [
      "Could not find 5219: 2‐Butoxyethanol [MAK Value Documentation in German language, 2018] (10.1002/3527600418.mb11176d0064)\n"
     ]
    },
    {
     "name": "stderr",
     "output_type": "stream",
     "text": [
      " 19%|█▉        | 5221/26843 [48:20<1:47:35,  3.35it/s]"
     ]
    },
    {
     "name": "stdout",
     "output_type": "stream",
     "text": [
      "Could not find 5220: Calciumbis(dinonylnaphthalinsulfonat) [MAK Value Documentation in German language, 2018] (10.1002/3527600418.mb5785577d0064 )\n"
     ]
    },
    {
     "name": "stderr",
     "output_type": "stream",
     "text": [
      " 20%|█▉        | 5246/26843 [48:42<7:29:44,  1.25s/it]"
     ]
    },
    {
     "name": "stdout",
     "output_type": "stream",
     "text": [
      "Could not find 5245: Developing a domain-specific cross-organizational RE method (10.1109/icre.2004.1335671)\n"
     ]
    },
    {
     "name": "stderr",
     "output_type": "stream",
     "text": [
      " 20%|█▉        | 5249/26843 [48:44<5:03:19,  1.19it/s]"
     ]
    },
    {
     "name": "stdout",
     "output_type": "stream",
     "text": [
      "Could not find 5248: A Privacy Preservation Model for Facebook-Style Social Network Systems (10.5555/1813084.1813110)\n"
     ]
    },
    {
     "name": "stderr",
     "output_type": "stream",
     "text": [
      " 20%|█▉        | 5254/26843 [48:52<7:09:04,  1.19s/it] "
     ]
    },
    {
     "name": "stdout",
     "output_type": "stream",
     "text": [
      "Could not find 5253: NCBI disease corpus: A resource for disease name recognition and concept normalization (10.1016/j.jbi.2013.12.006 )\n"
     ]
    },
    {
     "name": "stderr",
     "output_type": "stream",
     "text": [
      " 20%|█▉        | 5256/26843 [48:53<5:19:05,  1.13it/s]"
     ]
    },
    {
     "name": "stdout",
     "output_type": "stream",
     "text": [
      "Could not find 5255: Polyalphaolefine [MAK Value Documentation in German language, 2018] (10.1002/3527600418.mb6864911d0064)\n"
     ]
    },
    {
     "name": "stderr",
     "output_type": "stream",
     "text": [
      " 20%|█▉        | 5257/26843 [48:54<4:40:43,  1.28it/s]"
     ]
    },
    {
     "name": "stdout",
     "output_type": "stream",
     "text": [
      "Could not find 5256: Weißöl, pharmazeutisch [MAK Value Documentation in German language, 2018] (10.1002/3527600418.mb804247kskd0064 )\n"
     ]
    },
    {
     "name": "stderr",
     "output_type": "stream",
     "text": [
      " 20%|█▉        | 5261/26843 [48:56<3:16:10,  1.83it/s]"
     ]
    },
    {
     "name": "stdout",
     "output_type": "stream",
     "text": [
      "Could not find 5260: Aniline [MAK Value Documentation, 2018] (10.1002/3527600418.mb6253e6419 )\n"
     ]
    },
    {
     "name": "stderr",
     "output_type": "stream",
     "text": [
      " 20%|█▉        | 5268/26843 [49:00<3:20:46,  1.79it/s]"
     ]
    },
    {
     "name": "stdout",
     "output_type": "stream",
     "text": [
      "Could not find 5267: 1‐Nitropropane [MAK Value Documentation, 2017] (10.1002/3527600418.mb10803e6319 )\n"
     ]
    },
    {
     "name": "stderr",
     "output_type": "stream",
     "text": [
      " 20%|█▉        | 5269/26843 [49:00<2:46:39,  2.16it/s]"
     ]
    },
    {
     "name": "stdout",
     "output_type": "stream",
     "text": [
      "Could not find 5268: Mercury – Method for the determination of vapour from mercury and its inorganic compounds in workplace air using atomic absorption spectrometry [Air Monitoring Methods, 2017] (10.1002/3527600418.am743997e2018 )\n"
     ]
    },
    {
     "name": "stderr",
     "output_type": "stream",
     "text": [
      " 20%|█▉        | 5280/26843 [49:05<2:11:39,  2.73it/s]"
     ]
    },
    {
     "name": "stdout",
     "output_type": "stream",
     "text": [
      "Could not find 5279: 1,1-Dichlorethan. MAK-Begründung, Nachtrag (10.34865/mb7534d5_4ad)\n"
     ]
    },
    {
     "name": "stderr",
     "output_type": "stream",
     "text": [
      " 20%|█▉        | 5283/26843 [49:07<2:27:53,  2.43it/s]"
     ]
    },
    {
     "name": "stdout",
     "output_type": "stream",
     "text": [
      "Could not find 5282: Methylenbis(dibutyldithiocarbamat). MAK-Begründung  (10.34865/mb1025457d5_4or)\n"
     ]
    },
    {
     "name": "stderr",
     "output_type": "stream",
     "text": [
      " 20%|█▉        | 5284/26843 [49:07<2:35:08,  2.32it/s]"
     ]
    },
    {
     "name": "stdout",
     "output_type": "stream",
     "text": [
      "Could not find 5283: Nitrilotriessigsäure und ihre Natriumsalze. MAK-Begründung, Nachtrag (10.34865/mb13913d5_4ad)\n"
     ]
    },
    {
     "name": "stderr",
     "output_type": "stream",
     "text": [
      " 20%|█▉        | 5285/26843 [49:07<2:17:48,  2.61it/s]"
     ]
    },
    {
     "name": "stdout",
     "output_type": "stream",
     "text": [
      "Could not find 5284: Pentachlorethan. MAK-Begründung (10.34865/mb7601d5_4or)\n"
     ]
    },
    {
     "name": "stderr",
     "output_type": "stream",
     "text": [
      " 20%|█▉        | 5288/26843 [49:09<3:06:24,  1.93it/s]"
     ]
    },
    {
     "name": "stdout",
     "output_type": "stream",
     "text": [
      "Could not find 5287: Siliciumcarbid (Faserstaub) (einschließlich Whisker). MAK-Begründung, Nachtrag  (10.34865/mb40921d5_4ad)\n"
     ]
    },
    {
     "name": "stderr",
     "output_type": "stream",
     "text": [
      " 20%|█▉        | 5289/26843 [49:09<2:37:35,  2.28it/s]"
     ]
    },
    {
     "name": "stdout",
     "output_type": "stream",
     "text": [
      "Could not find 5288: 1,1,2-Trichlorethan. MAK-Begründung, Nachtrag (10.34865/mb7900d5_4ad)\n"
     ]
    },
    {
     "name": "stderr",
     "output_type": "stream",
     "text": [
      " 20%|█▉        | 5290/26843 [49:10<2:19:07,  2.58it/s]"
     ]
    },
    {
     "name": "stdout",
     "output_type": "stream",
     "text": [
      "Could not find 5289: Kreatinin als Bezugsgröße für Stoffkonzentrationen im Urin – Addendum zur Konversion von volumen- bzw. kreatininbezogenen Analysenergebnissen. Beurteilungswerte in biologischem Material  (10.34865/bbgeneraldgt5_4ad)\n"
     ]
    },
    {
     "name": "stderr",
     "output_type": "stream",
     "text": [
      " 20%|█▉        | 5341/26843 [49:39<2:07:43,  2.81it/s]"
     ]
    },
    {
     "name": "stdout",
     "output_type": "stream",
     "text": [
      "Could not find 5340: Linking science: approaches for linking scientific publications across different LOD repositories (10.1504/ijmso.2017.090778)\n"
     ]
    },
    {
     "name": "stderr",
     "output_type": "stream",
     "text": [
      " 20%|█▉        | 5344/26843 [49:42<3:15:52,  1.83it/s]"
     ]
    },
    {
     "name": "stdout",
     "output_type": "stream",
     "text": [
      "Could not find 5343: Benzotriazole. MAK Value Documentation, supplement – Translation of the German version from 2019 (10.34865/mb9514kske5_4ad)\n"
     ]
    },
    {
     "name": "stderr",
     "output_type": "stream",
     "text": [
      " 20%|█▉        | 5346/26843 [49:42<2:25:47,  2.46it/s]"
     ]
    },
    {
     "name": "stdout",
     "output_type": "stream",
     "text": [
      "Could not find 5345: Coconut oil. MAK Value Documentation – Translation of the German version from 2019  (10.34865/mb800131e5_4or)\n"
     ]
    },
    {
     "name": "stderr",
     "output_type": "stream",
     "text": [
      " 20%|█▉        | 5347/26843 [49:43<2:37:18,  2.28it/s]"
     ]
    },
    {
     "name": "stdout",
     "output_type": "stream",
     "text": [
      "Could not find 5346: Ethanethiol. MAK Value Documentation, supplement – Translation of the German version from 2019  (10.34865/mb7508e5_4ad)\n"
     ]
    },
    {
     "name": "stderr",
     "output_type": "stream",
     "text": [
      " 20%|█▉        | 5348/26843 [49:43<2:16:14,  2.63it/s]"
     ]
    },
    {
     "name": "stdout",
     "output_type": "stream",
     "text": [
      "Could not find 5347: Methyl mercaptan. MAK Value Documentation, supplement – Translation of the German version from 2019 (10.34865/mb7493e5_4ad)\n"
     ]
    },
    {
     "name": "stderr",
     "output_type": "stream",
     "text": [
      " 20%|█▉        | 5349/26843 [49:43<2:00:31,  2.97it/s]"
     ]
    },
    {
     "name": "stdout",
     "output_type": "stream",
     "text": [
      "Could not find 5348: Monochloroacetic acid, sodium monochloroacetate. MAK Value Documentation, supplement – Translation of the German version from 2019  (10.34865/mb7911e5_4ad)\n"
     ]
    },
    {
     "name": "stderr",
     "output_type": "stream",
     "text": [
      " 20%|█▉        | 5350/26843 [49:43<1:48:24,  3.30it/s]"
     ]
    },
    {
     "name": "stdout",
     "output_type": "stream",
     "text": [
      "Could not find 5349: Blei und seine Verbindungen (außer Bleiarsenat, Bleichromat und Alkylbleiverbindungen) – Addendum zur Reevaluierung des BAR. Beurteilungswerte in biologischem Material  (10.34865/bb743992pbbd5_4ad)\n"
     ]
    },
    {
     "name": "stderr",
     "output_type": "stream",
     "text": [
      " 20%|█▉        | 5351/26843 [49:44<2:10:15,  2.75it/s]"
     ]
    },
    {
     "name": "stdout",
     "output_type": "stream",
     "text": [
      "Could not find 5350: Lead and its compounds (except lead arsenate, lead chromate and alkyl lead compounds) – Addendum for re-evaluation of the BAR. Assessment Values in Biological Material – Translation of the German version from 2020  (10.34865/bb743992pbbe5_4ad)\n"
     ]
    },
    {
     "name": "stderr",
     "output_type": "stream",
     "text": [
      " 20%|█▉        | 5352/26843 [49:44<1:56:35,  3.07it/s]"
     ]
    },
    {
     "name": "stdout",
     "output_type": "stream",
     "text": [
      "Could not find 5351: Creatinine as reference parameter for the concentration of substances in urine – Addendum to the conversion of volume- or creatinine-related analytical results. Assessment Values in Biological Material – Translation of the German version from 2020  (10.34865/bbgeneralegt5_4ad)\n"
     ]
    },
    {
     "name": "stderr",
     "output_type": "stream",
     "text": [
      " 20%|█▉        | 5356/26843 [49:47<3:28:21,  1.72it/s]"
     ]
    },
    {
     "name": "stdout",
     "output_type": "stream",
     "text": [
      "Could not find 5355: Molybdenum and its compounds – Addendum for evaluation of a BAR. Assessment Values in Biological Material – Translation of the German version from 2019  (10.34865/bb743998e5_4ad)\n"
     ]
    },
    {
     "name": "stderr",
     "output_type": "stream",
     "text": [
      " 20%|█▉        | 5357/26843 [49:47<2:49:56,  2.11it/s]"
     ]
    },
    {
     "name": "stdout",
     "output_type": "stream",
     "text": [
      "Could not find 5356: Plausibilitätsprüfung für Messverfahren – Teil 1: Sammelnde Messverfahren. Luftanalysen-Methode  (10.34865/amplausdgt5_4or)\n"
     ]
    },
    {
     "name": "stderr",
     "output_type": "stream",
     "text": [
      " 20%|█▉        | 5358/26843 [49:47<2:53:12,  2.07it/s]"
     ]
    },
    {
     "name": "stdout",
     "output_type": "stream",
     "text": [
      "Could not find 5357: Determination of metal-containing components of airborne particles. Air Monitoring Method – Translation of the German version from 2019  (10.34865/amdetercompegt5_4or)\n"
     ]
    },
    {
     "name": "stderr",
     "output_type": "stream",
     "text": [
      " 20%|█▉        | 5359/26843 [49:48<2:25:36,  2.46it/s]"
     ]
    },
    {
     "name": "stdout",
     "output_type": "stream",
     "text": [
      "Could not find 5358: Naphthalin – Bestimmung von 1,2-Dihydroxynaphthalin, 1-Naphthol und 2-Naphthol in Urin mittels GC-MS/MS. Biomonitoring-Methode  (10.34865/bi9120d5_4or)\n"
     ]
    },
    {
     "name": "stderr",
     "output_type": "stream",
     "text": [
      " 20%|█▉        | 5361/26843 [49:49<2:22:13,  2.52it/s]"
     ]
    },
    {
     "name": "stdout",
     "output_type": "stream",
     "text": [
      "Could not find 5360: Naphthalene – Determination of 1,2-dihydroxynaphthalene, 1-naphthol and 2-naphthol in urine by GC-MS/MS. Biomonitoring Method – Translation of the German version from 2020  (10.34865/bi9120e5_4or)\n"
     ]
    },
    {
     "name": "stderr",
     "output_type": "stream",
     "text": [
      " 20%|█▉        | 5362/26843 [49:49<2:05:30,  2.85it/s]"
     ]
    },
    {
     "name": "stdout",
     "output_type": "stream",
     "text": [
      "Could not find 5361: Ochratoxin A – Determination of ochratoxin A in serum by CE-LIF. Biomonitoring Method – Translation of the German version from 2020  (10.34865/bi30347e5_4or)\n"
     ]
    },
    {
     "name": "stderr",
     "output_type": "stream",
     "text": [
      " 20%|█▉        | 5365/26843 [49:49<1:29:18,  4.01it/s]"
     ]
    },
    {
     "name": "stdout",
     "output_type": "stream",
     "text": [
      "Could not find 5364: Alte Fragen, neue Methoden – Philologische und digitale Verfahren im Dialog. Ein Beitrag zum Forschungsdiskurs um Entsagung und Ironie bei Goethe (10.17175/2019_007)\n"
     ]
    },
    {
     "name": "stderr",
     "output_type": "stream",
     "text": [
      " 20%|██        | 5488/26843 [51:31<2:59:22,  1.98it/s] "
     ]
    },
    {
     "name": "stdout",
     "output_type": "stream",
     "text": [
      "Could not find 5487: Open educational practices and resources based on social software: UTPL experience (10.1109/ICALT.2009.224)\n"
     ]
    },
    {
     "name": "stderr",
     "output_type": "stream",
     "text": [
      " 21%|██        | 5520/26843 [51:47<3:19:06,  1.78it/s]"
     ]
    },
    {
     "name": "stdout",
     "output_type": "stream",
     "text": [
      "Could not find 5519: Determinants of Solid waste Management System in Uyo Metropolis, Akwa Ibom State, Nigeria (https://dx.doi.org/10.4314/ejesm.v10i6.5 )\n"
     ]
    },
    {
     "name": "stderr",
     "output_type": "stream",
     "text": [
      " 21%|██        | 5539/26843 [51:57<2:38:14,  2.24it/s]"
     ]
    },
    {
     "name": "stdout",
     "output_type": "stream",
     "text": [
      "Could not find 5538: Disability, Mobility and Transport in Low- and Middle-Income Countries: A Thematic Review (doi:10.3390/su12020589  )\n"
     ]
    },
    {
     "name": "stderr",
     "output_type": "stream",
     "text": [
      " 21%|██        | 5547/26843 [52:03<3:27:07,  1.71it/s]"
     ]
    },
    {
     "name": "stdout",
     "output_type": "stream",
     "text": [
      "Could not find 5546: Extracting ontological knowledge from Java source code using Hidden Markov Models (https://doi.org/10.1515/comp-2019-0013)\n"
     ]
    },
    {
     "name": "stderr",
     "output_type": "stream",
     "text": [
      " 21%|██        | 5557/26843 [52:08<3:01:36,  1.95it/s]"
     ]
    },
    {
     "name": "stdout",
     "output_type": "stream",
     "text": [
      "Could not find 5556: Colour and Architecture: An Empirical Study of a New Paradigm of Painting of Residential Buildings and Ownership in Kumasi (2224-607X ISSN)\n"
     ]
    },
    {
     "name": "stderr",
     "output_type": "stream",
     "text": [
      " 21%|██        | 5563/26843 [52:14<4:16:55,  1.38it/s]"
     ]
    },
    {
     "name": "stdout",
     "output_type": "stream",
     "text": [
      "Could not find 5562: The Economic Lives of the Poor (10.1257/jep.21.1.141)\n"
     ]
    },
    {
     "name": "stderr",
     "output_type": "stream",
     "text": [
      " 21%|██        | 5661/26843 [53:26<51:32,  6.85it/s]   "
     ]
    },
    {
     "name": "stdout",
     "output_type": "stream",
     "text": [
      "Could not find 5660: Precise specification and validation of transactional business software (10.1109/icre.2004.1335650)\n"
     ]
    },
    {
     "name": "stderr",
     "output_type": "stream",
     "text": [
      " 21%|██        | 5684/26843 [53:38<3:43:23,  1.58it/s]"
     ]
    },
    {
     "name": "stdout",
     "output_type": "stream",
     "text": [
      "Could not find 5683: Transforming data silos into knowledge: Early Chinese Periodicals Online (ECPO) (10.11588/HEIBOOKS.598.C8420)\n"
     ]
    },
    {
     "name": "stderr",
     "output_type": "stream",
     "text": [
      " 21%|██▏       | 5720/26843 [53:48<59:29,  5.92it/s]  "
     ]
    },
    {
     "name": "stdout",
     "output_type": "stream",
     "text": [
      "Could not find 5719: The OpenAIRE Research Graph Data Model (10.5281/ZENODO.2643198)\n"
     ]
    },
    {
     "name": "stderr",
     "output_type": "stream",
     "text": [
      " 21%|██▏       | 5738/26843 [53:56<2:56:04,  2.00it/s]"
     ]
    },
    {
     "name": "stdout",
     "output_type": "stream",
     "text": [
      "Could not find 5737: Employee psychological well-being during the COVID-19 pandemic in Germany: A longitudinal study of demands, resources, and exhaustion (10.17605/OSF.IO/AT3MY)\n"
     ]
    },
    {
     "name": "stderr",
     "output_type": "stream",
     "text": [
      " 21%|██▏       | 5743/26843 [53:58<2:15:02,  2.60it/s]"
     ]
    },
    {
     "name": "stdout",
     "output_type": "stream",
     "text": [
      "Could not find 5742: Optimal Forms - A Master Thesis on Optimization of Generative Models (10.13140/RG.2.1.1418.2245)\n"
     ]
    },
    {
     "name": "stderr",
     "output_type": "stream",
     "text": [
      " 21%|██▏       | 5750/26843 [54:00<2:01:26,  2.89it/s]"
     ]
    },
    {
     "name": "stdout",
     "output_type": "stream",
     "text": [
      "Could not find 5749: Bioassay-guided isolation and identification of anti-ulcer ecdysteroids from the seeds of Sphenocentrum jollyanum Pierre (Menispermaceae) (https://doi.org/10.1016/j.steroids.2020.108636 )\n"
     ]
    },
    {
     "name": "stderr",
     "output_type": "stream",
     "text": [
      " 22%|██▏       | 5791/26843 [54:15<2:52:50,  2.03it/s]"
     ]
    },
    {
     "name": "stdout",
     "output_type": "stream",
     "text": [
      "Could not find 5790: Recognition Properties of Cucurbit[7]uril Self-Assembled Monolayers Studied with Force Spectroscopy (org/10.1021/la202346r)\n"
     ]
    },
    {
     "name": "stderr",
     "output_type": "stream",
     "text": [
      " 22%|██▏       | 5824/26843 [54:38<3:00:28,  1.94it/s]"
     ]
    },
    {
     "name": "stdout",
     "output_type": "stream",
     "text": [
      "Could not find 5823: Defining early it system requirements with regulation principles: the lightswitch approach (10.1109/icre.2004.1335672)\n"
     ]
    },
    {
     "name": "stderr",
     "output_type": "stream",
     "text": [
      " 22%|██▏       | 5827/26843 [54:40<2:48:28,  2.08it/s]"
     ]
    },
    {
     "name": "stdout",
     "output_type": "stream",
     "text": [
      "Could not find 5826: PhysiCell: An open source physics-based cell simulator for 3-D multicellular systems (10.1371/journal.pcbi.1005991)\n"
     ]
    },
    {
     "name": "stderr",
     "output_type": "stream",
     "text": [
      " 22%|██▏       | 5833/26843 [54:45<4:26:57,  1.31it/s]"
     ]
    },
    {
     "name": "stdout",
     "output_type": "stream",
     "text": [
      "Could not find 5832: COBRAme: A computational framework for genome-scale models of metabolism and gene expression (10.1371/journal.pcbi.1006302)\n"
     ]
    },
    {
     "name": "stderr",
     "output_type": "stream",
     "text": [
      " 22%|██▏       | 5837/26843 [54:47<3:23:10,  1.72it/s]"
     ]
    },
    {
     "name": "stdout",
     "output_type": "stream",
     "text": [
      "Could not find 5836: NFTsim: Theory and Simulation of Multiscale Neural Field Dynamics (10.1371/journal.pcbi.1006387)\n"
     ]
    },
    {
     "name": "stderr",
     "output_type": "stream",
     "text": [
      " 22%|██▏       | 5838/26843 [54:48<2:45:47,  2.11it/s]"
     ]
    },
    {
     "name": "stdout",
     "output_type": "stream",
     "text": [
      "Could not find 5837: Telescope: Characterization of the retrotranscriptome by accurate estimation of transposable element expression (10.1371/journal.pcbi.1006453)\n"
     ]
    },
    {
     "name": "stderr",
     "output_type": "stream",
     "text": [
      " 22%|██▏       | 5898/26843 [55:53<4:45:58,  1.22it/s] "
     ]
    },
    {
     "name": "stdout",
     "output_type": "stream",
     "text": [
      "Could not find 5897: Ensembler: Enabling High-Throughput Molecular Simulations at the Superfamily Scale (10.1371/journal.pcbi.1004728)\n"
     ]
    },
    {
     "name": "stderr",
     "output_type": "stream",
     "text": [
      " 22%|██▏       | 5924/26843 [56:13<2:39:32,  2.19it/s]"
     ]
    },
    {
     "name": "stdout",
     "output_type": "stream",
     "text": [
      "Could not find 5923: Digital Curation in Libraries: An innovative way of content preservation and dissemination (10.13140/2.1.4786.4648)\n"
     ]
    },
    {
     "name": "stderr",
     "output_type": "stream",
     "text": [
      " 22%|██▏       | 5941/26843 [56:21<2:40:11,  2.17it/s]"
     ]
    },
    {
     "name": "stdout",
     "output_type": "stream",
     "text": [
      "Could not find 5940: BBN Pronoun Coreference and Entity Type Corpus LDC2005T33 (10.35111/9FX9-GZ10)\n"
     ]
    },
    {
     "name": "stderr",
     "output_type": "stream",
     "text": [
      " 22%|██▏       | 5942/26843 [56:22<2:42:27,  2.14it/s]"
     ]
    },
    {
     "name": "stdout",
     "output_type": "stream",
     "text": [
      "Could not find 5941: OntoNotes Release 5.0 LDC2013T19 (10.35111/XMHB-2B84)\n"
     ]
    },
    {
     "name": "stderr",
     "output_type": "stream",
     "text": [
      " 22%|██▏       | 5945/26843 [56:22<1:58:49,  2.93it/s]"
     ]
    },
    {
     "name": "stdout",
     "output_type": "stream",
     "text": [
      "Could not find 5944: Investigating software usage in the social sciences: A knowledge graph approach (https://doi.org/10.1007/978-3-030-49461-2_16)\n"
     ]
    },
    {
     "name": "stderr",
     "output_type": "stream",
     "text": [
      " 22%|██▏       | 5954/26843 [56:27<2:26:44,  2.37it/s]"
     ]
    },
    {
     "name": "stdout",
     "output_type": "stream",
     "text": [
      "Could not find 5953: Intranets: A New Dimension for Library Services (10.14429/dbit.24.1.3617)\n"
     ]
    },
    {
     "name": "stderr",
     "output_type": "stream",
     "text": [
      " 22%|██▏       | 5955/26843 [56:27<2:36:19,  2.23it/s]"
     ]
    },
    {
     "name": "stdout",
     "output_type": "stream",
     "text": [
      "Could not find 5954: Access and Usage of E-Journals by Research Scholars in National Institute of Technology (NIT) Rourkela, Odisha: A Case Study (10.5281/ZENODO.2578882)\n"
     ]
    },
    {
     "name": "stderr",
     "output_type": "stream",
     "text": [
      " 22%|██▏       | 5971/26843 [56:32<1:24:58,  4.09it/s]"
     ]
    },
    {
     "name": "stdout",
     "output_type": "stream",
     "text": [
      "Could not find 5970: x-science Metadata Schema (10.5281/ZENODO.5810914)\n"
     ]
    },
    {
     "name": "stderr",
     "output_type": "stream",
     "text": [
      " 22%|██▏       | 5977/26843 [56:40<3:46:26,  1.54it/s]"
     ]
    },
    {
     "name": "stdout",
     "output_type": "stream",
     "text": [
      "Could not find 5976: Using Vision Videos in a Virtual Focus Group: Experiences and Recommendations (10.48550/arXiv.2011.00965)\n"
     ]
    },
    {
     "name": "stderr",
     "output_type": "stream",
     "text": [
      " 22%|██▏       | 5982/26843 [56:42<2:15:17,  2.57it/s]"
     ]
    },
    {
     "name": "stdout",
     "output_type": "stream",
     "text": [
      "Could not find 5981: Data reuse and the open data citation advantage (10.7287/peerj.preprints.1v1)\n"
     ]
    },
    {
     "name": "stderr",
     "output_type": "stream",
     "text": [
      " 22%|██▏       | 5997/26843 [56:51<2:51:11,  2.03it/s]"
     ]
    },
    {
     "name": "stdout",
     "output_type": "stream",
     "text": [
      "Could not find 5996: Empfehlungen zur Transformation des wissenschaftlichen Publizierens zu Open Access (10.57674/fyrc-vb61)\n"
     ]
    },
    {
     "name": "stderr",
     "output_type": "stream",
     "text": [
      " 22%|██▏       | 6017/26843 [57:00<2:39:56,  2.17it/s]"
     ]
    },
    {
     "name": "stdout",
     "output_type": "stream",
     "text": [
      "Could not find 6016: Impact of cytopathology authors work: Comparative analysis based on Open-access cytopathology publications versus non-Open-access conventional publications (10.25259/cytojournal{\\textunderscore }32{\\textunderscore }2021)\n"
     ]
    },
    {
     "name": "stderr",
     "output_type": "stream",
     "text": [
      " 22%|██▏       | 6021/26843 [57:01<2:10:52,  2.65it/s]"
     ]
    },
    {
     "name": "stdout",
     "output_type": "stream",
     "text": [
      "Could not find 6020: All the research that's fit to print: Open access and the news media (10.1162/qss{\\textunderscore }a{\\textunderscore }00139)\n"
     ]
    },
    {
     "name": "stderr",
     "output_type": "stream",
     "text": [
      " 23%|██▎       | 6046/26843 [57:12<1:56:57,  2.96it/s]"
     ]
    },
    {
     "name": "stdout",
     "output_type": "stream",
     "text": [
      "Could not find 6045: Financial Flows In Swiss Publishing (10.5281/zenodo.240896)\n"
     ]
    },
    {
     "name": "stderr",
     "output_type": "stream",
     "text": [
      " 23%|██▎       | 6047/26843 [57:12<1:48:49,  3.18it/s]"
     ]
    },
    {
     "name": "stdout",
     "output_type": "stream",
     "text": [
      "Could not find 6046: The Open Access Advantage for American Law Reviews (10.2139/ssrn.2506913)\n"
     ]
    },
    {
     "name": "stderr",
     "output_type": "stream",
     "text": [
      " 23%|██▎       | 6056/26843 [57:19<3:48:41,  1.51it/s]"
     ]
    },
    {
     "name": "stdout",
     "output_type": "stream",
     "text": [
      "Could not find 6055: Attracting new users or business as usual? A case study of converting academic subscription-based journals to open access (10.1162/qss{\\textunderscore }a{\\textunderscore }00126)\n"
     ]
    },
    {
     "name": "stderr",
     "output_type": "stream",
     "text": [
      " 23%|██▎       | 6058/26843 [57:20<3:50:58,  1.50it/s]"
     ]
    },
    {
     "name": "stdout",
     "output_type": "stream",
     "text": [
      "Could not find 6057: Impact of cytopathology authors work: Comparative analysis based on Open-access cytopathology publications versus non-Open-access conventional publications (10.25259/cytojournal{\\textunderscore }32{\\textunderscore }2021)\n"
     ]
    },
    {
     "name": "stderr",
     "output_type": "stream",
     "text": [
      " 23%|██▎       | 6082/26843 [57:33<3:35:33,  1.61it/s]"
     ]
    },
    {
     "name": "stdout",
     "output_type": "stream",
     "text": [
      "Could not find 6081: From closed to open access: A case study of flipped journals (10.5281/zenodo.4033897)\n"
     ]
    },
    {
     "name": "stderr",
     "output_type": "stream",
     "text": [
      " 23%|██▎       | 6085/26843 [57:34<2:07:51,  2.71it/s]"
     ]
    },
    {
     "name": "stdout",
     "output_type": "stream",
     "text": [
      "Could not find 6084: Factors associated with open access publishing costs in oncology journals (10.1200/jco.2021.39.15{\\textunderscore }suppl.11032)\n"
     ]
    },
    {
     "name": "stderr",
     "output_type": "stream",
     "text": [
      " 23%|██▎       | 6104/26843 [57:42<2:08:27,  2.69it/s]"
     ]
    },
    {
     "name": "stdout",
     "output_type": "stream",
     "text": [
      "Could not find 6103: More Readers in More Places: The benefits of open access for scholarly books (10.5281/zenodo.4014905)\n"
     ]
    },
    {
     "name": "stderr",
     "output_type": "stream",
     "text": [
      " 23%|██▎       | 6134/26843 [57:57<1:49:57,  3.14it/s]"
     ]
    },
    {
     "name": "stdout",
     "output_type": "stream",
     "text": [
      "Could not find 6133: Getting cited: Does open access help? (10.1016/j.respol.2011.05.025)\n"
     ]
    },
    {
     "name": "stderr",
     "output_type": "stream",
     "text": [
      " 23%|██▎       | 6155/26843 [58:05<1:58:59,  2.90it/s]"
     ]
    },
    {
     "name": "stdout",
     "output_type": "stream",
     "text": [
      "Could not find 6154: Coreference Resolution in Biomedical Texts: a Machine Learning Approach (10.4230/DAGSEMPROC.08131.4)\n"
     ]
    },
    {
     "name": "stderr",
     "output_type": "stream",
     "text": [
      " 23%|██▎       | 6194/26843 [58:22<1:13:34,  4.68it/s]"
     ]
    },
    {
     "name": "stdout",
     "output_type": "stream",
     "text": [
      "Could not find 6193: NLTK: the natural language toolkit (10.3115/1225403.1225421)\n"
     ]
    },
    {
     "name": "stderr",
     "output_type": "stream",
     "text": [
      " 23%|██▎       | 6212/26843 [58:29<2:27:42,  2.33it/s]"
     ]
    },
    {
     "name": "stdout",
     "output_type": "stream",
     "text": [
      "Could not find 6211: Final report on the project: Distributed Search in Large Enterprise Data (10.2314/KXP:1678112836)\n"
     ]
    },
    {
     "name": "stderr",
     "output_type": "stream",
     "text": [
      " 23%|██▎       | 6278/26843 [59:03<1:15:48,  4.52it/s]"
     ]
    },
    {
     "name": "stdout",
     "output_type": "stream",
     "text": [
      "Could not find 6277: Identifying stakeholders and their preferences about NFR by comparing use case diagrams of several existing systems (10.1109/icre.2004.1335669)\n"
     ]
    },
    {
     "name": "stderr",
     "output_type": "stream",
     "text": [
      " 23%|██▎       | 6294/26843 [59:23<13:22:21,  2.34s/it]"
     ]
    },
    {
     "name": "stdout",
     "output_type": "stream",
     "text": [
      "Could not find 6293: Modeling and composing scenario-based requirements with aspects (10.1109/icre.2004.1335664)\n"
     ]
    },
    {
     "name": "stderr",
     "output_type": "stream",
     "text": [
      " 23%|██▎       | 6295/26843 [59:23<10:08:56,  1.78s/it]"
     ]
    },
    {
     "name": "stdout",
     "output_type": "stream",
     "text": [
      "Could not find 6294: Creating the European Literary Text Collection (ELTeC): Challenges and Perspectives (10.3828/mlo.v0i0.364)\n"
     ]
    },
    {
     "name": "stderr",
     "output_type": "stream",
     "text": [
      " 23%|██▎       | 6296/26843 [59:23<7:42:52,  1.35s/it] "
     ]
    },
    {
     "name": "stdout",
     "output_type": "stream",
     "text": [
      "Could not find 6295: OMML: a behavioural model interchange format (10.1109/icre.2004.1335684)\n"
     ]
    },
    {
     "name": "stderr",
     "output_type": "stream",
     "text": [
      " 24%|██▎       | 6358/26843 [1:00:04<3:38:33,  1.56it/s]"
     ]
    },
    {
     "name": "stdout",
     "output_type": "stream",
     "text": [
      "Could not find 6357: Chemolithoautotrophic production mediating the cycling of the greenhouses gases N&lt;sub&gt;2&lt;/sub&gt;O and CH&lt;sub&gt;4&lt;/sub&gt; in an upwelling ecosystem (10.5194/bgd-6-6205-2009)\n"
     ]
    },
    {
     "name": "stderr",
     "output_type": "stream",
     "text": [
      " 24%|██▍       | 6394/26843 [1:00:24<1:57:55,  2.89it/s]"
     ]
    },
    {
     "name": "stdout",
     "output_type": "stream",
     "text": [
      "Could not find 6393: An improved TMAH Si-etching solution without attacking exposed aluminum (10.1016/s0924-4247(00)00546-x)\n"
     ]
    },
    {
     "name": "stderr",
     "output_type": "stream",
     "text": [
      " 24%|██▍       | 6395/26843 [1:00:24<1:48:56,  3.13it/s]"
     ]
    },
    {
     "name": "stdout",
     "output_type": "stream",
     "text": [
      "Could not find 6394: COTS tenders and integration requirements (10.1109/icre.2004.1335674)\n"
     ]
    },
    {
     "name": "stderr",
     "output_type": "stream",
     "text": [
      " 24%|██▍       | 6540/26843 [1:02:08<2:33:34,  2.20it/s] "
     ]
    },
    {
     "name": "stdout",
     "output_type": "stream",
     "text": [
      "Could not find 6539: Enrichment Of Requirements Specifications With Videos - Enhancing The Comprehensibility Of Textual Requirements (10.5281/ZENODO.59011)\n"
     ]
    },
    {
     "name": "stderr",
     "output_type": "stream",
     "text": [
      " 24%|██▍       | 6550/26843 [1:02:13<3:45:01,  1.50it/s]"
     ]
    },
    {
     "name": "stdout",
     "output_type": "stream",
     "text": [
      "Could not find 6549: ART-SCENE: enhancing scenario walkthroughs with multi-media scenarios (10.1109/icre.2004.1335700)\n"
     ]
    },
    {
     "name": "stderr",
     "output_type": "stream",
     "text": [
      " 24%|██▍       | 6555/26843 [1:02:15<2:46:08,  2.04it/s]"
     ]
    },
    {
     "name": "stdout",
     "output_type": "stream",
     "text": [
      "Could not find 6554: Representing software project vision by means of video: A quality model for vision videos (https://doi.org/10.1016/j.jss.2019.110479)\n"
     ]
    },
    {
     "name": "stderr",
     "output_type": "stream",
     "text": [
      " 24%|██▍       | 6560/26843 [1:02:17<2:02:49,  2.75it/s]"
     ]
    },
    {
     "name": "stdout",
     "output_type": "stream",
     "text": [
      "Could not find 6559: Continuous demonstration (10.1109/mere.2011.6043940)\n"
     ]
    },
    {
     "name": "stderr",
     "output_type": "stream",
     "text": [
      " 25%|██▍       | 6659/26843 [1:03:29<2:29:31,  2.25it/s] "
     ]
    },
    {
     "name": "stdout",
     "output_type": "stream",
     "text": [
      "Could not find 6658: Built Environment Factors Affecting Bike Sharing Ridership: Data-Driven Approach for Multiple Cities (https://doi.org/10.1177/0361198119849908)\n"
     ]
    },
    {
     "name": "stderr",
     "output_type": "stream",
     "text": [
      " 25%|██▍       | 6695/26843 [1:03:56<2:12:19,  2.54it/s]"
     ]
    },
    {
     "name": "stdout",
     "output_type": "stream",
     "text": [
      "Could not find 6694: A Hybrid Neuro-Symbolic Approach for Complex Event Processing (10.48550/arXiv.2009.03420)\n"
     ]
    },
    {
     "name": "stderr",
     "output_type": "stream",
     "text": [
      " 25%|██▍       | 6696/26843 [1:03:56<2:01:10,  2.77it/s]"
     ]
    },
    {
     "name": "stdout",
     "output_type": "stream",
     "text": [
      "Could not find 6695: Dictator games: a meta study (10.1007/s10683-011-9283-7)\n"
     ]
    },
    {
     "name": "stderr",
     "output_type": "stream",
     "text": [
      " 25%|██▌       | 6729/26843 [1:04:23<3:00:26,  1.86it/s]"
     ]
    },
    {
     "name": "stdout",
     "output_type": "stream",
     "text": [
      "Could not find 6728: Hydrothermal alteration mapping using EO-1 Hyperion hyperspectral data in Kosedag, Central-Eastern Anatolia (Sivas,Turkey) (10.1007/s12517-021-0866)\n"
     ]
    },
    {
     "name": "stderr",
     "output_type": "stream",
     "text": [
      " 25%|██▌       | 6730/26843 [1:04:23<2:58:13,  1.88it/s]"
     ]
    },
    {
     "name": "stdout",
     "output_type": "stream",
     "text": [
      "Could not find 6729: Utilization of Hyperion data over Dongargarh, India, for mapping altered/weathered and clay minerals along with field spectral measurements (10.1080/01431161.2012.66109)\n"
     ]
    },
    {
     "name": "stderr",
     "output_type": "stream",
     "text": [
      " 25%|██▌       | 6797/26843 [1:05:12<4:03:47,  1.37it/s]"
     ]
    },
    {
     "name": "stdout",
     "output_type": "stream",
     "text": [
      "Could not find 6796: Digital Twins In Farm Management: Illustrations From The Fiware Accelerators Smartagrifood And Fractals (10.5281/ZENODO.893662)\n"
     ]
    },
    {
     "name": "stderr",
     "output_type": "stream",
     "text": [
      " 26%|██▌       | 7012/26843 [1:05:58<37:01,  8.93it/s]  "
     ]
    },
    {
     "name": "stdout",
     "output_type": "stream",
     "text": [
      "Could not find 7011: Expanding the horizons of requirements engineering: examining requirements during groupware tool diffusion (10.1109/icre.2004.1335676)\n"
     ]
    },
    {
     "name": "stderr",
     "output_type": "stream",
     "text": [
      " 26%|██▌       | 7031/26843 [1:06:10<2:35:22,  2.13it/s]"
     ]
    },
    {
     "name": "stdout",
     "output_type": "stream",
     "text": [
      "Could not find 7030: Informing the Public About a Pandemic (10.1287/mnsc.2021.4016)\n"
     ]
    },
    {
     "name": "stderr",
     "output_type": "stream",
     "text": [
      " 26%|██▌       | 7033/26843 [1:06:12<2:52:33,  1.91it/s]"
     ]
    },
    {
     "name": "stdout",
     "output_type": "stream",
     "text": [
      "Could not find 7032: Abgeleitete Textformate: Text und Data Mining mit urheberrechtlich geschützten Textbeständen (10.17175/2020_006)\n"
     ]
    },
    {
     "name": "stderr",
     "output_type": "stream",
     "text": [
      " 26%|██▋       | 7071/26843 [1:06:36<2:54:40,  1.89it/s]"
     ]
    },
    {
     "name": "stdout",
     "output_type": "stream",
     "text": [
      "Could not find 7070: Developing Global Public Servants for Good Governance and Sustainable Development (10.3233/978-1-58603-958-5-48)\n"
     ]
    },
    {
     "name": "stderr",
     "output_type": "stream",
     "text": [
      " 26%|██▋       | 7092/26843 [1:06:48<2:19:54,  2.35it/s]"
     ]
    },
    {
     "name": "stdout",
     "output_type": "stream",
     "text": [
      "Could not find 7091: The network business model of cloud computing for end-to-end supply chain visibility (10.1504/IJVCM.2017.082684)\n"
     ]
    },
    {
     "name": "stderr",
     "output_type": "stream",
     "text": [
      " 27%|██▋       | 7170/26843 [1:07:40<3:45:50,  1.45it/s]"
     ]
    },
    {
     "name": "stdout",
     "output_type": "stream",
     "text": [
      "Could not find 7169: NEW DIRECTIONS FOR IT GOVERNANCE IN THE BRAZILIAN GOVERNMENT:  (10.5220/0001667901790182)\n"
     ]
    },
    {
     "name": "stderr",
     "output_type": "stream",
     "text": [
      " 27%|██▋       | 7204/26843 [1:08:04<3:03:18,  1.79it/s]"
     ]
    },
    {
     "name": "stdout",
     "output_type": "stream",
     "text": [
      "Could not find 7203: Contribution of picoplankton to the total particulate organic carbon (POC) concentration in the eastern South Pacific (10.5194/bgd-4-1461-2007)\n"
     ]
    },
    {
     "name": "stderr",
     "output_type": "stream",
     "text": [
      " 27%|██▋       | 7358/26843 [1:09:48<2:21:08,  2.30it/s]"
     ]
    },
    {
     "name": "stdout",
     "output_type": "stream",
     "text": [
      "Could not find 7357: Stark broadening of spectral lines along the isoelectronic sequence of Li (10.1103/physreva.45.8795)\n"
     ]
    },
    {
     "name": "stderr",
     "output_type": "stream",
     "text": [
      " 28%|██▊       | 7424/26843 [1:10:32<2:35:07,  2.09it/s]"
     ]
    },
    {
     "name": "stdout",
     "output_type": "stream",
     "text": [
      "Could not find 7423: On the Stark Broadening of Be II Spectral Lines (10.3390/data5040106)\n"
     ]
    },
    {
     "name": "stderr",
     "output_type": "stream",
     "text": [
      " 28%|██▊       | 7458/26843 [1:10:56<3:56:23,  1.37it/s]"
     ]
    },
    {
     "name": "stdout",
     "output_type": "stream",
     "text": [
      "Could not find 7457: A heterogeneous solution for improving the return on investment of requirements traceability (10.1109/icre.2004.1335680)\n"
     ]
    },
    {
     "name": "stderr",
     "output_type": "stream",
     "text": [
      " 28%|██▊       | 7468/26843 [1:11:02<3:01:50,  1.78it/s]"
     ]
    },
    {
     "name": "stdout",
     "output_type": "stream",
     "text": [
      "Could not find 7467: Stark broadening of spectral lines along the isoelectronic sequence of Li (10.1103/PhysRevA.45.8795)\n"
     ]
    },
    {
     "name": "stderr",
     "output_type": "stream",
     "text": [
      " 28%|██▊       | 7492/26843 [1:11:18<2:33:36,  2.10it/s]"
     ]
    },
    {
     "name": "stdout",
     "output_type": "stream",
     "text": [
      "Could not find 7491: Crow Deaths as a Sentinel Surveillance System for West Nile Virus in the Northeastern United States, 1999 (10.3201/eid0704.017402)\n"
     ]
    },
    {
     "name": "stderr",
     "output_type": "stream",
     "text": [
      " 28%|██▊       | 7532/26843 [1:11:45<3:07:16,  1.72it/s]"
     ]
    },
    {
     "name": "stdout",
     "output_type": "stream",
     "text": [
      "Could not find 7531: Towards Ontology Learning from Folksonomies (https://dblp.org/rec/conf/ijcai/TangLLCG09.bib)\n"
     ]
    },
    {
     "name": "stderr",
     "output_type": "stream",
     "text": [
      " 28%|██▊       | 7596/26843 [1:12:49<4:13:53,  1.26it/s]"
     ]
    },
    {
     "name": "stdout",
     "output_type": "stream",
     "text": [
      "Could not find 7595: IoT-Lite: A Lightweight Semantic Model for the Internet of Things (10.1109/UIC-ATC-ScalCom-CBDCom-IoP-SmartWorld.2016.0035)\n"
     ]
    },
    {
     "name": "stderr",
     "output_type": "stream",
     "text": [
      " 28%|██▊       | 7608/26843 [1:12:57<2:38:48,  2.02it/s]"
     ]
    },
    {
     "name": "stdout",
     "output_type": "stream",
     "text": [
      "Could not find 7607: Towards the Reuse of Standardized Thesauri Into Ontologies (https://dblp.org/rec/conf/semweb/CardilloFTG14.bib)\n"
     ]
    },
    {
     "name": "stderr",
     "output_type": "stream",
     "text": [
      " 28%|██▊       | 7649/26843 [1:13:22<2:18:19,  2.31it/s]"
     ]
    },
    {
     "name": "stdout",
     "output_type": "stream",
     "text": [
      "Could not find 7648: SemEval-2013 Task 7: The Joint Student Response Analysis and 8th Recognizing Textual Entailment Challenge (@inproceedings{dzikovska-etal-2013-semeval,     title = \"{S}em{E}val-2013 Task 7: The Joint Student Response Analysis and 8th Recognizing Textual Entailment Challenge\",     author = \"Dzikovska, Myroslava  and       Nielsen, Rodney  and       Brew, Chris  and       Leacock, Claudia  and       Giampiccolo, Danilo  and       Bentivogli, Luisa  and       Clark, Peter  and       Dagan, Ido  and       Dang, Hoa Trang\",     booktitle = \"Second Joint Conference on Lexical and Computational Semantics (*{SEM}), Volume 2: Proceedings of the Seventh International Workshop on Semantic Evaluation ({S}em{E}val 2013)\",     month = jun,     year = \"2013\",     address = \"Atlanta, Georgia, USA\",     publisher = \"Association for Computational Linguistics\",     url = \"https://aclanthology.org/S13-2045\",     pages = \"263--274\", })\n"
     ]
    },
    {
     "name": "stderr",
     "output_type": "stream",
     "text": [
      " 29%|██▊       | 7653/26843 [1:13:22<1:06:58,  4.78it/s]"
     ]
    },
    {
     "name": "stdout",
     "output_type": "stream",
     "text": [
      "Could not find 7652: Safety and immunogenicity of two RNA-based Covid-19 vaccine candidates (https://doi. org/10.1056/NEJMoa2027906)\n"
     ]
    },
    {
     "name": "stderr",
     "output_type": "stream",
     "text": [
      " 29%|██▊       | 7674/26843 [1:13:37<2:29:54,  2.13it/s]"
     ]
    },
    {
     "name": "stdout",
     "output_type": "stream",
     "text": [
      "Could not find 7673: An mRNA vaccine against SARS-CoV-2 — pre- liminary report (https://doi.org/10. 1056/NEJMoa2022483)\n"
     ]
    },
    {
     "name": "stderr",
     "output_type": "stream",
     "text": [
      " 29%|██▊       | 7675/26843 [1:13:37<2:13:46,  2.39it/s]"
     ]
    },
    {
     "name": "stdout",
     "output_type": "stream",
     "text": [
      "Could not find 7674: Thermostable, mRNA vaccine against COVID-19 (https://doi.org/10.1016/j.cell. 2020.07.024)\n"
     ]
    },
    {
     "name": "stderr",
     "output_type": "stream",
     "text": [
      " 29%|██▊       | 7676/26843 [1:13:37<1:59:14,  2.68it/s]"
     ]
    },
    {
     "name": "stdout",
     "output_type": "stream",
     "text": [
      "Could not find 7675: Self-amplifying RNA SARS-CoV-2 lipid nanoparticle vaccine candidate in- duces high neutralizing antibody titers in mice (https://doi.org/10.1038/s41467-020-17409-9)\n"
     ]
    },
    {
     "name": "stderr",
     "output_type": "stream",
     "text": [
      " 29%|██▊       | 7677/26843 [1:13:37<1:46:33,  3.00it/s]"
     ]
    },
    {
     "name": "stdout",
     "output_type": "stream",
     "text": [
      "Could not find 7676: A single dose of self-transcribing and replicating RNA based SARS-CoV-2 vaccine produces protective adaptive immunity In mice (https:// doi.org/10.1101/2020.09.03.280446)\n"
     ]
    },
    {
     "name": "stderr",
     "output_type": "stream",
     "text": [
      " 29%|██▊       | 7678/26843 [1:13:38<1:39:45,  3.20it/s]"
     ]
    },
    {
     "name": "stdout",
     "output_type": "stream",
     "text": [
      "Could not find 7677: Phase 1 assessment of the safety and immunogenicity of an mRNA- lipid nanoparticle vaccine candidate against SARS-CoV-2 in human volunteers (https://doi.org/10.1101/2020.11.09.20228551)\n"
     ]
    },
    {
     "name": "stderr",
     "output_type": "stream",
     "text": [
      " 29%|██▊       | 7682/26843 [1:13:48<8:13:29,  1.55s/it] "
     ]
    },
    {
     "name": "stdout",
     "output_type": "stream",
     "text": [
      "Could not find 7681: Phase I/II study of COVID-19 RNA vaccine BNT162b1 in adults (https://doi.org/10.1038/s41586-020-2639-4)\n"
     ]
    },
    {
     "name": "stderr",
     "output_type": "stream",
     "text": [
      " 29%|██▊       | 7710/26843 [1:14:07<3:01:10,  1.76it/s]"
     ]
    },
    {
     "name": "stdout",
     "output_type": "stream",
     "text": [
      "Could not find 7709: Diseases and Health Outcomes Registry Systems in I.R. Iran: Successful Initiative to Improve Public Health Programs, Quality of Care, and Biomedical Research (https://pubmed.ncbi.nlm.nih.gov/29480735/)\n"
     ]
    },
    {
     "name": "stderr",
     "output_type": "stream",
     "text": [
      " 29%|██▉       | 7726/26843 [1:14:24<6:23:30,  1.20s/it]"
     ]
    },
    {
     "name": "stdout",
     "output_type": "stream",
     "text": [
      "Could not find 7725: Smart city or smart citizens? The Barcelona case (10.1108/jsma-03-2015-0030)\n"
     ]
    },
    {
     "name": "stderr",
     "output_type": "stream",
     "text": [
      " 29%|██▉       | 7761/26843 [1:14:50<3:31:23,  1.50it/s]"
     ]
    },
    {
     "name": "stdout",
     "output_type": "stream",
     "text": [
      "Could not find 7760: Absolute intensities of the vacuum ultraviolet spectra in oxide etch  plasma processing discharges (10.1116/1.1335685)\n"
     ]
    },
    {
     "name": "stderr",
     "output_type": "stream",
     "text": [
      " 29%|██▉       | 7804/26843 [1:15:12<2:56:09,  1.80it/s]"
     ]
    },
    {
     "name": "stdout",
     "output_type": "stream",
     "text": [
      "Could not find 7803: A novel nanobody targeting Middle East respiratory syndrome coronavirus (MERS-CoV) receptor-binding domain has potent cross-neutralizing activity and protective efficacy against MERS-CoV ( 10.1128/JVI.00837-18)\n"
     ]
    },
    {
     "name": "stderr",
     "output_type": "stream",
     "text": [
      " 29%|██▉       | 7815/26843 [1:15:20<3:46:48,  1.40it/s]"
     ]
    },
    {
     "name": "stdout",
     "output_type": "stream",
     "text": [
      "Could not find 7814: Microneedle array delivered recombinant coronavirus vaccines: Immunogenicity and rapid translational development (0.1016/j.ebiom.2020.102743)\n"
     ]
    },
    {
     "name": "stderr",
     "output_type": "stream",
     "text": [
      " 29%|██▉       | 7856/26843 [1:15:53<1:48:17,  2.92it/s]"
     ]
    },
    {
     "name": "stdout",
     "output_type": "stream",
     "text": [
      "Could not find 7855: Index of Economic Well-Being for Canada (10.1007/978-94-007-0753-5_1403)\n"
     ]
    },
    {
     "name": "stderr",
     "output_type": "stream",
     "text": [
      " 29%|██▉       | 7882/26843 [1:16:12<3:58:13,  1.33it/s]"
     ]
    },
    {
     "name": "stdout",
     "output_type": "stream",
     "text": [
      "Could not find 7881: A Framework to measure the progress of societies (10.3917/redp.211.0093)\n"
     ]
    },
    {
     "name": "stderr",
     "output_type": "stream",
     "text": [
      " 30%|██▉       | 8015/26843 [1:18:01<1:50:58,  2.83it/s] "
     ]
    },
    {
     "name": "stdout",
     "output_type": "stream",
     "text": [
      "Could not find 8014: An efficient XML to OWL converter (https://doi.org/10.1145/1953355.1953376)\n"
     ]
    },
    {
     "name": "stderr",
     "output_type": "stream",
     "text": [
      " 30%|███       | 8084/26843 [1:19:16<2:49:53,  1.84it/s] "
     ]
    },
    {
     "name": "stdout",
     "output_type": "stream",
     "text": [
      "Could not find 8083: Lifting XML schema to OWL (https://doi.org/10.1007/978-3-540-27834-4_44)\n"
     ]
    },
    {
     "name": "stderr",
     "output_type": "stream",
     "text": [
      " 30%|███       | 8086/26843 [1:19:16<1:56:09,  2.69it/s]"
     ]
    },
    {
     "name": "stdout",
     "output_type": "stream",
     "text": [
      "Could not find 8085: The Management Of Heritage In Contested Cross-Border Contexts: Emerging Research On The Island Of Ireland (10.5281/ZENODO.1469765)\n"
     ]
    },
    {
     "name": "stderr",
     "output_type": "stream",
     "text": [
      " 31%|███       | 8240/26843 [1:21:09<3:55:50,  1.31it/s]"
     ]
    },
    {
     "name": "stdout",
     "output_type": "stream",
     "text": [
      "Could not find 8239: Light-Driven Depolymerization of Native Lignin Enabled by Proton-Coupled Electron Transfer (10.1021/acscatal.9b04813)\n"
     ]
    },
    {
     "name": "stderr",
     "output_type": "stream",
     "text": [
      " 31%|███       | 8243/26843 [1:21:11<4:03:31,  1.27it/s]"
     ]
    },
    {
     "name": "stdout",
     "output_type": "stream",
     "text": [
      "Could not find 8242: An extensive bloom of the N₂-fixing cyanobacterium Trichodesmium erythraeum in the central Arabian Sea (10.7916/D8416X1H)\n"
     ]
    },
    {
     "name": "stderr",
     "output_type": "stream",
     "text": [
      " 31%|███       | 8345/26843 [1:22:18<3:06:30,  1.65it/s]"
     ]
    },
    {
     "name": "stdout",
     "output_type": "stream",
     "text": [
      "Could not find 8344: Steam plasma jet treatment of phenol in aqueous solution at atmospheric pressure (10.1109/PLASMA.2012.6383486)\n"
     ]
    },
    {
     "name": "stderr",
     "output_type": "stream",
     "text": [
      " 31%|███▏      | 8432/26843 [1:23:17<2:43:37,  1.88it/s]"
     ]
    },
    {
     "name": "stdout",
     "output_type": "stream",
     "text": [
      "Could not find 8431: Making FAIR Easy with FAIR Tools: From Creolization to Convergence (https://doi.org/10.1162/dint_a_00031)\n"
     ]
    },
    {
     "name": "stderr",
     "output_type": "stream",
     "text": [
      " 31%|███▏      | 8435/26843 [1:23:19<3:12:11,  1.60it/s]"
     ]
    },
    {
     "name": "stdout",
     "output_type": "stream",
     "text": [
      "Could not find 8434: Getting the Mix Right Again: An updated and theoretical rationale for interaction (10.19173/irrodl.v4i2.149 )\n"
     ]
    },
    {
     "name": "stderr",
     "output_type": "stream",
     "text": [
      " 31%|███▏      | 8449/26843 [1:23:26<2:37:56,  1.94it/s]"
     ]
    },
    {
     "name": "stdout",
     "output_type": "stream",
     "text": [
      "Could not find 8448: A design framework and exemplar metrics for FAIRness (10.1038/sdata.2018.118)\n"
     ]
    },
    {
     "name": "stderr",
     "output_type": "stream",
     "text": [
      " 31%|███▏      | 8455/26843 [1:23:28<1:51:47,  2.74it/s]"
     ]
    },
    {
     "name": "stdout",
     "output_type": "stream",
     "text": [
      "Could not find 8454: Results of an Analysis of Existing FAIR Assessment Tools (10.15497/rda00035)\n"
     ]
    },
    {
     "name": "stderr",
     "output_type": "stream",
     "text": [
      " 32%|███▏      | 8475/26843 [1:23:40<3:24:51,  1.49it/s]"
     ]
    },
    {
     "name": "stdout",
     "output_type": "stream",
     "text": [
      "Could not find 8474: FAIRness of Repositories & Their Data: A Report from LIBER's Research Data Management Working Group (10.5281/ZENODO.3251593)\n"
     ]
    },
    {
     "name": "stderr",
     "output_type": "stream",
     "text": [
      " 32%|███▏      | 8612/26843 [1:23:48<18:19, 16.59it/s]  "
     ]
    },
    {
     "name": "stdout",
     "output_type": "stream",
     "text": [
      "Could not find 8611: Physical concept ontology for the knowledge intensive engineering framework (https://doi.org/10.1016/j.aei.2004.09.004)\n"
     ]
    },
    {
     "name": "stderr",
     "output_type": "stream",
     "text": [
      " 32%|███▏      | 8614/26843 [1:23:49<22:37, 13.43it/s]"
     ]
    },
    {
     "name": "stdout",
     "output_type": "stream",
     "text": [
      "Could not find 8612: Ontology-Based Exchange of Product Data Semantics (https://doi.org/10.1109/TASE.2005.849087)\n"
     ]
    },
    {
     "name": "stderr",
     "output_type": "stream",
     "text": [
      " 32%|███▏      | 8616/26843 [1:23:49<28:00, 10.84it/s]"
     ]
    },
    {
     "name": "stdout",
     "output_type": "stream",
     "text": [
      "Could not find 8614: Intelligent support of engineering analysis using ontology and case-based reasoning (https://doi.org/10.1016/j.engappai.2006.12.002)\n"
     ]
    },
    {
     "name": "stderr",
     "output_type": "stream",
     "text": [
      " 33%|███▎      | 8771/26843 [1:24:02<35:16,  8.54it/s]"
     ]
    },
    {
     "name": "stdout",
     "output_type": "stream",
     "text": [
      "Could not find 8770: Mapping of Alteration Zones in Mineral Rich Belt of South-East Rajasthan Using Remote Sensing Techniques (10.5281/zenodo.1128817)\n"
     ]
    },
    {
     "name": "stderr",
     "output_type": "stream",
     "text": [
      " 33%|███▎      | 8824/26843 [1:24:16<1:46:29,  2.82it/s]"
     ]
    },
    {
     "name": "stdout",
     "output_type": "stream",
     "text": [
      "Could not find 8823: Mapping of Alteration Zones in Mineral Rich Belt of South-East Rajasthan Using Remote Sensing Techniques (10.5281/zenodo.1128817)\n"
     ]
    },
    {
     "name": "stderr",
     "output_type": "stream",
     "text": [
      " 33%|███▎      | 8840/26843 [1:24:18<51:31,  5.82it/s]  "
     ]
    },
    {
     "name": "stdout",
     "output_type": "stream",
     "text": [
      "Could not find 8839: Mapping of Alteration Zones in Mineral Rich Belt of South-East Rajasthan Using Remote Sensing Techniques (10.5281/zenodo.1128817)\n"
     ]
    },
    {
     "name": "stderr",
     "output_type": "stream",
     "text": [
      " 33%|███▎      | 8851/26843 [1:24:20<43:52,  6.83it/s]  "
     ]
    },
    {
     "name": "stdout",
     "output_type": "stream",
     "text": [
      "Could not find 8850: Services: Finance, Trade and Tourism (doi 10.1007/978-3-030-74701-5)\n"
     ]
    },
    {
     "name": "stderr",
     "output_type": "stream",
     "text": [
      " 33%|███▎      | 8860/26843 [1:24:25<2:27:50,  2.03it/s]"
     ]
    },
    {
     "name": "stdout",
     "output_type": "stream",
     "text": [
      "Could not find 8859: Inter-Subject Variability of Skull Conductivity and Thickness in Calibrated Realistic Head Models (https://doi.org/10.1016/j.neuroimage.2020.117353)\n"
     ]
    },
    {
     "name": "stderr",
     "output_type": "stream",
     "text": [
      " 33%|███▎      | 8861/26843 [1:24:25<2:28:49,  2.01it/s]"
     ]
    },
    {
     "name": "stdout",
     "output_type": "stream",
     "text": [
      "Could not find 8860: Unsupervised collective-based framework for dynamic retraining of supervised real-time spam tweets detection model (https://doi.org/10.1016/j.eswa.2019.05.052)\n"
     ]
    },
    {
     "name": "stderr",
     "output_type": "stream",
     "text": [
      " 33%|███▎      | 8862/26843 [1:24:26<2:29:38,  2.00it/s]"
     ]
    },
    {
     "name": "stdout",
     "output_type": "stream",
     "text": [
      "Could not find 8861: Integriertes Wissensmanagement (10.1007/978-3-642-19003-2_19)\n"
     ]
    },
    {
     "name": "stderr",
     "output_type": "stream",
     "text": [
      " 33%|███▎      | 8872/26843 [1:24:31<2:39:23,  1.88it/s]"
     ]
    },
    {
     "name": "stdout",
     "output_type": "stream",
     "text": [
      "Could not find 8871: How We Refactor, and How We Know It (10.1109/tse.2011.41)\n"
     ]
    },
    {
     "name": "stderr",
     "output_type": "stream",
     "text": [
      " 33%|███▎      | 8949/26843 [1:24:40<59:14,  5.03it/s]  "
     ]
    },
    {
     "name": "stdout",
     "output_type": "stream",
     "text": [
      "Could not find 8948: Relationship-based access control: protection model and policy language (https://doi.org/10.1145/1943513.1943539)\n"
     ]
    },
    {
     "name": "stderr",
     "output_type": "stream",
     "text": [
      " 33%|███▎      | 8960/26843 [1:24:44<1:27:01,  3.42it/s]"
     ]
    },
    {
     "name": "stdout",
     "output_type": "stream",
     "text": [
      "Could not find 8959: Anastomosis Groups of Rhizoctonia solani associated with tomato foot rot in Pothohar Region of Pakistan (https://www.nature.com/articles/s41598-019-40043-5)\n"
     ]
    },
    {
     "name": "stderr",
     "output_type": "stream",
     "text": [
      " 33%|███▎      | 8961/26843 [1:24:45<1:40:29,  2.97it/s]"
     ]
    },
    {
     "name": "stdout",
     "output_type": "stream",
     "text": [
      "Could not find 8960: An extensive bloom of the N2-fixing cyanobacterium Trichodesmium erythraeum in the central Arabian Sea (10.7916/D8416X1H)\n"
     ]
    },
    {
     "name": "stderr",
     "output_type": "stream",
     "text": [
      " 33%|███▎      | 8978/26843 [1:24:50<1:28:23,  3.37it/s]"
     ]
    },
    {
     "name": "stdout",
     "output_type": "stream",
     "text": [
      "Could not find 8977: Absolute intensities of the vacuum ultraviolet spectra in oxide etch plasma processing discharges (10.1116/1.1335685)\n"
     ]
    },
    {
     "name": "stderr",
     "output_type": "stream",
     "text": [
      " 34%|███▎      | 9042/26843 [1:25:27<2:55:21,  1.69it/s]"
     ]
    },
    {
     "name": "stdout",
     "output_type": "stream",
     "text": [
      "Could not find 9041: A survey of Chinese interpreting studies: who influences who …and why? (10.7717/peerj-cs.14)\n"
     ]
    },
    {
     "name": "stderr",
     "output_type": "stream",
     "text": [
      " 34%|███▎      | 9043/26843 [1:25:27<2:23:15,  2.07it/s]"
     ]
    },
    {
     "name": "stdout",
     "output_type": "stream",
     "text": [
      "Could not find 9042: The Future of e-Learning in Medical Education: Current Trend and Future Opportunity (https://dx.doi.org/10.3352%2Fjeehp.2006.3.3)\n"
     ]
    },
    {
     "name": "stderr",
     "output_type": "stream",
     "text": [
      " 34%|███▎      | 9046/26843 [1:25:29<3:01:24,  1.64it/s]"
     ]
    },
    {
     "name": "stdout",
     "output_type": "stream",
     "text": [
      "Could not find 9045: Factors Influencing the Selection of Precision Farming Information Sources by Cotton Producers (10.22004/AG.ECON.117779)\n"
     ]
    },
    {
     "name": "stderr",
     "output_type": "stream",
     "text": [
      " 34%|███▎      | 9059/26843 [1:25:40<2:46:41,  1.78it/s]"
     ]
    },
    {
     "name": "stdout",
     "output_type": "stream",
     "text": [
      "Could not find 9058: No nitrogen fixation in the Bay of Bengal? (10.5194/bg-17-851-2020)\n"
     ]
    },
    {
     "name": "stderr",
     "output_type": "stream",
     "text": [
      " 34%|███▍      | 9069/26843 [1:25:45<1:40:18,  2.95it/s]"
     ]
    },
    {
     "name": "stdout",
     "output_type": "stream",
     "text": [
      "Could not find 9068: Reconfiguration of dominant coupling modes in mild traumatic brain injury mediated by δ-band activity: A resting state MEG study (10.1016/j.neuroscience.2017.05.032)\n"
     ]
    },
    {
     "name": "stderr",
     "output_type": "stream",
     "text": [
      " 34%|███▍      | 9089/26843 [1:25:56<2:07:08,  2.33it/s]"
     ]
    },
    {
     "name": "stdout",
     "output_type": "stream",
     "text": [
      "Could not find 9088: Reduced monocytic human leukocyte antigen-DR expression indicates immunosuppression in critically ill COVID-19 patients (https://dx.doi.org/10.1213%2FANE.0000000000005044)\n"
     ]
    },
    {
     "name": "stderr",
     "output_type": "stream",
     "text": [
      " 34%|███▍      | 9207/26843 [1:27:11<2:59:48,  1.63it/s] "
     ]
    },
    {
     "name": "stdout",
     "output_type": "stream",
     "text": [
      "Could not find 9206: Des Ezechielbuch als Metatext I. Ezechiel 1–3 als Leseanleitung für ein literarisch ausformuliertes Prophetenbuch (10.2143/BIB.98.4.3265684)\n"
     ]
    },
    {
     "name": "stderr",
     "output_type": "stream",
     "text": [
      " 35%|███▍      | 9266/26843 [1:27:47<2:28:18,  1.98it/s]"
     ]
    },
    {
     "name": "stdout",
     "output_type": "stream",
     "text": [
      "Could not find 9265: Value of ecosystem services in China ( http://dx.doi.org/10.1007/BF02886190.)\n"
     ]
    },
    {
     "name": "stderr",
     "output_type": "stream",
     "text": [
      " 35%|███▍      | 9322/26843 [1:28:27<3:20:15,  1.46it/s]"
     ]
    },
    {
     "name": "stdout",
     "output_type": "stream",
     "text": [
      "Could not find 9321: The Structure and Intention of Ezekiel I (10.2307/1519349 )\n"
     ]
    },
    {
     "name": "stderr",
     "output_type": "stream",
     "text": [
      " 35%|███▍      | 9350/26843 [1:28:37<1:01:24,  4.75it/s]"
     ]
    },
    {
     "name": "stdout",
     "output_type": "stream",
     "text": [
      "Could not find 9349: A better fitness measure of a text-document for a given set of keywords (10.1007/BFb0095107)\n"
     ]
    },
    {
     "name": "stderr",
     "output_type": "stream",
     "text": [
      " 36%|███▌      | 9681/26843 [1:32:32<3:10:56,  1.50it/s]"
     ]
    },
    {
     "name": "stdout",
     "output_type": "stream",
     "text": [
      "Could not find 9680: Estimating genetic kin relationships in prehistoric populations (10.1371/journal.pone.0195491)\n"
     ]
    },
    {
     "name": "stderr",
     "output_type": "stream",
     "text": [
      " 36%|███▌      | 9706/26843 [1:32:48<2:12:57,  2.15it/s]"
     ]
    },
    {
     "name": "stdout",
     "output_type": "stream",
     "text": [
      "Could not find 9705: Thought experiment: Decoding cognitive processes from the fMRI data of one individual (10.1371/journal.pone.0204338)\n"
     ]
    },
    {
     "name": "stderr",
     "output_type": "stream",
     "text": [
      " 38%|███▊      | 10098/26843 [1:38:04<2:39:05,  1.75it/s]"
     ]
    },
    {
     "name": "stdout",
     "output_type": "stream",
     "text": [
      "Could not find 10097: Global Health Diplomacy, Monitoring & Evaluation, and the Importance of Quality Assurance & Control: Findings from NIMH Project Accept (HPTN 043): A Phase III Randomized Controlled Trial of Community Mobilization, Mobile Testing, Same-Day Results, and Post-Test Support for HIV in Sub-Saharan Africa and Thailand (10.1371/journal.pone.0149335)\n"
     ]
    },
    {
     "name": "stderr",
     "output_type": "stream",
     "text": [
      " 38%|███▊      | 10262/26843 [1:40:09<3:18:51,  1.39it/s]"
     ]
    },
    {
     "name": "stdout",
     "output_type": "stream",
     "text": [
      "Could not find 10261: Socioeconomic disparities and sexual dimorphism in neurotoxic effects of ambient fine particles on youth IQ: A longitudinal analysis (10.1371/journal.pone.0188731)\n"
     ]
    },
    {
     "name": "stderr",
     "output_type": "stream",
     "text": [
      " 39%|███▊      | 10396/26843 [1:41:44<1:58:16,  2.32it/s]"
     ]
    },
    {
     "name": "stdout",
     "output_type": "stream",
     "text": [
      "Could not find 10395: Nebula: Reliable Low-latency Video Transmission for Mobile Cloud Gaming (https://dl.acm.org/doi/10.1145/3485447.3512276)\n"
     ]
    },
    {
     "name": "stderr",
     "output_type": "stream",
     "text": [
      " 39%|███▉      | 10437/26843 [1:42:10<2:37:13,  1.74it/s]"
     ]
    },
    {
     "name": "stdout",
     "output_type": "stream",
     "text": [
      "Could not find 10436: Darwin's naturalization hypothesis revisited (10.2307/3079209)\n"
     ]
    },
    {
     "name": "stderr",
     "output_type": "stream",
     "text": [
      " 39%|███▉      | 10468/26843 [1:42:30<1:26:40,  3.15it/s]"
     ]
    },
    {
     "name": "stdout",
     "output_type": "stream",
     "text": [
      "Could not find 10467: Discovery of ontologies from knowledge bases (https://doi.org/10.1145/500737.500764)\n"
     ]
    },
    {
     "name": "stderr",
     "output_type": "stream",
     "text": [
      " 39%|███▉      | 10525/26843 [1:42:39<40:23,  6.73it/s]  "
     ]
    },
    {
     "name": "stdout",
     "output_type": "stream",
     "text": [
      "Could not find 10523: Does enemy loss cause release? A biogeographical comparison of parasitoid effects on an introduced insect (10.1890/12-1710.1 )\n"
     ]
    },
    {
     "name": "stderr",
     "output_type": "stream",
     "text": [
      " 39%|███▉      | 10588/26843 [1:42:56<17:51, 15.17it/s]  "
     ]
    },
    {
     "name": "stdout",
     "output_type": "stream",
     "text": [
      "Could not find 10587: ACE 2005 Multilingual Training Corpus (10.35111/MWXC-VH88)\n",
      "Could not find 10588: The design and implementation of the redland RDF application framework (https://doi.org/10.1145/371920.372099)\n"
     ]
    },
    {
     "name": "stderr",
     "output_type": "stream",
     "text": [
      " 40%|███▉      | 10611/26843 [1:43:01<43:01,  6.29it/s]"
     ]
    },
    {
     "name": "stdout",
     "output_type": "stream",
     "text": [
      "Could not find 10611: ECRIN Metadata Schema for Clinical Research Data Objects Version 6.0 (August 2021) (10.5281/ZENODO.5554961)\n"
     ]
    },
    {
     "name": "stderr",
     "output_type": "stream",
     "text": [
      " 40%|███▉      | 10617/26843 [1:43:03<1:00:10,  4.49it/s]"
     ]
    },
    {
     "name": "stdout",
     "output_type": "stream",
     "text": [
      "Could not find 10616: Acceptability of workplace bullying: A comparative study on six continents (https://doi.org/10.1016/j.jbusres.2011.08.018)\n"
     ]
    },
    {
     "name": "stderr",
     "output_type": "stream",
     "text": [
      " 40%|███▉      | 10621/26843 [1:43:06<1:41:16,  2.67it/s]"
     ]
    },
    {
     "name": "stdout",
     "output_type": "stream",
     "text": [
      "Could not find 10620: Efficient synthesis of physically valid human motion (10.1145/882262.882286)\n"
     ]
    },
    {
     "name": "stderr",
     "output_type": "stream",
     "text": [
      " 40%|███▉      | 10622/26843 [1:43:06<1:34:49,  2.85it/s]"
     ]
    },
    {
     "name": "stdout",
     "output_type": "stream",
     "text": [
      "Could not find 10621: Using Vision Videos in a Virtual Focus Group: Experiences and Recommendations (10.48550/arXiv.2011.00965)\n"
     ]
    },
    {
     "name": "stderr",
     "output_type": "stream",
     "text": [
      " 40%|███▉      | 10627/26843 [1:43:13<3:30:03,  1.29it/s]"
     ]
    },
    {
     "name": "stdout",
     "output_type": "stream",
     "text": [
      "Could not find 10626: Double-antigen sandwich ELISA based on chimeric antigens for detection of (10.1371/journal.pntd.0010290 )\n"
     ]
    },
    {
     "name": "stderr",
     "output_type": "stream",
     "text": [
      " 40%|███▉      | 10634/26843 [1:43:17<2:19:23,  1.94it/s]"
     ]
    },
    {
     "name": "stdout",
     "output_type": "stream",
     "text": [
      "Could not find 10633: International Phyical Performance Test Profile (IPPTP) (doi:10.18152/moredata/188)\n"
     ]
    },
    {
     "name": "stderr",
     "output_type": "stream",
     "text": [
      " 40%|███▉      | 10641/26843 [1:43:20<1:49:27,  2.47it/s]"
     ]
    },
    {
     "name": "stdout",
     "output_type": "stream",
     "text": [
      "Could not find 10640: Double-antigen sandwich ELISA based on chimeric antigens for detection of (10.1371/journal.pntd.0010290 )\n"
     ]
    },
    {
     "name": "stderr",
     "output_type": "stream",
     "text": [
      " 40%|███▉      | 10642/26843 [1:43:21<1:38:21,  2.75it/s]"
     ]
    },
    {
     "name": "stdout",
     "output_type": "stream",
     "text": [
      "Could not find 10641: Double-antigen sandwich ELISA based on chimeric antigens for detection of (10.1371/journal.pntd.0010290 )\n"
     ]
    },
    {
     "name": "stderr",
     "output_type": "stream",
     "text": [
      " 40%|███▉      | 10643/26843 [1:43:21<1:47:58,  2.50it/s]"
     ]
    },
    {
     "name": "stdout",
     "output_type": "stream",
     "text": [
      "Could not find 10642: Double-antigen sandwich ELISA based on chimeric antigens for detection of (10.1371/journal.pntd.0010290 )\n"
     ]
    },
    {
     "name": "stderr",
     "output_type": "stream",
     "text": [
      " 40%|███▉      | 10644/26843 [1:43:22<1:55:41,  2.33it/s]"
     ]
    },
    {
     "name": "stdout",
     "output_type": "stream",
     "text": [
      "Could not find 10643: Double-antigen sandwich ELISA based on chimeric antigens for detection of (10.1371/journal.pntd.0010290 )\n"
     ]
    },
    {
     "name": "stderr",
     "output_type": "stream",
     "text": [
      " 40%|███▉      | 10647/26843 [1:43:23<1:32:45,  2.91it/s]"
     ]
    },
    {
     "name": "stdout",
     "output_type": "stream",
     "text": [
      "Could not find 10646: Alphacoronavirus in a Daubenton’s Myotis Bat (Myotis daubentonii) in Sweden. (10.3390/v14030556 )\n"
     ]
    },
    {
     "name": "stderr",
     "output_type": "stream",
     "text": [
      " 40%|███▉      | 10650/26843 [1:43:24<2:04:56,  2.16it/s]"
     ]
    },
    {
     "name": "stdout",
     "output_type": "stream",
     "text": [
      "Could not find 10649: The Role of Nucleoprotein in Immunity to Human Negative-Stranded RNA Viruses—Not (10.3390/v14030521 )\n"
     ]
    },
    {
     "name": "stderr",
     "output_type": "stream",
     "text": [
      " 40%|███▉      | 10651/26843 [1:43:24<1:46:44,  2.53it/s]"
     ]
    },
    {
     "name": "stdout",
     "output_type": "stream",
     "text": [
      "Could not find 10650: Deriving tabular event-based specifications from goal-oriented requirements models (10.1109/icre.2003.1232751)\n"
     ]
    },
    {
     "name": "stderr",
     "output_type": "stream",
     "text": [
      " 40%|███▉      | 10653/26843 [1:43:25<1:13:20,  3.68it/s]"
     ]
    },
    {
     "name": "stdout",
     "output_type": "stream",
     "text": [
      "Could not find 10652: Patterns for the RE process (10.1109/icre.2004.1335667)\n"
     ]
    },
    {
     "name": "stderr",
     "output_type": "stream",
     "text": [
      " 40%|███▉      | 10677/26843 [1:43:39<1:43:11,  2.61it/s]"
     ]
    },
    {
     "name": "stdout",
     "output_type": "stream",
     "text": [
      "Could not find 10676: A link prediction approach for item recommendation with complex number (10.1016/j.knosys.2015.02.013)\n"
     ]
    },
    {
     "name": "stderr",
     "output_type": "stream",
     "text": [
      " 40%|███▉      | 10681/26843 [1:43:41<1:50:21,  2.44it/s]"
     ]
    },
    {
     "name": "stdout",
     "output_type": "stream",
     "text": [
      "Could not find 10680: Factors influencing the behavioral intention to adopt a technological innovation from a developing country context: The case of mobile augmented reality games (10.1016/j.techsoc.2022.101958)\n"
     ]
    },
    {
     "name": "stderr",
     "output_type": "stream",
     "text": [
      " 40%|███▉      | 10702/26843 [1:43:59<4:11:54,  1.07it/s]"
     ]
    },
    {
     "name": "stdout",
     "output_type": "stream",
     "text": [
      "Could not find 10701: Human motion database with a binary tree and node transition graphs (10.1007/s10514-010-9206-z)\n"
     ]
    },
    {
     "name": "stderr",
     "output_type": "stream",
     "text": [
      " 40%|███▉      | 10707/26843 [1:44:07<4:27:20,  1.01it/s]"
     ]
    },
    {
     "name": "stdout",
     "output_type": "stream",
     "text": [
      "Could not find 10706: Traffic Flow Prediction for Smart Traffic Lights Using Machine Learning Algorithms (10.3390/technologies10010005)\n"
     ]
    },
    {
     "name": "stderr",
     "output_type": "stream",
     "text": [
      " 40%|███▉      | 10725/26843 [1:44:28<3:44:40,  1.20it/s]"
     ]
    },
    {
     "name": "stdout",
     "output_type": "stream",
     "text": [
      "Could not find 10724: OAG-BERT: Pre-train Heterogeneous Entity-augmented Academic Language Models (10.48550/ARXIV.2103.02410)\n"
     ]
    },
    {
     "name": "stderr",
     "output_type": "stream",
     "text": [
      " 40%|███▉      | 10728/26843 [1:44:29<1:57:53,  2.28it/s]"
     ]
    },
    {
     "name": "stdout",
     "output_type": "stream",
     "text": [
      "Could not find 10727: International Phyical Performance Test Profile (IPPTP) (10.18152/MOREDATA/188)\n"
     ]
    },
    {
     "name": "stderr",
     "output_type": "stream",
     "text": [
      " 40%|███▉      | 10730/26843 [1:44:29<1:38:05,  2.74it/s]"
     ]
    },
    {
     "name": "stdout",
     "output_type": "stream",
     "text": [
      "Could not find 10729: Protection of personal data rights and obligations of the employees in the context of the health crisis caused by the covid 19 pandemic (978-606-39-0907-8)\n"
     ]
    },
    {
     "name": "stderr",
     "output_type": "stream",
     "text": [
      " 40%|███▉      | 10735/26843 [1:44:30<1:07:40,  3.97it/s]"
     ]
    },
    {
     "name": "stdout",
     "output_type": "stream",
     "text": [
      "Could not find 10734: Oapen-Ch – The Impact Of Open Access On Scientific Monographs In Switzerland. A Project Conducted By The Swiss National Science Foundation (Snsf) (10.5281/zenodo.1220607)\n"
     ]
    },
    {
     "name": "stderr",
     "output_type": "stream",
     "text": [
      " 40%|████      | 10757/26843 [1:44:39<1:21:39,  3.28it/s]"
     ]
    },
    {
     "name": "stdout",
     "output_type": "stream",
     "text": [
      "Could not find 10756: Assessing Business-IT Alignment Maturity (10.4018/978-1-59140-140-7.ch004)\n"
     ]
    },
    {
     "name": "stderr",
     "output_type": "stream",
     "text": [
      " 40%|████      | 10780/26843 [1:44:51<1:30:55,  2.94it/s]"
     ]
    },
    {
     "name": "stdout",
     "output_type": "stream",
     "text": [
      "Could not find 10779: International Phyical Performance Test Profile (IPPTP) (10.18152/MOREDATA/188)\n"
     ]
    },
    {
     "name": "stderr",
     "output_type": "stream",
     "text": [
      " 40%|████      | 10782/26843 [1:44:51<1:24:51,  3.15it/s]"
     ]
    },
    {
     "name": "stdout",
     "output_type": "stream",
     "text": [
      "Could not find 10781: International Phyical Performance Test Profile (IPPTP) (10.18152/MOREDATA/188)\n"
     ]
    },
    {
     "name": "stderr",
     "output_type": "stream",
     "text": [
      " 40%|████      | 10818/26843 [1:45:11<1:34:05,  2.84it/s]"
     ]
    },
    {
     "name": "stdout",
     "output_type": "stream",
     "text": [
      "Could not find 10817: Article processing charges: Mirroring the citation impact or legacy of the subscription-based model? (10.1162/qss{\\textunderscore }a{\\textunderscore }00015)\n"
     ]
    },
    {
     "name": "stderr",
     "output_type": "stream",
     "text": [
      " 40%|████      | 10828/26843 [1:45:16<1:50:09,  2.42it/s]"
     ]
    },
    {
     "name": "stdout",
     "output_type": "stream",
     "text": [
      "Could not find 10827: The Impact of Open Access Mandates on Invention (10.1162/rest{\\textunderscore }a{\\textunderscore }00926)\n"
     ]
    },
    {
     "name": "stderr",
     "output_type": "stream",
     "text": [
      " 40%|████      | 10836/26843 [1:45:17<1:02:01,  4.30it/s]"
     ]
    },
    {
     "name": "stdout",
     "output_type": "stream",
     "text": [
      "Could not find 10835: Acquiring and incorporating state-dependent timing requirements (10.1109/icre.2003.1232740)\n"
     ]
    },
    {
     "name": "stderr",
     "output_type": "stream",
     "text": [
      " 40%|████      | 10847/26843 [1:45:21<1:22:52,  3.22it/s]"
     ]
    },
    {
     "name": "stdout",
     "output_type": "stream",
     "text": [
      "Could not find 10846: Assessing Business-IT Allignment Maturity (10.4018/978-1-59140-140-7.ch004)\n"
     ]
    },
    {
     "name": "stderr",
     "output_type": "stream",
     "text": [
      " 41%|████      | 10888/26843 [1:45:42<2:36:19,  1.70it/s]"
     ]
    },
    {
     "name": "stdout",
     "output_type": "stream",
     "text": [
      "Could not find 10887: Using weather forecasts to forecast whether bikes are used (https://doi.org/10.1016/j.tra.2020.06.006)\n"
     ]
    },
    {
     "name": "stderr",
     "output_type": "stream",
     "text": [
      " 41%|████      | 10894/26843 [1:45:50<4:15:42,  1.04it/s]"
     ]
    },
    {
     "name": "stdout",
     "output_type": "stream",
     "text": [
      "Could not find 10893: Filmsoziologische Suchbewegung (10.1007/978-3-658-18352-3_1)\n"
     ]
    },
    {
     "name": "stderr",
     "output_type": "stream",
     "text": [
      " 41%|████      | 10922/26843 [1:46:02<1:42:07,  2.60it/s]"
     ]
    },
    {
     "name": "stdout",
     "output_type": "stream",
     "text": [
      "Could not find 10921: Using LSTM encoder-decoder algorithm for detecting anomalous ADS-B messages (https://doi.org/10.1016/j.cose.2018.07.004)\n"
     ]
    },
    {
     "name": "stderr",
     "output_type": "stream",
     "text": [
      " 41%|████      | 10928/26843 [1:46:04<1:37:25,  2.72it/s]"
     ]
    },
    {
     "name": "stdout",
     "output_type": "stream",
     "text": [
      "Could not find 10927: Does Online Availability Increase Citations? Theory and Evidence from a Panel of Economics and Business Journals (10.1162/REST{\\textunderscore }a{\\textunderscore }00437)\n"
     ]
    },
    {
     "name": "stderr",
     "output_type": "stream",
     "text": [
      " 41%|████      | 10931/26843 [1:46:05<1:03:26,  4.18it/s]"
     ]
    },
    {
     "name": "stdout",
     "output_type": "stream",
     "text": [
      "Could not find 10930: All the research that's fit to print: Open access and the news media (10.1162/qss{\\textunderscore }a{\\textunderscore }00139)\n"
     ]
    },
    {
     "name": "stderr",
     "output_type": "stream",
     "text": [
      " 41%|████      | 10938/26843 [1:46:07<1:03:32,  4.17it/s]"
     ]
    },
    {
     "name": "stdout",
     "output_type": "stream",
     "text": [
      "Could not find 10937: Oapen-Ch – The Impact Of Open Access On Scientific Monographs In Switzerland. A Project Conducted By The Swiss National Science Foundation (Snsf) (10.5281/zenodo.1220607)\n"
     ]
    },
    {
     "name": "stderr",
     "output_type": "stream",
     "text": [
      " 41%|████      | 10975/26843 [1:46:44<1:30:00,  2.94it/s] "
     ]
    },
    {
     "name": "stdout",
     "output_type": "stream",
     "text": [
      "Could not find 10974: Free online availability substantially increases a paper's impact (10.1038/nature28042)\n"
     ]
    },
    {
     "name": "stderr",
     "output_type": "stream",
     "text": [
      " 41%|████      | 10982/26843 [1:46:49<2:41:23,  1.64it/s]"
     ]
    },
    {
     "name": "stdout",
     "output_type": "stream",
     "text": [
      "Could not find 10981: Determinants of the Impact Factor of Publications: A Panel Model for Journals Indexed in Scopus 2017 (10.1007/978-3-319-93803-5{\\textunderscore }46)\n"
     ]
    },
    {
     "name": "stderr",
     "output_type": "stream",
     "text": [
      " 41%|████      | 10988/26843 [1:46:52<2:09:59,  2.03it/s]"
     ]
    },
    {
     "name": "stdout",
     "output_type": "stream",
     "text": [
      "Could not find 10987: The Open Access Advantage for American Law Reviews (10.2139/ssrn.2506913)\n"
     ]
    },
    {
     "name": "stderr",
     "output_type": "stream",
     "text": [
      " 41%|████      | 10998/26843 [1:46:57<2:00:16,  2.20it/s]"
     ]
    },
    {
     "name": "stdout",
     "output_type": "stream",
     "text": [
      "Could not find 10997: Low-Dimensional Model for Bike-Sharing Demand Forecasting that Explicitly Accounts for Weather Data (https://doi.org/10.1177/0361198120932160)\n"
     ]
    },
    {
     "name": "stderr",
     "output_type": "stream",
     "text": [
      " 41%|████      | 10999/26843 [1:46:57<1:47:40,  2.45it/s]"
     ]
    },
    {
     "name": "stdout",
     "output_type": "stream",
     "text": [
      "Could not find 10998: Modeling bike counts in a bike-sharing system considering the effect of weather conditions (https://doi.org/10.48550/arXiv.2006.07563)\n"
     ]
    },
    {
     "name": "stderr",
     "output_type": "stream",
     "text": [
      " 41%|████      | 11004/26843 [1:46:59<1:31:19,  2.89it/s]"
     ]
    },
    {
     "name": "stdout",
     "output_type": "stream",
     "text": [
      "Could not find 11003: Weather and cycling in New York: The case of Citibike (https://doi.org/10.1016/j.jtrangeo.2019.04.016)\n"
     ]
    },
    {
     "name": "stderr",
     "output_type": "stream",
     "text": [
      " 41%|████      | 11007/26843 [1:47:00<1:13:01,  3.61it/s]"
     ]
    },
    {
     "name": "stdout",
     "output_type": "stream",
     "text": [
      "Could not find 11006: Impact of environment on bicycle travel demand—Assessment using bikeshare system data (https://doi.org/10.1016/j.scs.2021.102724)\n"
     ]
    },
    {
     "name": "stderr",
     "output_type": "stream",
     "text": [
      " 41%|████      | 11008/26843 [1:47:00<1:09:55,  3.77it/s]"
     ]
    },
    {
     "name": "stdout",
     "output_type": "stream",
     "text": [
      "Could not find 11007: Modeling Demand for Bikesharing Systems: Neighboring Stations as Source for Demand and Reason for Structural Breaks (https://doi.org/10.3141/2430-01)\n"
     ]
    },
    {
     "name": "stderr",
     "output_type": "stream",
     "text": [
      " 41%|████      | 11016/26843 [1:47:04<1:52:35,  2.34it/s]"
     ]
    },
    {
     "name": "stdout",
     "output_type": "stream",
     "text": [
      "Could not find 11015: Analysing the relationship between weather, built environment, and public transport ridership (https://doi.org/10.1049/iet-its.2020.0469)\n"
     ]
    },
    {
     "name": "stderr",
     "output_type": "stream",
     "text": [
      " 41%|████      | 11018/26843 [1:47:04<1:23:39,  3.15it/s]"
     ]
    },
    {
     "name": "stdout",
     "output_type": "stream",
     "text": [
      "Could not find 11017: How does weather affect bikeshare use? A comparative analysis of forty cities across climate zones (https://doi.org/10.1016/j.jtrangeo.2021.103155)\n"
     ]
    },
    {
     "name": "stderr",
     "output_type": "stream",
     "text": [
      " 41%|████      | 11034/26843 [1:47:18<3:23:56,  1.29it/s]"
     ]
    },
    {
     "name": "stdout",
     "output_type": "stream",
     "text": [
      "Could not find 11033: Citation Advantage of Open Access Legal Scholarship (10.2139/ssrn.1777090)\n"
     ]
    },
    {
     "name": "stderr",
     "output_type": "stream",
     "text": [
      " 41%|████      | 11055/26843 [1:47:26<1:37:56,  2.69it/s]"
     ]
    },
    {
     "name": "stdout",
     "output_type": "stream",
     "text": [
      "Could not find 11054: Ontological Smart Contracts in OASIS: Ontology for Agents, Systems, and Integration of Services  (10.1007/978-3-030-96627-0_22)\n"
     ]
    },
    {
     "name": "stderr",
     "output_type": "stream",
     "text": [
      " 41%|████      | 11058/26843 [1:47:27<1:20:15,  3.28it/s]"
     ]
    },
    {
     "name": "stdout",
     "output_type": "stream",
     "text": [
      "Could not find 11057: Ontological Smart Contracts in OASIS: Ontology for Agents, Systems, and Integration of Services (10.1007/978-3-030-96627-0_22)\n"
     ]
    },
    {
     "name": "stderr",
     "output_type": "stream",
     "text": [
      " 41%|████▏     | 11093/26843 [1:47:55<1:56:12,  2.26it/s] "
     ]
    },
    {
     "name": "stdout",
     "output_type": "stream",
     "text": [
      "Could not find 11092: Gender Inequality in Research Productivity During the COVID-19 Pandemic (10.1287/msom.2021.0991)\n"
     ]
    },
    {
     "name": "stderr",
     "output_type": "stream",
     "text": [
      " 41%|████▏     | 11104/26843 [1:48:03<2:55:18,  1.50it/s]"
     ]
    },
    {
     "name": "stdout",
     "output_type": "stream",
     "text": [
      "Could not find 11103: COVID-19 detection from chest X-Ray images using Deep Learning and Convolutional Neural Networks (10.1101/2020.05.22.20110817)\n"
     ]
    },
    {
     "name": "stderr",
     "output_type": "stream",
     "text": [
      " 42%|████▏     | 11169/26843 [1:48:12<41:01,  6.37it/s]  "
     ]
    },
    {
     "name": "stdout",
     "output_type": "stream",
     "text": [
      "Could not find 11168: LinkBERT: Pretraining Language Models with Document Links (10.18653/v1/2022.acl-long.551)\n"
     ]
    },
    {
     "name": "stderr",
     "output_type": "stream",
     "text": [
      " 42%|████▏     | 11248/26843 [1:49:23<1:31:55,  2.83it/s] "
     ]
    },
    {
     "name": "stdout",
     "output_type": "stream",
     "text": [
      "Could not find 11247: Developing a Machine Learning Algorithm-Based Classification Models for the Detection of High-Energy Gamma Particles (10.48550/ARXIV.2111.09496)\n"
     ]
    },
    {
     "name": "stderr",
     "output_type": "stream",
     "text": [
      " 42%|████▏     | 11317/26843 [1:50:22<2:47:17,  1.55it/s] "
     ]
    },
    {
     "name": "stdout",
     "output_type": "stream",
     "text": [
      "Could not find 11316: Is Higher Viral Load in SARS-CoV-2 Associated with Death? (10.4269/ajtmh.20-0954)\n"
     ]
    },
    {
     "name": "stderr",
     "output_type": "stream",
     "text": [
      " 42%|████▏     | 11354/26843 [1:50:49<3:17:00,  1.31it/s]"
     ]
    },
    {
     "name": "stdout",
     "output_type": "stream",
     "text": [
      "Could not find 11353: Style-based inverse kinematics (10.1145/1015706.1015755)\n"
     ]
    },
    {
     "name": "stderr",
     "output_type": "stream",
     "text": [
      " 42%|████▏     | 11372/26843 [1:51:06<3:32:37,  1.21it/s]"
     ]
    },
    {
     "name": "stdout",
     "output_type": "stream",
     "text": [
      "Could not find 11371: FAIRsFAIR Data Object Assessment Metrics (10.5281/ZENODO.6461229)\n"
     ]
    },
    {
     "name": "stderr",
     "output_type": "stream",
     "text": [
      " 42%|████▏     | 11374/26843 [1:51:07<2:57:49,  1.45it/s]"
     ]
    },
    {
     "name": "stdout",
     "output_type": "stream",
     "text": [
      "Could not find 11373: SARS-CoV-2 viral load predicts COVID-19 mortality (10.1016/s2213-2600(20)30354-4)\n"
     ]
    },
    {
     "name": "stderr",
     "output_type": "stream",
     "text": [
      " 42%|████▏     | 11398/26843 [1:51:48<3:07:04,  1.38it/s] "
     ]
    },
    {
     "name": "stdout",
     "output_type": "stream",
     "text": [
      "Could not find 11397: Towards Diverse and Natural Scene-aware 3D Human Motion Synthesis (10.48550/arXiv.2205.13001)\n"
     ]
    },
    {
     "name": "stderr",
     "output_type": "stream",
     "text": [
      " 43%|████▎     | 11420/26843 [1:52:04<1:36:19,  2.67it/s]"
     ]
    },
    {
     "name": "stdout",
     "output_type": "stream",
     "text": [
      "Could not find 11419: Fine-Tuning Large Neural Language Models for Biomedical Natural Language Processing (10.48550/ARXIV.2112.07869)\n"
     ]
    },
    {
     "name": "stderr",
     "output_type": "stream",
     "text": [
      " 43%|████▎     | 11429/26843 [1:52:10<3:07:34,  1.37it/s]"
     ]
    },
    {
     "name": "stdout",
     "output_type": "stream",
     "text": [
      "Could not find 11428: Experimental study of the x-ray transitions in the heliumlike isoelectronic sequence (10.1103/physreva.40.150)\n"
     ]
    },
    {
     "name": "stderr",
     "output_type": "stream",
     "text": [
      " 43%|████▎     | 11470/26843 [1:52:40<6:36:38,  1.55s/it]"
     ]
    },
    {
     "name": "stdout",
     "output_type": "stream",
     "text": [
      "Could not find 11469: SENTIMENT CLASSIFICATION OF MOVIE REVIEWS USINGCONTEXTUAL VALENCE SHIFTERS (https://doi.org/10.1111/j.1467-8640.2006.00277.x)\n"
     ]
    },
    {
     "name": "stderr",
     "output_type": "stream",
     "text": [
      " 43%|████▎     | 11513/26843 [1:52:52<1:35:13,  2.68it/s]"
     ]
    },
    {
     "name": "stdout",
     "output_type": "stream",
     "text": [
      "Could not find 11512: A Study of Neural Machine Translation from Chinese To Urdu. (10.32629/jai.v2i4.82 )\n"
     ]
    },
    {
     "name": "stderr",
     "output_type": "stream",
     "text": [
      " 43%|████▎     | 11535/26843 [1:53:05<2:27:05,  1.73it/s]"
     ]
    },
    {
     "name": "stdout",
     "output_type": "stream",
     "text": [
      "Could not find 11534: A Seq to Seq Machine Translation from Urdu to Chinese (10.32629/jai.v4i1.359)\n"
     ]
    },
    {
     "name": "stderr",
     "output_type": "stream",
     "text": [
      " 44%|████▎     | 11724/26843 [1:55:35<2:21:18,  1.78it/s] "
     ]
    },
    {
     "name": "stdout",
     "output_type": "stream",
     "text": [
      "Could not find 11723: Reducing Gender Bias in Abusive Language Detection (10.48550/arXiv.1808.07231)\n"
     ]
    },
    {
     "name": "stderr",
     "output_type": "stream",
     "text": [
      " 44%|████▍     | 11753/26843 [1:55:54<1:21:38,  3.08it/s]"
     ]
    },
    {
     "name": "stdout",
     "output_type": "stream",
     "text": [
      "Could not find 11752: Investigating Societal Biases in a Poetry Composition System (10.48550/arXiv.2011.02686)\n"
     ]
    },
    {
     "name": "stderr",
     "output_type": "stream",
     "text": [
      " 44%|████▍     | 11765/26843 [1:56:01<2:00:38,  2.08it/s]"
     ]
    },
    {
     "name": "stdout",
     "output_type": "stream",
     "text": [
      "Could not find 11764: Infants' Contribution to the Achievement of Joint Reference (10.2307/1131140)\n"
     ]
    },
    {
     "name": "stderr",
     "output_type": "stream",
     "text": [
      " 44%|████▍     | 11816/26843 [1:56:40<2:26:01,  1.72it/s]"
     ]
    },
    {
     "name": "stdout",
     "output_type": "stream",
     "text": [
      "Could not find 11815: RoBERTa: A Robustly Optimized BERT Pretraining Approach (10.48550/ARXIV.1907.11692)\n"
     ]
    },
    {
     "name": "stderr",
     "output_type": "stream",
     "text": [
      " 44%|████▍     | 11874/26843 [1:57:07<1:40:55,  2.47it/s]"
     ]
    },
    {
     "name": "stdout",
     "output_type": "stream",
     "text": [
      "Could not find 11873: Low-Resource Spoken Language Identification Using Self-Attentive Pooling and Deep 1D Time-Channel Separable Convolutions (10.48550/ARXIV.2106.00052)\n"
     ]
    },
    {
     "name": "stderr",
     "output_type": "stream",
     "text": [
      " 44%|████▍     | 11875/26843 [1:57:08<1:46:39,  2.34it/s]"
     ]
    },
    {
     "name": "stdout",
     "output_type": "stream",
     "text": [
      "Could not find 11874: Dual Script E2E framework for Multilingual and Code-Switching ASR (10.48550/ARXIV.2106.01400)\n"
     ]
    },
    {
     "name": "stderr",
     "output_type": "stream",
     "text": [
      " 44%|████▍     | 11904/26843 [1:57:18<1:36:29,  2.58it/s]"
     ]
    },
    {
     "name": "stdout",
     "output_type": "stream",
     "text": [
      "Could not find 11903: Sentinel-2 Exposed Soil Composite for Soil Organic Carbon Prediction (10.3390/rs13091791)\n"
     ]
    },
    {
     "name": "stderr",
     "output_type": "stream",
     "text": [
      " 45%|████▍     | 11952/26843 [1:57:37<3:04:01,  1.35it/s]"
     ]
    },
    {
     "name": "stdout",
     "output_type": "stream",
     "text": [
      "Could not find 11951: Secure computer system: Unified exposition and multics interpretation (@techreport{bell1976secure,   title={Secure computer system: Unified exposition and multics interpretation},   author={Bell, D Elliott and La Padula, Leonard J},   year={1976},   institution={MITRE CORP BEDFORD MA} })\n"
     ]
    },
    {
     "name": "stderr",
     "output_type": "stream",
     "text": [
      " 45%|████▍     | 12059/26843 [1:59:22<5:38:44,  1.37s/it] "
     ]
    },
    {
     "name": "stdout",
     "output_type": "stream",
     "text": [
      "Could not find 12058: Personal Knowledge Graphs: Use Cases in e-learning Platforms (10.48550/arXiv.2203.08507)\n"
     ]
    },
    {
     "name": "stderr",
     "output_type": "stream",
     "text": [
      " 45%|████▍     | 12077/26843 [1:59:34<2:10:20,  1.89it/s]"
     ]
    },
    {
     "name": "stdout",
     "output_type": "stream",
     "text": [
      "Could not find 12076: Customer experience requirements for multi-platform service interaction: bringing services marketing to the elicitation of user requirements (10.1109/icre.2004.1335661)\n"
     ]
    },
    {
     "name": "stderr",
     "output_type": "stream",
     "text": [
      " 45%|████▌     | 12082/26843 [1:59:38<2:27:19,  1.67it/s]"
     ]
    },
    {
     "name": "stdout",
     "output_type": "stream",
     "text": [
      "Could not find 12081: Requirements engineering process improvement based on an information model (10.1109/icre.2004.1335665)\n"
     ]
    },
    {
     "name": "stderr",
     "output_type": "stream",
     "text": [
      " 45%|████▌     | 12085/26843 [1:59:40<2:23:06,  1.72it/s]"
     ]
    },
    {
     "name": "stdout",
     "output_type": "stream",
     "text": [
      "Could not find 12084: Architecture-driven problem decomposition (10.1109/icre.2004.1335666)\n"
     ]
    },
    {
     "name": "stderr",
     "output_type": "stream",
     "text": [
      " 45%|████▌     | 12146/26843 [2:00:23<1:52:24,  2.18it/s]"
     ]
    },
    {
     "name": "stdout",
     "output_type": "stream",
     "text": [
      "Could not find 12145: An index to quantify an individual's scientific research output (10.1073/pnas.0507655102)\n"
     ]
    },
    {
     "name": "stderr",
     "output_type": "stream",
     "text": [
      " 45%|████▌     | 12207/26843 [2:01:01<2:46:30,  1.46it/s]"
     ]
    },
    {
     "name": "stdout",
     "output_type": "stream",
     "text": [
      "Could not find 12206: Determining optical flow (10.1016/0004-3702(81)90024-2)\n"
     ]
    },
    {
     "name": "stderr",
     "output_type": "stream",
     "text": [
      " 46%|████▌     | 12258/26843 [2:01:33<2:08:37,  1.89it/s]"
     ]
    },
    {
     "name": "stdout",
     "output_type": "stream",
     "text": [
      "Could not find 12257: The update of the Italian Food Composition Database (10.1016/j.jfca.2004.02.009)\n"
     ]
    },
    {
     "name": "stderr",
     "output_type": "stream",
     "text": [
      " 46%|████▌     | 12272/26843 [2:01:42<2:32:19,  1.59it/s]"
     ]
    },
    {
     "name": "stdout",
     "output_type": "stream",
     "text": [
      "Could not find 12271: Reinforcement learning for logistics and supply chain management: Methodologies, state of the art, and future opportunities (10.1016/j.tre.2022.102712)\n"
     ]
    },
    {
     "name": "stderr",
     "output_type": "stream",
     "text": [
      " 46%|████▋     | 12422/26843 [2:03:15<2:09:01,  1.86it/s] "
     ]
    },
    {
     "name": "stdout",
     "output_type": "stream",
     "text": [
      "Could not find 12421: Evidence for Gastrointestinal Infection of SARS-CoV-2 (10.1053/j.gastro.2020.02.055)\n"
     ]
    },
    {
     "name": "stderr",
     "output_type": "stream",
     "text": [
      " 46%|████▋     | 12428/26843 [2:03:17<1:28:37,  2.71it/s]"
     ]
    },
    {
     "name": "stdout",
     "output_type": "stream",
     "text": [
      "Could not find 12427: Evidence for Gastrointestinal Infection of SARS-CoV-2 (10.1053/j.gastro.2020.02.055)\n"
     ]
    },
    {
     "name": "stderr",
     "output_type": "stream",
     "text": [
      " 46%|████▋     | 12429/26843 [2:03:17<1:21:45,  2.94it/s]"
     ]
    },
    {
     "name": "stdout",
     "output_type": "stream",
     "text": [
      "Could not find 12428: Evidence for Gastrointestinal Infection of SARS-CoV-2 (10.1053/j.gastro.2020.02.055)\n"
     ]
    },
    {
     "name": "stderr",
     "output_type": "stream",
     "text": [
      " 46%|████▋     | 12443/26843 [2:03:29<2:54:54,  1.37it/s]"
     ]
    },
    {
     "name": "stdout",
     "output_type": "stream",
     "text": [
      "Could not find 12442: A large-scale benchmark dataset for event recognition in surveillance video (10.1109/CVPR.2011.5995586)\n"
     ]
    },
    {
     "name": "stderr",
     "output_type": "stream",
     "text": [
      " 46%|████▋     | 12478/26843 [2:04:09<2:04:17,  1.93it/s] "
     ]
    },
    {
     "name": "stdout",
     "output_type": "stream",
     "text": [
      "Could not find 12477: Tyche: a free novel web-based solution for efficient and unbiased analysis of scientific images (10.21203/rs.3.rs-1343726/v1)\n"
     ]
    },
    {
     "name": "stderr",
     "output_type": "stream",
     "text": [
      " 47%|████▋     | 12542/26843 [2:04:52<2:25:15,  1.64it/s]"
     ]
    },
    {
     "name": "stdout",
     "output_type": "stream",
     "text": [
      "Could not find 12541: The winograd schema challenge (10.5555/3031843.3031909)\n"
     ]
    },
    {
     "name": "stderr",
     "output_type": "stream",
     "text": [
      " 47%|████▋     | 12545/26843 [2:04:53<1:51:45,  2.13it/s]"
     ]
    },
    {
     "name": "stdout",
     "output_type": "stream",
     "text": [
      "Could not find 12544: Web-Based Software Tools for Systematic Literature Review in Medicine: Systematic Search and Feature Analysis (Preprint) (10.2196/preprints.33219)\n"
     ]
    },
    {
     "name": "stderr",
     "output_type": "stream",
     "text": [
      " 47%|████▋     | 12562/26843 [2:05:07<2:08:06,  1.86it/s]"
     ]
    },
    {
     "name": "stdout",
     "output_type": "stream",
     "text": [
      "Could not find 12561: Journal In-House Style Based on Mendeley's Metadata Extraction (10.24252/kah.v9i2a4)\n"
     ]
    },
    {
     "name": "stderr",
     "output_type": "stream",
     "text": [
      " 47%|████▋     | 12605/26843 [2:05:43<3:49:40,  1.03it/s]"
     ]
    },
    {
     "name": "stdout",
     "output_type": "stream",
     "text": [
      "Could not find 12604: Human Motion Analysis: A Review (10.1006/cviu.1998.0744)\n"
     ]
    },
    {
     "name": "stderr",
     "output_type": "stream",
     "text": [
      " 47%|████▋     | 12607/26843 [2:05:45<3:51:10,  1.03it/s]"
     ]
    },
    {
     "name": "stdout",
     "output_type": "stream",
     "text": [
      "Could not find 12606: Literature Mapper: A QGIS Plugin for Georeferencing Citations in Zotero (10.20944/preprints202012.0577.v1)\n"
     ]
    },
    {
     "name": "stderr",
     "output_type": "stream",
     "text": [
      " 47%|████▋     | 12616/26843 [2:05:50<1:56:27,  2.04it/s]"
     ]
    },
    {
     "name": "stdout",
     "output_type": "stream",
     "text": [
      "Could not find 12615: PYTHON FOR WEB DEVELOPMENT (10.47760/ijcsmc.2022.v11i04.006)\n"
     ]
    },
    {
     "name": "stderr",
     "output_type": "stream",
     "text": [
      " 48%|████▊     | 12952/26843 [2:08:39<1:07:53,  3.41it/s]"
     ]
    },
    {
     "name": "stdout",
     "output_type": "stream",
     "text": [
      "Could not find 12951: pyam: Analysis and visualisation of integrated assessment and macro-energy scenarios (10.12688/openreseurope.13633.2)\n"
     ]
    },
    {
     "name": "stderr",
     "output_type": "stream",
     "text": [
      " 48%|████▊     | 12991/26843 [2:09:02<2:24:26,  1.60it/s]"
     ]
    },
    {
     "name": "stdout",
     "output_type": "stream",
     "text": [
      "Could not find 12990: Natural SARS-CoV-2 Infection in Kept Ferrets, Spain (10.3201/eid2707.210096)\n"
     ]
    },
    {
     "name": "stderr",
     "output_type": "stream",
     "text": [
      " 49%|████▉     | 13170/26843 [2:10:58<2:36:28,  1.46it/s]"
     ]
    },
    {
     "name": "stdout",
     "output_type": "stream",
     "text": [
      "Could not find 13169: Berlin hat Talent: Ergebnisse des Schuljahres 2016/17 (10.13140/RG.2.2.17367.93604)\n"
     ]
    },
    {
     "name": "stderr",
     "output_type": "stream",
     "text": [
      " 49%|████▉     | 13202/26843 [2:11:16<1:30:32,  2.51it/s]"
     ]
    },
    {
     "name": "stdout",
     "output_type": "stream",
     "text": [
      "Could not find 13201: Linformer: Self-Attention with Linear Complexity (10.48550/ARXIV.2006.04768)\n"
     ]
    },
    {
     "name": "stderr",
     "output_type": "stream",
     "text": [
      " 49%|████▉     | 13231/26843 [2:11:27<1:14:32,  3.04it/s]"
     ]
    },
    {
     "name": "stdout",
     "output_type": "stream",
     "text": [
      "Could not find 13230: ST-MoE: Designing Stable and Transferable Sparse Expert Models (10.48550/ARXIV.2202.08906)\n"
     ]
    },
    {
     "name": "stderr",
     "output_type": "stream",
     "text": [
      " 49%|████▉     | 13247/26843 [2:11:36<2:33:52,  1.47it/s]"
     ]
    },
    {
     "name": "stdout",
     "output_type": "stream",
     "text": [
      "Could not find 13246: The Inefficiency of Language Models in Scholarly Retrieval: An Experimental Walk-through (10.18653/v1/2022.findings-acl.249)\n"
     ]
    },
    {
     "name": "stderr",
     "output_type": "stream",
     "text": [
      " 49%|████▉     | 13264/26843 [2:11:44<1:55:46,  1.95it/s]"
     ]
    },
    {
     "name": "stdout",
     "output_type": "stream",
     "text": [
      "Could not find 13263: Ontology-Based Personalized Dietary Recommendation For Travelers (10.13140/RG.2.2.23608.55043)\n"
     ]
    },
    {
     "name": "stderr",
     "output_type": "stream",
     "text": [
      " 50%|█████     | 13433/26843 [2:13:29<4:29:46,  1.21s/it]"
     ]
    },
    {
     "name": "stdout",
     "output_type": "stream",
     "text": [
      "Could not find 13432: The power of flexibility for mitigating supply chain risks (10.1016/j.ijpe.2008.07.008)\n"
     ]
    },
    {
     "name": "stderr",
     "output_type": "stream",
     "text": [
      " 50%|█████     | 13459/26843 [2:14:06<3:10:08,  1.17it/s] "
     ]
    },
    {
     "name": "stdout",
     "output_type": "stream",
     "text": [
      "Could not find 13458: Solving Real-World Vehicle Routing Problems with Evolutionary Algorithms (10.1007/978-3-642-04039-9_2)\n"
     ]
    },
    {
     "name": "stderr",
     "output_type": "stream",
     "text": [
      " 50%|█████     | 13531/26843 [2:14:58<2:02:35,  1.81it/s]"
     ]
    },
    {
     "name": "stdout",
     "output_type": "stream",
     "text": [
      "Could not find 13530: Managing requirements uncertainty with partial models (10.1109/re.2012.6345804)\n"
     ]
    },
    {
     "name": "stderr",
     "output_type": "stream",
     "text": [
      " 50%|█████     | 13554/26843 [2:15:12<2:01:16,  1.83it/s]"
     ]
    },
    {
     "name": "stdout",
     "output_type": "stream",
     "text": [
      "Could not find 13553: Fake news detection using Deep Learning ( https://doi.org/10.48550/arXiv.1910.03496)\n"
     ]
    },
    {
     "name": "stderr",
     "output_type": "stream",
     "text": [
      " 51%|█████     | 13602/26843 [2:15:41<1:45:33,  2.09it/s]"
     ]
    },
    {
     "name": "stdout",
     "output_type": "stream",
     "text": [
      "Could not find 13601: Comparison of Water Domain Ontologies (https://doi.org/10.48366/r217545)\n"
     ]
    },
    {
     "name": "stderr",
     "output_type": "stream",
     "text": [
      " 51%|█████     | 13612/26843 [2:15:45<1:03:28,  3.47it/s]"
     ]
    },
    {
     "name": "stdout",
     "output_type": "stream",
     "text": [
      "Could not find 13611: Microneedle Technology as Insulin Delivery Systems (https://doi.org/10.48366/r161079)\n"
     ]
    },
    {
     "name": "stderr",
     "output_type": "stream",
     "text": [
      " 51%|█████     | 13622/26843 [2:15:50<2:12:24,  1.66it/s]"
     ]
    },
    {
     "name": "stdout",
     "output_type": "stream",
     "text": [
      "Could not find 13621: CO2 gas flux assessment of the various oceanic regimes (https://doi.org/10.48366/r160742)\n"
     ]
    },
    {
     "name": "stderr",
     "output_type": "stream",
     "text": [
      " 51%|█████     | 13624/26843 [2:15:52<2:55:47,  1.25it/s]"
     ]
    },
    {
     "name": "stdout",
     "output_type": "stream",
     "text": [
      "Could not find 13623: Comparison among glucose sensors based on different nanomaterials (https://doi.org/10.48366/r143853)\n"
     ]
    },
    {
     "name": "stderr",
     "output_type": "stream",
     "text": [
      " 51%|█████     | 13625/26843 [2:15:53<2:19:16,  1.58it/s]"
     ]
    },
    {
     "name": "stdout",
     "output_type": "stream",
     "text": [
      "Could not find 13624: Smart cities and cultural heritage (https://doi.org/10.48366/r140131)\n"
     ]
    },
    {
     "name": "stderr",
     "output_type": "stream",
     "text": [
      " 51%|█████     | 13627/26843 [2:15:53<1:56:58,  1.88it/s]"
     ]
    },
    {
     "name": "stdout",
     "output_type": "stream",
     "text": [
      "Could not find 13626: Several works on the dynamic redesign of a closed-loop supply chain network using accelerated Benders decomposition and robust optimisation models (https://doi.org/10.48366/r212576)\n"
     ]
    },
    {
     "name": "stderr",
     "output_type": "stream",
     "text": [
      " 51%|█████▏    | 13770/26843 [2:17:14<39:26,  5.52it/s]  "
     ]
    },
    {
     "name": "stdout",
     "output_type": "stream",
     "text": [
      "Could not find 13769: MG-BERT: Multi-Graph Augmented BERT for Masked Language Modeling (10.18653/v1/2021.textgraphs-1.12)\n"
     ]
    },
    {
     "name": "stderr",
     "output_type": "stream",
     "text": [
      " 51%|█████▏    | 13796/26843 [2:17:26<1:48:10,  2.01it/s]"
     ]
    },
    {
     "name": "stdout",
     "output_type": "stream",
     "text": [
      "Could not find 13795: FAIR-Checker, a web tool to support the findability and reusability of digital life science resources (10.5281/ZENODO.5914307)\n"
     ]
    },
    {
     "name": "stderr",
     "output_type": "stream",
     "text": [
      " 52%|█████▏    | 13833/26843 [2:17:53<1:21:35,  2.66it/s] "
     ]
    },
    {
     "name": "stdout",
     "output_type": "stream",
     "text": [
      "Could not find 13832: CBench: demonstrating comprehensive evaluation of question answering systems over knowledge graphs through deep analysis of benchmarks (10.14778/3476311.3476326)\n"
     ]
    },
    {
     "name": "stderr",
     "output_type": "stream",
     "text": [
      " 52%|█████▏    | 13905/26843 [2:18:12<1:38:43,  2.18it/s]"
     ]
    },
    {
     "name": "stdout",
     "output_type": "stream",
     "text": [
      "Could not find 13904: Flood hazards and health: responding to present and future risks (10.5860/choice.44-1555)\n"
     ]
    },
    {
     "name": "stderr",
     "output_type": "stream",
     "text": [
      " 52%|█████▏    | 13917/26843 [2:18:17<1:27:21,  2.47it/s]"
     ]
    },
    {
     "name": "stdout",
     "output_type": "stream",
     "text": [
      "Could not find 13916: Trends and Projections in Europe 2015 : Tracking Progress Towards Europe's Climate and Energy Targets (10.2800/985234)\n"
     ]
    },
    {
     "name": "stderr",
     "output_type": "stream",
     "text": [
      " 52%|█████▏    | 13921/26843 [2:18:18<1:06:54,  3.22it/s]"
     ]
    },
    {
     "name": "stdout",
     "output_type": "stream",
     "text": [
      "Could not find 13920: Unsupervised and scalable subsequence anomaly detection in large data series (10.1007/s00778-021-00655-8)\n"
     ]
    },
    {
     "name": "stderr",
     "output_type": "stream",
     "text": [
      " 52%|█████▏    | 13959/26843 [2:18:30<1:09:20,  3.10it/s]"
     ]
    },
    {
     "name": "stdout",
     "output_type": "stream",
     "text": [
      "Could not find 13958: Mapping weather risk – A multi-indicator analysis of satellite-based weather data for agricultural index insurance development in semi-arid and arid zones of Central Asia (https://doi.org/10.1016/j.cliser.2021.100251)\n"
     ]
    },
    {
     "name": "stderr",
     "output_type": "stream",
     "text": [
      " 52%|█████▏    | 13975/26843 [2:18:39<1:40:59,  2.12it/s]"
     ]
    },
    {
     "name": "stdout",
     "output_type": "stream",
     "text": [
      "Could not find 13974: Provenance in Semantic Web Technologies: A Systematic Mapping Study (10.1016/j.websem.2020.100589)\n"
     ]
    },
    {
     "name": "stderr",
     "output_type": "stream",
     "text": [
      " 52%|█████▏    | 14038/26843 [2:18:55<1:37:55,  2.18it/s]"
     ]
    },
    {
     "name": "stdout",
     "output_type": "stream",
     "text": [
      "Could not find 14037: Multi-year Analyses Reveal Different Trends, Sources, and Implications for Source-Related Human Health Risks of Atmospheric Polycyclic Aromatic Hydrocarbons in the Canadian Great Lakes Basin (10.1021/acs.est.0c07079.s002)\n"
     ]
    },
    {
     "name": "stderr",
     "output_type": "stream",
     "text": [
      " 52%|█████▏    | 14071/26843 [2:19:08<1:01:49,  3.44it/s]"
     ]
    },
    {
     "name": "stdout",
     "output_type": "stream",
     "text": [
      "Could not find 14070: Mitigation: limiting climate change (10.4324/9781315065847-8)\n"
     ]
    },
    {
     "name": "stderr",
     "output_type": "stream",
     "text": [
      " 52%|█████▏    | 14072/26843 [2:19:08<1:00:28,  3.52it/s]"
     ]
    },
    {
     "name": "stdout",
     "output_type": "stream",
     "text": [
      "Could not find 14071: Trends and Projections in Europe 2016 : Tracking Progress Towards Europe's Climate and Energy Targets (10.2800/39577)\n"
     ]
    },
    {
     "name": "stderr",
     "output_type": "stream",
     "text": [
      " 52%|█████▏    | 14092/26843 [2:19:16<1:05:02,  3.27it/s]"
     ]
    },
    {
     "name": "stdout",
     "output_type": "stream",
     "text": [
      "Could not find 14091: Trends and Projections in Europe 2014 : Tracking Progress Towards Europe's Climate and Energy Targets for 2020 (10.2800/2286)\n"
     ]
    },
    {
     "name": "stderr",
     "output_type": "stream",
     "text": [
      " 53%|█████▎    | 14105/26843 [2:19:35<2:10:07,  1.63it/s]"
     ]
    },
    {
     "name": "stdout",
     "output_type": "stream",
     "text": [
      "Could not find 14104: Trends and Projections in Europe 2017 : Tracking Progress Towards Europe's Climate and Energy Targets (10.2800/791520)\n"
     ]
    },
    {
     "name": "stderr",
     "output_type": "stream",
     "text": [
      " 53%|█████▎    | 14134/26843 [2:19:48<1:47:32,  1.97it/s]"
     ]
    },
    {
     "name": "stdout",
     "output_type": "stream",
     "text": [
      "Could not find 14133: Present and future distribution of bat hosts of sarbecoviruses: implications for conservation and public health (10.1101/2021.12.09.471691)\n"
     ]
    },
    {
     "name": "stderr",
     "output_type": "stream",
     "text": [
      " 53%|█████▎    | 14156/26843 [2:19:55<1:01:21,  3.45it/s]"
     ]
    },
    {
     "name": "stdout",
     "output_type": "stream",
     "text": [
      "Could not find 14155: Trends and Projections in Europe 2018 : Tracking Progress Towards Europe's Climate and Energy Targets (10.2800/931891)\n"
     ]
    },
    {
     "name": "stderr",
     "output_type": "stream",
     "text": [
      " 53%|█████▎    | 14219/26843 [2:20:26<1:16:13,  2.76it/s]"
     ]
    },
    {
     "name": "stdout",
     "output_type": "stream",
     "text": [
      "Could not find 14218: Trends and Projections in Europe 2019 : Tracking Progress Towards Europe's Climate and Energy Targets (10.2800/51114)\n"
     ]
    },
    {
     "name": "stderr",
     "output_type": "stream",
     "text": [
      " 53%|█████▎    | 14227/26843 [2:20:33<2:53:01,  1.22it/s]"
     ]
    },
    {
     "name": "stdout",
     "output_type": "stream",
     "text": [
      "Could not find 14226: A Low‐Cost Al‐Graphite Battery with Urea and Acetamide‐Based Electrolytes (10.1002/celc.202100183)\n"
     ]
    },
    {
     "name": "stderr",
     "output_type": "stream",
     "text": [
      " 53%|█████▎    | 14236/26843 [2:20:36<1:03:20,  3.32it/s]"
     ]
    },
    {
     "name": "stdout",
     "output_type": "stream",
     "text": [
      "Could not find 14235: Trends and Projections in Europe 2020 : Tracking Progress Towards Europe's Climate and Energy Targets (10.2800/830157)\n"
     ]
    },
    {
     "name": "stderr",
     "output_type": "stream",
     "text": [
      " 53%|█████▎    | 14262/26843 [2:20:47<1:24:46,  2.47it/s]"
     ]
    },
    {
     "name": "stdout",
     "output_type": "stream",
     "text": [
      "Could not find 14261: Climate stress and its impact on livestock health, farming livelihoods and antibiotic use in Karnataka, India (10.31223/x5hh07)\n"
     ]
    },
    {
     "name": "stderr",
     "output_type": "stream",
     "text": [
      " 53%|█████▎    | 14298/26843 [2:21:07<1:41:27,  2.06it/s]"
     ]
    },
    {
     "name": "stdout",
     "output_type": "stream",
     "text": [
      "Could not find 14297: Trends and Projections in Europe 2021 : Tracking Progress Towards Europe's Climate and Energy Targets (10.2800/80374)\n"
     ]
    },
    {
     "name": "stderr",
     "output_type": "stream",
     "text": [
      " 53%|█████▎    | 14322/26843 [2:21:17<1:28:08,  2.37it/s]"
     ]
    },
    {
     "name": "stdout",
     "output_type": "stream",
     "text": [
      "Could not find 14321: Cross-Modal Knowledge Graph Construction for Multiple Food Additives (10.1007/978-981-19-6226-4_80)\n"
     ]
    },
    {
     "name": "stderr",
     "output_type": "stream",
     "text": [
      " 53%|█████▎    | 14336/26843 [2:21:20<59:46,  3.49it/s]  "
     ]
    },
    {
     "name": "stdout",
     "output_type": "stream",
     "text": [
      "Could not find 14335: Fluent-based animation: exploiting the relation between goals and scenarios for requirements validation (10.1109/icre.2004.1335678)\n"
     ]
    },
    {
     "name": "stderr",
     "output_type": "stream",
     "text": [
      " 53%|█████▎    | 14344/26843 [2:21:25<1:43:55,  2.00it/s]"
     ]
    },
    {
     "name": "stdout",
     "output_type": "stream",
     "text": [
      "Could not find 14343: Trends and Projections in Europe 2022 : Tracking Progress Towards Europe's Climate and Energy Targets (10.2800/16646)\n"
     ]
    },
    {
     "name": "stderr",
     "output_type": "stream",
     "text": [
      " 54%|█████▎    | 14406/26843 [2:21:55<1:39:17,  2.09it/s]"
     ]
    },
    {
     "name": "stdout",
     "output_type": "stream",
     "text": [
      "Could not find 14405: Cross-SEAN: A Cross-Stitch Semi-Supervised Neural Attention Model for COVID-19 Fake News Detection (10.48550/ARXIV.2102.08924)\n"
     ]
    },
    {
     "name": "stderr",
     "output_type": "stream",
     "text": [
      " 54%|█████▍    | 14447/26843 [2:22:16<1:45:57,  1.95it/s]"
     ]
    },
    {
     "name": "stdout",
     "output_type": "stream",
     "text": [
      "Could not find 14446: From aspectual requirements to proof obligations for aspect-oriented systems (10.1109/icre.2004.1335663)\n"
     ]
    },
    {
     "name": "stderr",
     "output_type": "stream",
     "text": [
      " 54%|█████▍    | 14448/26843 [2:22:16<1:46:01,  1.95it/s]"
     ]
    },
    {
     "name": "stdout",
     "output_type": "stream",
     "text": [
      "Could not find 14447: From goals to aspects: discovering aspects from requirements goal models (10.1109/icre.2004.1335662)\n"
     ]
    },
    {
     "name": "stderr",
     "output_type": "stream",
     "text": [
      " 54%|█████▍    | 14453/26843 [2:22:18<1:19:07,  2.61it/s]"
     ]
    },
    {
     "name": "stdout",
     "output_type": "stream",
     "text": [
      "Could not find 14452: Goal-oriented requirements animation (10.1109/icre.2004.1335679)\n"
     ]
    },
    {
     "name": "stderr",
     "output_type": "stream",
     "text": [
      " 54%|█████▍    | 14489/26843 [2:22:37<1:13:06,  2.82it/s]"
     ]
    },
    {
     "name": "stdout",
     "output_type": "stream",
     "text": [
      "Could not find 14488: Human-centred requirements engineering (10.1109/icre.2004.1335673)\n"
     ]
    },
    {
     "name": "stderr",
     "output_type": "stream",
     "text": [
      " 54%|█████▍    | 14531/26843 [2:22:53<1:03:44,  3.22it/s]"
     ]
    },
    {
     "name": "stdout",
     "output_type": "stream",
     "text": [
      "Could not find 14530: The Effect of Text Ambiguity on creating Policy Knowledge Graphs (10.1109/ispa-bdcloud-socialcom-sustaincom52081.2021.00201)\n"
     ]
    },
    {
     "name": "stderr",
     "output_type": "stream",
     "text": [
      " 54%|█████▍    | 14537/26843 [2:22:54<43:19,  4.73it/s]  "
     ]
    },
    {
     "name": "stdout",
     "output_type": "stream",
     "text": [
      "Could not find 14536: RETNA: from requirements to testing in a natural way (10.1109/icre.2004.1335683)\n"
     ]
    },
    {
     "name": "stderr",
     "output_type": "stream",
     "text": [
      " 54%|█████▍    | 14538/26843 [2:22:54<44:02,  4.66it/s]"
     ]
    },
    {
     "name": "stdout",
     "output_type": "stream",
     "text": [
      "Could not find 14537: Speeding up requirements management in a product software company: linking customer wishes to product requirements through linguistic engineering (10.1109/icre.2004.1335685)\n"
     ]
    },
    {
     "name": "stderr",
     "output_type": "stream",
     "text": [
      " 54%|█████▍    | 14540/26843 [2:22:54<37:49,  5.42it/s]"
     ]
    },
    {
     "name": "stdout",
     "output_type": "stream",
     "text": [
      "Could not find 14539: The effect of trust assumptions on the elaboration of security requirements (10.1109/icre.2004.1335668)\n"
     ]
    },
    {
     "name": "stderr",
     "output_type": "stream",
     "text": [
      " 54%|█████▍    | 14542/26843 [2:22:55<42:31,  4.82it/s]"
     ]
    },
    {
     "name": "stdout",
     "output_type": "stream",
     "text": [
      "Could not find 14541: Understanding requirements in enterprise systems projects (10.1109/icre.2004.1335675)\n"
     ]
    },
    {
     "name": "stderr",
     "output_type": "stream",
     "text": [
      " 54%|█████▍    | 14543/26843 [2:22:55<43:41,  4.69it/s]"
     ]
    },
    {
     "name": "stdout",
     "output_type": "stream",
     "text": [
      "Could not find 14542: Use case estimation - the devil is in the detail (10.1109/icre.2004.1335649)\n"
     ]
    },
    {
     "name": "stderr",
     "output_type": "stream",
     "text": [
      " 54%|█████▍    | 14545/26843 [2:22:56<1:13:07,  2.80it/s]"
     ]
    },
    {
     "name": "stdout",
     "output_type": "stream",
     "text": [
      "Could not find 14544: Visual variability analysis for goal models (10.1109/icre.2004.1335677)\n"
     ]
    },
    {
     "name": "stderr",
     "output_type": "stream",
     "text": [
      " 54%|█████▍    | 14567/26843 [2:23:08<1:55:42,  1.77it/s]"
     ]
    },
    {
     "name": "stdout",
     "output_type": "stream",
     "text": [
      "Could not find 14566: Creating multi-domain urban planning indicators using a knowledge graph: a district energy use case in Singapore (10.13140/RG.2.2.21586.27843)\n"
     ]
    },
    {
     "name": "stderr",
     "output_type": "stream",
     "text": [
      " 55%|█████▍    | 14636/26843 [2:23:53<2:37:28,  1.29it/s] "
     ]
    },
    {
     "name": "stdout",
     "output_type": "stream",
     "text": [
      "Could not find 14635: Application of linguistic techniques for Use Case analysis (10.1109/icre.2002.1048518)\n"
     ]
    },
    {
     "name": "stderr",
     "output_type": "stream",
     "text": [
      " 55%|█████▍    | 14659/26843 [2:24:02<1:04:52,  3.13it/s]"
     ]
    },
    {
     "name": "stdout",
     "output_type": "stream",
     "text": [
      "Could not find 14658: An Ontology-Based Product Affective Properties Identification Approach (10.3233/978-1-61499-779-5-977)\n"
     ]
    },
    {
     "name": "stderr",
     "output_type": "stream",
     "text": [
      " 55%|█████▌    | 14868/26843 [2:25:29<1:23:38,  2.39it/s]"
     ]
    },
    {
     "name": "stdout",
     "output_type": "stream",
     "text": [
      "Could not find 14867: Economic costs of invasive rodents worldwide: the tip of the iceberg (10.7717/peerj.14935)\n"
     ]
    },
    {
     "name": "stderr",
     "output_type": "stream",
     "text": [
      " 56%|█████▌    | 14900/26843 [2:25:47<1:07:44,  2.94it/s]"
     ]
    },
    {
     "name": "stdout",
     "output_type": "stream",
     "text": [
      "Could not find 14899: Planning order releases for an assembly system with random operation times (10.1007/3-540-29057-5_14)\n"
     ]
    },
    {
     "name": "stderr",
     "output_type": "stream",
     "text": [
      " 56%|█████▌    | 14990/26843 [2:26:16<40:21,  4.89it/s]  "
     ]
    },
    {
     "name": "stdout",
     "output_type": "stream",
     "text": [
      "Could not find 14989: Scheduling disassembly (10.1080/00207549408957046)\n"
     ]
    },
    {
     "name": "stderr",
     "output_type": "stream",
     "text": [
      " 56%|█████▌    | 15002/26843 [2:26:21<1:09:17,  2.85it/s]"
     ]
    },
    {
     "name": "stdout",
     "output_type": "stream",
     "text": [
      "Could not find 15001: Heuristics for disassembly lot sizing problem with lost sales (10.1504/ijor.2020.108021)\n"
     ]
    },
    {
     "name": "stderr",
     "output_type": "stream",
     "text": [
      " 56%|█████▌    | 15029/26843 [2:26:33<59:17,  3.32it/s]  "
     ]
    },
    {
     "name": "stdout",
     "output_type": "stream",
     "text": [
      "Could not find 15028: Transduction of HEK293 Cells with BacMam Baculovirus Is an Efficient System for the Production of HIV-1 Virus-like Particles  (10.3390/v14030636 )\n"
     ]
    },
    {
     "name": "stderr",
     "output_type": "stream",
     "text": [
      " 56%|█████▌    | 15031/26843 [2:26:34<56:48,  3.47it/s]"
     ]
    },
    {
     "name": "stdout",
     "output_type": "stream",
     "text": [
      "Could not find 15030: Double-antigen sandwich ELISA based on chimeric antigens for detection of antibodies to Trypanosoma cruzi in human sera (10.1371/journal.pntd.0010290 )\n"
     ]
    },
    {
     "name": "stderr",
     "output_type": "stream",
     "text": [
      " 56%|█████▌    | 15033/26843 [2:26:35<1:07:32,  2.91it/s]"
     ]
    },
    {
     "name": "stdout",
     "output_type": "stream",
     "text": [
      "Could not find 15032: The Importance of Accurate Host Species Identification in the Framework of Rabies (10.3390/v14030492 )\n"
     ]
    },
    {
     "name": "stderr",
     "output_type": "stream",
     "text": [
      " 56%|█████▌    | 15043/26843 [2:26:39<1:37:18,  2.02it/s]"
     ]
    },
    {
     "name": "stdout",
     "output_type": "stream",
     "text": [
      "Could not find 15042: Development of Real-Time Molecular Assays for the Detection of Wesselsbron Virus (10.3390/microorganisms10030550 )\n"
     ]
    },
    {
     "name": "stderr",
     "output_type": "stream",
     "text": [
      " 56%|█████▌    | 15047/26843 [2:26:42<1:53:03,  1.74it/s]"
     ]
    },
    {
     "name": "stdout",
     "output_type": "stream",
     "text": [
      "Could not find 15046: Special Issue: “Viral Genetic Diversity”. (10.3390/v14030570 )\n"
     ]
    },
    {
     "name": "stderr",
     "output_type": "stream",
     "text": [
      " 56%|█████▌    | 15056/26843 [2:26:48<1:59:38,  1.64it/s]"
     ]
    },
    {
     "name": "stdout",
     "output_type": "stream",
     "text": [
      "Could not find 15055: Porcine Circoviruses and Herpesviruses Are Prevalent in an Austrian Game (10.3390/pathogens11030305 )\n"
     ]
    },
    {
     "name": "stderr",
     "output_type": "stream",
     "text": [
      " 56%|█████▌    | 15058/26843 [2:26:49<1:30:47,  2.16it/s]"
     ]
    },
    {
     "name": "stdout",
     "output_type": "stream",
     "text": [
      "Could not find 15057: Onset of Oral Lichenoid Lesions and Oral Lichen Planus Following COVID-19 Vaccination: A Retrospective Analysis of about 300,000 Vaccinated Patients (10.3390/vaccines10030480 )\n"
     ]
    },
    {
     "name": "stderr",
     "output_type": "stream",
     "text": [
      " 56%|█████▌    | 15059/26843 [2:26:49<1:33:29,  2.10it/s]"
     ]
    },
    {
     "name": "stdout",
     "output_type": "stream",
     "text": [
      "Could not find 15058: Dynamics of Antibodies to Ebolaviruses in an Eidolon helvum Bat Colony in Cameroon (10.3390/v14030560 )\n"
     ]
    },
    {
     "name": "stderr",
     "output_type": "stream",
     "text": [
      " 57%|█████▋    | 15210/26843 [2:27:26<1:17:00,  2.52it/s]"
     ]
    },
    {
     "name": "stdout",
     "output_type": "stream",
     "text": [
      "Could not find 15209: The effects of cumulative stressful educational events on the mental health of doctoral students during the COVID-19 pandemic (10.14324/111.444/000105.v1)\n"
     ]
    },
    {
     "name": "stderr",
     "output_type": "stream",
     "text": [
      " 57%|█████▋    | 15274/26843 [2:27:45<1:22:54,  2.33it/s]"
     ]
    },
    {
     "name": "stdout",
     "output_type": "stream",
     "text": [
      "Could not find 15273: Construction and application of an ontology-based domain-specific knowledge graph for petroleum exploration and development (10.1016/j.gsf.2022.101426)\n"
     ]
    },
    {
     "name": "stderr",
     "output_type": "stream",
     "text": [
      " 57%|█████▋    | 15321/26843 [2:27:59<31:44,  6.05it/s]  "
     ]
    },
    {
     "name": "stdout",
     "output_type": "stream",
     "text": [
      "Could not find 15320: \"towards lexical chains for knowledge-graph-based word embeddings\" (10.26615/978-954-452-049-6-087)\n"
     ]
    },
    {
     "name": "stderr",
     "output_type": "stream",
     "text": [
      " 57%|█████▋    | 15352/26843 [2:28:07<46:09,  4.15it/s]  "
     ]
    },
    {
     "name": "stdout",
     "output_type": "stream",
     "text": [
      "Could not find 15351: The Effect of STEM Project Based Learning on Self-Efficacy among High-School Physics Students (10.36681/tused.2020.15)\n"
     ]
    },
    {
     "name": "stderr",
     "output_type": "stream",
     "text": [
      " 57%|█████▋    | 15369/26843 [2:28:10<48:17,  3.96it/s]"
     ]
    },
    {
     "name": "stdout",
     "output_type": "stream",
     "text": [
      "Could not find 15368: Effective Strategies for Increasing Citation Frequency (10.5539/ies.v6n11p93)\n"
     ]
    },
    {
     "name": "stderr",
     "output_type": "stream",
     "text": [
      " 57%|█████▋    | 15398/26843 [2:28:17<32:56,  5.79it/s]  "
     ]
    },
    {
     "name": "stdout",
     "output_type": "stream",
     "text": [
      "Could not find 15397: 2019 Nature PhD Students Survey Data (10.6084/M9.FIGSHARE.10266299.V1)\n"
     ]
    },
    {
     "name": "stderr",
     "output_type": "stream",
     "text": [
      " 58%|█████▊    | 15448/26843 [2:28:44<56:11,  3.38it/s]  "
     ]
    },
    {
     "name": "stdout",
     "output_type": "stream",
     "text": [
      "Could not find 15447: Motion Capture 3D Sign Language Resources (10.1007/978-3-031-17258-8_21)\n"
     ]
    },
    {
     "name": "stderr",
     "output_type": "stream",
     "text": [
      " 58%|█████▊    | 15550/26843 [2:29:41<1:49:04,  1.73it/s]"
     ]
    },
    {
     "name": "stdout",
     "output_type": "stream",
     "text": [
      "Could not find 15549: Semantics and Complexity of SPARQL (10.1007/11926078_3)\n"
     ]
    },
    {
     "name": "stderr",
     "output_type": "stream",
     "text": [
      " 58%|█████▊    | 15619/26843 [2:30:11<1:17:47,  2.40it/s]"
     ]
    },
    {
     "name": "stdout",
     "output_type": "stream",
     "text": [
      "Could not find 15618: Neural-Symbolic Computing: An Effective Methodology for Principled Integration of Machine Learning and Reasoning (10.48550/ARXIV.1905.06088)\n"
     ]
    },
    {
     "name": "stderr",
     "output_type": "stream",
     "text": [
      " 58%|█████▊    | 15625/26843 [2:30:13<1:06:02,  2.83it/s]"
     ]
    },
    {
     "name": "stdout",
     "output_type": "stream",
     "text": [
      "Could not find 15624: \"research on ontology non-taxonomic relations extraction in plant domain knowledge graph construction\" (10.6041/j.issn.1000-1298.2016.09.038)\n"
     ]
    },
    {
     "name": "stderr",
     "output_type": "stream",
     "text": [
      " 59%|█████▉    | 15834/26843 [2:31:54<53:25,  3.43it/s]  "
     ]
    },
    {
     "name": "stdout",
     "output_type": "stream",
     "text": [
      "Could not find 15833: Early failure prediction in feature request management systems (10.1109/RE.2011.6051658)\n"
     ]
    },
    {
     "name": "stderr",
     "output_type": "stream",
     "text": [
      " 59%|█████▉    | 15880/26843 [2:32:12<1:25:22,  2.14it/s]"
     ]
    },
    {
     "name": "stdout",
     "output_type": "stream",
     "text": [
      "Could not find 15879: Leveraging Domain Context for Question Answering over Knowledge Graph (10.1007/978-3-030-26072-9_27)\n"
     ]
    },
    {
     "name": "stderr",
     "output_type": "stream",
     "text": [
      " 59%|█████▉    | 15910/26843 [2:32:27<1:54:43,  1.59it/s]"
     ]
    },
    {
     "name": "stdout",
     "output_type": "stream",
     "text": [
      "Could not find 15909: The impact of the coronavirus lockdown on mental health: evidence from the United States (10.1093/epolic/eiac002)\n"
     ]
    },
    {
     "name": "stderr",
     "output_type": "stream",
     "text": [
      " 59%|█████▉    | 15916/26843 [2:32:29<1:06:28,  2.74it/s]"
     ]
    },
    {
     "name": "stdout",
     "output_type": "stream",
     "text": [
      "Could not find 15915: Multiverse: Multilingual Evidence for Fake News Detection (10.48550/arXiv.2211.14279)\n"
     ]
    },
    {
     "name": "stderr",
     "output_type": "stream",
     "text": [
      " 60%|█████▉    | 15992/26843 [2:33:13<1:41:12,  1.79it/s]"
     ]
    },
    {
     "name": "stdout",
     "output_type": "stream",
     "text": [
      "Could not find 15991: Automatic Annotation of Text With Pictures: Overview, Classification of Approaches, Next Steps Working Paper, v2.5 J. Kent Poots, M.A.Sc., P.Eng. (10.13140/RG.2.2.17310.23360)\n"
     ]
    },
    {
     "name": "stderr",
     "output_type": "stream",
     "text": [
      " 60%|█████▉    | 16085/26843 [2:34:03<1:00:34,  2.96it/s]"
     ]
    },
    {
     "name": "stdout",
     "output_type": "stream",
     "text": [
      "Could not find 16084: \"constructing knowledge graph with public resumes\" (10.11925/infotech.2096-3467.2021.0145)\n"
     ]
    },
    {
     "name": "stderr",
     "output_type": "stream",
     "text": [
      " 60%|██████    | 16173/26843 [2:34:39<1:31:44,  1.94it/s]"
     ]
    },
    {
     "name": "stdout",
     "output_type": "stream",
     "text": [
      "Could not find 16172: The linkages between climate change and intermediary cities (10.1787/ae4cbff3-en)\n"
     ]
    },
    {
     "name": "stderr",
     "output_type": "stream",
     "text": [
      " 61%|██████    | 16252/26843 [2:35:10<1:29:00,  1.98it/s]"
     ]
    },
    {
     "name": "stdout",
     "output_type": "stream",
     "text": [
      "Could not find 16251: Air Pollution, Air Quality, and Climate Change (10.7551/mitpress/9780262034876.003.0007)\n"
     ]
    },
    {
     "name": "stderr",
     "output_type": "stream",
     "text": [
      " 61%|██████    | 16397/26843 [2:35:59<30:59,  5.62it/s]  "
     ]
    },
    {
     "name": "stdout",
     "output_type": "stream",
     "text": [
      "Could not find 16396: \"voice of the customer oriented new product synthesis over knowledge graphs\" (10.1115/detc201885909)\n"
     ]
    },
    {
     "name": "stderr",
     "output_type": "stream",
     "text": [
      " 61%|██████▏   | 16501/26843 [2:36:51<1:15:52,  2.27it/s]"
     ]
    },
    {
     "name": "stdout",
     "output_type": "stream",
     "text": [
      "Could not find 16500: green public procurement (https://doi.org/10.1016/j.jclepro.2015.08.010)\n"
     ]
    },
    {
     "name": "stderr",
     "output_type": "stream",
     "text": [
      " 62%|██████▏   | 16526/26843 [2:37:01<50:43,  3.39it/s]  "
     ]
    },
    {
     "name": "stdout",
     "output_type": "stream",
     "text": [
      "Could not find 16525: The role of big data analytics capabilities in greening e-procurement: A higher order PLS-SEM analysis (https://doi.org/10.1016/j.techfore.2021.120808)\n"
     ]
    },
    {
     "name": "stderr",
     "output_type": "stream",
     "text": [
      " 62%|██████▏   | 16569/26843 [2:37:17<1:41:33,  1.69it/s]"
     ]
    },
    {
     "name": "stdout",
     "output_type": "stream",
     "text": [
      "Could not find 16568: Prototaxites stellaviatori: A fungal growth simulation model for Mycelium-Based Composites education in applied arts (10.1201/9781003023555-5)\n"
     ]
    },
    {
     "name": "stderr",
     "output_type": "stream",
     "text": [
      " 62%|██████▏   | 16607/26843 [2:37:45<1:33:25,  1.83it/s]"
     ]
    },
    {
     "name": "stdout",
     "output_type": "stream",
     "text": [
      "Could not find 16606: Municipal solid waste recycling network with sustainability and supply uncertainty considerations (10.1016/j.scs.2022.103857)\n"
     ]
    },
    {
     "name": "stderr",
     "output_type": "stream",
     "text": [
      " 62%|██████▏   | 16616/26843 [2:37:51<1:30:31,  1.88it/s]"
     ]
    },
    {
     "name": "stdout",
     "output_type": "stream",
     "text": [
      "Could not find 16615: Municipal solid waste management and energy production: A multi-objective optimization approach to incineration and biogas waste-to-energy supply chain (10.1016/j.seta.2022.102809)\n"
     ]
    },
    {
     "name": "stderr",
     "output_type": "stream",
     "text": [
      " 65%|██████▌   | 17556/26843 [2:38:38<05:11, 29.82it/s]  "
     ]
    },
    {
     "name": "stdout",
     "output_type": "stream",
     "text": [
      "Could not find 17555: Multimodality in Aerodynamic Wing Design Optimization (10.2514/1.J057294)\n"
     ]
    },
    {
     "name": "stderr",
     "output_type": "stream",
     "text": [
      " 65%|██████▌   | 17567/26843 [2:38:39<05:40, 27.24it/s]"
     ]
    },
    {
     "name": "stdout",
     "output_type": "stream",
     "text": [
      "Could not find 17561: Effectively using multifidelity optimization  for wind turbine design (10.5194/wes-7-991-2022)\n"
     ]
    },
    {
     "name": "stderr",
     "output_type": "stream",
     "text": [
      " 66%|██████▌   | 17624/26843 [2:38:53<15:15, 10.07it/s]"
     ]
    },
    {
     "name": "stdout",
     "output_type": "stream",
     "text": [
      "Could not find 17623: Transformer-XL: Attentive Language Models Beyond a Fixed-Length Context (10.48550/arXiv.1901.02860)\n"
     ]
    },
    {
     "name": "stderr",
     "output_type": "stream",
     "text": [
      " 66%|██████▌   | 17637/26843 [2:39:08<49:57,  3.07it/s]  "
     ]
    },
    {
     "name": "stdout",
     "output_type": "stream",
     "text": [
      "Could not find 17636: ALBERT: A Lite BERT for Self-supervised Learning of Language Representations (10.48550/arXiv.1909.11942)\n",
      "Could not find 17637: CTRL: A Conditional Transformer Language Model for Controllable Generation (10.48550/arXiv.1909.05858)\n",
      "Could not find 17639: DialoGPT: Large-Scale Generative Pre-training for Conversational Response Generation (10.48550/arXiv.1911.00536)\n"
     ]
    },
    {
     "name": "stderr",
     "output_type": "stream",
     "text": [
      " 66%|██████▌   | 17641/26843 [2:39:17<1:30:15,  1.70it/s]"
     ]
    },
    {
     "name": "stdout",
     "output_type": "stream",
     "text": [
      "Could not find 17640: DistilBERT, a distilled version of BERT: smaller, faster, cheaper and lighter (10.48550/arXiv.1910.01108)\n",
      "Could not find 17641: Exploring the limits of transfer learning with a unified text-to-text transformer (10.48550/arXiv.1910.10683)\n"
     ]
    },
    {
     "name": "stderr",
     "output_type": "stream",
     "text": [
      " 66%|██████▌   | 17646/26843 [2:39:26<2:02:49,  1.25it/s]"
     ]
    },
    {
     "name": "stdout",
     "output_type": "stream",
     "text": [
      "Could not find 17645: ELECTRA: Pre-training Text Encoders as Discriminators Rather Than Generators (10.48550/arXiv.2003.10555)\n"
     ]
    },
    {
     "name": "stderr",
     "output_type": "stream",
     "text": [
      " 66%|██████▌   | 17648/26843 [2:39:26<1:49:28,  1.40it/s]"
     ]
    },
    {
     "name": "stdout",
     "output_type": "stream",
     "text": [
      "Could not find 17646: Megatron-LM: Training Multi-Billion Parameter Language Models Using Model Parallelism (10.48550/arXiv.1909.08053)\n"
     ]
    },
    {
     "name": "stderr",
     "output_type": "stream",
     "text": [
      " 66%|██████▌   | 17650/26843 [2:39:26<1:35:30,  1.60it/s]"
     ]
    },
    {
     "name": "stdout",
     "output_type": "stream",
     "text": [
      "Could not find 17649: An Image is Worth 16x16 Words: Transformers for Image Recognition at Scale (10.48550/arXiv.2010.11929)\n"
     ]
    },
    {
     "name": "stderr",
     "output_type": "stream",
     "text": [
      " 66%|██████▌   | 17652/26843 [2:39:27<1:25:17,  1.80it/s]"
     ]
    },
    {
     "name": "stdout",
     "output_type": "stream",
     "text": [
      "Could not find 17651: Learning Transferable Visual Models From Natural Language Supervision (10.48550/arXiv.2103.00020)\n"
     ]
    },
    {
     "name": "stderr",
     "output_type": "stream",
     "text": [
      " 66%|██████▌   | 17655/26843 [2:39:28<1:19:02,  1.94it/s]"
     ]
    },
    {
     "name": "stdout",
     "output_type": "stream",
     "text": [
      "Could not find 17654: Decision Transformer: Reinforcement Learning via Sequence Modeling (10.48550/arXiv.2106.01345)\n"
     ]
    },
    {
     "name": "stderr",
     "output_type": "stream",
     "text": [
      " 66%|██████▌   | 17658/26843 [2:39:45<5:33:39,  2.18s/it]"
     ]
    },
    {
     "name": "stdout",
     "output_type": "stream",
     "text": [
      "Could not find 17657: HTLM: Hyper-Text Pre-Training and Prompting of Language Models (10.48550/arXiv.2107.06955)\n"
     ]
    },
    {
     "name": "stderr",
     "output_type": "stream",
     "text": [
      " 66%|██████▌   | 17660/26843 [2:39:46<4:02:29,  1.58s/it]"
     ]
    },
    {
     "name": "stdout",
     "output_type": "stream",
     "text": [
      "Could not find 17659: A General Language Assistant as a Laboratory for Alignment (10.48550/arXiv.2112.00861)\n"
     ]
    },
    {
     "name": "stderr",
     "output_type": "stream",
     "text": [
      " 66%|██████▌   | 17662/26843 [2:39:46<3:00:32,  1.18s/it]"
     ]
    },
    {
     "name": "stdout",
     "output_type": "stream",
     "text": [
      "Could not find 17661: GLIDE: Towards Photorealistic Image Generation and Editing with Text-Guided Diffusion Models (10.48550/arXiv.2112.10741)\n"
     ]
    },
    {
     "name": "stderr",
     "output_type": "stream",
     "text": [
      " 66%|██████▌   | 17663/26843 [2:39:47<2:42:36,  1.06s/it]"
     ]
    },
    {
     "name": "stdout",
     "output_type": "stream",
     "text": [
      "Could not find 17662: Scaling Language Models: Methods, Analysis &amp; Insights from Training Gopher (10.48550/arXiv.2112.11446)\n"
     ]
    },
    {
     "name": "stderr",
     "output_type": "stream",
     "text": [
      " 66%|██████▌   | 17664/26843 [2:39:47<2:25:54,  1.05it/s]"
     ]
    },
    {
     "name": "stdout",
     "output_type": "stream",
     "text": [
      "Could not find 17663: High-Resolution Image Synthesis with Latent Diffusion Models (10.48550/arXiv.2112.10752)\n"
     ]
    },
    {
     "name": "stderr",
     "output_type": "stream",
     "text": [
      " 66%|██████▌   | 17665/26843 [2:39:48<2:11:16,  1.17it/s]"
     ]
    },
    {
     "name": "stdout",
     "output_type": "stream",
     "text": [
      "Could not find 17664: CM3: A Causal Masked Multimodal Model of the Internet (10.48550/arXiv.2201.07520)\n"
     ]
    },
    {
     "name": "stderr",
     "output_type": "stream",
     "text": [
      " 66%|██████▌   | 17666/26843 [2:39:48<1:47:40,  1.42it/s]"
     ]
    },
    {
     "name": "stdout",
     "output_type": "stream",
     "text": [
      "Could not find 17665: LaMDA: Language Models for Dialog Applications (10.48550/arXiv.2201.08239)\n"
     ]
    },
    {
     "name": "stderr",
     "output_type": "stream",
     "text": [
      " 66%|██████▌   | 17668/26843 [2:39:50<2:00:37,  1.27it/s]"
     ]
    },
    {
     "name": "stdout",
     "output_type": "stream",
     "text": [
      "Could not find 17667: DQ-BART: Efficient Sequence-to-Sequence Model via Joint Distillation and Quantization (10.18653/v1/2022.acl-short.22)\n"
     ]
    },
    {
     "name": "stderr",
     "output_type": "stream",
     "text": [
      " 66%|██████▌   | 17672/26843 [2:39:55<2:46:25,  1.09s/it]"
     ]
    },
    {
     "name": "stdout",
     "output_type": "stream",
     "text": [
      "Could not find 17671: Flamingo: a Visual Language Model for Few-Shot Learning (10.48550/arXiv.2204.14198)\n"
     ]
    },
    {
     "name": "stderr",
     "output_type": "stream",
     "text": [
      " 66%|██████▌   | 17673/26843 [2:39:56<2:13:35,  1.14it/s]"
     ]
    },
    {
     "name": "stdout",
     "output_type": "stream",
     "text": [
      "Could not find 17672: PaLM: Scaling Language Modeling with Pathways (10.48550/arXiv.2204.02311)\n"
     ]
    },
    {
     "name": "stderr",
     "output_type": "stream",
     "text": [
      " 66%|██████▌   | 17675/26843 [2:39:57<2:09:56,  1.18it/s]"
     ]
    },
    {
     "name": "stdout",
     "output_type": "stream",
     "text": [
      "Could not find 17674: OPT: Open Pre-trained Transformer Language Models (10.48550/arXiv.2205.01068)\n"
     ]
    },
    {
     "name": "stderr",
     "output_type": "stream",
     "text": [
      " 66%|██████▌   | 17683/26843 [2:40:08<3:03:43,  1.20s/it]"
     ]
    },
    {
     "name": "stdout",
     "output_type": "stream",
     "text": [
      "Could not find 17682: Using DeepSpeed and Megatron to Train Megatron-Turing NLG 530B, A Large-Scale Generative Language Model (10.48550/arXiv.2201.11990)\n"
     ]
    },
    {
     "name": "stderr",
     "output_type": "stream",
     "text": [
      " 66%|██████▌   | 17687/26843 [2:40:09<1:36:57,  1.57it/s]"
     ]
    },
    {
     "name": "stdout",
     "output_type": "stream",
     "text": [
      "Could not find 17686: Distributed control parallelism in multidisciplinary aircraft design (10.1002/(SICI)1096-9128(199907)11:8<435::AID-CPE442>3.0.CO;2-B)\n"
     ]
    },
    {
     "name": "stderr",
     "output_type": "stream",
     "text": [
      " 66%|██████▌   | 17689/26843 [2:40:11<1:47:59,  1.41it/s]"
     ]
    },
    {
     "name": "stdout",
     "output_type": "stream",
     "text": [
      "Could not find 17688: A multifidelity approach for the construction of explicit decision boundaries: application to aeroelasticity (10.1007/s00158-010-0516-8)\n"
     ]
    },
    {
     "name": "stderr",
     "output_type": "stream",
     "text": [
      " 93%|█████████▎| 24973/26843 [2:40:18<00:00, 4982.00it/s]"
     ]
    },
    {
     "name": "stdout",
     "output_type": "stream",
     "text": [
      "Could not find 25240: Survey of multifidelity methods in uncertainty propagation, inference, and optimization (10.48550/arXiv.1806.10761)\n"
     ]
    },
    {
     "name": "stderr",
     "output_type": "stream",
     "text": [
      " 95%|█████████▍| 25391/26843 [2:40:43<00:09, 160.43it/s] "
     ]
    },
    {
     "name": "stdout",
     "output_type": "stream",
     "text": [
      "Could not find 25395: The international association for computational mechanics (10.1016/0045-7825(85)90082-9)\n"
     ]
    },
    {
     "name": "stderr",
     "output_type": "stream",
     "text": [
      " 95%|█████████▍| 25407/26843 [2:40:58<00:19, 73.23it/s] "
     ]
    },
    {
     "name": "stdout",
     "output_type": "stream",
     "text": [
      "Could not find 25406: 19-16 September 2019 mfEGRA : Multi fidelity Efficient Global Reliability Analysis ({mfEGRA}: Multi fidelity Efficient Global Reliability Analysis)\n"
     ]
    },
    {
     "name": "stderr",
     "output_type": "stream",
     "text": [
      " 96%|█████████▌| 25733/26843 [2:41:19<00:28, 38.85it/s]"
     ]
    },
    {
     "name": "stdout",
     "output_type": "stream",
     "text": [
      "Could not find 26047: Elektromagnetische Strahlung (10.1007/978-3-322-84839-0_2)\n"
     ]
    },
    {
     "name": "stderr",
     "output_type": "stream",
     "text": [
      " 98%|█████████▊| 26342/26843 [2:45:26<05:35,  1.49it/s]"
     ]
    },
    {
     "name": "stdout",
     "output_type": "stream",
     "text": [
      "Could not find 26341: Site-Specific Effects of Online rTMS during a Working Memory Task in Healthy Older Adults (10.3390/brainsci10050255)\n"
     ]
    },
    {
     "name": "stderr",
     "output_type": "stream",
     "text": [
      "100%|██████████| 26843/26843 [2:50:31<00:00,  2.62it/s]"
     ]
    },
    {
     "name": "stdout",
     "output_type": "stream",
     "text": [
      "Skipped 14141 entries due to missing DOI.\n"
     ]
    },
    {
     "name": "stderr",
     "output_type": "stream",
     "text": [
      "\n"
     ]
    }
   ],
   "source": [
    "from tqdm import tqdm\n",
    "\n",
    "skip_count = 0\n",
    "for index, row in tqdm(meta_infos.iterrows(), total=len(meta_infos)):\n",
    "    doi = row[\"doi\"]\n",
    "    title = row[\"title\"]\n",
    "\n",
    "    # If doi is not a string, skip\n",
    "    if not isinstance(doi, str) or len(doi) == 0:\n",
    "        skip_count += 1\n",
    "        # print(f\"Skipping {index}: {title} ({doi})\")\n",
    "        continue\n",
    "\n",
    "    if semantics_exists(doi):\n",
    "        continue\n",
    "\n",
    "    # print(f\"Processing {index}: {title} ({doi})\")\n",
    "\n",
    "    if doi is None:\n",
    "        continue\n",
    "\n",
    "    data = semantics_by_doi(doi)\n",
    "    if data is not None:\n",
    "        store_semantics_data(doi, data)\n",
    "    else:\n",
    "        print(f\"Could not find {index}: {title} ({doi})\")\n",
    "\n",
    "    # break\n",
    "\n",
    "print(f\"Skipped {skip_count} entries due to missing DOI.\")"
   ],
   "metadata": {
    "collapsed": false,
    "ExecuteTime": {
     "end_time": "2023-07-01T11:13:13.996595400Z",
     "start_time": "2023-07-01T08:22:42.534352900Z"
    }
   }
  },
  {
   "cell_type": "code",
   "execution_count": null,
   "outputs": [],
   "source": [
    "db.close()"
   ],
   "metadata": {
    "collapsed": false
   }
  }
 ],
 "metadata": {
  "kernelspec": {
   "display_name": "Python 3",
   "language": "python",
   "name": "python3"
  },
  "language_info": {
   "codemirror_mode": {
    "name": "ipython",
    "version": 2
   },
   "file_extension": ".py",
   "mimetype": "text/x-python",
   "name": "python",
   "nbconvert_exporter": "python",
   "pygments_lexer": "ipython2",
   "version": "2.7.6"
  }
 },
 "nbformat": 4,
 "nbformat_minor": 0
}
