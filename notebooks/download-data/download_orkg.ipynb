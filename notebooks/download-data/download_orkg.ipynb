{
 "cells": [
  {
   "cell_type": "markdown",
   "source": [
    "# ORKG data download\n",
    "\n",
    "This notebook downloads all papers from the ORKG API and stores it in a SQLite database."
   ],
   "metadata": {
    "collapsed": false
   }
  },
  {
   "cell_type": "markdown",
   "source": [
    "### JSON helper functions"
   ],
   "metadata": {
    "collapsed": false
   }
  },
  {
   "cell_type": "code",
   "execution_count": 22,
   "outputs": [],
   "source": [
    "import json\n",
    "import os\n",
    "\n",
    "\n",
    "# Read name.json data in directory\n",
    "def read_json(filename: str):\n",
    "    json_file = os.path.join(filename)\n",
    "    with open(json_file) as f:\n",
    "        img_annotations = json.load(f)\n",
    "\n",
    "    return img_annotations\n",
    "\n",
    "\n",
    "# Pretty print json data to console\n",
    "def print_json(data: any, tag=\"\"):\n",
    "    json_str = json.dumps(data, indent=2, sort_keys=True)\n",
    "    if tag:\n",
    "        print(tag, json_str)\n",
    "    else:\n",
    "        print(json_str)\n",
    "\n",
    "\n",
    "# Pretty print json data to file\n",
    "def write_json(filename: str, data: any):\n",
    "    with open(filename, \"w\") as file:\n",
    "        json.dump(data, file, indent=2, sort_keys=True)"
   ],
   "metadata": {
    "collapsed": false,
    "ExecuteTime": {
     "end_time": "2023-07-05T15:42:12.659317Z",
     "start_time": "2023-07-05T15:42:12.639315600Z"
    }
   }
  },
  {
   "cell_type": "markdown",
   "source": [
    "### Initialize SQLite database"
   ],
   "metadata": {
    "collapsed": false
   }
  },
  {
   "cell_type": "code",
   "execution_count": 23,
   "outputs": [
    {
     "data": {
      "text/plain": "<sqlite3.Cursor at 0x7f30ab3097a0>"
     },
     "execution_count": 23,
     "metadata": {},
     "output_type": "execute_result"
    }
   ],
   "source": [
    "import sqlite3\n",
    "\n",
    "base_dir = \"data/\"\n",
    "database_path = os.path.join(base_dir, \"datalake.db\")\n",
    "\n",
    "# Open a connection to the SQLite database file\n",
    "db = sqlite3.connect(database_path)\n",
    "\n",
    "# Create a cursor object to execute SQL statements\n",
    "cursor = db.cursor()\n",
    "cursor.execute(\"CREATE TABLE IF NOT EXISTS orkg_statements (id TEXT PRIMARY KEY, data JSON)\")"
   ],
   "metadata": {
    "collapsed": false,
    "ExecuteTime": {
     "end_time": "2023-07-05T15:42:12.663399Z",
     "start_time": "2023-07-05T15:42:12.646316300Z"
    }
   }
  },
  {
   "cell_type": "code",
   "execution_count": 24,
   "outputs": [],
   "source": [
    "#cursor.execute(\"DROP TABLE IF EXISTS orkg_statements\")\n",
    "#print(cursor.fetchall())"
   ],
   "metadata": {
    "collapsed": false,
    "ExecuteTime": {
     "end_time": "2023-07-05T15:42:12.784836300Z",
     "start_time": "2023-07-05T15:42:12.653315200Z"
    }
   }
  },
  {
   "cell_type": "markdown",
   "source": [
    "### Functions to store data in a SQLite database"
   ],
   "metadata": {
    "collapsed": false
   }
  },
  {
   "cell_type": "code",
   "execution_count": 25,
   "outputs": [],
   "source": [
    "def entry_exists(id: str):\n",
    "    cursor.execute(\"SELECT * FROM orkg_statements WHERE id = ?\", (id,))\n",
    "    rows = cursor.fetchall()\n",
    "    return len(rows) > 0\n",
    "\n",
    "\n",
    "def store_data(id: str, data: dict):\n",
    "    cursor.execute(\"INSERT INTO orkg_statements (id, data) VALUES (?, ?)\", (id, json.dumps(data)))\n",
    "    db.commit()"
   ],
   "metadata": {
    "collapsed": false,
    "ExecuteTime": {
     "end_time": "2023-07-05T15:42:12.796845500Z",
     "start_time": "2023-07-05T15:42:12.661316800Z"
    }
   }
  },
  {
   "cell_type": "markdown",
   "source": [
    "### Download all paper ids\n",
    "\n",
    "The predicate P30 is used to get all paper ids."
   ],
   "metadata": {
    "collapsed": false
   }
  },
  {
   "cell_type": "code",
   "execution_count": null,
   "outputs": [],
   "source": [
    "import requests\n",
    "\n",
    "\n",
    "def get_predicates(predicate: str, page=int(0), size=int(100)):\n",
    "    url = \"http://orkg.org/api/statements/predicate/\" + predicate\n",
    "\n",
    "    params = {\n",
    "        \"page\": page,\n",
    "        \"size\": size,\n",
    "        \"sort\": True\n",
    "    }\n",
    "\n",
    "    response = requests.get(url, params=params, timeout=6)\n",
    "    return response.json()"
   ],
   "metadata": {
    "collapsed": false
   }
  },
  {
   "cell_type": "code",
   "execution_count": 27,
   "outputs": [],
   "source": [
    "page = 0\n",
    "pages = 1"
   ],
   "metadata": {
    "collapsed": false,
    "ExecuteTime": {
     "end_time": "2023-07-05T15:42:13.090430900Z",
     "start_time": "2023-07-05T15:42:13.086431800Z"
    }
   }
  },
  {
   "cell_type": "code",
   "execution_count": 28,
   "outputs": [
    {
     "name": "stdout",
     "output_type": "stream",
     "text": [
      "Download page 1 of 1\n",
      "Download page 2 of 271\n",
      "Download page 3 of 271\n",
      "Download page 4 of 271\n",
      "Download page 5 of 271\n",
      "Download page 6 of 271\n",
      "Download page 7 of 271\n",
      "Download page 8 of 271\n",
      "Download page 9 of 271\n",
      "Download page 10 of 271\n",
      "Download page 11 of 271\n",
      "Download page 12 of 271\n",
      "Download page 13 of 271\n",
      "Download page 14 of 271\n",
      "Download page 15 of 271\n",
      "Download page 16 of 271\n",
      "Download page 17 of 271\n",
      "Download page 18 of 271\n",
      "Download page 19 of 271\n",
      "Download page 20 of 271\n",
      "Download page 21 of 271\n",
      "Download page 22 of 271\n",
      "Download page 23 of 271\n",
      "Download page 24 of 271\n",
      "Download page 25 of 271\n",
      "Download page 26 of 271\n",
      "Download page 27 of 271\n",
      "Download page 28 of 271\n",
      "Download page 29 of 271\n",
      "Download page 30 of 271\n",
      "Download page 31 of 271\n",
      "Download page 32 of 271\n",
      "Download page 33 of 271\n",
      "Download page 34 of 271\n",
      "Download page 35 of 271\n",
      "Download page 36 of 271\n",
      "Download page 37 of 271\n",
      "Download page 38 of 271\n",
      "Download page 39 of 271\n",
      "Download page 40 of 271\n",
      "Download page 41 of 271\n",
      "Download page 42 of 271\n",
      "Download page 43 of 271\n",
      "Error: page=42 --> retrying in 20 seconds...\n",
      "Download page 43 of 271\n",
      "Download page 44 of 271\n",
      "Download page 45 of 271\n",
      "Download page 46 of 271\n",
      "Download page 47 of 271\n",
      "Download page 48 of 271\n",
      "Download page 49 of 271\n",
      "Download page 50 of 271\n",
      "Download page 51 of 271\n",
      "Download page 52 of 271\n",
      "Download page 53 of 271\n",
      "Download page 54 of 271\n",
      "Download page 55 of 271\n",
      "Download page 56 of 271\n",
      "Download page 57 of 271\n",
      "Download page 58 of 271\n",
      "Download page 59 of 271\n",
      "Error: page=58 --> retrying in 20 seconds...\n",
      "Download page 59 of 271\n",
      "Download page 60 of 271\n",
      "Error: page=59 --> retrying in 20 seconds...\n",
      "Download page 60 of 271\n",
      "Download page 61 of 271\n",
      "Download page 62 of 271\n",
      "Download page 63 of 271\n",
      "Download page 64 of 271\n",
      "Download page 65 of 271\n",
      "Download page 66 of 271\n",
      "Download page 67 of 271\n",
      "Download page 68 of 271\n",
      "Error: page=67 --> retrying in 20 seconds...\n",
      "Download page 68 of 271\n",
      "Download page 69 of 271\n",
      "Download page 70 of 271\n",
      "Download page 71 of 271\n",
      "Download page 72 of 271\n",
      "Download page 73 of 271\n",
      "Download page 74 of 271\n",
      "Download page 75 of 271\n",
      "Download page 76 of 271\n",
      "Download page 77 of 271\n",
      "Download page 78 of 271\n",
      "Download page 79 of 271\n",
      "Download page 80 of 271\n",
      "Download page 81 of 271\n",
      "Download page 82 of 271\n",
      "Download page 83 of 271\n",
      "Download page 84 of 271\n",
      "Download page 85 of 271\n",
      "Download page 86 of 271\n",
      "Download page 87 of 271\n",
      "Download page 88 of 271\n",
      "Download page 89 of 271\n",
      "Download page 90 of 271\n",
      "Download page 91 of 271\n",
      "Download page 92 of 271\n",
      "Download page 93 of 271\n",
      "Download page 94 of 271\n",
      "Download page 95 of 271\n",
      "Download page 96 of 271\n",
      "Download page 97 of 271\n",
      "Download page 98 of 271\n",
      "Download page 99 of 271\n",
      "Download page 100 of 271\n",
      "Download page 101 of 271\n",
      "Download page 102 of 271\n",
      "Download page 103 of 271\n",
      "Download page 104 of 271\n",
      "Download page 105 of 271\n",
      "Download page 106 of 271\n",
      "Download page 107 of 271\n",
      "Download page 108 of 271\n",
      "Download page 109 of 271\n",
      "Download page 110 of 271\n",
      "Download page 111 of 271\n",
      "Download page 112 of 271\n",
      "Download page 113 of 271\n",
      "Download page 114 of 271\n",
      "Download page 115 of 271\n",
      "Download page 116 of 271\n",
      "Download page 117 of 271\n",
      "Download page 118 of 271\n",
      "Download page 119 of 271\n",
      "Error: page=118 --> retrying in 20 seconds...\n",
      "Download page 119 of 271\n",
      "Download page 120 of 271\n",
      "Error: page=119 --> retrying in 20 seconds...\n",
      "Download page 120 of 271\n",
      "Download page 121 of 271\n",
      "Download page 122 of 271\n",
      "Download page 123 of 271\n",
      "Download page 124 of 271\n",
      "Download page 125 of 271\n",
      "Download page 126 of 271\n",
      "Download page 127 of 271\n",
      "Download page 128 of 271\n",
      "Download page 129 of 271\n",
      "Download page 130 of 271\n",
      "Download page 131 of 271\n",
      "Download page 132 of 271\n",
      "Download page 133 of 271\n",
      "Download page 134 of 271\n",
      "Download page 135 of 271\n",
      "Download page 136 of 271\n",
      "Download page 137 of 271\n",
      "Download page 138 of 271\n",
      "Download page 139 of 271\n",
      "Download page 140 of 271\n",
      "Download page 141 of 271\n",
      "Download page 142 of 271\n",
      "Download page 143 of 271\n",
      "Download page 144 of 271\n",
      "Download page 145 of 271\n",
      "Download page 146 of 271\n",
      "Download page 147 of 271\n",
      "Download page 148 of 271\n",
      "Download page 149 of 271\n",
      "Download page 150 of 271\n",
      "Download page 151 of 271\n",
      "Download page 152 of 271\n",
      "Download page 153 of 271\n",
      "Download page 154 of 271\n",
      "Download page 155 of 271\n",
      "Download page 156 of 271\n",
      "Download page 157 of 271\n",
      "Download page 158 of 271\n",
      "Download page 159 of 271\n",
      "Download page 160 of 271\n",
      "Download page 161 of 271\n",
      "Download page 162 of 271\n",
      "Download page 163 of 271\n",
      "Download page 164 of 271\n",
      "Download page 165 of 271\n",
      "Download page 166 of 271\n",
      "Download page 167 of 271\n",
      "Download page 168 of 271\n",
      "Download page 169 of 271\n",
      "Download page 170 of 271\n",
      "Download page 171 of 271\n",
      "Download page 172 of 271\n",
      "Download page 173 of 271\n",
      "Download page 174 of 271\n",
      "Download page 175 of 271\n",
      "Download page 176 of 271\n",
      "Download page 177 of 271\n",
      "Download page 178 of 271\n",
      "Download page 179 of 271\n",
      "Download page 180 of 271\n",
      "Download page 181 of 271\n",
      "Download page 182 of 271\n",
      "Download page 183 of 271\n",
      "Download page 184 of 271\n",
      "Download page 185 of 271\n",
      "Download page 186 of 271\n",
      "Download page 187 of 271\n",
      "Download page 188 of 271\n",
      "Download page 189 of 271\n",
      "Download page 190 of 271\n",
      "Download page 191 of 271\n",
      "Download page 192 of 271\n",
      "Download page 193 of 271\n",
      "Download page 194 of 271\n",
      "Download page 195 of 271\n",
      "Download page 196 of 271\n",
      "Download page 197 of 271\n",
      "Download page 198 of 271\n",
      "Download page 199 of 271\n",
      "Download page 200 of 271\n",
      "Download page 201 of 271\n",
      "Download page 202 of 271\n",
      "Download page 203 of 271\n",
      "Download page 204 of 271\n",
      "Download page 205 of 271\n",
      "Download page 206 of 271\n",
      "Download page 207 of 271\n",
      "Download page 208 of 271\n",
      "Error: page=207 --> retrying in 20 seconds...\n",
      "Download page 208 of 271\n",
      "Download page 209 of 271\n",
      "Download page 210 of 271\n",
      "Download page 211 of 271\n",
      "Download page 212 of 271\n",
      "Download page 213 of 271\n",
      "Download page 214 of 271\n",
      "Download page 215 of 271\n",
      "Download page 216 of 271\n",
      "Download page 217 of 271\n",
      "Download page 218 of 271\n",
      "Download page 219 of 271\n",
      "Download page 220 of 271\n",
      "Download page 221 of 271\n",
      "Download page 222 of 271\n",
      "Download page 223 of 271\n",
      "Error: page=222 --> retrying in 20 seconds...\n",
      "Download page 223 of 271\n",
      "Download page 224 of 271\n",
      "Download page 225 of 271\n",
      "Download page 226 of 271\n",
      "Download page 227 of 271\n",
      "Download page 228 of 271\n",
      "Download page 229 of 271\n",
      "Download page 230 of 271\n",
      "Download page 231 of 271\n",
      "Download page 232 of 271\n",
      "Download page 233 of 271\n",
      "Download page 234 of 271\n",
      "Download page 235 of 271\n",
      "Download page 236 of 271\n",
      "Download page 237 of 271\n",
      "Download page 238 of 271\n",
      "Download page 239 of 271\n",
      "Download page 240 of 271\n",
      "Download page 241 of 271\n",
      "Download page 242 of 271\n",
      "Download page 243 of 271\n",
      "Download page 244 of 271\n",
      "Download page 245 of 271\n",
      "Download page 246 of 271\n",
      "Download page 247 of 271\n",
      "Download page 248 of 271\n",
      "Download page 249 of 271\n",
      "Download page 250 of 271\n",
      "Download page 251 of 271\n",
      "Download page 252 of 271\n",
      "Download page 253 of 271\n",
      "Download page 254 of 271\n",
      "Download page 255 of 271\n",
      "Download page 256 of 271\n",
      "Download page 257 of 271\n",
      "Download page 258 of 271\n",
      "Download page 259 of 271\n",
      "Download page 260 of 271\n",
      "Download page 261 of 271\n",
      "Download page 262 of 271\n",
      "Download page 263 of 271\n",
      "Download page 264 of 271\n",
      "Download page 265 of 271\n",
      "Download page 266 of 271\n",
      "Download page 267 of 271\n",
      "Download page 268 of 271\n",
      "Download page 269 of 271\n",
      "Download page 270 of 271\n",
      "Download page 271 of 271\n"
     ]
    }
   ],
   "source": [
    "import time\n",
    "\n",
    "# Download all predicate P30 data, this contains all paper ids\n",
    "# These data is then used to download the corresponding paper data by subject\n",
    "\n",
    "paper_ids = set()\n",
    "\n",
    "while True:\n",
    "    print(f\"Download page {page + 1} of {pages}\")\n",
    "\n",
    "    try:\n",
    "        data = get_predicates(\"P30\", page=page, size=100)\n",
    "    except:\n",
    "        # The ORKG API is not very stable, so we need to retry if it fails\n",
    "        print(f\"Error: page={page} --> retrying in 20 seconds...\")\n",
    "        time.sleep(20)\n",
    "        continue\n",
    "\n",
    "    content = data['content']\n",
    "\n",
    "    for entry in content:\n",
    "        id = entry[\"subject\"][\"id\"]\n",
    "        paper_ids.add(id)\n",
    "\n",
    "    page += 1\n",
    "    pages = data['totalPages']\n",
    "    if \"last\" not in data or data['last']:\n",
    "        break"
   ],
   "metadata": {
    "collapsed": false,
    "ExecuteTime": {
     "end_time": "2023-07-05T15:46:56.966927100Z",
     "start_time": "2023-07-05T15:42:13.089431500Z"
    }
   }
  },
  {
   "cell_type": "code",
   "execution_count": 29,
   "outputs": [
    {
     "name": "stdout",
     "output_type": "stream",
     "text": [
      "Papers 26737\n"
     ]
    }
   ],
   "source": [
    "paper_ids = list(paper_ids)\n",
    "print(\"Papers\", len(paper_ids))"
   ],
   "metadata": {
    "collapsed": false,
    "ExecuteTime": {
     "end_time": "2023-07-05T15:46:56.982542500Z",
     "start_time": "2023-07-05T15:46:56.966927100Z"
    }
   }
  },
  {
   "cell_type": "markdown",
   "source": [
    "### Download paper data\n",
    "\n",
    "After downloading all paper ids, we can download the corresponding paper data."
   ],
   "metadata": {
    "collapsed": false
   }
  },
  {
   "cell_type": "code",
   "execution_count": 30,
   "outputs": [],
   "source": [
    "def get_statement(paper_id: str):\n",
    "    url = \"https://orkg.org/api/statements/\" + paper_id + \"/bundle/\"\n",
    "    response = requests.get(url, timeout=8)\n",
    "    data = response.json()\n",
    "\n",
    "    return data"
   ],
   "metadata": {
    "collapsed": false,
    "ExecuteTime": {
     "end_time": "2023-07-05T15:46:56.982542500Z",
     "start_time": "2023-07-05T15:46:56.982542500Z"
    }
   }
  },
  {
   "cell_type": "code",
   "execution_count": 31,
   "outputs": [
    {
     "name": "stderr",
     "output_type": "stream",
     "text": [
      "  0%|                                                 | 0/26737 [00:00<?, ?it/s]\n",
      " 96%|█████████████████████████████████▋ | 25742/26737 [00:26<00:00, 7969.10it/s]\u001B[A"
     ]
    },
    {
     "name": "stdout",
     "output_type": "stream",
     "text": [
      "Error: index=25742 paper_id=R164478 --> retrying in 60 seconds...\n"
     ]
    },
    {
     "name": "stderr",
     "output_type": "stream",
     "text": [
      " 96%|███████████████████████████████████▋ | 25746/26737 [01:29<00:29, 34.00it/s]"
     ]
    },
    {
     "name": "stdout",
     "output_type": "stream",
     "text": [
      "Error: index=25763 paper_id=R110705 --> retrying in 60 seconds...\n"
     ]
    },
    {
     "name": "stderr",
     "output_type": "stream",
     "text": [
      " 96%|███████████████████████████████████▋ | 25764/26737 [02:40<01:20, 12.14it/s]"
     ]
    },
    {
     "name": "stdout",
     "output_type": "stream",
     "text": [
      "Error: index=25764 paper_id=R73159 --> retrying in 60 seconds...\n",
      "Error: index=25764 paper_id=R73159 --> retrying in 60 seconds...\n"
     ]
    },
    {
     "name": "stderr",
     "output_type": "stream",
     "text": [
      " 96%|███████████████████████████████████▋ | 25773/26737 [04:57<03:38,  4.42it/s]"
     ]
    },
    {
     "name": "stdout",
     "output_type": "stream",
     "text": [
      "Error: index=25778 paper_id=R395242 --> retrying in 60 seconds...\n"
     ]
    },
    {
     "name": "stderr",
     "output_type": "stream",
     "text": [
      " 96%|███████████████████████████████████▋ | 25780/26737 [06:06<05:53,  2.71it/s]"
     ]
    },
    {
     "name": "stdout",
     "output_type": "stream",
     "text": [
      "Error: index=25795 paper_id=R171568 --> retrying in 60 seconds...\n"
     ]
    },
    {
     "name": "stderr",
     "output_type": "stream",
     "text": [
      " 96%|███████████████████████████████████▋ | 25797/26737 [07:16<09:51,  1.59it/s]"
     ]
    },
    {
     "name": "stdout",
     "output_type": "stream",
     "text": [
      "Error: index=25807 paper_id=R27291 --> retrying in 60 seconds...\n"
     ]
    },
    {
     "name": "stderr",
     "output_type": "stream",
     "text": [
      " 97%|███████████████████████████████████▋ | 25812/26737 [08:31<16:52,  1.09s/it]"
     ]
    },
    {
     "name": "stdout",
     "output_type": "stream",
     "text": [
      "Error: index=25822 paper_id=R201930 --> retrying in 60 seconds...\n"
     ]
    },
    {
     "name": "stderr",
     "output_type": "stream",
     "text": [
      " 97%|███████████████████████████████████▋ | 25828/26737 [09:43<25:50,  1.71s/it]"
     ]
    },
    {
     "name": "stdout",
     "output_type": "stream",
     "text": [
      "Error: index=25831 paper_id=R28517 --> retrying in 60 seconds...\n"
     ]
    },
    {
     "name": "stderr",
     "output_type": "stream",
     "text": [
      " 97%|███████████████████████████████████▋ | 25831/26737 [09:56<25:45,  1.71s/it]"
     ]
    },
    {
     "name": "stdout",
     "output_type": "stream",
     "text": [
      "Error: index=25831 paper_id=R28517 --> retrying in 60 seconds...\n"
     ]
    },
    {
     "name": "stderr",
     "output_type": "stream",
     "text": [
      " 97%|███████████████████████████████████▊ | 25902/26737 [12:15<17:35,  1.26s/it]"
     ]
    },
    {
     "name": "stdout",
     "output_type": "stream",
     "text": [
      "Error: index=25906 paper_id=R214065 --> retrying in 60 seconds...\n"
     ]
    },
    {
     "name": "stderr",
     "output_type": "stream",
     "text": [
      " 97%|███████████████████████████████████▊ | 25909/26737 [13:25<33:14,  2.41s/it]"
     ]
    },
    {
     "name": "stdout",
     "output_type": "stream",
     "text": [
      "Error: index=25922 paper_id=R574596 --> retrying in 60 seconds...\n"
     ]
    },
    {
     "name": "stderr",
     "output_type": "stream",
     "text": [
      " 97%|███████████████████████████████████▊ | 25923/26737 [14:36<45:07,  3.33s/it]"
     ]
    },
    {
     "name": "stdout",
     "output_type": "stream",
     "text": [
      "Error: index=25924 paper_id=R213157 --> retrying in 60 seconds...\n"
     ]
    },
    {
     "name": "stderr",
     "output_type": "stream",
     "text": [
      " 97%|████████████████████████████████████ | 26042/26737 [16:13<03:09,  3.67it/s]"
     ]
    },
    {
     "name": "stdout",
     "output_type": "stream",
     "text": [
      "Error: index=26043 paper_id=R31745 --> retrying in 60 seconds...\n"
     ]
    },
    {
     "name": "stderr",
     "output_type": "stream",
     "text": [
      " 98%|████████████████████████████████████ | 26086/26737 [17:31<02:22,  4.56it/s]"
     ]
    },
    {
     "name": "stdout",
     "output_type": "stream",
     "text": [
      "Error: index=26090 paper_id=R203739 --> retrying in 60 seconds...\n"
     ]
    },
    {
     "name": "stderr",
     "output_type": "stream",
     "text": [
      " 98%|████████████████████████████████████▏| 26111/26737 [18:42<10:12,  1.02it/s]"
     ]
    },
    {
     "name": "stdout",
     "output_type": "stream",
     "text": [
      "Error: index=26111 paper_id=R569702 --> retrying in 60 seconds...\n"
     ]
    },
    {
     "name": "stderr",
     "output_type": "stream",
     "text": [
      " 98%|████████████████████████████████████▏| 26115/26737 [19:51<58:20,  5.63s/it]"
     ]
    },
    {
     "name": "stdout",
     "output_type": "stream",
     "text": [
      "Error: index=26116 paper_id=R538585 --> retrying in 60 seconds...\n"
     ]
    },
    {
     "name": "stderr",
     "output_type": "stream",
     "text": [
      " 98%|████████████████████████████████████▏| 26116/26737 [20:06<58:14,  5.63s/it]"
     ]
    },
    {
     "name": "stdout",
     "output_type": "stream",
     "text": [
      "Error: index=26116 paper_id=R538585 --> retrying in 60 seconds...\n"
     ]
    },
    {
     "name": "stderr",
     "output_type": "stream",
     "text": [
      " 98%|████████████████████████████████████▏| 26190/26737 [22:23<04:28,  2.04it/s]"
     ]
    },
    {
     "name": "stdout",
     "output_type": "stream",
     "text": [
      "Error: index=26191 paper_id=R458545 --> retrying in 60 seconds...\n"
     ]
    },
    {
     "name": "stderr",
     "output_type": "stream",
     "text": [
      " 98%|██████████████████████████████████▎| 26192/26737 [23:31<2:09:56, 14.30s/it]"
     ]
    },
    {
     "name": "stdout",
     "output_type": "stream",
     "text": [
      "Error: index=26192 paper_id=R507948 --> retrying in 60 seconds...\n"
     ]
    },
    {
     "name": "stderr",
     "output_type": "stream",
     "text": [
      " 98%|██████████████████████████████████▎| 26196/26737 [24:40<2:02:08, 13.55s/it]"
     ]
    },
    {
     "name": "stdout",
     "output_type": "stream",
     "text": [
      "Error: index=26196 paper_id=R169421 --> retrying in 60 seconds...\n"
     ]
    },
    {
     "name": "stderr",
     "output_type": "stream",
     "text": [
      " 98%|████████████████████████████████████▎| 26254/26737 [25:56<00:56,  8.62it/s]"
     ]
    },
    {
     "name": "stdout",
     "output_type": "stream",
     "text": [
      "Error: index=26255 paper_id=R437110 --> retrying in 60 seconds...\n"
     ]
    },
    {
     "name": "stderr",
     "output_type": "stream",
     "text": [
      " 98%|████████████████████████████████████▍| 26286/26737 [27:09<02:14,  3.36it/s]"
     ]
    },
    {
     "name": "stdout",
     "output_type": "stream",
     "text": [
      "Error: index=26287 paper_id=R141003 --> retrying in 60 seconds...\n"
     ]
    },
    {
     "name": "stderr",
     "output_type": "stream",
     "text": [
      " 98%|████████████████████████████████████▍| 26332/26737 [28:28<00:57,  7.06it/s]"
     ]
    },
    {
     "name": "stdout",
     "output_type": "stream",
     "text": [
      "Error: index=26332 paper_id=R528812 --> retrying in 60 seconds...\n"
     ]
    },
    {
     "name": "stderr",
     "output_type": "stream",
     "text": [
      " 99%|████████████████████████████████████▌| 26394/26737 [29:50<02:12,  2.59it/s]"
     ]
    },
    {
     "name": "stdout",
     "output_type": "stream",
     "text": [
      "Error: index=26394 paper_id=R56084 --> retrying in 60 seconds...\n"
     ]
    },
    {
     "name": "stderr",
     "output_type": "stream",
     "text": [
      " 99%|████████████████████████████████████▌| 26404/26737 [30:58<16:53,  3.04s/it]"
     ]
    },
    {
     "name": "stdout",
     "output_type": "stream",
     "text": [
      "Error: index=26404 paper_id=R595160 --> retrying in 60 seconds...\n"
     ]
    },
    {
     "name": "stderr",
     "output_type": "stream",
     "text": [
      " 99%|████████████████████████████████████▌| 26411/26737 [32:07<23:23,  4.31s/it]"
     ]
    },
    {
     "name": "stdout",
     "output_type": "stream",
     "text": [
      "Error: index=26412 paper_id=R500538 --> retrying in 60 seconds...\n"
     ]
    },
    {
     "name": "stderr",
     "output_type": "stream",
     "text": [
      " 99%|████████████████████████████████████▌| 26426/26737 [33:20<06:34,  1.27s/it]"
     ]
    },
    {
     "name": "stdout",
     "output_type": "stream",
     "text": [
      "Error: index=26428 paper_id=R283587 --> retrying in 60 seconds...\n"
     ]
    },
    {
     "name": "stderr",
     "output_type": "stream",
     "text": [
      " 99%|████████████████████████████████████▌| 26436/26737 [34:31<15:46,  3.14s/it]"
     ]
    },
    {
     "name": "stdout",
     "output_type": "stream",
     "text": [
      "Error: index=26438 paper_id=R266349 --> retrying in 60 seconds...\n"
     ]
    },
    {
     "name": "stderr",
     "output_type": "stream",
     "text": [
      " 99%|████████████████████████████████████▋| 26531/26737 [35:59<00:27,  7.58it/s]"
     ]
    },
    {
     "name": "stdout",
     "output_type": "stream",
     "text": [
      "Error: index=26531 paper_id=R137404 --> retrying in 60 seconds...\n"
     ]
    },
    {
     "name": "stderr",
     "output_type": "stream",
     "text": [
      " 99%|████████████████████████████████████▋| 26535/26737 [37:07<20:54,  6.21s/it]"
     ]
    },
    {
     "name": "stdout",
     "output_type": "stream",
     "text": [
      "Error: index=26535 paper_id=R441714 --> retrying in 60 seconds...\n"
     ]
    },
    {
     "name": "stderr",
     "output_type": "stream",
     "text": [
      " 99%|████████████████████████████████████▋| 26550/26737 [38:17<08:31,  2.74s/it]"
     ]
    },
    {
     "name": "stdout",
     "output_type": "stream",
     "text": [
      "Error: index=26551 paper_id=R497096 --> retrying in 60 seconds...\n"
     ]
    },
    {
     "name": "stderr",
     "output_type": "stream",
     "text": [
      " 99%|████████████████████████████████████▊| 26558/26737 [39:26<11:56,  4.01s/it]"
     ]
    },
    {
     "name": "stdout",
     "output_type": "stream",
     "text": [
      "Error: index=26558 paper_id=R565868 --> retrying in 60 seconds...\n"
     ]
    },
    {
     "name": "stderr",
     "output_type": "stream",
     "text": [
      "100%|████████████████████████████████████▉| 26707/26737 [41:03<00:03,  9.48it/s]"
     ]
    },
    {
     "name": "stdout",
     "output_type": "stream",
     "text": [
      "Error: index=26708 paper_id=R574425 --> retrying in 60 seconds...\n"
     ]
    },
    {
     "name": "stderr",
     "output_type": "stream",
     "text": [
      "                                                                                \r"
     ]
    }
   ],
   "source": [
    "from tqdm import tqdm\n",
    "\n",
    "progress_bar = tqdm(\n",
    "    leave=False,\n",
    "    ncols=80,  # Limit the progress bar to a fixed width\n",
    "    total=len(paper_ids)\n",
    ")\n",
    "\n",
    "index = 0\n",
    "\n",
    "while index < len(paper_ids):\n",
    "    paper_id = paper_ids[index]\n",
    "    if entry_exists(paper_id):\n",
    "        progress_bar.update(1)\n",
    "        index += 1\n",
    "        continue\n",
    "\n",
    "    try:\n",
    "        data = get_statement(paper_id)\n",
    "    except:\n",
    "        # The ORKG API is not very stable, so we need to retry if it fails\n",
    "        print(f\"Error: index={index} paper_id={paper_id} --> retrying in 60 seconds...\")\n",
    "        time.sleep(60)\n",
    "        continue\n",
    "\n",
    "    if \"error\" in data:\n",
    "        print(f\"Error: index={index} paper_id={paper_id}\")\n",
    "        print_json(data)\n",
    "        break\n",
    "\n",
    "    store_data(paper_id, data)\n",
    "    progress_bar.update(1)\n",
    "    index += 1\n",
    "\n",
    "progress_bar.close()"
   ],
   "metadata": {
    "collapsed": false,
    "ExecuteTime": {
     "end_time": "2023-07-05T16:29:12.673561900Z",
     "start_time": "2023-07-05T15:46:56.982542500Z"
    }
   }
  },
  {
   "cell_type": "code",
   "execution_count": 32,
   "outputs": [
    {
     "name": "stdout",
     "output_type": "stream",
     "text": [
      "26745\n"
     ]
    }
   ],
   "source": [
    "# Print count of database table orkg\n",
    "cursor.execute(\"SELECT COUNT(*) FROM orkg_statements\")\n",
    "print(cursor.fetchone()[0])"
   ],
   "metadata": {
    "collapsed": false,
    "ExecuteTime": {
     "end_time": "2023-07-05T16:29:12.689190Z",
     "start_time": "2023-07-05T16:29:12.673561900Z"
    }
   }
  },
  {
   "cell_type": "code",
   "execution_count": null,
   "outputs": [],
   "source": [
    "cursor.close()"
   ],
   "metadata": {
    "collapsed": false
   }
  }
 ],
 "metadata": {
  "kernelspec": {
   "display_name": "Python 3",
   "language": "python",
   "name": "python3"
  },
  "language_info": {
   "codemirror_mode": {
    "name": "ipython",
    "version": 2
   },
   "file_extension": ".py",
   "mimetype": "text/x-python",
   "name": "python",
   "nbconvert_exporter": "python",
   "pygments_lexer": "ipython2",
   "version": "2.7.6"
  }
 },
 "nbformat": 4,
 "nbformat_minor": 0
}
