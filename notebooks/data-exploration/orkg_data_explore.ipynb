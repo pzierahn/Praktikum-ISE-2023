{
 "cells": [
  {
   "cell_type": "markdown",
   "source": [
    "# ORKG data statistics\n",
    "\n",
    "This notebook contains some statistics about the ORKG data."
   ],
   "metadata": {
    "collapsed": false
   },
   "id": "f1b236f3806ecd31"
  },
  {
   "cell_type": "code",
   "execution_count": 20,
   "outputs": [],
   "source": [
    "import os\n",
    "\n",
    "base_dir = os.path.join('./praktikum-ise-2023-patrick-zierahn')\n",
    "data_dir = os.path.join(base_dir, 'data')\n",
    "\n",
    "reports_dir = os.path.join(base_dir, 'reports', 'okrg-data-statistics')\n",
    "os.makedirs(reports_dir, exist_ok=True)"
   ],
   "metadata": {
    "collapsed": false,
    "ExecuteTime": {
     "end_time": "2023-10-13T12:49:08.636190Z",
     "start_time": "2023-10-13T12:49:08.583509Z"
    }
   },
   "id": "5d30ee736ee2bc6f"
  },
  {
   "cell_type": "code",
   "execution_count": 21,
   "outputs": [],
   "source": [
    "# Read pandas dataframe from csv file\n",
    "import pandas as pd\n",
    "import numpy as np\n",
    "\n",
    "df = pd.read_csv('data/orkg_with_abstracts.csv')\n",
    "df[\"doi\"] = df.doi.apply(eval).apply(np.array)  # convert string to array\n",
    "df[\"subfields\"] = df.subfields.apply(eval).apply(np.array)  # convert string to array\n",
    "df = df.fillna('')"
   ],
   "metadata": {
    "collapsed": false,
    "ExecuteTime": {
     "end_time": "2023-10-13T12:49:13.937778Z",
     "start_time": "2023-10-13T12:49:08.594689Z"
    }
   },
   "id": "708b7629754fb840"
  },
  {
   "cell_type": "code",
   "execution_count": 22,
   "outputs": [
    {
     "data": {
      "text/plain": "        id                                              title  \\\n0  R209491  Knowledge management framework for monitoring ...   \n1  R585639                                     Contribution 1   \n2  R504922  A Strong Baseline for Fashion Retrieval with P...   \n3  R146959                                     Contribution 1   \n4  R191366                                     Contribution 1   \n\n                            doi                  research field  \\\n0  [10.1109/EESMS.2015.7175848]            Computer Engineering   \n1                            []    Theoretical Computer Science   \n2                            []               Computer Sciences   \n3   [10.1109/tbme.2018.2880927]                  Control Theory   \n4     [10.1145/3289600.3290994]  Science and Technology Studies   \n\n                                           subfields  \\\n0  [Robotics, Digital Circuits, Data Storage Syst...   \n1                                                 []   \n2  [Security and Dependability, Computer Architec...   \n3                                                 []   \n4                                                 []   \n\n                                            abstract  \n0  In the last decades scarcity of resources and ...  \n1                                                     \n2                                                     \n3  Objective: To develop and evaluate in silico, ...  \n4  Social media is becoming popular for news cons...  ",
      "text/html": "<div>\n<style scoped>\n    .dataframe tbody tr th:only-of-type {\n        vertical-align: middle;\n    }\n\n    .dataframe tbody tr th {\n        vertical-align: top;\n    }\n\n    .dataframe thead th {\n        text-align: right;\n    }\n</style>\n<table border=\"1\" class=\"dataframe\">\n  <thead>\n    <tr style=\"text-align: right;\">\n      <th></th>\n      <th>id</th>\n      <th>title</th>\n      <th>doi</th>\n      <th>research field</th>\n      <th>subfields</th>\n      <th>abstract</th>\n    </tr>\n  </thead>\n  <tbody>\n    <tr>\n      <th>0</th>\n      <td>R209491</td>\n      <td>Knowledge management framework for monitoring ...</td>\n      <td>[10.1109/EESMS.2015.7175848]</td>\n      <td>Computer Engineering</td>\n      <td>[Robotics, Digital Circuits, Data Storage Syst...</td>\n      <td>In the last decades scarcity of resources and ...</td>\n    </tr>\n    <tr>\n      <th>1</th>\n      <td>R585639</td>\n      <td>Contribution 1</td>\n      <td>[]</td>\n      <td>Theoretical Computer Science</td>\n      <td>[]</td>\n      <td></td>\n    </tr>\n    <tr>\n      <th>2</th>\n      <td>R504922</td>\n      <td>A Strong Baseline for Fashion Retrieval with P...</td>\n      <td>[]</td>\n      <td>Computer Sciences</td>\n      <td>[Security and Dependability, Computer Architec...</td>\n      <td></td>\n    </tr>\n    <tr>\n      <th>3</th>\n      <td>R146959</td>\n      <td>Contribution 1</td>\n      <td>[10.1109/tbme.2018.2880927]</td>\n      <td>Control Theory</td>\n      <td>[]</td>\n      <td>Objective: To develop and evaluate in silico, ...</td>\n    </tr>\n    <tr>\n      <th>4</th>\n      <td>R191366</td>\n      <td>Contribution 1</td>\n      <td>[10.1145/3289600.3290994]</td>\n      <td>Science and Technology Studies</td>\n      <td>[]</td>\n      <td>Social media is becoming popular for news cons...</td>\n    </tr>\n  </tbody>\n</table>\n</div>"
     },
     "execution_count": 22,
     "metadata": {},
     "output_type": "execute_result"
    }
   ],
   "source": [
    "df.head()"
   ],
   "metadata": {
    "collapsed": false,
    "ExecuteTime": {
     "end_time": "2023-10-13T12:49:13.988418Z",
     "start_time": "2023-10-13T12:49:13.976495Z"
    }
   },
   "id": "35a9d6120a42531e"
  },
  {
   "cell_type": "code",
   "execution_count": 23,
   "outputs": [
    {
     "data": {
      "text/plain": "26745"
     },
     "execution_count": 23,
     "metadata": {},
     "output_type": "execute_result"
    }
   ],
   "source": [
    "# Count number of rows\n",
    "len(df)"
   ],
   "metadata": {
    "collapsed": false,
    "ExecuteTime": {
     "end_time": "2023-10-13T12:49:13.989265Z",
     "start_time": "2023-10-13T12:49:13.977073Z"
    }
   },
   "id": "82943af48b10f112"
  },
  {
   "cell_type": "code",
   "execution_count": 24,
   "outputs": [
    {
     "name": "stdout",
     "output_type": "stream",
     "text": [
      "Number of unique subfields: 692\n",
      "Robotics\n",
      "Digital Circuits\n",
      "Data Storage Systems\n",
      "Hardware Systems\n",
      "Computer and Systems Architecture\n",
      "Digital Communications and Networking\n",
      "Security and Dependability\n",
      "Computer Architecture and Embedded Systems\n",
      "Computational Complexity\n",
      "Massively Parallel and Data-Intensive Systems\n",
      "Databases/Information Systems\n",
      "Theoretical Computer Science\n",
      "Theory/Algorithms\n",
      "Human Computer Interfaces\n",
      "Multiagent Systems\n",
      "Cryptography and Security\n",
      "Information Systems, Process and Knowledge Management\n",
      "Graphics\n",
      "Image and Video Processing\n",
      "Requirements Engineering\n",
      "Computers and Society\n",
      "Programming Languages/Compilers\n",
      "Numerical Analysis/Scientific Computing\n",
      "Computational Geometry\n",
      "Neural and Evolutionary Computing\n",
      "Audio and Speech Processing\n",
      "Artificial Intelligence\n",
      "Operating Systems\n",
      "Machine Learning\n",
      "Computer Science and Game Theory\n",
      "Information Theory\n",
      "Semantic Web\n",
      "Operating, Communication, Database and Distributed Systems\n",
      "OS/Networks\n",
      "Logic in Computer Science\n",
      "Software Engineering and Programming Languages\n",
      "Networking and Internet Architecture\n",
      "Computer Science General Literature\n",
      "Computer Vision and Pattern Recognition\n",
      "Software Engineering\n",
      "Interactive and Intelligent Systems, Image and Language Processing, Computer Graphics and Visualisation\n",
      "Digital Libraries\n",
      "Learner-Interface Interaction\n",
      "Natural Language Processing\n",
      "Chemical Engineering\n",
      "Toxicology\n",
      "Polymer Research\n",
      "Applied Physics\n",
      "Mechanical Engineering\n",
      "French Linguistics\n",
      "Structural Engineering, Building Informatics and Construction Operation\n",
      "Mechanics\n",
      "Social History\n",
      "Educational Research on Socialization, Welfare and Professionalism Research\n",
      "Urban Studies and Planning\n",
      "History of Science, Technology, and Medicine\n",
      "External Galaxies\n",
      "Health Communication\n",
      "Dynamics/Dynamical Systems\n",
      "Indo-European Linguistics and Philology\n",
      "Electrical and Electronics\n",
      "Plant Physiology\n",
      "Work, Economy and Organizations\n",
      "Community Psychology\n",
      "Microbial Physiology\n",
      "Clinical Immunology and Allergology\n",
      "Animal Breeding, Animal Nutrition, Animal Husbandry\n",
      "Principles of Law and Jurisprudence\n",
      "American Popular Culture\n",
      "Theatre and Media Studies\n",
      "Industrial and Organizational Psychology\n",
      "Tribology\n",
      "Industrial Engineering\n",
      "Controls and Control Theory\n",
      "Food Microbiology\n",
      "Physics\n",
      "Disordered Systems and Neural Networks\n",
      "Physics and Society\n",
      "Medicinal-Pharmaceutical Chemistry\n",
      "History of Religion\n",
      "Oceanography\n",
      "Process Engineering, Technical Chemistry\n",
      "Agricultural and Resource Economics\n",
      "Atomic Physics\n",
      "Biomechanics\n",
      "Urban Studies\n",
      "Electrical Energy Generation, Distribution, Application\n",
      "Place and Environment\n",
      "Evolution, Anthropology\n",
      "Physiology\n",
      "Clinical Neurology; Neurosurgery and Neuroradiology\n",
      "Production Automation\n",
      "Sociological Theory\n",
      "Numerical Analysis and Computation\n",
      "Algebraic Topology\n",
      "Feminist, Gender, and Sexuality Studies\n",
      "Developmental Psychology\n",
      "Forest Management\n",
      "Criminology\n",
      "Materials Science and Engineering\n",
      "Atmospheric Sciences\n",
      "Inorganic Chemistry\n",
      "Dynamic Systems\n",
      "Medicinal Chemistry and Pharmaceutics\n",
      "Construction Material Sciences, Chemistry, Building Physics\n",
      "Biological Psychiatry\n",
      "Ancient, Medieval, Renaissance and Baroque Art and Architecture\n",
      "Private Law\n",
      "Space Physics\n",
      "Educational Research\n",
      "Molecular, Genetic, and Biochemical Nutrition\n",
      "Signal Processing\n",
      "Criminal Law\n",
      "Cellular Automata and Lattice Gases\n",
      "Discrete Mathematics and Combinatorics\n",
      "Space Vehicles\n",
      "Civil and Environmental Engineering\n",
      "Atomic, Molecular and Optical Physics\n",
      "Biophysics\n",
      "Biochemistry\n",
      "Experimental and Theoretical Network Neuroscience\n",
      "Latin American Languages and Societies (not elsewhere classified\n",
      "Electronic Semiconductors, Components, Circuits, Systems\n",
      "Physical Sciences & Mathematics\n",
      "Mathematics History and Overview\n",
      "Construction Engineering/management\n",
      "Statistical Theory\n",
      "Poultry (or Avian) Science\n",
      "Molecular Biology\n",
      "Medicine\n",
      "Meteorology\n",
      "Literary Studies\n",
      "Information Science\n",
      "Pharmacology\n",
      "Membrane Science\n",
      "French and Francophone Language and Literature\n",
      "Plant Sciences\n",
      "Food Biotechnology\n",
      "Cognition and Perception\n",
      "Orthopaedics, Traumatology, Reconstructive Surgery\n",
      "Race, Ethnicity and post-Colonial Studies\n",
      "Immunity\n",
      "Engineering Design, Machine Elements, Product Development\n",
      "Process Control and Systems\n",
      "Near Eastern Languages and Societies\n",
      "Computer Sciences\n",
      "Elementary Particles and Fields and String Theory\n",
      "Latin American Literature\n",
      "Public Health, Health Services Research, Social Medicine\n",
      "Statistical Physics, Soft Matter, Biological Physics, Nonlinear Dynamics\n",
      "Clinical Infectiology and Tropical Medicine\n",
      "Plastics Engineering\n",
      "Preparatory and Physical Chemistry of Polymers\n",
      "Nuclear Experiment\n",
      "Fluid Dynamics\n",
      "VLSI and circuits: Embedded/Hardware Systems\n",
      "Modern and Current History\n",
      "Biotechnology\n",
      "Public Affairs, Public Policy and Public Administration\n",
      "Ecology and Evolutionary Biology\n",
      "Structural Engineering\n",
      "Clinical Psychiatry, Psychotherapy, Child and Adolescent Psychiatry\n",
      "The Sun and the Solar System\n",
      "Medicine and Health\n",
      "Acoustics, Dynamics, and Controls\n",
      "Environmental Sciences\n",
      "Behavior and Ethology\n",
      "Literature in English, Anglophone (other than British Isles and North America)\n",
      "Fluid Mechanics, Technical Thermodynamics and Thermal Energy Engineering\n",
      "Molecular, cellular, and tissue engineering\n",
      "Composition\n",
      "Feminist Philosophy\n",
      "International and Community Nutrition\n",
      "Differential Geometry\n",
      "Medieval German Literature\n",
      "Computer-Aided Engineering and Design\n",
      "Botany\n",
      "Structures and Materials\n",
      "Gender\n",
      "Pathology\n",
      "International and Intercultural Communication\n",
      "Performance Studies\n",
      "Comparative and Historical Linguistics\n",
      "Literature in English, British Isles\n",
      "Nutritional Epidemiology\n",
      "Sociology of Culture\n",
      "Instrumentation\n",
      "Bioimaging and biomedical optics\n",
      "Computer-Aided Design of Materials and Simulation of Materials Behaviour from  Atomic to Microscopic Scale\n",
      "Animal Sciences\n",
      "History of Religions of Western Origin\n",
      "Oceania Studies\n",
      "General Education and History of Education\n",
      "Biochemical and Biomolecular Engineering\n",
      "Zoology\n",
      "Cosmology\n",
      "Evolution\n",
      "Biogerontology and Geriatric Medicine\n",
      "Biomechanical Engineering\n",
      "Geography\n",
      "Harmonic Analysis and Representation\n",
      "Gender and Sexuality\n",
      "Hydrogeology, Hydrology, Limnology, Urban Water Management, Water Chemistry, Integrated Water Resources Management\n",
      "Endocrinology\n",
      "Ceramic Materials\n",
      "Wood Science and Pulp/Paper Technology\n",
      "Primary Shaping and Reshaping Technology, Additive Manufacturing\n",
      "Business Administration\n",
      "Metal-Cutting and Abrasive Manufacturing Engineering\n",
      "Immunology of Infectious Disease\n",
      "Speech and Rhetorical Studies\n",
      "Atomic and Molecular Clusters\n",
      "Immunoprophylaxis and Therapy\n",
      "Geographic Information Sciences\n",
      "Operational Research\n",
      "Molecular Chemistry\n",
      "Islamic World/Near East\n",
      "Propulsion and Power\n",
      "Biological and Physical\n",
      "Ethics and Political Philosophy\n",
      "History of Art, Architecture and Archaeology\n",
      "European\n",
      "Geotechnics, Hydraulic Engineering\n",
      "Computational Physics\n",
      "Ecology and Biodiversity of Plants and Ecosystems\n",
      "Public Health\n",
      "Climate\n",
      "Joining and Separation Technology\n",
      "Plant Biology\n",
      "Aquaculture and Fisheries\n",
      "Biology and Biomimetic Materials\n",
      "Psychology\n",
      "Cosmology, Relativity, and Gravity\n",
      "Plant Genetics\n",
      "Power and Energy\n",
      "International Economics\n",
      "Public Administration\n",
      "Developmental Neuroscience\n",
      "Nanotechnology fabrication\n",
      "Nature and Society Relations\n",
      "Personality and Social Contexts\n",
      "Engineering Science and Materials (not elsewhere classified)\n",
      "Health Psychology\n",
      "Mineralogy, Petrology and Geochemistry\n",
      "Bioinformatics\n",
      "Ancient History (Greek and Roman through Late Antiquity)\n",
      "Complex Variables\n",
      "Legal\n",
      "Biomedical Engineering and Bioengineering\n",
      "Ocean Engineering\n",
      "Soft Condensed Matter\n",
      "Sensory and Behavioural Biology\n",
      "Technical Thermodynamics\n",
      "Experimental Models for the Understanding of Nervous System Diseases\n",
      "Theoretical Condensed Matter Physics\n",
      "Computational Neuroscience\n",
      "Physical Processes\n",
      "Organismic Interactions, Chemical Ecology and Microbiomes of Plant Systems\n",
      "Psycholinguistics/Neurolinguistics\n",
      "Language, Societies, and Cultures\n",
      "Biomedical\n",
      "Statistical Methodology\n",
      "French and Francophone Literature\n",
      "Metabolism, Biochemistry and Genetics of Microorganisms\n",
      "Fresh Water Studies\n",
      "Geochemistry\n",
      "Roman Catholic Theology\n",
      "Molecular genetics\n",
      "Biogeochemistry\n",
      "Food Chemistry\n",
      "Discourse/Text Linguistics\n",
      "Agriculture, Forestry and Veterinary Medicine\n",
      "American Studies\n",
      "Classics\n",
      "Applied Statistics\n",
      "Nanoscience and Nanotechnology\n",
      "Ethnic Studies\n",
      "Molecular and Cellular Neuroscience\n",
      "Computational Engineering\n",
      "Chemical and Thermal Process Engineering\n",
      "American Art and Architecture\n",
      "Science and Technology Studies\n",
      "Methodologies : Quantitative, Qualitative, Comparative, and Historical\n",
      "Number Theory\n",
      "Polymer Science\n",
      "Fluid Mechanics\n",
      "Engineering Physics\n",
      "Asian Studies\n",
      "Earth Sciences\n",
      "Nonlinear Sciences\n",
      "Nephrology\n",
      "Experimental and Theoretical Physics of Polymers\n",
      "Production Technology\n",
      "Comparative Literature\n",
      "Structural Materials\n",
      "Film Studies\n",
      "Glass, Ceramics and Derived Composites\n",
      "Islamic Studies, Arabian Studies, Semitic Studies\n",
      "Semiconductor and Optical Materials\n",
      "American Politics\n",
      "Parasitology\n",
      "Nuclear Theory\n",
      "Geometry and Topology\n",
      "Econometrics\n",
      "Linguistic Anthrolpology\n",
      "Electrical Engineering and Information Technology\n",
      "Systems Engineering and Multidisciplinary Design Optimization\n",
      "Automation, Control Systems, Robotics, Mechatronics, Cyber Physical Systems\n",
      "Social Psychology\n",
      "Biostatistics\n",
      "Anatomy\n",
      "Communication Sciences\n",
      "Theoretical Philosophy\n",
      "Nutrition\n",
      "Plant Pathology\n",
      "African Languages and Societies\n",
      "Physical Chemistry of Molecules, Liquids and Interfaces, Biophysical Chemistry\n",
      "Aerospace Engineering\n",
      "Statistics and Probability\n",
      "Gynaecology and Obstetrics\n",
      "Nuclear and Elementary Particle Physics, Quantum Mechanics, Relativity, Fields\n",
      "Labor Economics\n",
      "Algebraic Geometry\n",
      "Biomedical Systems Technology\n",
      "Esthetics\n",
      "East Asian Languages and Societies\n",
      "Theoretical Chemistry: Molecules, Materials, Surfaces\n",
      "Analytical Chemistry\n",
      "Comparative Politics\n",
      "Astrophysics and Astronomy\n",
      "Slavic Languages and Societies\n",
      "Behavioral Economics\n",
      "Microbiology\n",
      "Medical Microbiology and Mycology, Hygiene, Molecular Infection Biology\n",
      "Cultural History\n",
      "Evolution and Systematics of Plants and Fungi\n",
      "Asian\n",
      "Political Science\n",
      "Hematology, Oncology\n",
      "General and Domain-Specific Teaching and Learning\n",
      "Civil Engineering\n",
      "General Physics\n",
      "Human Factors, Ergonomics, Human-Machine Systems\n",
      "General, Cognitive and Mathematical Psychology\n",
      "Latin American\n",
      "Materials in Sintering Processes and Generative Manufacturing Processes\n",
      "Byzantine and Modern Greek\n",
      "Other Statistics\n",
      "Social Psychology and Interaction\n",
      "Systems and Integrative Physiology\n",
      "Systems and Communications\n",
      "Metallurgical, Thermal and Thermomechanical Treatment of Materials\n",
      "Geophysics\n",
      "Literature in English, North America (other than ethnic and minority)\n",
      "Pediatric and Adolescent Medicine\n",
      "Physical Chemistry of Solids and Surfaces, Material Characterisation\n",
      "Pathogenic Microbiology\n",
      "Medical Physics, Biomedical Technology\n",
      "Cognitive Neuroscience\n",
      "Stars, Interstellar Medium and the Galaxy\n",
      "Modern Art and Architecture\n",
      "Paleontology\n",
      "Biological Psychology\n",
      "Motor Control\n",
      "Urbanism, Spatial Planning, Transportation and Infrastructure Planning, Landscape Planning\n",
      "Microbial Ecology and Applied Microbiology\n",
      "Exercise Physiology\n",
      "Dermatology\n",
      "Theatre and Performance Studies\n",
      "Cosmochemistry\n",
      "Cognitive Psychology\n",
      "Cardiology, Angiology\n",
      "Regional Sociology\n",
      "Genomics\n",
      "Medical Informatics and Medical Bioinformatics\n",
      "Paleobiology\n",
      "Applied Mechanics, Statics and Dynamics\n",
      "Mathematical Software\n",
      "Public Policy\n",
      "Cardiac and Vascular Sugery\n",
      "Plant Cell and Developmental Biology\n",
      "Geophysics and Seismology\n",
      "Radiology, Nuclear Medicine, Radiotherapy, Radiobiology\n",
      "Interpersonal/Small Group Communication\n",
      "Production Systems, Operations Management, Quality Management and Factory  Planning\n",
      "Anaesthesiology\n",
      "Social and Behavioral Sciences\n",
      "Feminist, Gender and Sexuality Studies\n",
      "Traffic and Transport Systems, Intelligent and Automated Traffic\n",
      "Egyptology and Ancient Near Eastern Studies\n",
      "Psychology of Movement\n",
      "Bioelectrical and neuroengineering\n",
      "Plant Breeding and Genetics\n",
      "Diplomatic History\n",
      "Bacteriology\n",
      "Macroeconomics\n",
      "Practical Philosophy\n",
      "Quantum Gases\n",
      "Mass Communication\n",
      "German Literature\n",
      "Plant Cultivation, Plant Nutrition, Agricultural Technology\n",
      "Ecology of Land Use\n",
      "Ancient Philosophy\n",
      "Transport Phenomena\n",
      "Language Description/Documentation\n",
      "Rural sociology\n",
      "Ethnomusicology\n",
      "Quantitative Methods)\n",
      "Religious Studies and Jewish Studies\n",
      "Multi-Vehicle Systems and Air Traffic Control\n",
      "Gastroenterology\n",
      "Environmental Chemistry\n",
      "Agronomy and Crop Sciences\n",
      "Geodesy, Photogrammetry, Remote Sensing, Geoinformatics, Cartography\n",
      "Pneumology, Thoracic Surgery\n",
      "Contemporary Art\n",
      "Quantitative Finance\n",
      "Mechanics and Constructive Mechanical Engineering\n",
      "Commutative Algebra\n",
      "Entomology Food Science\n",
      "Popular Physics\n",
      "Cell Biology\n",
      "Developmental Neurobiology\n",
      "Materials Engineering\n",
      "Epidemiology and Medical Biometry/Statistics\n",
      "German Linguistics\n",
      "Comparative Nutrition\n",
      "Spanish and Portuguese Language and Literature\n",
      "Mesoscale and Nanoscale Physics\n",
      "Inequality and Stratification\n",
      "Dairy Science\n",
      "Logic and foundations of mathematics\n",
      "Theory and Criticism\n",
      "Physics Education\n",
      "Classical Archaeology and Art History\n",
      "Arts and Humanities\n",
      "Physical and Environmental Geography\n",
      "Jurisprudence\n",
      "Set Theory\n",
      "Measurement Systems\n",
      "Environmental Microbiology and Microbial Ecology\n",
      "Genetics and Genomics\n",
      "Rhetoric and Composition\n",
      "Complex Fluids\n",
      "Social Influence and Political Communication\n",
      "Comparative Methodologies and Theories\n",
      "First/Second Language Acquisition\n",
      "Chemistry\n",
      "Heat Transfer, Combustion\n",
      "Polymer and Organic Materials\n",
      "Applied Mechanics\n",
      "Biomedical devices and instrumentation\n",
      "Energy Process Engineering\n",
      "Education Systems and Educational Institutions\n",
      "Electromagnetics and photonics\n",
      "Microsystems\n",
      "Navigation, Guidance, Control and Dynamics\n",
      "Petroleum Engineering\n",
      "Organic Chemistry\n",
      "Critical and Cultural Studies\n",
      "Theoretical Chemistry\n",
      "Geotechnical Engineering\n",
      "Broadcast/Video Studies\n",
      "Chemical Solid State and Surface Research\n",
      "Biology/Integrated Biology/ Integrated Biomedical Sciences\n",
      "Social Sciences\n",
      "Mechanics of Materials\n",
      "Philosophy\n",
      "Structural Biology\n",
      "Biochemistry, Biophysics, and Structural Biology\n",
      "Developmental Biology\n",
      "Astrodynamics\n",
      "Other Quantitative Biology\n",
      "Thermodynamics and Kinetics as well as Properties of Phases and Microstructure of Materials\n",
      "Philosophy of Science\n",
      "Condensed Matter Physics\n",
      "Religion\n",
      "Ordinary Differential Equations and Applied Dynamics\n",
      "Women’s History\n",
      "American Material Culture\n",
      "Engineering Mechanics\n",
      "Logic and Foundations\n",
      "Biological Engineering\n",
      "Asian Art and Architecture\n",
      "Differential, Clinical and Medical Psychology, Methodology\n",
      "Political History\n",
      "Journalism Studies\n",
      "Sociology\n",
      "German Language and Literature\n",
      "Energy Systems\n",
      "Planetary Sciences\n",
      "Experimental Condensed Matter Physics\n",
      "Otolaryngology\n",
      "Nutritional Sciences\n",
      "Communications, High-Frequency and Network Technology, Theoretical Electrical Engineering\n",
      "Terrestrial and Aquatic Ecology\n",
      "Glaciology\n",
      "Epidemiology\n",
      "Biological Process Engineering\n",
      "Forestry and Forest Sciences\n",
      "Religious Thought/Theology/Philosophy of Religion\n",
      "Political Theory\n",
      "Synthesis and Properties of Functional Materials\n",
      "Computational Linguistics\n",
      "Race and Ethnicity\n",
      "International Relations\n",
      "Music Theory\n",
      "Adaptation and Self-Organizing Systems\n",
      "Reproductive Medicine, Urology\n",
      "Animal Physiology and Biochemistry\n",
      "Agricultural Economics, Agricultural Policy, Agricultural Sociology\n",
      "African Studies\n",
      "History\n",
      "Intellectual History\n",
      "Hydraulic and Turbo Engines and Piston Engines\n",
      "Pattern Formation and Solitons\n",
      "Dramatic Literature, Criticism and Theory\n",
      "Social and Cultural Anthropology and Ethnology\n",
      "Symplectic Geometry\n",
      "Models and Methods\n",
      "Water Research\n",
      "Mechanical Properties of Metallic Materials and their Microstructural Origins\n",
      "Plant Biochemistry and Biophysics\n",
      "Musicology\n",
      "Electrical and Computer Engineering\n",
      "Optics\n",
      "Materials Chemistry\n",
      "Politics and Social Change\n",
      "Veterinary Medical Sciene\n",
      "African\n",
      "Engineering\n",
      "Dentistry, Oral Surgery\n",
      "Probability\n",
      "Phonetics/Phonology\n",
      "Biological and Chemical Physics\n",
      "History and Philosophy of Physics\n",
      "Mineral Physics\n",
      "Empirical Social Research\n",
      "Tissues and Organs\n",
      "Biological Chemistry and Food Chemistry\n",
      "Rheumatology\n",
      "Algebra\n",
      "General Topology\n",
      "Philosophy of Mind\n",
      "Vulcanology\n",
      "Developmental and Educational Psychology\n",
      "Systems and integrative engineering\n",
      "Exactly Solvable and Integrable Systems\n",
      "Nuclear Engineering\n",
      "Ecology and Biodiversity of Animals and Ecosystems, Organismic Interactions\n",
      "Mechanical Process Engineering\n",
      "Biomaterials\n",
      "Computer Engineering\n",
      "Population Biology\n",
      "English Language and Literature\n",
      "Industrial Organization\n",
      "Oceanography and Atmospheric Sciences and Meteorology\n",
      "Partial Differential Equations\n",
      "Demography, Population, and Ecology\n",
      "Optics, Quantum Optics and Physics of Atoms, Molecules and Plasmas\n",
      "Early Modern History\n",
      "Particles, Nuclei and Fields\n",
      "Data Analysis, Statistics and Probability\n",
      "Solid State and Surface Chemistry, Material Synthesis\n",
      "Geology\n",
      "Applied Linguistics\n",
      "Neuroscience and Neurobiology\n",
      "United States\n",
      "Ergonomics\n",
      "Medical Physics\n",
      "Life Sciences\n",
      "Genetics\n",
      "Systems Neuroscience\n",
      "Classical Literature and Philology\n",
      "Pharmacy\n",
      "Applied Mathematics\n",
      "History of Religions of Eastern Origins\n",
      "South and Southeast Asian Languages and Societies\n",
      "Human and Clinical Nutrition\n",
      "Systems Engineering\n",
      "Virology\n",
      "Inorganic Molecular Chemistry - Synthesis and Characterisation\n",
      "Protestant Theology\n",
      "Cell and Developmental Biology\n",
      "Medieval History\n",
      "Biological and Biomimetic Chemistry\n",
      "Gender, Race, Sexuality, and Ethnicity in Communication\n",
      "Economic Theory\n",
      "Cancer Biology\n",
      "Human Genetics\n",
      "Communication Neuroscience\n",
      "Technical Chemistry\n",
      "Spanish Linguistics\n",
      "Systems Biology\n",
      "Economic Policy, Applied Economics\n",
      "Art History\n",
      "Thermodynamics\n",
      "Semantics/Pragmatics\n",
      "Manufacturing\n",
      "Continental Philosophy\n",
      "Non-linear Dynamics\n",
      "Linguistics\n",
      "Immunopathology\n",
      "Syntax\n",
      "Theoretical Chemistry: Electron Structure, Dynamics, Simulation\n",
      "Individual Linguistics\n",
      "Theatre History\n",
      "Systematics and Morphology (Zoology)\n",
      "Aerodynamics and Fluid Mechanics\n",
      "Quantum Algebra\n",
      "Mathematics\n",
      "Morphology\n",
      "Computational Biology\n",
      "Biomolecules\n",
      "Polymer Chemistry\n",
      "Operations Research, Systems Engineering and Industrial Engineering\n",
      "Epistemology\n",
      "Social and Cultural\n",
      "Horticulture\n",
      "Organizational Communication\n",
      "Family, Life Course, and Society\n",
      "Organic Molecular Chemistry - Synthesis and Characterisation\n",
      "Coating and Surface Technology\n",
      "Public Relations/Advertising\n",
      "Nuclear\n",
      "Quantum Physics\n",
      "Biomechanics and biotransport\n",
      "Literature in English, North America, ethnic and minority\n",
      "Environmental Health\n",
      "Military History\n",
      "Cell Behavior\n",
      "Nursing Pharmacology, Toxicology and Environmental Health\n",
      "Comparative and Evolutionary Physiology\n",
      "Soil Science\n",
      "Metaphysics\n",
      "General and Visceral Surgery\n",
      "Metric Geometry\n",
      "Architecture, Building and Construction History, Construction Research, Sustainable Building Technology\n",
      "Classical Physics\n",
      "History of Philosophy\n",
      "Public Economics\n",
      "Archaeological\n",
      "Ophthalmology\n",
      "Plasma and Beam Physics\n",
      "Biblical Studies\n",
      "Ethics\n",
      "Behavioral Neurobiology\n",
      "Forest Biology\n",
      "Human Geography\n",
      "Lightweight Construction, Textile Technology\n",
      "Subcellular Processes\n",
      "Economics\n",
      "Physical Chemistry\n",
      "Cellular and Molecular Physiology\n",
      "Geophysics and Geodesy\n",
      "Immunology and Infectious Disease\n",
      "Philosophy of Language\n",
      "Playwriting\n",
      "Category Theory\n",
      "Catalysis and Reaction Engineering\n",
      "Accelerator Physics\n",
      "Public Law\n",
      "Electro-Mechanical Systems\n",
      "Aeronautical Vehicles\n",
      "Metallurgy\n",
      "European Literature\n",
      "Theory, Knowledge and Science\n",
      "Communication Technology and New Media\n",
      "Portuguese Literature\n",
      "Environmental Engineering\n",
      "Food Processing\n",
      "Tectonics and Structure\n",
      "Growth and Development\n",
      "Social Control, Law, Crime, and Deviance\n",
      "Anthropological Linguistics/Sociolinguistics\n",
      "Biometry\n",
      "Polymer Materials\n",
      "Spanish Literature\n",
      "Modern German Literature\n",
      "Public Affairs\n",
      "Chaotic Dynamics\n",
      "European Languages and Societies (not elsewhere classified)\n",
      "Typological Linguistics and Linguistic Diversity\n",
      "Electronic Devices and Semiconductor Manufacturing\n",
      "Analysis\n",
      "Economic History\n",
      "American Film Studies\n",
      "Control Theory\n",
      "American Literature\n",
      "Molecular and Cellular Neurology and Neuropathology\n",
      "Ego-centric networks\n",
      "Sociocentric networks\n"
     ]
    }
   ],
   "source": [
    "# Print unique from the arrays of  subfields\n",
    "field_count = {}\n",
    "\n",
    "for subfields in df['subfields']:\n",
    "    for subfield in subfields:\n",
    "        if subfield in field_count:\n",
    "            field_count[subfield] += 1\n",
    "        else:\n",
    "            field_count[subfield] = 1\n",
    "\n",
    "print(f\"Number of unique subfields: {len(field_count.keys())}\")\n",
    "for subfield in field_count.keys():\n",
    "    print(subfield)"
   ],
   "metadata": {
    "collapsed": false,
    "ExecuteTime": {
     "end_time": "2023-10-13T12:49:15.959672Z",
     "start_time": "2023-10-13T12:49:14.033810Z"
    }
   },
   "id": "8f3e2f899ec0b9db"
  },
  {
   "cell_type": "code",
   "execution_count": 25,
   "outputs": [
    {
     "name": "stdout",
     "output_type": "stream",
     "text": [
      "Max: Multiagent Systems 14469\n",
      "Min: Ego-centric networks 5\n"
     ]
    }
   ],
   "source": [
    "# Print max and min value with key from dictionary\n",
    "print(f\"Max: {max(field_count, key=field_count.get)} {max(field_count.values())}\")\n",
    "print(f\"Min: {min(field_count, key=field_count.get)} {min(field_count.values())}\")"
   ],
   "metadata": {
    "collapsed": false,
    "ExecuteTime": {
     "end_time": "2023-10-13T12:49:15.960250Z",
     "start_time": "2023-10-13T12:49:15.956719Z"
    }
   },
   "id": "4466ad2f88108c38"
  },
  {
   "cell_type": "code",
   "execution_count": 42,
   "outputs": [
    {
     "name": "stdout",
     "output_type": "stream",
     "text": [
      "Average number of subfields per paper: 119.41028229575622\n"
     ]
    }
   ],
   "source": [
    "# Calculate the average number of subfields per paper\n",
    "\n",
    "subfields_count = {}\n",
    "subfields_per_paper = []\n",
    "for subfields in df['subfields']:\n",
    "    count = len(subfields)\n",
    "    subfields_per_paper.append(count)\n",
    "\n",
    "    for subfield in subfields:\n",
    "        if subfield in subfields_count:\n",
    "            subfields_count[subfield] += 1\n",
    "        else:\n",
    "            subfields_count[subfield] = 1\n",
    "\n",
    "print(f\"Average number of subfields per paper: {sum(subfields_per_paper) / len(subfields_per_paper)}\")"
   ],
   "metadata": {
    "collapsed": false,
    "ExecuteTime": {
     "end_time": "2023-10-13T12:53:20.061573Z",
     "start_time": "2023-10-13T12:53:18.011340Z"
    }
   },
   "id": "3f42fb43360d6dcf"
  },
  {
   "cell_type": "code",
   "execution_count": 43,
   "outputs": [],
   "source": [
    "# Write subfields count to csv file\n",
    "import csv\n",
    "\n",
    "with open(os.path.join(reports_dir, 'subfields_count.csv'), 'w') as csv_file:\n",
    "    writer = csv.writer(csv_file)\n",
    "    writer.writerow(['subfield', 'count'])\n",
    "    for key, value in subfields_count.items():\n",
    "        writer.writerow([key, value])"
   ],
   "metadata": {
    "collapsed": false,
    "ExecuteTime": {
     "end_time": "2023-10-13T12:53:21.338969Z",
     "start_time": "2023-10-13T12:53:21.330564Z"
    }
   },
   "id": "ebdd213bb6c0e47c"
  },
  {
   "cell_type": "code",
   "execution_count": 28,
   "outputs": [
    {
     "name": "stdout",
     "output_type": "stream",
     "text": [
      "Standard deviation of the number of subfields per paper: 239.68537448634046\n"
     ]
    }
   ],
   "source": [
    "# Calculate the standard deviation of the number of subfields per paper\n",
    "print(f\"Standard deviation of the number of subfields per paper: {np.std(subfields_per_paper)}\")"
   ],
   "metadata": {
    "collapsed": false,
    "ExecuteTime": {
     "end_time": "2023-10-13T12:49:16.036819Z",
     "start_time": "2023-10-13T12:49:15.972805Z"
    }
   },
   "id": "9c9f54b7367a5dfb"
  },
  {
   "cell_type": "code",
   "execution_count": 29,
   "outputs": [
    {
     "name": "stdout",
     "output_type": "stream",
     "text": [
      "Variance of the number of subfields per paper: 57449.078742657264\n"
     ]
    }
   ],
   "source": [
    "# Calculate the variance of the number of subfields per paper\n",
    "print(f\"Variance of the number of subfields per paper: {np.var(subfields_per_paper)}\")"
   ],
   "metadata": {
    "collapsed": false,
    "ExecuteTime": {
     "end_time": "2023-10-13T12:49:16.037353Z",
     "start_time": "2023-10-13T12:49:16.008178Z"
    }
   },
   "id": "413ccc7c514fef01"
  },
  {
   "cell_type": "code",
   "execution_count": 30,
   "outputs": [
    {
     "name": "stdout",
     "output_type": "stream",
     "text": [
      "Average number of papers per subfield: 4615.06936416185\n"
     ]
    }
   ],
   "source": [
    "# Calculate the average number of papers per subfield\n",
    "papers_per_subfield = []\n",
    "for subfield in field_count.keys():\n",
    "    papers_per_subfield.append(field_count[subfield])\n",
    "\n",
    "print(f\"Average number of papers per subfield: {sum(papers_per_subfield) / len(papers_per_subfield)}\")"
   ],
   "metadata": {
    "collapsed": false,
    "ExecuteTime": {
     "end_time": "2023-10-13T12:49:16.085693Z",
     "start_time": "2023-10-13T12:49:16.008448Z"
    }
   },
   "id": "cac79e480acea96d"
  },
  {
   "cell_type": "code",
   "execution_count": 31,
   "outputs": [
    {
     "data": {
      "text/plain": "research field\nComputer Sciences                              9734\nScience                                        3976\nEcology and Evolutionary Biology               1376\nBioinformatics                                 1188\nArtificial Intelligence                         720\n                                               ... \nParasitology                                      1\nClinical Infectiology and Tropical Medicine       1\nStructural Engineering                            1\nClassics                                          1\nAlgebra                                           1\nName: count, Length: 307, dtype: int64"
     },
     "execution_count": 31,
     "metadata": {},
     "output_type": "execute_result"
    }
   ],
   "source": [
    "# Count the 'research field' per class\n",
    "df['research field'].value_counts()"
   ],
   "metadata": {
    "collapsed": false,
    "ExecuteTime": {
     "end_time": "2023-10-13T12:49:16.086992Z",
     "start_time": "2023-10-13T12:49:16.070003Z"
    }
   },
   "id": "f2ed2c53479cd3b5"
  },
  {
   "cell_type": "code",
   "execution_count": 45,
   "outputs": [],
   "source": [
    "# Write 'research field' count to csv file\n",
    "import csv\n",
    "\n",
    "with open(os.path.join(reports_dir, 'research_field_count.csv'), 'w') as csv_file:\n",
    "    writer = csv.writer(csv_file)\n",
    "    writer.writerow(['research field', 'count'])\n",
    "    for key, value in df['research field'].value_counts().items():\n",
    "        writer.writerow([key, value])"
   ],
   "metadata": {
    "collapsed": false,
    "ExecuteTime": {
     "end_time": "2023-10-13T13:14:02.896263Z",
     "start_time": "2023-10-13T13:14:02.893218Z"
    }
   },
   "id": "3d9b0f10a984e1e"
  },
  {
   "cell_type": "code",
   "execution_count": 32,
   "outputs": [
    {
     "name": "stdout",
     "output_type": "stream",
     "text": [
      "Average number of 'research field' per class: 18.94013834361563\n"
     ]
    }
   ],
   "source": [
    "# Calculate the average number of 'research field' per class\n",
    "research_field_per_class = []\n",
    "for research_field in df['research field']:\n",
    "    research_field_per_class.append(len(research_field))\n",
    "\n",
    "print(f\"Average number of 'research field' per class: {sum(research_field_per_class) / len(research_field_per_class)}\")"
   ],
   "metadata": {
    "collapsed": false,
    "ExecuteTime": {
     "end_time": "2023-10-13T12:49:16.087129Z",
     "start_time": "2023-10-13T12:49:16.070277Z"
    }
   },
   "id": "c0eca698675ac40d"
  },
  {
   "cell_type": "code",
   "execution_count": 33,
   "outputs": [
    {
     "name": "stdout",
     "output_type": "stream",
     "text": [
      "Title: research data\n",
      "Abstract: The modern automobile is a complex electronic system with a number of features providing functionalities for driver and passenger convenience, control of the vehicle, and safety of the occupants. As new features are developed and introduced into the automobile, they interact with already existing features, sometimes resulting in undesirable behaviours. These undesirable interactions are often detected very late in the development cycle, or sometimes even in the field. This introduces uncertainty in the system development process as changes to address these interactions often result in a cascading series of changes whose scope is difficult to predict. This paper presents a method and algorithms for identifying and resolving feature interactions early in the development life-cycle by addressing the problem at the level of requirements specifications. We have applied this method successfully in the automotive domain and present a case study of detecting and resolving feature interactions.\n",
      "Research field: Software Engineering\n",
      "Subfields (1): ['Requirements Engineering']\n",
      "--------------------------------------------------\n",
      "Title: Large Language Models\n",
      "Abstract: In-context learning is a recent paradigm in natural language understanding, where a large pre-trained language model (LM) observes a test instance and a few training examples as its input, and directly decodes the output without any update to its parameters. However, performance has been shown to strongly depend on the selected training examples (termed prompts). In this work, we propose an efficient method for retrieving prompts for in-context learning using annotated data and an LM. Given an input-output pair, we estimate the probability of the output given the input and a candidate training example as the prompt, and label training examples as positive or negative based on this probability. We then train an efficient dense retriever from this data, which is used to retrieve training examples as prompts at test time. We evaluate our approach on three sequence-to-sequence tasks where language utterances are mapped to meaning representations, and find that it substantially outperforms prior work and multiple baselines across the board.\n",
      "Research field: Computer Engineering\n",
      "Subfields (6): ['Computer and Systems Architecture' 'Data Storage Systems'\n",
      " 'Digital Circuits' 'Digital Communications and Networking'\n",
      " 'Hardware Systems' 'Robotics']\n",
      "--------------------------------------------------\n",
      "Title: Population Biology\n",
      "Abstract: The ability to succeed in diverse conditions is a key factor allowing introduced species to successfully invade and spread across new areas. Two non-exclusive factors have been suggested to promote this ability: adaptive phenotypic plasticity of individuals, and the evolution of locally adapted populations in the new range. We investigated these individual and population-level factors in Polygonum cespitosum, an Asian annual that has recently become invasive in northeastern North America. We characterized individual fitness, life-history, and functional plasticity in response to two contrasting glasshouse habitat treatments (full sun/dry soil and understory shade/moist soil) in 165 genotypes sampled from nine geographically separate populations representing the range of light and soil moisture conditions the species inhabits in this region. Polygonum cespitosum genotypes from these introduced-range populations expressed broadly similar plasticity patterns. In response to full sun, dry conditions, genotypes from all populations increased photosynthetic rate, water use efficiency, and allocation to root tissues, dramatically increasing reproductive fitness compared to phenotypes expressed in simulated understory shade. Although there were subtle among-population differences in mean trait values as well as in the slope of plastic responses, these population differences did not reflect local adaptation to environmental conditions measured at the population sites of origin. Instead, certain populations expressed higher fitness in both glasshouse habitat treatments. We also compared the introduced-range populations to a single population from the native Asian range, and found that the native population had delayed phenology, limited functional plasticity, and lower fitness in both experimental environments compared with the introduced-range populations. Our results indicate that the future spread of P. cespitosum in its introduced range will likely be fueled by populations consisting of individuals able to express high fitness across diverse light and moisture conditions, rather than by the evolution of locally specialized populations.\n",
      "Research field: Ecology and Evolutionary Biology\n",
      "Subfields (6): ['Behavior and Ethology' 'Biogeochemistry' 'Botany' 'Evolution'\n",
      " 'Population Biology' 'Terrestrial and Aquatic Ecology']\n",
      "--------------------------------------------------\n"
     ]
    }
   ],
   "source": [
    "# Get df rows that have an abstract\n",
    "df_with_text = df[df['abstract'] != '']\n",
    "\n",
    "# Get df rows that have less 10 subfields and more than 0 research field\n",
    "df_sub = df_with_text[(df_with_text['subfields'].apply(len) < 20) & (df_with_text['subfields'].apply(len) > 0)]\n",
    "\n",
    "# Print random sample of 3 rows\n",
    "for _, row in df_sub.sample(3, random_state=21223).iterrows():\n",
    "    subfields = row['subfields']\n",
    "    subfields.sort()\n",
    "\n",
    "    print(f\"Title: {row['title']}\")\n",
    "    print(f\"Abstract: {row['abstract']}\")\n",
    "    print(f\"Research field: {row['research field']}\")\n",
    "    print(f\"Subfields ({len(subfields)}): {subfields}\")\n",
    "    print(\"-\" * 50)"
   ],
   "metadata": {
    "collapsed": false,
    "ExecuteTime": {
     "end_time": "2023-10-13T12:49:16.087386Z",
     "start_time": "2023-10-13T12:49:16.070442Z"
    }
   },
   "id": "f3cd0268ef5270af"
  },
  {
   "cell_type": "code",
   "execution_count": 34,
   "outputs": [
    {
     "data": {
      "text/plain": "12628"
     },
     "execution_count": 34,
     "metadata": {},
     "output_type": "execute_result"
    }
   ],
   "source": [
    "# Count the number of papers that have less 50 subfields\n",
    "len(df[df['subfields'].apply(len) < 20])"
   ],
   "metadata": {
    "collapsed": false,
    "ExecuteTime": {
     "end_time": "2023-10-13T12:49:16.087487Z",
     "start_time": "2023-10-13T12:49:16.070718Z"
    }
   },
   "id": "bad50106982a5b6c"
  },
  {
   "cell_type": "code",
   "execution_count": 35,
   "outputs": [
    {
     "data": {
      "text/plain": "4251"
     },
     "execution_count": 35,
     "metadata": {},
     "output_type": "execute_result"
    }
   ],
   "source": [
    "len(df[df['subfields'].apply(len) > 80])"
   ],
   "metadata": {
    "collapsed": false,
    "ExecuteTime": {
     "end_time": "2023-10-13T12:49:16.087576Z",
     "start_time": "2023-10-13T12:49:16.070903Z"
    }
   },
   "id": "68941e44d1bf4723"
  },
  {
   "cell_type": "code",
   "execution_count": 36,
   "outputs": [
    {
     "data": {
      "text/plain": "8077"
     },
     "execution_count": 36,
     "metadata": {},
     "output_type": "execute_result"
    }
   ],
   "source": [
    "# Count the number of papers that have an abstract\n",
    "len(df[df['abstract'] != ''])"
   ],
   "metadata": {
    "collapsed": false,
    "ExecuteTime": {
     "end_time": "2023-10-13T12:49:16.087693Z",
     "start_time": "2023-10-13T12:49:16.071023Z"
    }
   },
   "id": "13fd618a706e1f70"
  },
  {
   "cell_type": "code",
   "execution_count": 37,
   "outputs": [
    {
     "data": {
      "text/plain": "1741"
     },
     "execution_count": 37,
     "metadata": {},
     "output_type": "execute_result"
    }
   ],
   "source": [
    "len(df_sub)"
   ],
   "metadata": {
    "collapsed": false,
    "ExecuteTime": {
     "end_time": "2023-10-13T12:49:16.102033Z",
     "start_time": "2023-10-13T12:49:16.071224Z"
    }
   },
   "id": "e2374d31eb4fc958"
  },
  {
   "cell_type": "code",
   "execution_count": 38,
   "outputs": [
    {
     "data": {
      "text/plain": "(array([2.2494e+04, 2.2000e+02, 4.2000e+01, 1.0000e+00, 0.0000e+00,\n        0.0000e+00, 1.0000e+00, 0.0000e+00, 0.0000e+00, 3.9870e+03]),\n array([  0.,  69., 138., 207., 276., 345., 414., 483., 552., 621., 690.]),\n <BarContainer object of 10 artists>)"
     },
     "execution_count": 38,
     "metadata": {},
     "output_type": "execute_result"
    },
    {
     "data": {
      "text/plain": "<Figure size 640x480 with 1 Axes>",
      "image/png": "[encoded data removed]"
     },
     "metadata": {},
     "output_type": "display_data"
    }
   ],
   "source": [
    "import matplotlib.pyplot as plt\n",
    "\n",
    "labels_per_paper = []\n",
    "\n",
    "for _, row in df.iterrows():\n",
    "    labels_per_paper.append(len(row['subfields']))\n",
    "\n",
    "plt.hist(labels_per_paper, bins=10)"
   ],
   "metadata": {
    "collapsed": false,
    "ExecuteTime": {
     "end_time": "2023-10-13T12:49:17.283950Z",
     "start_time": "2023-10-13T12:49:16.101172Z"
    }
   },
   "id": "66cda596ad5c5f37"
  },
  {
   "cell_type": "code",
   "execution_count": 39,
   "outputs": [
    {
     "data": {
      "text/plain": "(array([722., 102.,   4., 617.,   6., 203.,  11.,   8.,  54.,  14.]),\n array([ 1. ,  2.6,  4.2,  5.8,  7.4,  9. , 10.6, 12.2, 13.8, 15.4, 17. ]),\n <BarContainer object of 10 artists>)"
     },
     "execution_count": 39,
     "metadata": {},
     "output_type": "execute_result"
    },
    {
     "data": {
      "text/plain": "<Figure size 640x480 with 1 Axes>",
      "image/png": "[encoded data removed]"
     },
     "metadata": {},
     "output_type": "display_data"
    }
   ],
   "source": [
    "labels_per_paper = []\n",
    "\n",
    "for _, row in df_sub.iterrows():\n",
    "    labels_per_paper.append(len(row['subfields']))\n",
    "\n",
    "plt.hist(labels_per_paper, bins=10)"
   ],
   "metadata": {
    "collapsed": false,
    "ExecuteTime": {
     "end_time": "2023-10-13T12:49:17.335909Z",
     "start_time": "2023-10-13T12:49:17.284211Z"
    }
   },
   "id": "1b82ce7b9c80e94b"
  },
  {
   "cell_type": "code",
   "execution_count": 40,
   "outputs": [],
   "source": [
    "# Get df rows where subfields contain 'Botany'\n",
    "df_botany = df_sub[\n",
    "    df_sub['subfields'].apply(lambda x: 'Botany' in x) &\n",
    "    (df_sub['subfields'].apply(len) < 100)\n",
    "    ]"
   ],
   "metadata": {
    "collapsed": false,
    "ExecuteTime": {
     "end_time": "2023-10-13T12:49:17.336274Z",
     "start_time": "2023-10-13T12:49:17.327098Z"
    }
   },
   "id": "e8de4a0d6b74f7bf"
  }
 ],
 "metadata": {
  "kernelspec": {
   "display_name": "Python 3",
   "language": "python",
   "name": "python3"
  },
  "language_info": {
   "codemirror_mode": {
    "name": "ipython",
    "version": 2
   },
   "file_extension": ".py",
   "mimetype": "text/x-python",
   "name": "python",
   "nbconvert_exporter": "python",
   "pygments_lexer": "ipython2",
   "version": "2.7.6"
  }
 },
 "nbformat": 4,
 "nbformat_minor": 5
}
